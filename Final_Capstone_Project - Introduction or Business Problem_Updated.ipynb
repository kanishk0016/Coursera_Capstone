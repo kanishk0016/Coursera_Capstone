{
 "cells": [
  {
   "cell_type": "markdown",
   "metadata": {},
   "source": [
    "# Introduction/Business Problem - Updated\n",
    "\n",
    "### Problem\n",
    "Where to open Indian restaurants (either new restaurant or a new branch of existing restaurant) to attract the maximum business and demand?\n",
    "\n",
    "### Context\n",
    "Today, there is an influx of immigrants to Canada due to the encouraging migration policy adopted by the Canadian government. The highest number of immigrants have historically been from India, basis statistics explored in previous assignments of the IBM - Coursera program on Data Science. Further, Toronto being the financial and commercial capital of Canada attracts most of the Indian immigrants. Thus, there has been a huge a boost in the demand of Indian food in Toronto in the recent past.\n",
    "Owners of Indian restaurants do not know where to open new branches or restaurants to attract the maximum customer business in Toronto.\n",
    "\n",
    "### Proposed Solution\n",
    "This exercise will help in identifying areas in Toronto which are not saturated with Indian restaurants, so that the new restaurants/branches can be opened in areas which are not saturated. \n",
    "\n",
    "### Assumptions\n",
    "1.\tIf an area has over 10 5 restaurants (number will be modified basis Indian restaurants in a radius of 1 sq. km), it is considered saturated.\n",
    "2.\tThose areas with higher population density and lower saturation will be the best regions to open Indian restaurants. \n",
    "3.\tPopulation distribution from 2016 data of Toronto from official website, indicates 50 % of the areas have above 24.8k people living in them. Thus targeting these areas would be viable and help secure business for the restaurant from nearby areas.\n",
    "4.\tGiven the increased demand of Indian food, mainly driven by Indian immigrants and partly by non-Indian customers, opening a restaurant away from saturated areas might provide access to white spaces among the Indian cuisine customers.\n",
    "5.\tThe location data provided by Foursquare is accurate and reliable.\n",
    "6.\tThe majority of the Indian restaurants have the below key-words in the title of the restaurant:\n",
    " \n",
    "•\tIndia\n",
    "•\tPunjab\n",
    "•\tBiryani\n"
   ]
  }
 ],
 "metadata": {
  "kernelspec": {
   "display_name": "Python 3",
   "language": "python",
   "name": "python3"
  },
  "language_info": {
   "codemirror_mode": {
    "name": "ipython",
    "version": 3
   },
   "file_extension": ".py",
   "mimetype": "text/x-python",
   "name": "python",
   "nbconvert_exporter": "python",
   "pygments_lexer": "ipython3",
   "version": "3.7.6"
  }
 },
 "nbformat": 4,
 "nbformat_minor": 4
}
