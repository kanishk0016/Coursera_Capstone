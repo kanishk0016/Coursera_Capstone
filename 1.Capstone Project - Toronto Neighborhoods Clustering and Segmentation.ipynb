{
 "cells": [
  {
   "cell_type": "markdown",
   "metadata": {},
   "source": [
    "# Segmenting and clustering Toronto geographic area"
   ]
  },
  {
   "cell_type": "markdown",
   "metadata": {},
   "source": [
    "## Part 1 of 3 (Getting areas/localities with postal code, borough and neighborhoods)\n",
    "Step1 - Downloaded the html file with Toronto area codes to local drive\n",
    "\n",
    "\n",
    "File path: C:\\Kanishk Singh\\HDD backup\\Important Personal Docs\\Professional Skills and Certifications\\(wip) Data Science - IBM COURSERA\\Session 9 - Capstone\\List of postal codes of Canada_ M - Wikipedia.html"
   ]
  },
  {
   "cell_type": "markdown",
   "metadata": {},
   "source": [
    "Step2 - Import the html file as pandas dataframe"
   ]
  },
  {
   "cell_type": "code",
   "execution_count": 242,
   "metadata": {},
   "outputs": [
    {
     "data": {
      "text/html": [
       "<div>\n",
       "<style scoped>\n",
       "    .dataframe tbody tr th:only-of-type {\n",
       "        vertical-align: middle;\n",
       "    }\n",
       "\n",
       "    .dataframe tbody tr th {\n",
       "        vertical-align: top;\n",
       "    }\n",
       "\n",
       "    .dataframe thead th {\n",
       "        text-align: right;\n",
       "    }\n",
       "</style>\n",
       "<table border=\"1\" class=\"dataframe\">\n",
       "  <thead>\n",
       "    <tr style=\"text-align: right;\">\n",
       "      <th></th>\n",
       "      <th>Postal Code</th>\n",
       "      <th>Borough</th>\n",
       "      <th>Neighborhood</th>\n",
       "    </tr>\n",
       "  </thead>\n",
       "  <tbody>\n",
       "    <tr>\n",
       "      <th>0</th>\n",
       "      <td>M1A</td>\n",
       "      <td>Not assigned</td>\n",
       "      <td>Not assigned</td>\n",
       "    </tr>\n",
       "    <tr>\n",
       "      <th>1</th>\n",
       "      <td>M2A</td>\n",
       "      <td>Not assigned</td>\n",
       "      <td>Not assigned</td>\n",
       "    </tr>\n",
       "    <tr>\n",
       "      <th>2</th>\n",
       "      <td>M3A</td>\n",
       "      <td>North York</td>\n",
       "      <td>Parkwoods</td>\n",
       "    </tr>\n",
       "    <tr>\n",
       "      <th>3</th>\n",
       "      <td>M4A</td>\n",
       "      <td>North York</td>\n",
       "      <td>Victoria Village</td>\n",
       "    </tr>\n",
       "    <tr>\n",
       "      <th>4</th>\n",
       "      <td>M5A</td>\n",
       "      <td>Downtown Toronto</td>\n",
       "      <td>Regent Park, Harbourfront</td>\n",
       "    </tr>\n",
       "  </tbody>\n",
       "</table>\n",
       "</div>"
      ],
      "text/plain": [
       "  Postal Code           Borough               Neighborhood\n",
       "0         M1A      Not assigned               Not assigned\n",
       "1         M2A      Not assigned               Not assigned\n",
       "2         M3A        North York                  Parkwoods\n",
       "3         M4A        North York           Victoria Village\n",
       "4         M5A  Downtown Toronto  Regent Park, Harbourfront"
      ]
     },
     "execution_count": 242,
     "metadata": {},
     "output_type": "execute_result"
    }
   ],
   "source": [
    "import pandas as pd\n",
    "df1 = pd.read_html(r\"C:\\Kanishk Singh\\HDD backup\\Important Personal Docs\\Professional Skills and Certifications\\(wip) Data Science - IBM COURSERA\\Session 9 - Capstone\\List of postal codes of Canada_ M - Wikipedia.html\")\n",
    "df2=df1[0]\n",
    "df2.head(5)"
   ]
  },
  {
   "cell_type": "markdown",
   "metadata": {},
   "source": [
    "Step3 - Ignore cells with a borough that is 'Not assigned'."
   ]
  },
  {
   "cell_type": "code",
   "execution_count": 243,
   "metadata": {},
   "outputs": [
    {
     "data": {
      "text/html": [
       "<div>\n",
       "<style scoped>\n",
       "    .dataframe tbody tr th:only-of-type {\n",
       "        vertical-align: middle;\n",
       "    }\n",
       "\n",
       "    .dataframe tbody tr th {\n",
       "        vertical-align: top;\n",
       "    }\n",
       "\n",
       "    .dataframe thead th {\n",
       "        text-align: right;\n",
       "    }\n",
       "</style>\n",
       "<table border=\"1\" class=\"dataframe\">\n",
       "  <thead>\n",
       "    <tr style=\"text-align: right;\">\n",
       "      <th></th>\n",
       "      <th>index</th>\n",
       "      <th>Postal Code</th>\n",
       "      <th>Borough</th>\n",
       "      <th>Neighborhood</th>\n",
       "    </tr>\n",
       "  </thead>\n",
       "  <tbody>\n",
       "    <tr>\n",
       "      <th>0</th>\n",
       "      <td>2</td>\n",
       "      <td>M3A</td>\n",
       "      <td>North York</td>\n",
       "      <td>Parkwoods</td>\n",
       "    </tr>\n",
       "    <tr>\n",
       "      <th>1</th>\n",
       "      <td>3</td>\n",
       "      <td>M4A</td>\n",
       "      <td>North York</td>\n",
       "      <td>Victoria Village</td>\n",
       "    </tr>\n",
       "    <tr>\n",
       "      <th>2</th>\n",
       "      <td>4</td>\n",
       "      <td>M5A</td>\n",
       "      <td>Downtown Toronto</td>\n",
       "      <td>Regent Park, Harbourfront</td>\n",
       "    </tr>\n",
       "    <tr>\n",
       "      <th>3</th>\n",
       "      <td>5</td>\n",
       "      <td>M6A</td>\n",
       "      <td>North York</td>\n",
       "      <td>Lawrence Manor, Lawrence Heights</td>\n",
       "    </tr>\n",
       "    <tr>\n",
       "      <th>4</th>\n",
       "      <td>6</td>\n",
       "      <td>M7A</td>\n",
       "      <td>Downtown Toronto</td>\n",
       "      <td>Queen's Park, Ontario Provincial Government</td>\n",
       "    </tr>\n",
       "  </tbody>\n",
       "</table>\n",
       "</div>"
      ],
      "text/plain": [
       "   index Postal Code           Borough  \\\n",
       "0      2         M3A        North York   \n",
       "1      3         M4A        North York   \n",
       "2      4         M5A  Downtown Toronto   \n",
       "3      5         M6A        North York   \n",
       "4      6         M7A  Downtown Toronto   \n",
       "\n",
       "                                  Neighborhood  \n",
       "0                                    Parkwoods  \n",
       "1                             Victoria Village  \n",
       "2                    Regent Park, Harbourfront  \n",
       "3             Lawrence Manor, Lawrence Heights  \n",
       "4  Queen's Park, Ontario Provincial Government  "
      ]
     },
     "execution_count": 243,
     "metadata": {},
     "output_type": "execute_result"
    }
   ],
   "source": [
    "df2=df2[df2.Borough != 'Not assigned']\n",
    "df2.reset_index(inplace=True)\n",
    "df2.head()"
   ]
  },
  {
   "cell_type": "code",
   "execution_count": 244,
   "metadata": {},
   "outputs": [
    {
     "name": "stderr",
     "output_type": "stream",
     "text": [
      "C:\\Users\\kanis\\anaconda3\\lib\\site-packages\\pandas\\core\\frame.py:3997: SettingWithCopyWarning: \n",
      "A value is trying to be set on a copy of a slice from a DataFrame\n",
      "\n",
      "See the caveats in the documentation: https://pandas.pydata.org/pandas-docs/stable/user_guide/indexing.html#returning-a-view-versus-a-copy\n",
      "  errors=errors,\n"
     ]
    },
    {
     "data": {
      "text/html": [
       "<div>\n",
       "<style scoped>\n",
       "    .dataframe tbody tr th:only-of-type {\n",
       "        vertical-align: middle;\n",
       "    }\n",
       "\n",
       "    .dataframe tbody tr th {\n",
       "        vertical-align: top;\n",
       "    }\n",
       "\n",
       "    .dataframe thead th {\n",
       "        text-align: right;\n",
       "    }\n",
       "</style>\n",
       "<table border=\"1\" class=\"dataframe\">\n",
       "  <thead>\n",
       "    <tr style=\"text-align: right;\">\n",
       "      <th></th>\n",
       "      <th>Postal Code</th>\n",
       "      <th>Borough</th>\n",
       "      <th>Neighborhood</th>\n",
       "    </tr>\n",
       "  </thead>\n",
       "  <tbody>\n",
       "    <tr>\n",
       "      <th>0</th>\n",
       "      <td>M3A</td>\n",
       "      <td>North York</td>\n",
       "      <td>Parkwoods</td>\n",
       "    </tr>\n",
       "    <tr>\n",
       "      <th>1</th>\n",
       "      <td>M4A</td>\n",
       "      <td>North York</td>\n",
       "      <td>Victoria Village</td>\n",
       "    </tr>\n",
       "    <tr>\n",
       "      <th>2</th>\n",
       "      <td>M5A</td>\n",
       "      <td>Downtown Toronto</td>\n",
       "      <td>Regent Park, Harbourfront</td>\n",
       "    </tr>\n",
       "    <tr>\n",
       "      <th>3</th>\n",
       "      <td>M6A</td>\n",
       "      <td>North York</td>\n",
       "      <td>Lawrence Manor, Lawrence Heights</td>\n",
       "    </tr>\n",
       "    <tr>\n",
       "      <th>4</th>\n",
       "      <td>M7A</td>\n",
       "      <td>Downtown Toronto</td>\n",
       "      <td>Queen's Park, Ontario Provincial Government</td>\n",
       "    </tr>\n",
       "    <tr>\n",
       "      <th>...</th>\n",
       "      <td>...</td>\n",
       "      <td>...</td>\n",
       "      <td>...</td>\n",
       "    </tr>\n",
       "    <tr>\n",
       "      <th>98</th>\n",
       "      <td>M8X</td>\n",
       "      <td>Etobicoke</td>\n",
       "      <td>The Kingsway, Montgomery Road, Old Mill North</td>\n",
       "    </tr>\n",
       "    <tr>\n",
       "      <th>99</th>\n",
       "      <td>M4Y</td>\n",
       "      <td>Downtown Toronto</td>\n",
       "      <td>Church and Wellesley</td>\n",
       "    </tr>\n",
       "    <tr>\n",
       "      <th>100</th>\n",
       "      <td>M7Y</td>\n",
       "      <td>East Toronto</td>\n",
       "      <td>Business reply mail Processing Centre, South C...</td>\n",
       "    </tr>\n",
       "    <tr>\n",
       "      <th>101</th>\n",
       "      <td>M8Y</td>\n",
       "      <td>Etobicoke</td>\n",
       "      <td>Old Mill South, King's Mill Park, Sunnylea, Hu...</td>\n",
       "    </tr>\n",
       "    <tr>\n",
       "      <th>102</th>\n",
       "      <td>M8Z</td>\n",
       "      <td>Etobicoke</td>\n",
       "      <td>Mimico NW, The Queensway West, South of Bloor,...</td>\n",
       "    </tr>\n",
       "  </tbody>\n",
       "</table>\n",
       "<p>103 rows × 3 columns</p>\n",
       "</div>"
      ],
      "text/plain": [
       "    Postal Code           Borough  \\\n",
       "0           M3A        North York   \n",
       "1           M4A        North York   \n",
       "2           M5A  Downtown Toronto   \n",
       "3           M6A        North York   \n",
       "4           M7A  Downtown Toronto   \n",
       "..          ...               ...   \n",
       "98          M8X         Etobicoke   \n",
       "99          M4Y  Downtown Toronto   \n",
       "100         M7Y      East Toronto   \n",
       "101         M8Y         Etobicoke   \n",
       "102         M8Z         Etobicoke   \n",
       "\n",
       "                                          Neighborhood  \n",
       "0                                            Parkwoods  \n",
       "1                                     Victoria Village  \n",
       "2                            Regent Park, Harbourfront  \n",
       "3                     Lawrence Manor, Lawrence Heights  \n",
       "4          Queen's Park, Ontario Provincial Government  \n",
       "..                                                 ...  \n",
       "98       The Kingsway, Montgomery Road, Old Mill North  \n",
       "99                                Church and Wellesley  \n",
       "100  Business reply mail Processing Centre, South C...  \n",
       "101  Old Mill South, King's Mill Park, Sunnylea, Hu...  \n",
       "102  Mimico NW, The Queensway West, South of Bloor,...  \n",
       "\n",
       "[103 rows x 3 columns]"
      ]
     },
     "execution_count": 244,
     "metadata": {},
     "output_type": "execute_result"
    }
   ],
   "source": [
    "df2.drop(labels='index',axis=1,inplace=True)\n",
    "df2"
   ]
  },
  {
   "cell_type": "markdown",
   "metadata": {},
   "source": [
    "Step 4 - More than one neighborhood can exist in one postal code area. For example, in the table on the Wikipedia page, you will notice that M5A is listed twice and has two neighborhoods: Harbourfront and Regent Park. These two rows will be combined into one row with the neighborhoods separated with a comma as shown in row 11 in the above table."
   ]
  },
  {
   "cell_type": "markdown",
   "metadata": {},
   "source": [
    "The dataset already fulfills this condition!"
   ]
  },
  {
   "cell_type": "markdown",
   "metadata": {},
   "source": [
    "Step 5 - If a cell has a borough but a Not assigned neighborhood, then the neighborhood will be the same as the borough."
   ]
  },
  {
   "cell_type": "code",
   "execution_count": 245,
   "metadata": {},
   "outputs": [
    {
     "name": "stderr",
     "output_type": "stream",
     "text": [
      "C:\\Users\\kanis\\anaconda3\\lib\\site-packages\\pandas\\core\\indexing.py:670: SettingWithCopyWarning: \n",
      "A value is trying to be set on a copy of a slice from a DataFrame\n",
      "\n",
      "See the caveats in the documentation: https://pandas.pydata.org/pandas-docs/stable/user_guide/indexing.html#returning-a-view-versus-a-copy\n",
      "  self._setitem_with_indexer(indexer, value)\n",
      "C:\\Users\\kanis\\anaconda3\\lib\\site-packages\\ipykernel_launcher.py:1: SettingWithCopyWarning: \n",
      "A value is trying to be set on a copy of a slice from a DataFrame\n",
      "\n",
      "See the caveats in the documentation: https://pandas.pydata.org/pandas-docs/stable/user_guide/indexing.html#returning-a-view-versus-a-copy\n",
      "  \"\"\"Entry point for launching an IPython kernel.\n"
     ]
    },
    {
     "data": {
      "text/html": [
       "<div>\n",
       "<style scoped>\n",
       "    .dataframe tbody tr th:only-of-type {\n",
       "        vertical-align: middle;\n",
       "    }\n",
       "\n",
       "    .dataframe tbody tr th {\n",
       "        vertical-align: top;\n",
       "    }\n",
       "\n",
       "    .dataframe thead th {\n",
       "        text-align: right;\n",
       "    }\n",
       "</style>\n",
       "<table border=\"1\" class=\"dataframe\">\n",
       "  <thead>\n",
       "    <tr style=\"text-align: right;\">\n",
       "      <th></th>\n",
       "      <th>Postal Code</th>\n",
       "      <th>Borough</th>\n",
       "      <th>Neighborhood</th>\n",
       "    </tr>\n",
       "  </thead>\n",
       "  <tbody>\n",
       "    <tr>\n",
       "      <th>0</th>\n",
       "      <td>M3A</td>\n",
       "      <td>North York</td>\n",
       "      <td>Parkwoods</td>\n",
       "    </tr>\n",
       "    <tr>\n",
       "      <th>1</th>\n",
       "      <td>M4A</td>\n",
       "      <td>North York</td>\n",
       "      <td>Victoria Village</td>\n",
       "    </tr>\n",
       "    <tr>\n",
       "      <th>2</th>\n",
       "      <td>M5A</td>\n",
       "      <td>Downtown Toronto</td>\n",
       "      <td>Regent Park, Harbourfront</td>\n",
       "    </tr>\n",
       "    <tr>\n",
       "      <th>3</th>\n",
       "      <td>M6A</td>\n",
       "      <td>North York</td>\n",
       "      <td>Lawrence Manor, Lawrence Heights</td>\n",
       "    </tr>\n",
       "    <tr>\n",
       "      <th>4</th>\n",
       "      <td>M7A</td>\n",
       "      <td>Downtown Toronto</td>\n",
       "      <td>Queen's Park, Ontario Provincial Government</td>\n",
       "    </tr>\n",
       "    <tr>\n",
       "      <th>...</th>\n",
       "      <td>...</td>\n",
       "      <td>...</td>\n",
       "      <td>...</td>\n",
       "    </tr>\n",
       "    <tr>\n",
       "      <th>98</th>\n",
       "      <td>M8X</td>\n",
       "      <td>Etobicoke</td>\n",
       "      <td>The Kingsway, Montgomery Road, Old Mill North</td>\n",
       "    </tr>\n",
       "    <tr>\n",
       "      <th>99</th>\n",
       "      <td>M4Y</td>\n",
       "      <td>Downtown Toronto</td>\n",
       "      <td>Church and Wellesley</td>\n",
       "    </tr>\n",
       "    <tr>\n",
       "      <th>100</th>\n",
       "      <td>M7Y</td>\n",
       "      <td>East Toronto</td>\n",
       "      <td>Business reply mail Processing Centre, South C...</td>\n",
       "    </tr>\n",
       "    <tr>\n",
       "      <th>101</th>\n",
       "      <td>M8Y</td>\n",
       "      <td>Etobicoke</td>\n",
       "      <td>Old Mill South, King's Mill Park, Sunnylea, Hu...</td>\n",
       "    </tr>\n",
       "    <tr>\n",
       "      <th>102</th>\n",
       "      <td>M8Z</td>\n",
       "      <td>Etobicoke</td>\n",
       "      <td>Mimico NW, The Queensway West, South of Bloor,...</td>\n",
       "    </tr>\n",
       "  </tbody>\n",
       "</table>\n",
       "<p>103 rows × 3 columns</p>\n",
       "</div>"
      ],
      "text/plain": [
       "    Postal Code           Borough  \\\n",
       "0           M3A        North York   \n",
       "1           M4A        North York   \n",
       "2           M5A  Downtown Toronto   \n",
       "3           M6A        North York   \n",
       "4           M7A  Downtown Toronto   \n",
       "..          ...               ...   \n",
       "98          M8X         Etobicoke   \n",
       "99          M4Y  Downtown Toronto   \n",
       "100         M7Y      East Toronto   \n",
       "101         M8Y         Etobicoke   \n",
       "102         M8Z         Etobicoke   \n",
       "\n",
       "                                          Neighborhood  \n",
       "0                                            Parkwoods  \n",
       "1                                     Victoria Village  \n",
       "2                            Regent Park, Harbourfront  \n",
       "3                     Lawrence Manor, Lawrence Heights  \n",
       "4          Queen's Park, Ontario Provincial Government  \n",
       "..                                                 ...  \n",
       "98       The Kingsway, Montgomery Road, Old Mill North  \n",
       "99                                Church and Wellesley  \n",
       "100  Business reply mail Processing Centre, South C...  \n",
       "101  Old Mill South, King's Mill Park, Sunnylea, Hu...  \n",
       "102  Mimico NW, The Queensway West, South of Bloor,...  \n",
       "\n",
       "[103 rows x 3 columns]"
      ]
     },
     "execution_count": 245,
     "metadata": {},
     "output_type": "execute_result"
    }
   ],
   "source": [
    "df2.loc[df2['Neighborhood'] == 'Not assigned', 'Neighborhood'] = df2['Borough']\n",
    "df2"
   ]
  },
  {
   "cell_type": "markdown",
   "metadata": {},
   "source": [
    "Step 6 - shape of the data"
   ]
  },
  {
   "cell_type": "code",
   "execution_count": 246,
   "metadata": {},
   "outputs": [
    {
     "data": {
      "text/plain": [
       "(103, 3)"
      ]
     },
     "execution_count": 246,
     "metadata": {},
     "output_type": "execute_result"
    }
   ],
   "source": [
    "df2.shape"
   ]
  },
  {
   "cell_type": "markdown",
   "metadata": {},
   "source": [
    "## Part 2 of 3 (Adding lat-long of neighborhoods)\n",
    "Step 7 - Retrieve coordinates of locations and add to the dataframe"
   ]
  },
  {
   "cell_type": "code",
   "execution_count": 247,
   "metadata": {},
   "outputs": [
    {
     "name": "stdout",
     "output_type": "stream",
     "text": [
      "Requirement already satisfied: geocoder in c:\\users\\kanis\\anaconda3\\lib\\site-packages (1.38.1)\n",
      "Requirement already satisfied: six in c:\\users\\kanis\\anaconda3\\lib\\site-packages (from geocoder) (1.14.0)\n",
      "Requirement already satisfied: click in c:\\users\\kanis\\anaconda3\\lib\\site-packages (from geocoder) (7.0)\n",
      "Requirement already satisfied: ratelim in c:\\users\\kanis\\anaconda3\\lib\\site-packages (from geocoder) (0.1.6)\n",
      "Requirement already satisfied: requests in c:\\users\\kanis\\anaconda3\\lib\\site-packages (from geocoder) (2.22.0)\n",
      "Requirement already satisfied: future in c:\\users\\kanis\\anaconda3\\lib\\site-packages (from geocoder) (0.18.2)\n",
      "Requirement already satisfied: decorator in c:\\users\\kanis\\anaconda3\\lib\\site-packages (from ratelim->geocoder) (4.4.1)\n",
      "Requirement already satisfied: certifi>=2017.4.17 in c:\\users\\kanis\\anaconda3\\lib\\site-packages (from requests->geocoder) (2019.11.28)\n",
      "Requirement already satisfied: idna<2.9,>=2.5 in c:\\users\\kanis\\anaconda3\\lib\\site-packages (from requests->geocoder) (2.8)\n",
      "Requirement already satisfied: urllib3!=1.25.0,!=1.25.1,<1.26,>=1.21.1 in c:\\users\\kanis\\anaconda3\\lib\\site-packages (from requests->geocoder) (1.25.8)\n",
      "Requirement already satisfied: chardet<3.1.0,>=3.0.2 in c:\\users\\kanis\\anaconda3\\lib\\site-packages (from requests->geocoder) (3.0.4)\n",
      "Note: you may need to restart the kernel to use updated packages.\n"
     ]
    }
   ],
   "source": [
    "pip install geocoder"
   ]
  },
  {
   "cell_type": "markdown",
   "metadata": {},
   "source": [
    "#### The code in this cell is returning 'None' instead of the coordinate values. \n",
    "\n",
    "\n",
    "import geocoder # import geocoder\n",
    "\n",
    "#### initialize your variable to None\n",
    "lat_lng_coords = None\n",
    "\n",
    "#### loop until you get the coordinates\n",
    "for i in df2.index:\n",
    "    while(lat_lng_coords is None):\n",
    "        #g = geocoder.google(df2['Postal Code'][i] + ', Toronto, Ontario')\n",
    "        g = geocoder.google('M3A, Toronto, Ontario')\n",
    "        lat_lng_coords = g.latlng\n",
    "        print (lat_lng_coords)\n",
    "        #print (lat_lng_coords[0])\n",
    "        #print (lat_lng_coords[1])\n",
    "        #df2[['Latitude'][i]] = lat_lng_coords[0]\n",
    "        #df2[['Longitude'][i]] = lat_lng_coords[1]\n"
   ]
  },
  {
   "cell_type": "code",
   "execution_count": 248,
   "metadata": {},
   "outputs": [
    {
     "data": {
      "text/html": [
       "<div>\n",
       "<style scoped>\n",
       "    .dataframe tbody tr th:only-of-type {\n",
       "        vertical-align: middle;\n",
       "    }\n",
       "\n",
       "    .dataframe tbody tr th {\n",
       "        vertical-align: top;\n",
       "    }\n",
       "\n",
       "    .dataframe thead th {\n",
       "        text-align: right;\n",
       "    }\n",
       "</style>\n",
       "<table border=\"1\" class=\"dataframe\">\n",
       "  <thead>\n",
       "    <tr style=\"text-align: right;\">\n",
       "      <th></th>\n",
       "      <th>Postal Code</th>\n",
       "      <th>Borough</th>\n",
       "      <th>Neighborhood</th>\n",
       "      <th>Latitude</th>\n",
       "      <th>Longitude</th>\n",
       "    </tr>\n",
       "  </thead>\n",
       "  <tbody>\n",
       "    <tr>\n",
       "      <th>0</th>\n",
       "      <td>M3A</td>\n",
       "      <td>North York</td>\n",
       "      <td>Parkwoods</td>\n",
       "      <td>43.753259</td>\n",
       "      <td>-79.329656</td>\n",
       "    </tr>\n",
       "    <tr>\n",
       "      <th>1</th>\n",
       "      <td>M4A</td>\n",
       "      <td>North York</td>\n",
       "      <td>Victoria Village</td>\n",
       "      <td>43.725882</td>\n",
       "      <td>-79.315572</td>\n",
       "    </tr>\n",
       "    <tr>\n",
       "      <th>2</th>\n",
       "      <td>M5A</td>\n",
       "      <td>Downtown Toronto</td>\n",
       "      <td>Regent Park, Harbourfront</td>\n",
       "      <td>43.654260</td>\n",
       "      <td>-79.360636</td>\n",
       "    </tr>\n",
       "    <tr>\n",
       "      <th>3</th>\n",
       "      <td>M6A</td>\n",
       "      <td>North York</td>\n",
       "      <td>Lawrence Manor, Lawrence Heights</td>\n",
       "      <td>43.718518</td>\n",
       "      <td>-79.464763</td>\n",
       "    </tr>\n",
       "    <tr>\n",
       "      <th>4</th>\n",
       "      <td>M7A</td>\n",
       "      <td>Downtown Toronto</td>\n",
       "      <td>Queen's Park, Ontario Provincial Government</td>\n",
       "      <td>43.662301</td>\n",
       "      <td>-79.389494</td>\n",
       "    </tr>\n",
       "    <tr>\n",
       "      <th>...</th>\n",
       "      <td>...</td>\n",
       "      <td>...</td>\n",
       "      <td>...</td>\n",
       "      <td>...</td>\n",
       "      <td>...</td>\n",
       "    </tr>\n",
       "    <tr>\n",
       "      <th>98</th>\n",
       "      <td>M8X</td>\n",
       "      <td>Etobicoke</td>\n",
       "      <td>The Kingsway, Montgomery Road, Old Mill North</td>\n",
       "      <td>43.653654</td>\n",
       "      <td>-79.506944</td>\n",
       "    </tr>\n",
       "    <tr>\n",
       "      <th>99</th>\n",
       "      <td>M4Y</td>\n",
       "      <td>Downtown Toronto</td>\n",
       "      <td>Church and Wellesley</td>\n",
       "      <td>43.665860</td>\n",
       "      <td>-79.383160</td>\n",
       "    </tr>\n",
       "    <tr>\n",
       "      <th>100</th>\n",
       "      <td>M7Y</td>\n",
       "      <td>East Toronto</td>\n",
       "      <td>Business reply mail Processing Centre, South C...</td>\n",
       "      <td>43.662744</td>\n",
       "      <td>-79.321558</td>\n",
       "    </tr>\n",
       "    <tr>\n",
       "      <th>101</th>\n",
       "      <td>M8Y</td>\n",
       "      <td>Etobicoke</td>\n",
       "      <td>Old Mill South, King's Mill Park, Sunnylea, Hu...</td>\n",
       "      <td>43.636258</td>\n",
       "      <td>-79.498509</td>\n",
       "    </tr>\n",
       "    <tr>\n",
       "      <th>102</th>\n",
       "      <td>M8Z</td>\n",
       "      <td>Etobicoke</td>\n",
       "      <td>Mimico NW, The Queensway West, South of Bloor,...</td>\n",
       "      <td>43.628841</td>\n",
       "      <td>-79.520999</td>\n",
       "    </tr>\n",
       "  </tbody>\n",
       "</table>\n",
       "<p>103 rows × 5 columns</p>\n",
       "</div>"
      ],
      "text/plain": [
       "    Postal Code           Borough  \\\n",
       "0           M3A        North York   \n",
       "1           M4A        North York   \n",
       "2           M5A  Downtown Toronto   \n",
       "3           M6A        North York   \n",
       "4           M7A  Downtown Toronto   \n",
       "..          ...               ...   \n",
       "98          M8X         Etobicoke   \n",
       "99          M4Y  Downtown Toronto   \n",
       "100         M7Y      East Toronto   \n",
       "101         M8Y         Etobicoke   \n",
       "102         M8Z         Etobicoke   \n",
       "\n",
       "                                          Neighborhood   Latitude  Longitude  \n",
       "0                                            Parkwoods  43.753259 -79.329656  \n",
       "1                                     Victoria Village  43.725882 -79.315572  \n",
       "2                            Regent Park, Harbourfront  43.654260 -79.360636  \n",
       "3                     Lawrence Manor, Lawrence Heights  43.718518 -79.464763  \n",
       "4          Queen's Park, Ontario Provincial Government  43.662301 -79.389494  \n",
       "..                                                 ...        ...        ...  \n",
       "98       The Kingsway, Montgomery Road, Old Mill North  43.653654 -79.506944  \n",
       "99                                Church and Wellesley  43.665860 -79.383160  \n",
       "100  Business reply mail Processing Centre, South C...  43.662744 -79.321558  \n",
       "101  Old Mill South, King's Mill Park, Sunnylea, Hu...  43.636258 -79.498509  \n",
       "102  Mimico NW, The Queensway West, South of Bloor,...  43.628841 -79.520999  \n",
       "\n",
       "[103 rows x 5 columns]"
      ]
     },
     "execution_count": 248,
     "metadata": {},
     "output_type": "execute_result"
    }
   ],
   "source": [
    "# Successfully added the lat-longs to the dataframe\n",
    "\n",
    "df3= pd.read_csv(r\"C:\\Kanishk Singh\\HDD backup\\Important Personal Docs\\Professional Skills and Certifications\\(wip) Data Science - IBM COURSERA\\Session 9 - Capstone\\Geospatial_Coordinates.csv\")\n",
    "#df3.head()\n",
    "\n",
    "df2 = df2.merge(df3,on='Postal Code')\n",
    "\n",
    "df2"
   ]
  },
  {
   "cell_type": "markdown",
   "metadata": {},
   "source": [
    "## Part 3 of 3 (Clustering and segmentation of Toronto areas)\n",
    "Step 8 - Clustered all neighborhoods basis Boroughs and assigned different colors to each Borough."
   ]
  },
  {
   "cell_type": "code",
   "execution_count": 249,
   "metadata": {
    "scrolled": true
   },
   "outputs": [
    {
     "data": {
      "text/plain": [
       "North York          24\n",
       "Downtown Toronto    19\n",
       "Scarborough         17\n",
       "Etobicoke           12\n",
       "Central Toronto      9\n",
       "West Toronto         6\n",
       "East Toronto         5\n",
       "York                 5\n",
       "East York            5\n",
       "Mississauga          1\n",
       "Name: Borough, dtype: int64"
      ]
     },
     "execution_count": 249,
     "metadata": {},
     "output_type": "execute_result"
    }
   ],
   "source": [
    "# Checking unique Boroughs and number of Neighborhoods within each\n",
    "df2['Borough'].value_counts()"
   ]
  },
  {
   "cell_type": "code",
   "execution_count": 250,
   "metadata": {
    "scrolled": true
   },
   "outputs": [
    {
     "data": {
      "text/html": [
       "<div style=\"width:100%;\"><div style=\"position:relative;width:100%;height:0;padding-bottom:60%;\"><span style=\"color:#565656\">Make this Notebook Trusted to load map: File -> Trust Notebook</span><iframe src=\"about:blank\" style=\"position:absolute;width:100%;height:100%;left:0;top:0;border:none !important;\" data-html=PCFET0NUWVBFIGh0bWw+CjxoZWFkPiAgICAKICAgIDxtZXRhIGh0dHAtZXF1aXY9ImNvbnRlbnQtdHlwZSIgY29udGVudD0idGV4dC9odG1sOyBjaGFyc2V0PVVURi04IiAvPgogICAgPHNjcmlwdD5MX1BSRUZFUl9DQU5WQVMgPSBmYWxzZTsgTF9OT19UT1VDSCA9IGZhbHNlOyBMX0RJU0FCTEVfM0QgPSBmYWxzZTs8L3NjcmlwdD4KICAgIDxzY3JpcHQgc3JjPSJodHRwczovL2Nkbi5qc2RlbGl2ci5uZXQvbnBtL2xlYWZsZXRAMS4yLjAvZGlzdC9sZWFmbGV0LmpzIj48L3NjcmlwdD4KICAgIDxzY3JpcHQgc3JjPSJodHRwczovL2FqYXguZ29vZ2xlYXBpcy5jb20vYWpheC9saWJzL2pxdWVyeS8xLjExLjEvanF1ZXJ5Lm1pbi5qcyI+PC9zY3JpcHQ+CiAgICA8c2NyaXB0IHNyYz0iaHR0cHM6Ly9tYXhjZG4uYm9vdHN0cmFwY2RuLmNvbS9ib290c3RyYXAvMy4yLjAvanMvYm9vdHN0cmFwLm1pbi5qcyI+PC9zY3JpcHQ+CiAgICA8c2NyaXB0IHNyYz0iaHR0cHM6Ly9jZG5qcy5jbG91ZGZsYXJlLmNvbS9hamF4L2xpYnMvTGVhZmxldC5hd2Vzb21lLW1hcmtlcnMvMi4wLjIvbGVhZmxldC5hd2Vzb21lLW1hcmtlcnMuanMiPjwvc2NyaXB0PgogICAgPGxpbmsgcmVsPSJzdHlsZXNoZWV0IiBocmVmPSJodHRwczovL2Nkbi5qc2RlbGl2ci5uZXQvbnBtL2xlYWZsZXRAMS4yLjAvZGlzdC9sZWFmbGV0LmNzcyIvPgogICAgPGxpbmsgcmVsPSJzdHlsZXNoZWV0IiBocmVmPSJodHRwczovL21heGNkbi5ib290c3RyYXBjZG4uY29tL2Jvb3RzdHJhcC8zLjIuMC9jc3MvYm9vdHN0cmFwLm1pbi5jc3MiLz4KICAgIDxsaW5rIHJlbD0ic3R5bGVzaGVldCIgaHJlZj0iaHR0cHM6Ly9tYXhjZG4uYm9vdHN0cmFwY2RuLmNvbS9ib290c3RyYXAvMy4yLjAvY3NzL2Jvb3RzdHJhcC10aGVtZS5taW4uY3NzIi8+CiAgICA8bGluayByZWw9InN0eWxlc2hlZXQiIGhyZWY9Imh0dHBzOi8vbWF4Y2RuLmJvb3RzdHJhcGNkbi5jb20vZm9udC1hd2Vzb21lLzQuNi4zL2Nzcy9mb250LWF3ZXNvbWUubWluLmNzcyIvPgogICAgPGxpbmsgcmVsPSJzdHlsZXNoZWV0IiBocmVmPSJodHRwczovL2NkbmpzLmNsb3VkZmxhcmUuY29tL2FqYXgvbGlicy9MZWFmbGV0LmF3ZXNvbWUtbWFya2Vycy8yLjAuMi9sZWFmbGV0LmF3ZXNvbWUtbWFya2Vycy5jc3MiLz4KICAgIDxsaW5rIHJlbD0ic3R5bGVzaGVldCIgaHJlZj0iaHR0cHM6Ly9yYXdnaXQuY29tL3B5dGhvbi12aXN1YWxpemF0aW9uL2ZvbGl1bS9tYXN0ZXIvZm9saXVtL3RlbXBsYXRlcy9sZWFmbGV0LmF3ZXNvbWUucm90YXRlLmNzcyIvPgogICAgPHN0eWxlPmh0bWwsIGJvZHkge3dpZHRoOiAxMDAlO2hlaWdodDogMTAwJTttYXJnaW46IDA7cGFkZGluZzogMDt9PC9zdHlsZT4KICAgIDxzdHlsZT4jbWFwIHtwb3NpdGlvbjphYnNvbHV0ZTt0b3A6MDtib3R0b206MDtyaWdodDowO2xlZnQ6MDt9PC9zdHlsZT4KICAgIAogICAgICAgICAgICA8c3R5bGU+ICNtYXBfZTU0OWJjZmFlNDVkNDNkM2E2MGZmMGRlOTVhZWNmZDkgewogICAgICAgICAgICAgICAgcG9zaXRpb24gOiByZWxhdGl2ZTsKICAgICAgICAgICAgICAgIHdpZHRoIDogMTAwLjAlOwogICAgICAgICAgICAgICAgaGVpZ2h0OiAxMDAuMCU7CiAgICAgICAgICAgICAgICBsZWZ0OiAwLjAlOwogICAgICAgICAgICAgICAgdG9wOiAwLjAlOwogICAgICAgICAgICAgICAgfQogICAgICAgICAgICA8L3N0eWxlPgogICAgICAgIAo8L2hlYWQ+Cjxib2R5PiAgICAKICAgIAogICAgICAgICAgICA8ZGl2IGNsYXNzPSJmb2xpdW0tbWFwIiBpZD0ibWFwX2U1NDliY2ZhZTQ1ZDQzZDNhNjBmZjBkZTk1YWVjZmQ5IiA+PC9kaXY+CiAgICAgICAgCjwvYm9keT4KPHNjcmlwdD4gICAgCiAgICAKCiAgICAgICAgICAgIAogICAgICAgICAgICAgICAgdmFyIGJvdW5kcyA9IG51bGw7CiAgICAgICAgICAgIAoKICAgICAgICAgICAgdmFyIG1hcF9lNTQ5YmNmYWU0NWQ0M2QzYTYwZmYwZGU5NWFlY2ZkOSA9IEwubWFwKAogICAgICAgICAgICAgICAgICAgICAgICAgICAgICAgICAgJ21hcF9lNTQ5YmNmYWU0NWQ0M2QzYTYwZmYwZGU5NWFlY2ZkOScsCiAgICAgICAgICAgICAgICAgICAgICAgICAgICAgICAgICB7Y2VudGVyOiBbNDMuNzUzMjU4NiwtNzkuMzI5NjU2NV0sCiAgICAgICAgICAgICAgICAgICAgICAgICAgICAgICAgICB6b29tOiAxMSwKICAgICAgICAgICAgICAgICAgICAgICAgICAgICAgICAgIG1heEJvdW5kczogYm91bmRzLAogICAgICAgICAgICAgICAgICAgICAgICAgICAgICAgICAgbGF5ZXJzOiBbXSwKICAgICAgICAgICAgICAgICAgICAgICAgICAgICAgICAgIHdvcmxkQ29weUp1bXA6IGZhbHNlLAogICAgICAgICAgICAgICAgICAgICAgICAgICAgICAgICAgY3JzOiBMLkNSUy5FUFNHMzg1NwogICAgICAgICAgICAgICAgICAgICAgICAgICAgICAgICB9KTsKICAgICAgICAgICAgCiAgICAgICAgCiAgICAKICAgICAgICAgICAgdmFyIHRpbGVfbGF5ZXJfYmNkZGNlN2YwYmE1NDFjOWI1NTYyNjgzZTkwZjZhOTMgPSBMLnRpbGVMYXllcigKICAgICAgICAgICAgICAgICdodHRwczovL3tzfS50aWxlLm9wZW5zdHJlZXRtYXAub3JnL3t6fS97eH0ve3l9LnBuZycsCiAgICAgICAgICAgICAgICB7CiAgImF0dHJpYnV0aW9uIjogbnVsbCwKICAiZGV0ZWN0UmV0aW5hIjogZmFsc2UsCiAgIm1heFpvb20iOiAxOCwKICAibWluWm9vbSI6IDEsCiAgIm5vV3JhcCI6IGZhbHNlLAogICJzdWJkb21haW5zIjogImFiYyIKfQogICAgICAgICAgICAgICAgKS5hZGRUbyhtYXBfZTU0OWJjZmFlNDVkNDNkM2E2MGZmMGRlOTVhZWNmZDkpOwogICAgICAgIAogICAgCgogICAgICAgICAgICB2YXIgbWFya2VyX2VkOGJkMzU2NTdiYjQwYjg5MGM5NzFmMGRlMjQwZWVkID0gTC5tYXJrZXIoCiAgICAgICAgICAgICAgICBbNDMuNzUzMjU4NiwtNzkuMzI5NjU2NV0sCiAgICAgICAgICAgICAgICB7CiAgICAgICAgICAgICAgICAgICAgaWNvbjogbmV3IEwuSWNvbi5EZWZhdWx0KCkKICAgICAgICAgICAgICAgICAgICB9CiAgICAgICAgICAgICAgICApCiAgICAgICAgICAgICAgICAuYWRkVG8obWFwX2U1NDliY2ZhZTQ1ZDQzZDNhNjBmZjBkZTk1YWVjZmQ5KTsKICAgICAgICAgICAgCiAgICAKCiAgICAgICAgICAgICAgICB2YXIgaWNvbl8zNDdlOGM0YzA0NGU0ODhlYTEwY2E2MjVhNGQ3MjBjZiA9IEwuQXdlc29tZU1hcmtlcnMuaWNvbih7CiAgICAgICAgICAgICAgICAgICAgaWNvbjogJ2luZm8tc2lnbicsCiAgICAgICAgICAgICAgICAgICAgaWNvbkNvbG9yOiAnI0ZGRkYwMCcsCiAgICAgICAgICAgICAgICAgICAgbWFya2VyQ29sb3I6ICdwdXJwbGUnLAogICAgICAgICAgICAgICAgICAgIHByZWZpeDogJ2dseXBoaWNvbicsCiAgICAgICAgICAgICAgICAgICAgZXh0cmFDbGFzc2VzOiAnZmEtcm90YXRlLTAnCiAgICAgICAgICAgICAgICAgICAgfSk7CiAgICAgICAgICAgICAgICBtYXJrZXJfZWQ4YmQzNTY1N2JiNDBiODkwYzk3MWYwZGUyNDBlZWQuc2V0SWNvbihpY29uXzM0N2U4YzRjMDQ0ZTQ4OGVhMTBjYTYyNWE0ZDcyMGNmKTsKICAgICAgICAgICAgCiAgICAKICAgICAgICAgICAgdmFyIHBvcHVwX2YxN2ViNTk4NTAzYTRjNmU4YjExOTA5NGQwNzNhMzkxID0gTC5wb3B1cCh7bWF4V2lkdGg6ICczMDAnfSk7CgogICAgICAgICAgICAKICAgICAgICAgICAgICAgIHZhciBodG1sX2NjN2YyYzJiYjZkNDRkYjE4NzkwN2ZiY2M0Yjc4MjQxID0gJCgnPGRpdiBpZD0iaHRtbF9jYzdmMmMyYmI2ZDQ0ZGIxODc5MDdmYmNjNGI3ODI0MSIgc3R5bGU9IndpZHRoOiAxMDAuMCU7IGhlaWdodDogMTAwLjAlOyI+UGFya3dvb2RzPC9kaXY+JylbMF07CiAgICAgICAgICAgICAgICBwb3B1cF9mMTdlYjU5ODUwM2E0YzZlOGIxMTkwOTRkMDczYTM5MS5zZXRDb250ZW50KGh0bWxfY2M3ZjJjMmJiNmQ0NGRiMTg3OTA3ZmJjYzRiNzgyNDEpOwogICAgICAgICAgICAKCiAgICAgICAgICAgIG1hcmtlcl9lZDhiZDM1NjU3YmI0MGI4OTBjOTcxZjBkZTI0MGVlZC5iaW5kUG9wdXAocG9wdXBfZjE3ZWI1OTg1MDNhNGM2ZThiMTE5MDk0ZDA3M2EzOTEpOwoKICAgICAgICAgICAgCiAgICAgICAgCiAgICAKCiAgICAgICAgICAgIHZhciBtYXJrZXJfNDEzMzgzYTk2ZDMzNDgyMzk3MjcyM2RlMzk3NDI2MzIgPSBMLm1hcmtlcigKICAgICAgICAgICAgICAgIFs0My43MjU4ODIyOTk5OTk5OTUsLTc5LjMxNTU3MTU5OTk5OTk4XSwKICAgICAgICAgICAgICAgIHsKICAgICAgICAgICAgICAgICAgICBpY29uOiBuZXcgTC5JY29uLkRlZmF1bHQoKQogICAgICAgICAgICAgICAgICAgIH0KICAgICAgICAgICAgICAgICkKICAgICAgICAgICAgICAgIC5hZGRUbyhtYXBfZTU0OWJjZmFlNDVkNDNkM2E2MGZmMGRlOTVhZWNmZDkpOwogICAgICAgICAgICAKICAgIAoKICAgICAgICAgICAgICAgIHZhciBpY29uX2E3MWRiZTkxZWZjNjQzZjlhNzdhMGQzYThiZGMyZWZmID0gTC5Bd2Vzb21lTWFya2Vycy5pY29uKHsKICAgICAgICAgICAgICAgICAgICBpY29uOiAnaW5mby1zaWduJywKICAgICAgICAgICAgICAgICAgICBpY29uQ29sb3I6ICcjRkZGRjAwJywKICAgICAgICAgICAgICAgICAgICBtYXJrZXJDb2xvcjogJ3B1cnBsZScsCiAgICAgICAgICAgICAgICAgICAgcHJlZml4OiAnZ2x5cGhpY29uJywKICAgICAgICAgICAgICAgICAgICBleHRyYUNsYXNzZXM6ICdmYS1yb3RhdGUtMCcKICAgICAgICAgICAgICAgICAgICB9KTsKICAgICAgICAgICAgICAgIG1hcmtlcl80MTMzODNhOTZkMzM0ODIzOTcyNzIzZGUzOTc0MjYzMi5zZXRJY29uKGljb25fYTcxZGJlOTFlZmM2NDNmOWE3N2EwZDNhOGJkYzJlZmYpOwogICAgICAgICAgICAKICAgIAogICAgICAgICAgICB2YXIgcG9wdXBfNjE3M2RkYTgxODFiNGU5ZDg3OTgxMTVmNjE2NDI2OWMgPSBMLnBvcHVwKHttYXhXaWR0aDogJzMwMCd9KTsKCiAgICAgICAgICAgIAogICAgICAgICAgICAgICAgdmFyIGh0bWxfNDliNmMyNTYyNTdiNDM4YWExMzY2NDljMTMyY2I3ZDEgPSAkKCc8ZGl2IGlkPSJodG1sXzQ5YjZjMjU2MjU3YjQzOGFhMTM2NjQ5YzEzMmNiN2QxIiBzdHlsZT0id2lkdGg6IDEwMC4wJTsgaGVpZ2h0OiAxMDAuMCU7Ij5WaWN0b3JpYSBWaWxsYWdlPC9kaXY+JylbMF07CiAgICAgICAgICAgICAgICBwb3B1cF82MTczZGRhODE4MWI0ZTlkODc5ODExNWY2MTY0MjY5Yy5zZXRDb250ZW50KGh0bWxfNDliNmMyNTYyNTdiNDM4YWExMzY2NDljMTMyY2I3ZDEpOwogICAgICAgICAgICAKCiAgICAgICAgICAgIG1hcmtlcl80MTMzODNhOTZkMzM0ODIzOTcyNzIzZGUzOTc0MjYzMi5iaW5kUG9wdXAocG9wdXBfNjE3M2RkYTgxODFiNGU5ZDg3OTgxMTVmNjE2NDI2OWMpOwoKICAgICAgICAgICAgCiAgICAgICAgCiAgICAKCiAgICAgICAgICAgIHZhciBtYXJrZXJfNjg4MGE2Nzg1MzU4NDkwYjliMzVhMDIwYjI5ODlmYjQgPSBMLm1hcmtlcigKICAgICAgICAgICAgICAgIFs0My42NTQyNTk5LC03OS4zNjA2MzU5XSwKICAgICAgICAgICAgICAgIHsKICAgICAgICAgICAgICAgICAgICBpY29uOiBuZXcgTC5JY29uLkRlZmF1bHQoKQogICAgICAgICAgICAgICAgICAgIH0KICAgICAgICAgICAgICAgICkKICAgICAgICAgICAgICAgIC5hZGRUbyhtYXBfZTU0OWJjZmFlNDVkNDNkM2E2MGZmMGRlOTVhZWNmZDkpOwogICAgICAgICAgICAKICAgIAoKICAgICAgICAgICAgICAgIHZhciBpY29uX2U4YzlkYTBmYjBlYzRkYTBiZmE5ZTFmNmIwMzVlZDg4ID0gTC5Bd2Vzb21lTWFya2Vycy5pY29uKHsKICAgICAgICAgICAgICAgICAgICBpY29uOiAnaW5mby1zaWduJywKICAgICAgICAgICAgICAgICAgICBpY29uQ29sb3I6ICcjRkZGRjAwJywKICAgICAgICAgICAgICAgICAgICBtYXJrZXJDb2xvcjogJ2xpZ2h0Z3JlZW4nLAogICAgICAgICAgICAgICAgICAgIHByZWZpeDogJ2dseXBoaWNvbicsCiAgICAgICAgICAgICAgICAgICAgZXh0cmFDbGFzc2VzOiAnZmEtcm90YXRlLTAnCiAgICAgICAgICAgICAgICAgICAgfSk7CiAgICAgICAgICAgICAgICBtYXJrZXJfNjg4MGE2Nzg1MzU4NDkwYjliMzVhMDIwYjI5ODlmYjQuc2V0SWNvbihpY29uX2U4YzlkYTBmYjBlYzRkYTBiZmE5ZTFmNmIwMzVlZDg4KTsKICAgICAgICAgICAgCiAgICAKICAgICAgICAgICAgdmFyIHBvcHVwXzNhMTQ0N2YxYmI3ZTQ3Y2FhMDg3OWEyOGVlOWVhZmNlID0gTC5wb3B1cCh7bWF4V2lkdGg6ICczMDAnfSk7CgogICAgICAgICAgICAKICAgICAgICAgICAgICAgIHZhciBodG1sXzNmMzQ1OGE4ZWQzYjQ4ODNhYjUwZjVmODg5MThmNWFkID0gJCgnPGRpdiBpZD0iaHRtbF8zZjM0NThhOGVkM2I0ODgzYWI1MGY1Zjg4OTE4ZjVhZCIgc3R5bGU9IndpZHRoOiAxMDAuMCU7IGhlaWdodDogMTAwLjAlOyI+RG93bnRvd24gVG9yb250bzwvZGl2PicpWzBdOwogICAgICAgICAgICAgICAgcG9wdXBfM2ExNDQ3ZjFiYjdlNDdjYWEwODc5YTI4ZWU5ZWFmY2Uuc2V0Q29udGVudChodG1sXzNmMzQ1OGE4ZWQzYjQ4ODNhYjUwZjVmODg5MThmNWFkKTsKICAgICAgICAgICAgCgogICAgICAgICAgICBtYXJrZXJfNjg4MGE2Nzg1MzU4NDkwYjliMzVhMDIwYjI5ODlmYjQuYmluZFBvcHVwKHBvcHVwXzNhMTQ0N2YxYmI3ZTQ3Y2FhMDg3OWEyOGVlOWVhZmNlKTsKCiAgICAgICAgICAgIAogICAgICAgIAogICAgCgogICAgICAgICAgICB2YXIgbWFya2VyXzE2N2RkNjYxNWMwYTRlMmZhZjYxYmZiNDA1ODM0YWZhID0gTC5tYXJrZXIoCiAgICAgICAgICAgICAgICBbNDMuNzE4NTE3OTk5OTk5OTk2LC03OS40NjQ3NjMyOTk5OTk5OV0sCiAgICAgICAgICAgICAgICB7CiAgICAgICAgICAgICAgICAgICAgaWNvbjogbmV3IEwuSWNvbi5EZWZhdWx0KCkKICAgICAgICAgICAgICAgICAgICB9CiAgICAgICAgICAgICAgICApCiAgICAgICAgICAgICAgICAuYWRkVG8obWFwX2U1NDliY2ZhZTQ1ZDQzZDNhNjBmZjBkZTk1YWVjZmQ5KTsKICAgICAgICAgICAgCiAgICAKCiAgICAgICAgICAgICAgICB2YXIgaWNvbl80NGZlZmFhNTYzZjA0MmI5OTZlYWNkMjJlMjlkYjUxNCA9IEwuQXdlc29tZU1hcmtlcnMuaWNvbih7CiAgICAgICAgICAgICAgICAgICAgaWNvbjogJ2luZm8tc2lnbicsCiAgICAgICAgICAgICAgICAgICAgaWNvbkNvbG9yOiAnI0ZGRkYwMCcsCiAgICAgICAgICAgICAgICAgICAgbWFya2VyQ29sb3I6ICdwdXJwbGUnLAogICAgICAgICAgICAgICAgICAgIHByZWZpeDogJ2dseXBoaWNvbicsCiAgICAgICAgICAgICAgICAgICAgZXh0cmFDbGFzc2VzOiAnZmEtcm90YXRlLTAnCiAgICAgICAgICAgICAgICAgICAgfSk7CiAgICAgICAgICAgICAgICBtYXJrZXJfMTY3ZGQ2NjE1YzBhNGUyZmFmNjFiZmI0MDU4MzRhZmEuc2V0SWNvbihpY29uXzQ0ZmVmYWE1NjNmMDQyYjk5NmVhY2QyMmUyOWRiNTE0KTsKICAgICAgICAgICAgCiAgICAKICAgICAgICAgICAgdmFyIHBvcHVwXzA5NGE0NzM2NjlkYTQwODI4OGIwYzAzNDYwN2Q2NGYzID0gTC5wb3B1cCh7bWF4V2lkdGg6ICczMDAnfSk7CgogICAgICAgICAgICAKICAgICAgICAgICAgICAgIHZhciBodG1sXzIyNzRiMWY0YzQ4YjQ3MGViMTJiY2YxYTYxODZmNTU0ID0gJCgnPGRpdiBpZD0iaHRtbF8yMjc0YjFmNGM0OGI0NzBlYjEyYmNmMWE2MTg2ZjU1NCIgc3R5bGU9IndpZHRoOiAxMDAuMCU7IGhlaWdodDogMTAwLjAlOyI+TGF3cmVuY2UgTWFub3IsIExhd3JlbmNlIEhlaWdodHM8L2Rpdj4nKVswXTsKICAgICAgICAgICAgICAgIHBvcHVwXzA5NGE0NzM2NjlkYTQwODI4OGIwYzAzNDYwN2Q2NGYzLnNldENvbnRlbnQoaHRtbF8yMjc0YjFmNGM0OGI0NzBlYjEyYmNmMWE2MTg2ZjU1NCk7CiAgICAgICAgICAgIAoKICAgICAgICAgICAgbWFya2VyXzE2N2RkNjYxNWMwYTRlMmZhZjYxYmZiNDA1ODM0YWZhLmJpbmRQb3B1cChwb3B1cF8wOTRhNDczNjY5ZGE0MDgyODhiMGMwMzQ2MDdkNjRmMyk7CgogICAgICAgICAgICAKICAgICAgICAKICAgIAoKICAgICAgICAgICAgdmFyIG1hcmtlcl8zOWZkMmIzMTA4ZmM0ZGI5YmQ1NDVjMzFkODE5MTcxMCA9IEwubWFya2VyKAogICAgICAgICAgICAgICAgWzQzLjY2MjMwMTUsLTc5LjM4OTQ5MzhdLAogICAgICAgICAgICAgICAgewogICAgICAgICAgICAgICAgICAgIGljb246IG5ldyBMLkljb24uRGVmYXVsdCgpCiAgICAgICAgICAgICAgICAgICAgfQogICAgICAgICAgICAgICAgKQogICAgICAgICAgICAgICAgLmFkZFRvKG1hcF9lNTQ5YmNmYWU0NWQ0M2QzYTYwZmYwZGU5NWFlY2ZkOSk7CiAgICAgICAgICAgIAogICAgCgogICAgICAgICAgICAgICAgdmFyIGljb25fODVlYzhmOGZkOWI4NDlkMWI3NTRiMGY4NDg0Y2U3YTggPSBMLkF3ZXNvbWVNYXJrZXJzLmljb24oewogICAgICAgICAgICAgICAgICAgIGljb246ICdpbmZvLXNpZ24nLAogICAgICAgICAgICAgICAgICAgIGljb25Db2xvcjogJyNGRkZGMDAnLAogICAgICAgICAgICAgICAgICAgIG1hcmtlckNvbG9yOiAnbGlnaHRncmVlbicsCiAgICAgICAgICAgICAgICAgICAgcHJlZml4OiAnZ2x5cGhpY29uJywKICAgICAgICAgICAgICAgICAgICBleHRyYUNsYXNzZXM6ICdmYS1yb3RhdGUtMCcKICAgICAgICAgICAgICAgICAgICB9KTsKICAgICAgICAgICAgICAgIG1hcmtlcl8zOWZkMmIzMTA4ZmM0ZGI5YmQ1NDVjMzFkODE5MTcxMC5zZXRJY29uKGljb25fODVlYzhmOGZkOWI4NDlkMWI3NTRiMGY4NDg0Y2U3YTgpOwogICAgICAgICAgICAKICAgIAogICAgICAgICAgICB2YXIgcG9wdXBfNzBiMjc1Yjc5ODRjNGRjODlhNmRmM2UzOTc1Yzg1NDYgPSBMLnBvcHVwKHttYXhXaWR0aDogJzMwMCd9KTsKCiAgICAgICAgICAgIAogICAgICAgICAgICAgICAgdmFyIGh0bWxfNmU1YWNlMjVlZWNjNDU0MDliOTkwZTliNTZkYzYzY2IgPSAkKCc8ZGl2IGlkPSJodG1sXzZlNWFjZTI1ZWVjYzQ1NDA5Yjk5MGU5YjU2ZGM2M2NiIiBzdHlsZT0id2lkdGg6IDEwMC4wJTsgaGVpZ2h0OiAxMDAuMCU7Ij5Eb3dudG93biBUb3JvbnRvPC9kaXY+JylbMF07CiAgICAgICAgICAgICAgICBwb3B1cF83MGIyNzViNzk4NGM0ZGM4OWE2ZGYzZTM5NzVjODU0Ni5zZXRDb250ZW50KGh0bWxfNmU1YWNlMjVlZWNjNDU0MDliOTkwZTliNTZkYzYzY2IpOwogICAgICAgICAgICAKCiAgICAgICAgICAgIG1hcmtlcl8zOWZkMmIzMTA4ZmM0ZGI5YmQ1NDVjMzFkODE5MTcxMC5iaW5kUG9wdXAocG9wdXBfNzBiMjc1Yjc5ODRjNGRjODlhNmRmM2UzOTc1Yzg1NDYpOwoKICAgICAgICAgICAgCiAgICAgICAgCiAgICAKCiAgICAgICAgICAgIHZhciBtYXJrZXJfZmMzN2UyYjRjZmJkNDhiNDhkNjJjNjdhNDBlZDk1NTMgPSBMLm1hcmtlcigKICAgICAgICAgICAgICAgIFs0My42Njc4NTU2LC03OS41MzIyNDI0MDAwMDAwMl0sCiAgICAgICAgICAgICAgICB7CiAgICAgICAgICAgICAgICAgICAgaWNvbjogbmV3IEwuSWNvbi5EZWZhdWx0KCkKICAgICAgICAgICAgICAgICAgICB9CiAgICAgICAgICAgICAgICApCiAgICAgICAgICAgICAgICAuYWRkVG8obWFwX2U1NDliY2ZhZTQ1ZDQzZDNhNjBmZjBkZTk1YWVjZmQ5KTsKICAgICAgICAgICAgCiAgICAKCiAgICAgICAgICAgICAgICB2YXIgaWNvbl9kZTQyM2Q1YjRkZmQ0ZDUyOTk3N2UyMDU0YTk1OTVhZSA9IEwuQXdlc29tZU1hcmtlcnMuaWNvbih7CiAgICAgICAgICAgICAgICAgICAgaWNvbjogJ2luZm8tc2lnbicsCiAgICAgICAgICAgICAgICAgICAgaWNvbkNvbG9yOiAnI0ZGRkYwMCcsCiAgICAgICAgICAgICAgICAgICAgbWFya2VyQ29sb3I6ICdncmVlbicsCiAgICAgICAgICAgICAgICAgICAgcHJlZml4OiAnZ2x5cGhpY29uJywKICAgICAgICAgICAgICAgICAgICBleHRyYUNsYXNzZXM6ICdmYS1yb3RhdGUtMCcKICAgICAgICAgICAgICAgICAgICB9KTsKICAgICAgICAgICAgICAgIG1hcmtlcl9mYzM3ZTJiNGNmYmQ0OGI0OGQ2MmM2N2E0MGVkOTU1My5zZXRJY29uKGljb25fZGU0MjNkNWI0ZGZkNGQ1Mjk5NzdlMjA1NGE5NTk1YWUpOwogICAgICAgICAgICAKICAgIAogICAgICAgICAgICB2YXIgcG9wdXBfYTM1Nzk0NDE3N2MxNDhhNWI5ZTY3MGE0OTYxYTVhNDkgPSBMLnBvcHVwKHttYXhXaWR0aDogJzMwMCd9KTsKCiAgICAgICAgICAgIAogICAgICAgICAgICAgICAgdmFyIGh0bWxfM2VjNzhmNWI4NjFmNGEwMzgyYmE4YWYzYjdhZjA0ZmUgPSAkKCc8ZGl2IGlkPSJodG1sXzNlYzc4ZjViODYxZjRhMDM4MmJhOGFmM2I3YWYwNGZlIiBzdHlsZT0id2lkdGg6IDEwMC4wJTsgaGVpZ2h0OiAxMDAuMCU7Ij5FdG9iaWNva2U8L2Rpdj4nKVswXTsKICAgICAgICAgICAgICAgIHBvcHVwX2EzNTc5NDQxNzdjMTQ4YTViOWU2NzBhNDk2MWE1YTQ5LnNldENvbnRlbnQoaHRtbF8zZWM3OGY1Yjg2MWY0YTAzODJiYThhZjNiN2FmMDRmZSk7CiAgICAgICAgICAgIAoKICAgICAgICAgICAgbWFya2VyX2ZjMzdlMmI0Y2ZiZDQ4YjQ4ZDYyYzY3YTQwZWQ5NTUzLmJpbmRQb3B1cChwb3B1cF9hMzU3OTQ0MTc3YzE0OGE1YjllNjcwYTQ5NjFhNWE0OSk7CgogICAgICAgICAgICAKICAgICAgICAKICAgIAoKICAgICAgICAgICAgdmFyIG1hcmtlcl9jMzdlODU5ODkyNDc0MjYwODczNmNhOTRkM2NhNzRhMyA9IEwubWFya2VyKAogICAgICAgICAgICAgICAgWzQzLjgwNjY4NjI5OTk5OTk5NiwtNzkuMTk0MzUzNDAwMDAwMDFdLAogICAgICAgICAgICAgICAgewogICAgICAgICAgICAgICAgICAgIGljb246IG5ldyBMLkljb24uRGVmYXVsdCgpCiAgICAgICAgICAgICAgICAgICAgfQogICAgICAgICAgICAgICAgKQogICAgICAgICAgICAgICAgLmFkZFRvKG1hcF9lNTQ5YmNmYWU0NWQ0M2QzYTYwZmYwZGU5NWFlY2ZkOSk7CiAgICAgICAgICAgIAogICAgCgogICAgICAgICAgICAgICAgdmFyIGljb25fMGM1YjY0NjBiM2Q1NDZiNmE1NmMwMGI0ODA0YzY1OTQgPSBMLkF3ZXNvbWVNYXJrZXJzLmljb24oewogICAgICAgICAgICAgICAgICAgIGljb246ICdpbmZvLXNpZ24nLAogICAgICAgICAgICAgICAgICAgIGljb25Db2xvcjogJyNGRkZGMDAnLAogICAgICAgICAgICAgICAgICAgIG1hcmtlckNvbG9yOiAnbGlnaHRyZWQnLAogICAgICAgICAgICAgICAgICAgIHByZWZpeDogJ2dseXBoaWNvbicsCiAgICAgICAgICAgICAgICAgICAgZXh0cmFDbGFzc2VzOiAnZmEtcm90YXRlLTAnCiAgICAgICAgICAgICAgICAgICAgfSk7CiAgICAgICAgICAgICAgICBtYXJrZXJfYzM3ZTg1OTg5MjQ3NDI2MDg3MzZjYTk0ZDNjYTc0YTMuc2V0SWNvbihpY29uXzBjNWI2NDYwYjNkNTQ2YjZhNTZjMDBiNDgwNGM2NTk0KTsKICAgICAgICAgICAgCiAgICAKICAgICAgICAgICAgdmFyIHBvcHVwXzU2MTRkY2JkN2JjMDQ1ZTE5MGJjMjZiZTQ3NGNjYWUyID0gTC5wb3B1cCh7bWF4V2lkdGg6ICczMDAnfSk7CgogICAgICAgICAgICAKICAgICAgICAgICAgICAgIHZhciBodG1sX2VhODBmZTRjMTAzNTQ5NTE4ZDY1OWE3OTkzYWMzNGRhID0gJCgnPGRpdiBpZD0iaHRtbF9lYTgwZmU0YzEwMzU0OTUxOGQ2NTlhNzk5M2FjMzRkYSIgc3R5bGU9IndpZHRoOiAxMDAuMCU7IGhlaWdodDogMTAwLjAlOyI+U2NhcmJvcm91Z2g8L2Rpdj4nKVswXTsKICAgICAgICAgICAgICAgIHBvcHVwXzU2MTRkY2JkN2JjMDQ1ZTE5MGJjMjZiZTQ3NGNjYWUyLnNldENvbnRlbnQoaHRtbF9lYTgwZmU0YzEwMzU0OTUxOGQ2NTlhNzk5M2FjMzRkYSk7CiAgICAgICAgICAgIAoKICAgICAgICAgICAgbWFya2VyX2MzN2U4NTk4OTI0NzQyNjA4NzM2Y2E5NGQzY2E3NGEzLmJpbmRQb3B1cChwb3B1cF81NjE0ZGNiZDdiYzA0NWUxOTBiYzI2YmU0NzRjY2FlMik7CgogICAgICAgICAgICAKICAgICAgICAKICAgIAoKICAgICAgICAgICAgdmFyIG1hcmtlcl9kZmMzMTk3NWI0NGI0NWZhYTJlOTdjMWE0MmFlZjNlNCA9IEwubWFya2VyKAogICAgICAgICAgICAgICAgWzQzLjc0NTkwNTc5OTk5OTk5NiwtNzkuMzUyMTg4XSwKICAgICAgICAgICAgICAgIHsKICAgICAgICAgICAgICAgICAgICBpY29uOiBuZXcgTC5JY29uLkRlZmF1bHQoKQogICAgICAgICAgICAgICAgICAgIH0KICAgICAgICAgICAgICAgICkKICAgICAgICAgICAgICAgIC5hZGRUbyhtYXBfZTU0OWJjZmFlNDVkNDNkM2E2MGZmMGRlOTVhZWNmZDkpOwogICAgICAgICAgICAKICAgIAoKICAgICAgICAgICAgICAgIHZhciBpY29uX2M2YjRjNTE5ZmI4NzQ5NTJhYmE3NGY2NmVkMThjZDk0ID0gTC5Bd2Vzb21lTWFya2Vycy5pY29uKHsKICAgICAgICAgICAgICAgICAgICBpY29uOiAnaW5mby1zaWduJywKICAgICAgICAgICAgICAgICAgICBpY29uQ29sb3I6ICcjRkZGRjAwJywKICAgICAgICAgICAgICAgICAgICBtYXJrZXJDb2xvcjogJ3B1cnBsZScsCiAgICAgICAgICAgICAgICAgICAgcHJlZml4OiAnZ2x5cGhpY29uJywKICAgICAgICAgICAgICAgICAgICBleHRyYUNsYXNzZXM6ICdmYS1yb3RhdGUtMCcKICAgICAgICAgICAgICAgICAgICB9KTsKICAgICAgICAgICAgICAgIG1hcmtlcl9kZmMzMTk3NWI0NGI0NWZhYTJlOTdjMWE0MmFlZjNlNC5zZXRJY29uKGljb25fYzZiNGM1MTlmYjg3NDk1MmFiYTc0ZjY2ZWQxOGNkOTQpOwogICAgICAgICAgICAKICAgIAogICAgICAgICAgICB2YXIgcG9wdXBfNjQwMmE0OWQ1ZjdhNGE2ZDliNzg3ZTJmZjQ2YTQwYjMgPSBMLnBvcHVwKHttYXhXaWR0aDogJzMwMCd9KTsKCiAgICAgICAgICAgIAogICAgICAgICAgICAgICAgdmFyIGh0bWxfMzM1ZGIwN2VlMzNjNDFkOWE2MDM2ZDU2YTNiMzMyODYgPSAkKCc8ZGl2IGlkPSJodG1sXzMzNWRiMDdlZTMzYzQxZDlhNjAzNmQ1NmEzYjMzMjg2IiBzdHlsZT0id2lkdGg6IDEwMC4wJTsgaGVpZ2h0OiAxMDAuMCU7Ij5Eb24gTWlsbHM8L2Rpdj4nKVswXTsKICAgICAgICAgICAgICAgIHBvcHVwXzY0MDJhNDlkNWY3YTRhNmQ5Yjc4N2UyZmY0NmE0MGIzLnNldENvbnRlbnQoaHRtbF8zMzVkYjA3ZWUzM2M0MWQ5YTYwMzZkNTZhM2IzMzI4Nik7CiAgICAgICAgICAgIAoKICAgICAgICAgICAgbWFya2VyX2RmYzMxOTc1YjQ0YjQ1ZmFhMmU5N2MxYTQyYWVmM2U0LmJpbmRQb3B1cChwb3B1cF82NDAyYTQ5ZDVmN2E0YTZkOWI3ODdlMmZmNDZhNDBiMyk7CgogICAgICAgICAgICAKICAgICAgICAKICAgIAoKICAgICAgICAgICAgdmFyIG1hcmtlcl9iM2M3YjYxZTg1Yjc0NjBkOTk0OThiZDRjZTY5MWYyYyA9IEwubWFya2VyKAogICAgICAgICAgICAgICAgWzQzLjcwNjM5NzIsLTc5LjMwOTkzN10sCiAgICAgICAgICAgICAgICB7CiAgICAgICAgICAgICAgICAgICAgaWNvbjogbmV3IEwuSWNvbi5EZWZhdWx0KCkKICAgICAgICAgICAgICAgICAgICB9CiAgICAgICAgICAgICAgICApCiAgICAgICAgICAgICAgICAuYWRkVG8obWFwX2U1NDliY2ZhZTQ1ZDQzZDNhNjBmZjBkZTk1YWVjZmQ5KTsKICAgICAgICAgICAgCiAgICAKCiAgICAgICAgICAgICAgICB2YXIgaWNvbl84NmNhNzk5YzFkMWQ0ZWM3YmFmOWMxM2ViZjk0NDQ2NSA9IEwuQXdlc29tZU1hcmtlcnMuaWNvbih7CiAgICAgICAgICAgICAgICAgICAgaWNvbjogJ2luZm8tc2lnbicsCiAgICAgICAgICAgICAgICAgICAgaWNvbkNvbG9yOiAnI0ZGRkYwMCcsCiAgICAgICAgICAgICAgICAgICAgbWFya2VyQ29sb3I6ICdsaWdodHJlZCcsCiAgICAgICAgICAgICAgICAgICAgcHJlZml4OiAnZ2x5cGhpY29uJywKICAgICAgICAgICAgICAgICAgICBleHRyYUNsYXNzZXM6ICdmYS1yb3RhdGUtMCcKICAgICAgICAgICAgICAgICAgICB9KTsKICAgICAgICAgICAgICAgIG1hcmtlcl9iM2M3YjYxZTg1Yjc0NjBkOTk0OThiZDRjZTY5MWYyYy5zZXRJY29uKGljb25fODZjYTc5OWMxZDFkNGVjN2JhZjljMTNlYmY5NDQ0NjUpOwogICAgICAgICAgICAKICAgIAogICAgICAgICAgICB2YXIgcG9wdXBfMWMyYzgyMzllNWJmNGZjY2E1NTIwOTU2YTM2NWJkMDUgPSBMLnBvcHVwKHttYXhXaWR0aDogJzMwMCd9KTsKCiAgICAgICAgICAgIAogICAgICAgICAgICAgICAgdmFyIGh0bWxfZDRiNjdmNDk3MjdkNDViODlhYzAxZTI1OTBmMWFhMmUgPSAkKCc8ZGl2IGlkPSJodG1sX2Q0YjY3ZjQ5NzI3ZDQ1Yjg5YWMwMWUyNTkwZjFhYTJlIiBzdHlsZT0id2lkdGg6IDEwMC4wJTsgaGVpZ2h0OiAxMDAuMCU7Ij5FYXN0IFlvcms8L2Rpdj4nKVswXTsKICAgICAgICAgICAgICAgIHBvcHVwXzFjMmM4MjM5ZTViZjRmY2NhNTUyMDk1NmEzNjViZDA1LnNldENvbnRlbnQoaHRtbF9kNGI2N2Y0OTcyN2Q0NWI4OWFjMDFlMjU5MGYxYWEyZSk7CiAgICAgICAgICAgIAoKICAgICAgICAgICAgbWFya2VyX2IzYzdiNjFlODViNzQ2MGQ5OTQ5OGJkNGNlNjkxZjJjLmJpbmRQb3B1cChwb3B1cF8xYzJjODIzOWU1YmY0ZmNjYTU1MjA5NTZhMzY1YmQwNSk7CgogICAgICAgICAgICAKICAgICAgICAKICAgIAoKICAgICAgICAgICAgdmFyIG1hcmtlcl84NTk3ZjM2NzM1NDE0OWQzYTgxOTM3ZDIwODdiNjE0MyA9IEwubWFya2VyKAogICAgICAgICAgICAgICAgWzQzLjY1NzE2MTgsLTc5LjM3ODkzNzA5OTk5OTk5XSwKICAgICAgICAgICAgICAgIHsKICAgICAgICAgICAgICAgICAgICBpY29uOiBuZXcgTC5JY29uLkRlZmF1bHQoKQogICAgICAgICAgICAgICAgICAgIH0KICAgICAgICAgICAgICAgICkKICAgICAgICAgICAgICAgIC5hZGRUbyhtYXBfZTU0OWJjZmFlNDVkNDNkM2E2MGZmMGRlOTVhZWNmZDkpOwogICAgICAgICAgICAKICAgIAoKICAgICAgICAgICAgICAgIHZhciBpY29uXzIwZWRlZDgxMjE5MzQ5ZjZiZTQ5YjNmZjY4NzQwM2VkID0gTC5Bd2Vzb21lTWFya2Vycy5pY29uKHsKICAgICAgICAgICAgICAgICAgICBpY29uOiAnaW5mby1zaWduJywKICAgICAgICAgICAgICAgICAgICBpY29uQ29sb3I6ICcjRkZGRjAwJywKICAgICAgICAgICAgICAgICAgICBtYXJrZXJDb2xvcjogJ2xpZ2h0Z3JlZW4nLAogICAgICAgICAgICAgICAgICAgIHByZWZpeDogJ2dseXBoaWNvbicsCiAgICAgICAgICAgICAgICAgICAgZXh0cmFDbGFzc2VzOiAnZmEtcm90YXRlLTAnCiAgICAgICAgICAgICAgICAgICAgfSk7CiAgICAgICAgICAgICAgICBtYXJrZXJfODU5N2YzNjczNTQxNDlkM2E4MTkzN2QyMDg3YjYxNDMuc2V0SWNvbihpY29uXzIwZWRlZDgxMjE5MzQ5ZjZiZTQ5YjNmZjY4NzQwM2VkKTsKICAgICAgICAgICAgCiAgICAKICAgICAgICAgICAgdmFyIHBvcHVwXzY3ZTgzY2Y0MDUyYzRkYTRiN2ZhNmMwMDdlZmIxNjA5ID0gTC5wb3B1cCh7bWF4V2lkdGg6ICczMDAnfSk7CgogICAgICAgICAgICAKICAgICAgICAgICAgICAgIHZhciBodG1sXzBiZTBhZGRjMDk4MTQ4MGM5NjUyOTdiMjFkMjE3ZTQ0ID0gJCgnPGRpdiBpZD0iaHRtbF8wYmUwYWRkYzA5ODE0ODBjOTY1Mjk3YjIxZDIxN2U0NCIgc3R5bGU9IndpZHRoOiAxMDAuMCU7IGhlaWdodDogMTAwLjAlOyI+RG93bnRvd24gVG9yb250bzwvZGl2PicpWzBdOwogICAgICAgICAgICAgICAgcG9wdXBfNjdlODNjZjQwNTJjNGRhNGI3ZmE2YzAwN2VmYjE2MDkuc2V0Q29udGVudChodG1sXzBiZTBhZGRjMDk4MTQ4MGM5NjUyOTdiMjFkMjE3ZTQ0KTsKICAgICAgICAgICAgCgogICAgICAgICAgICBtYXJrZXJfODU5N2YzNjczNTQxNDlkM2E4MTkzN2QyMDg3YjYxNDMuYmluZFBvcHVwKHBvcHVwXzY3ZTgzY2Y0MDUyYzRkYTRiN2ZhNmMwMDdlZmIxNjA5KTsKCiAgICAgICAgICAgIAogICAgICAgIAogICAgCgogICAgICAgICAgICB2YXIgbWFya2VyXzAyYzUxN2EyOGIzZjQ3MmNiNDU4ZmQyODU2OTBiYmRmID0gTC5tYXJrZXIoCiAgICAgICAgICAgICAgICBbNDMuNzA5NTc3LC03OS40NDUwNzI1OTk5OTk5OV0sCiAgICAgICAgICAgICAgICB7CiAgICAgICAgICAgICAgICAgICAgaWNvbjogbmV3IEwuSWNvbi5EZWZhdWx0KCkKICAgICAgICAgICAgICAgICAgICB9CiAgICAgICAgICAgICAgICApCiAgICAgICAgICAgICAgICAuYWRkVG8obWFwX2U1NDliY2ZhZTQ1ZDQzZDNhNjBmZjBkZTk1YWVjZmQ5KTsKICAgICAgICAgICAgCiAgICAKCiAgICAgICAgICAgICAgICB2YXIgaWNvbl8zNGQ3MDQ3OGJlYTY0YmYxOWM0ODJjMTgzYWRjMTUwMSA9IEwuQXdlc29tZU1hcmtlcnMuaWNvbih7CiAgICAgICAgICAgICAgICAgICAgaWNvbjogJ2luZm8tc2lnbicsCiAgICAgICAgICAgICAgICAgICAgaWNvbkNvbG9yOiAnI0ZGRkYwMCcsCiAgICAgICAgICAgICAgICAgICAgbWFya2VyQ29sb3I6ICdwdXJwbGUnLAogICAgICAgICAgICAgICAgICAgIHByZWZpeDogJ2dseXBoaWNvbicsCiAgICAgICAgICAgICAgICAgICAgZXh0cmFDbGFzc2VzOiAnZmEtcm90YXRlLTAnCiAgICAgICAgICAgICAgICAgICAgfSk7CiAgICAgICAgICAgICAgICBtYXJrZXJfMDJjNTE3YTI4YjNmNDcyY2I0NThmZDI4NTY5MGJiZGYuc2V0SWNvbihpY29uXzM0ZDcwNDc4YmVhNjRiZjE5YzQ4MmMxODNhZGMxNTAxKTsKICAgICAgICAgICAgCiAgICAKICAgICAgICAgICAgdmFyIHBvcHVwXzFkZGJhMjIzM2YyMTQ0MThiNmI0MzJiMTdjYTMyYWU2ID0gTC5wb3B1cCh7bWF4V2lkdGg6ICczMDAnfSk7CgogICAgICAgICAgICAKICAgICAgICAgICAgICAgIHZhciBodG1sX2Q5ZjhiZWUyNWNhYTRiMjdhYTM1MGM4NDI2M2ZkMmQ0ID0gJCgnPGRpdiBpZD0iaHRtbF9kOWY4YmVlMjVjYWE0YjI3YWEzNTBjODQyNjNmZDJkNCIgc3R5bGU9IndpZHRoOiAxMDAuMCU7IGhlaWdodDogMTAwLjAlOyI+R2xlbmNhaXJuPC9kaXY+JylbMF07CiAgICAgICAgICAgICAgICBwb3B1cF8xZGRiYTIyMzNmMjE0NDE4YjZiNDMyYjE3Y2EzMmFlNi5zZXRDb250ZW50KGh0bWxfZDlmOGJlZTI1Y2FhNGIyN2FhMzUwYzg0MjYzZmQyZDQpOwogICAgICAgICAgICAKCiAgICAgICAgICAgIG1hcmtlcl8wMmM1MTdhMjhiM2Y0NzJjYjQ1OGZkMjg1NjkwYmJkZi5iaW5kUG9wdXAocG9wdXBfMWRkYmEyMjMzZjIxNDQxOGI2YjQzMmIxN2NhMzJhZTYpOwoKICAgICAgICAgICAgCiAgICAgICAgCiAgICAKCiAgICAgICAgICAgIHZhciBtYXJrZXJfN2ZhZDc1YjI2YjY3NDdlOWJlNmY3MDRjNmRlZjkyYzYgPSBMLm1hcmtlcigKICAgICAgICAgICAgICAgIFs0My42NTA5NDMyLC03OS41NTQ3MjQ0MDAwMDAwMV0sCiAgICAgICAgICAgICAgICB7CiAgICAgICAgICAgICAgICAgICAgaWNvbjogbmV3IEwuSWNvbi5EZWZhdWx0KCkKICAgICAgICAgICAgICAgICAgICB9CiAgICAgICAgICAgICAgICApCiAgICAgICAgICAgICAgICAuYWRkVG8obWFwX2U1NDliY2ZhZTQ1ZDQzZDNhNjBmZjBkZTk1YWVjZmQ5KTsKICAgICAgICAgICAgCiAgICAKCiAgICAgICAgICAgICAgICB2YXIgaWNvbl9jMGQxMmFjMjczZjk0MWE2OGUyZGQ2MjkwYmQyZTQ4ZCA9IEwuQXdlc29tZU1hcmtlcnMuaWNvbih7CiAgICAgICAgICAgICAgICAgICAgaWNvbjogJ2luZm8tc2lnbicsCiAgICAgICAgICAgICAgICAgICAgaWNvbkNvbG9yOiAnI0ZGRkYwMCcsCiAgICAgICAgICAgICAgICAgICAgbWFya2VyQ29sb3I6ICdncmVlbicsCiAgICAgICAgICAgICAgICAgICAgcHJlZml4OiAnZ2x5cGhpY29uJywKICAgICAgICAgICAgICAgICAgICBleHRyYUNsYXNzZXM6ICdmYS1yb3RhdGUtMCcKICAgICAgICAgICAgICAgICAgICB9KTsKICAgICAgICAgICAgICAgIG1hcmtlcl83ZmFkNzViMjZiNjc0N2U5YmU2ZjcwNGM2ZGVmOTJjNi5zZXRJY29uKGljb25fYzBkMTJhYzI3M2Y5NDFhNjhlMmRkNjI5MGJkMmU0OGQpOwogICAgICAgICAgICAKICAgIAogICAgICAgICAgICB2YXIgcG9wdXBfYjllYjFhYjMxODI5NGRmNDk3YzA0NzdhMGE0MDNlY2EgPSBMLnBvcHVwKHttYXhXaWR0aDogJzMwMCd9KTsKCiAgICAgICAgICAgIAogICAgICAgICAgICAgICAgdmFyIGh0bWxfYmRjZDJjYjBlNjNkNDBiN2EwYTE0N2UyMzNjMDllZjggPSAkKCc8ZGl2IGlkPSJodG1sX2JkY2QyY2IwZTYzZDQwYjdhMGExNDdlMjMzYzA5ZWY4IiBzdHlsZT0id2lkdGg6IDEwMC4wJTsgaGVpZ2h0OiAxMDAuMCU7Ij5FdG9iaWNva2U8L2Rpdj4nKVswXTsKICAgICAgICAgICAgICAgIHBvcHVwX2I5ZWIxYWIzMTgyOTRkZjQ5N2MwNDc3YTBhNDAzZWNhLnNldENvbnRlbnQoaHRtbF9iZGNkMmNiMGU2M2Q0MGI3YTBhMTQ3ZTIzM2MwOWVmOCk7CiAgICAgICAgICAgIAoKICAgICAgICAgICAgbWFya2VyXzdmYWQ3NWIyNmI2NzQ3ZTliZTZmNzA0YzZkZWY5MmM2LmJpbmRQb3B1cChwb3B1cF9iOWViMWFiMzE4Mjk0ZGY0OTdjMDQ3N2EwYTQwM2VjYSk7CgogICAgICAgICAgICAKICAgICAgICAKICAgIAoKICAgICAgICAgICAgdmFyIG1hcmtlcl8zMzRkZjZmMDM1ZDM0NjRmOTZlZDZmMTMwZmI1NDM2ZiA9IEwubWFya2VyKAogICAgICAgICAgICAgICAgWzQzLjc4NDUzNTEsLTc5LjE2MDQ5NzA5OTk5OTk5XSwKICAgICAgICAgICAgICAgIHsKICAgICAgICAgICAgICAgICAgICBpY29uOiBuZXcgTC5JY29uLkRlZmF1bHQoKQogICAgICAgICAgICAgICAgICAgIH0KICAgICAgICAgICAgICAgICkKICAgICAgICAgICAgICAgIC5hZGRUbyhtYXBfZTU0OWJjZmFlNDVkNDNkM2E2MGZmMGRlOTVhZWNmZDkpOwogICAgICAgICAgICAKICAgIAoKICAgICAgICAgICAgICAgIHZhciBpY29uXzBjZDVkMTc3OGUxYzQ5ZDdiNmZjNTMxYTBlNjY2Y2Q5ID0gTC5Bd2Vzb21lTWFya2Vycy5pY29uKHsKICAgICAgICAgICAgICAgICAgICBpY29uOiAnaW5mby1zaWduJywKICAgICAgICAgICAgICAgICAgICBpY29uQ29sb3I6ICcjRkZGRjAwJywKICAgICAgICAgICAgICAgICAgICBtYXJrZXJDb2xvcjogJ2xpZ2h0cmVkJywKICAgICAgICAgICAgICAgICAgICBwcmVmaXg6ICdnbHlwaGljb24nLAogICAgICAgICAgICAgICAgICAgIGV4dHJhQ2xhc3NlczogJ2ZhLXJvdGF0ZS0wJwogICAgICAgICAgICAgICAgICAgIH0pOwogICAgICAgICAgICAgICAgbWFya2VyXzMzNGRmNmYwMzVkMzQ2NGY5NmVkNmYxMzBmYjU0MzZmLnNldEljb24oaWNvbl8wY2Q1ZDE3NzhlMWM0OWQ3YjZmYzUzMWEwZTY2NmNkOSk7CiAgICAgICAgICAgIAogICAgCiAgICAgICAgICAgIHZhciBwb3B1cF9iOWZmYjFlOWQ1OGM0NDg4YTU5ZDUzYmQ3NGI4NmE0ZiA9IEwucG9wdXAoe21heFdpZHRoOiAnMzAwJ30pOwoKICAgICAgICAgICAgCiAgICAgICAgICAgICAgICB2YXIgaHRtbF84NmRmYjkyYTUwZmQ0ZjA3YTZmOTJiZTcyMTUzMTU2MSA9ICQoJzxkaXYgaWQ9Imh0bWxfODZkZmI5MmE1MGZkNGYwN2E2ZjkyYmU3MjE1MzE1NjEiIHN0eWxlPSJ3aWR0aDogMTAwLjAlOyBoZWlnaHQ6IDEwMC4wJTsiPlNjYXJib3JvdWdoPC9kaXY+JylbMF07CiAgICAgICAgICAgICAgICBwb3B1cF9iOWZmYjFlOWQ1OGM0NDg4YTU5ZDUzYmQ3NGI4NmE0Zi5zZXRDb250ZW50KGh0bWxfODZkZmI5MmE1MGZkNGYwN2E2ZjkyYmU3MjE1MzE1NjEpOwogICAgICAgICAgICAKCiAgICAgICAgICAgIG1hcmtlcl8zMzRkZjZmMDM1ZDM0NjRmOTZlZDZmMTMwZmI1NDM2Zi5iaW5kUG9wdXAocG9wdXBfYjlmZmIxZTlkNThjNDQ4OGE1OWQ1M2JkNzRiODZhNGYpOwoKICAgICAgICAgICAgCiAgICAgICAgCiAgICAKCiAgICAgICAgICAgIHZhciBtYXJrZXJfNGE1N2VjNTJjMmVhNDQ0YTg5ZDFkODU0OWQxYjIwMTEgPSBMLm1hcmtlcigKICAgICAgICAgICAgICAgIFs0My43MjU4OTk3MDAwMDAwMSwtNzkuMzQwOTIzXSwKICAgICAgICAgICAgICAgIHsKICAgICAgICAgICAgICAgICAgICBpY29uOiBuZXcgTC5JY29uLkRlZmF1bHQoKQogICAgICAgICAgICAgICAgICAgIH0KICAgICAgICAgICAgICAgICkKICAgICAgICAgICAgICAgIC5hZGRUbyhtYXBfZTU0OWJjZmFlNDVkNDNkM2E2MGZmMGRlOTVhZWNmZDkpOwogICAgICAgICAgICAKICAgIAoKICAgICAgICAgICAgICAgIHZhciBpY29uX2I1MjMxNjI1NzlkZDRmYzI4ZjIzN2I4NTNiMGI0ZWU1ID0gTC5Bd2Vzb21lTWFya2Vycy5pY29uKHsKICAgICAgICAgICAgICAgICAgICBpY29uOiAnaW5mby1zaWduJywKICAgICAgICAgICAgICAgICAgICBpY29uQ29sb3I6ICcjRkZGRjAwJywKICAgICAgICAgICAgICAgICAgICBtYXJrZXJDb2xvcjogJ3B1cnBsZScsCiAgICAgICAgICAgICAgICAgICAgcHJlZml4OiAnZ2x5cGhpY29uJywKICAgICAgICAgICAgICAgICAgICBleHRyYUNsYXNzZXM6ICdmYS1yb3RhdGUtMCcKICAgICAgICAgICAgICAgICAgICB9KTsKICAgICAgICAgICAgICAgIG1hcmtlcl80YTU3ZWM1MmMyZWE0NDRhODlkMWQ4NTQ5ZDFiMjAxMS5zZXRJY29uKGljb25fYjUyMzE2MjU3OWRkNGZjMjhmMjM3Yjg1M2IwYjRlZTUpOwogICAgICAgICAgICAKICAgIAogICAgICAgICAgICB2YXIgcG9wdXBfNDU0ZDkyNmYzZDY1NDJmNDhlM2FhMDYzMmRlYmY5MWIgPSBMLnBvcHVwKHttYXhXaWR0aDogJzMwMCd9KTsKCiAgICAgICAgICAgIAogICAgICAgICAgICAgICAgdmFyIGh0bWxfMTcxYjBmYWNiYzU2NGU0OTk2YjI1NDIxYjRjYWZlY2QgPSAkKCc8ZGl2IGlkPSJodG1sXzE3MWIwZmFjYmM1NjRlNDk5NmIyNTQyMWI0Y2FmZWNkIiBzdHlsZT0id2lkdGg6IDEwMC4wJTsgaGVpZ2h0OiAxMDAuMCU7Ij5Eb24gTWlsbHM8L2Rpdj4nKVswXTsKICAgICAgICAgICAgICAgIHBvcHVwXzQ1NGQ5MjZmM2Q2NTQyZjQ4ZTNhYTA2MzJkZWJmOTFiLnNldENvbnRlbnQoaHRtbF8xNzFiMGZhY2JjNTY0ZTQ5OTZiMjU0MjFiNGNhZmVjZCk7CiAgICAgICAgICAgIAoKICAgICAgICAgICAgbWFya2VyXzRhNTdlYzUyYzJlYTQ0NGE4OWQxZDg1NDlkMWIyMDExLmJpbmRQb3B1cChwb3B1cF80NTRkOTI2ZjNkNjU0MmY0OGUzYWEwNjMyZGViZjkxYik7CgogICAgICAgICAgICAKICAgICAgICAKICAgIAoKICAgICAgICAgICAgdmFyIG1hcmtlcl9lMWY4ODhmMzE4ZmE0NzBhYjMyNmRmMDcxYjViYzM0MyA9IEwubWFya2VyKAogICAgICAgICAgICAgICAgWzQzLjY5NTM0MzkwMDAwMDAwNSwtNzkuMzE4Mzg4N10sCiAgICAgICAgICAgICAgICB7CiAgICAgICAgICAgICAgICAgICAgaWNvbjogbmV3IEwuSWNvbi5EZWZhdWx0KCkKICAgICAgICAgICAgICAgICAgICB9CiAgICAgICAgICAgICAgICApCiAgICAgICAgICAgICAgICAuYWRkVG8obWFwX2U1NDliY2ZhZTQ1ZDQzZDNhNjBmZjBkZTk1YWVjZmQ5KTsKICAgICAgICAgICAgCiAgICAKCiAgICAgICAgICAgICAgICB2YXIgaWNvbl80N2Q1YzY3OWY0YWU0ZjYzYjE3NGRmMmM3YzQzZjIzZiA9IEwuQXdlc29tZU1hcmtlcnMuaWNvbih7CiAgICAgICAgICAgICAgICAgICAgaWNvbjogJ2luZm8tc2lnbicsCiAgICAgICAgICAgICAgICAgICAgaWNvbkNvbG9yOiAnI0ZGRkYwMCcsCiAgICAgICAgICAgICAgICAgICAgbWFya2VyQ29sb3I6ICdsaWdodHJlZCcsCiAgICAgICAgICAgICAgICAgICAgcHJlZml4OiAnZ2x5cGhpY29uJywKICAgICAgICAgICAgICAgICAgICBleHRyYUNsYXNzZXM6ICdmYS1yb3RhdGUtMCcKICAgICAgICAgICAgICAgICAgICB9KTsKICAgICAgICAgICAgICAgIG1hcmtlcl9lMWY4ODhmMzE4ZmE0NzBhYjMyNmRmMDcxYjViYzM0My5zZXRJY29uKGljb25fNDdkNWM2NzlmNGFlNGY2M2IxNzRkZjJjN2M0M2YyM2YpOwogICAgICAgICAgICAKICAgIAogICAgICAgICAgICB2YXIgcG9wdXBfNTk3ZmM0ZmFjNmZjNGE1NThhZWFlOWM4MDg4ZTEyNWIgPSBMLnBvcHVwKHttYXhXaWR0aDogJzMwMCd9KTsKCiAgICAgICAgICAgIAogICAgICAgICAgICAgICAgdmFyIGh0bWxfY2NjYmY4MzVjMWQ4NGU4ZWJiODg0N2JhNDFmYzM1ZmQgPSAkKCc8ZGl2IGlkPSJodG1sX2NjY2JmODM1YzFkODRlOGViYjg4NDdiYTQxZmMzNWZkIiBzdHlsZT0id2lkdGg6IDEwMC4wJTsgaGVpZ2h0OiAxMDAuMCU7Ij5FYXN0IFlvcms8L2Rpdj4nKVswXTsKICAgICAgICAgICAgICAgIHBvcHVwXzU5N2ZjNGZhYzZmYzRhNTU4YWVhZTljODA4OGUxMjViLnNldENvbnRlbnQoaHRtbF9jY2NiZjgzNWMxZDg0ZThlYmI4ODQ3YmE0MWZjMzVmZCk7CiAgICAgICAgICAgIAoKICAgICAgICAgICAgbWFya2VyX2UxZjg4OGYzMThmYTQ3MGFiMzI2ZGYwNzFiNWJjMzQzLmJpbmRQb3B1cChwb3B1cF81OTdmYzRmYWM2ZmM0YTU1OGFlYWU5YzgwODhlMTI1Yik7CgogICAgICAgICAgICAKICAgICAgICAKICAgIAoKICAgICAgICAgICAgdmFyIG1hcmtlcl82N2E2NmE5ZjQzMTQ0ZDBhYWY4ZWIyODFmMDVlNjIxMCA9IEwubWFya2VyKAogICAgICAgICAgICAgICAgWzQzLjY1MTQ5MzksLTc5LjM3NTQxNzldLAogICAgICAgICAgICAgICAgewogICAgICAgICAgICAgICAgICAgIGljb246IG5ldyBMLkljb24uRGVmYXVsdCgpCiAgICAgICAgICAgICAgICAgICAgfQogICAgICAgICAgICAgICAgKQogICAgICAgICAgICAgICAgLmFkZFRvKG1hcF9lNTQ5YmNmYWU0NWQ0M2QzYTYwZmYwZGU5NWFlY2ZkOSk7CiAgICAgICAgICAgIAogICAgCgogICAgICAgICAgICAgICAgdmFyIGljb25fN2JiODJhODZjYzYxNDUxM2FjNTg1NGE3N2I2NDQ5ZjcgPSBMLkF3ZXNvbWVNYXJrZXJzLmljb24oewogICAgICAgICAgICAgICAgICAgIGljb246ICdpbmZvLXNpZ24nLAogICAgICAgICAgICAgICAgICAgIGljb25Db2xvcjogJyNGRkZGMDAnLAogICAgICAgICAgICAgICAgICAgIG1hcmtlckNvbG9yOiAnbGlnaHRncmVlbicsCiAgICAgICAgICAgICAgICAgICAgcHJlZml4OiAnZ2x5cGhpY29uJywKICAgICAgICAgICAgICAgICAgICBleHRyYUNsYXNzZXM6ICdmYS1yb3RhdGUtMCcKICAgICAgICAgICAgICAgICAgICB9KTsKICAgICAgICAgICAgICAgIG1hcmtlcl82N2E2NmE5ZjQzMTQ0ZDBhYWY4ZWIyODFmMDVlNjIxMC5zZXRJY29uKGljb25fN2JiODJhODZjYzYxNDUxM2FjNTg1NGE3N2I2NDQ5ZjcpOwogICAgICAgICAgICAKICAgIAogICAgICAgICAgICB2YXIgcG9wdXBfZjAxM2YzNmFjMzZlNDAzYjhjYmNhNWYxNWQ2NGVhYjEgPSBMLnBvcHVwKHttYXhXaWR0aDogJzMwMCd9KTsKCiAgICAgICAgICAgIAogICAgICAgICAgICAgICAgdmFyIGh0bWxfZDcwNzc2MWUyMzU3NDM3Mzg1ZjM1Mzc2NWU5NDNkMGUgPSAkKCc8ZGl2IGlkPSJodG1sX2Q3MDc3NjFlMjM1NzQzNzM4NWYzNTM3NjVlOTQzZDBlIiBzdHlsZT0id2lkdGg6IDEwMC4wJTsgaGVpZ2h0OiAxMDAuMCU7Ij5Eb3dudG93biBUb3JvbnRvPC9kaXY+JylbMF07CiAgICAgICAgICAgICAgICBwb3B1cF9mMDEzZjM2YWMzNmU0MDNiOGNiY2E1ZjE1ZDY0ZWFiMS5zZXRDb250ZW50KGh0bWxfZDcwNzc2MWUyMzU3NDM3Mzg1ZjM1Mzc2NWU5NDNkMGUpOwogICAgICAgICAgICAKCiAgICAgICAgICAgIG1hcmtlcl82N2E2NmE5ZjQzMTQ0ZDBhYWY4ZWIyODFmMDVlNjIxMC5iaW5kUG9wdXAocG9wdXBfZjAxM2YzNmFjMzZlNDAzYjhjYmNhNWYxNWQ2NGVhYjEpOwoKICAgICAgICAgICAgCiAgICAgICAgCiAgICAKCiAgICAgICAgICAgIHZhciBtYXJrZXJfOWE5ODc3YjZlMjFiNGQ1Yjk5MzFiMDk2YzYyMjBkMTcgPSBMLm1hcmtlcigKICAgICAgICAgICAgICAgIFs0My42OTM3ODEzLC03OS40MjgxOTE0MDAwMDAwMl0sCiAgICAgICAgICAgICAgICB7CiAgICAgICAgICAgICAgICAgICAgaWNvbjogbmV3IEwuSWNvbi5EZWZhdWx0KCkKICAgICAgICAgICAgICAgICAgICB9CiAgICAgICAgICAgICAgICApCiAgICAgICAgICAgICAgICAuYWRkVG8obWFwX2U1NDliY2ZhZTQ1ZDQzZDNhNjBmZjBkZTk1YWVjZmQ5KTsKICAgICAgICAgICAgCiAgICAKCiAgICAgICAgICAgICAgICB2YXIgaWNvbl85MWFjNmE2ZTdhOWQ0YjNiODFhOGRiMGQ5N2VkYmM2OSA9IEwuQXdlc29tZU1hcmtlcnMuaWNvbih7CiAgICAgICAgICAgICAgICAgICAgaWNvbjogJ2luZm8tc2lnbicsCiAgICAgICAgICAgICAgICAgICAgaWNvbkNvbG9yOiAnI0ZGRkYwMCcsCiAgICAgICAgICAgICAgICAgICAgbWFya2VyQ29sb3I6ICdibHVlJywKICAgICAgICAgICAgICAgICAgICBwcmVmaXg6ICdnbHlwaGljb24nLAogICAgICAgICAgICAgICAgICAgIGV4dHJhQ2xhc3NlczogJ2ZhLXJvdGF0ZS0wJwogICAgICAgICAgICAgICAgICAgIH0pOwogICAgICAgICAgICAgICAgbWFya2VyXzlhOTg3N2I2ZTIxYjRkNWI5OTMxYjA5NmM2MjIwZDE3LnNldEljb24oaWNvbl85MWFjNmE2ZTdhOWQ0YjNiODFhOGRiMGQ5N2VkYmM2OSk7CiAgICAgICAgICAgIAogICAgCiAgICAgICAgICAgIHZhciBwb3B1cF8wMjhmODBiNGI4ZmI0NTVjOGEyZWM3ZWNkNjAzMzNhNiA9IEwucG9wdXAoe21heFdpZHRoOiAnMzAwJ30pOwoKICAgICAgICAgICAgCiAgICAgICAgICAgICAgICB2YXIgaHRtbF83ZjExYTZlNDVmY2Q0NDg0ODY3MzE4OTMzNGU1ZjdlMSA9ICQoJzxkaXYgaWQ9Imh0bWxfN2YxMWE2ZTQ1ZmNkNDQ4NDg2NzMxODkzMzRlNWY3ZTEiIHN0eWxlPSJ3aWR0aDogMTAwLjAlOyBoZWlnaHQ6IDEwMC4wJTsiPllvcms8L2Rpdj4nKVswXTsKICAgICAgICAgICAgICAgIHBvcHVwXzAyOGY4MGI0YjhmYjQ1NWM4YTJlYzdlY2Q2MDMzM2E2LnNldENvbnRlbnQoaHRtbF83ZjExYTZlNDVmY2Q0NDg0ODY3MzE4OTMzNGU1ZjdlMSk7CiAgICAgICAgICAgIAoKICAgICAgICAgICAgbWFya2VyXzlhOTg3N2I2ZTIxYjRkNWI5OTMxYjA5NmM2MjIwZDE3LmJpbmRQb3B1cChwb3B1cF8wMjhmODBiNGI4ZmI0NTVjOGEyZWM3ZWNkNjAzMzNhNik7CgogICAgICAgICAgICAKICAgICAgICAKICAgIAoKICAgICAgICAgICAgdmFyIG1hcmtlcl81NGViYzZiMzYwMWI0OTRjODAzZTE0NzY3MGY5MDU3MSA9IEwubWFya2VyKAogICAgICAgICAgICAgICAgWzQzLjY0MzUxNTIsLTc5LjU3NzIwMDc5OTk5OTk5XSwKICAgICAgICAgICAgICAgIHsKICAgICAgICAgICAgICAgICAgICBpY29uOiBuZXcgTC5JY29uLkRlZmF1bHQoKQogICAgICAgICAgICAgICAgICAgIH0KICAgICAgICAgICAgICAgICkKICAgICAgICAgICAgICAgIC5hZGRUbyhtYXBfZTU0OWJjZmFlNDVkNDNkM2E2MGZmMGRlOTVhZWNmZDkpOwogICAgICAgICAgICAKICAgIAoKICAgICAgICAgICAgICAgIHZhciBpY29uXzVkOGVjNWE0M2ViNTQ5MzNhMTkzMDY4MTlkZDNlY2Q1ID0gTC5Bd2Vzb21lTWFya2Vycy5pY29uKHsKICAgICAgICAgICAgICAgICAgICBpY29uOiAnaW5mby1zaWduJywKICAgICAgICAgICAgICAgICAgICBpY29uQ29sb3I6ICcjRkZGRjAwJywKICAgICAgICAgICAgICAgICAgICBtYXJrZXJDb2xvcjogJ2dyZWVuJywKICAgICAgICAgICAgICAgICAgICBwcmVmaXg6ICdnbHlwaGljb24nLAogICAgICAgICAgICAgICAgICAgIGV4dHJhQ2xhc3NlczogJ2ZhLXJvdGF0ZS0wJwogICAgICAgICAgICAgICAgICAgIH0pOwogICAgICAgICAgICAgICAgbWFya2VyXzU0ZWJjNmIzNjAxYjQ5NGM4MDNlMTQ3NjcwZjkwNTcxLnNldEljb24oaWNvbl81ZDhlYzVhNDNlYjU0OTMzYTE5MzA2ODE5ZGQzZWNkNSk7CiAgICAgICAgICAgIAogICAgCiAgICAgICAgICAgIHZhciBwb3B1cF9lYzRlYTFjZmI2NWY0NThjYTAyY2Q5MmJkMGJiMTBkYiA9IEwucG9wdXAoe21heFdpZHRoOiAnMzAwJ30pOwoKICAgICAgICAgICAgCiAgICAgICAgICAgICAgICB2YXIgaHRtbF84YzIwNzNhODUwNTI0ZWRkYmRiMDBhOGQ0YzY5MzRkNiA9ICQoJzxkaXYgaWQ9Imh0bWxfOGMyMDczYTg1MDUyNGVkZGJkYjAwYThkNGM2OTM0ZDYiIHN0eWxlPSJ3aWR0aDogMTAwLjAlOyBoZWlnaHQ6IDEwMC4wJTsiPkV0b2JpY29rZTwvZGl2PicpWzBdOwogICAgICAgICAgICAgICAgcG9wdXBfZWM0ZWExY2ZiNjVmNDU4Y2EwMmNkOTJiZDBiYjEwZGIuc2V0Q29udGVudChodG1sXzhjMjA3M2E4NTA1MjRlZGRiZGIwMGE4ZDRjNjkzNGQ2KTsKICAgICAgICAgICAgCgogICAgICAgICAgICBtYXJrZXJfNTRlYmM2YjM2MDFiNDk0YzgwM2UxNDc2NzBmOTA1NzEuYmluZFBvcHVwKHBvcHVwX2VjNGVhMWNmYjY1ZjQ1OGNhMDJjZDkyYmQwYmIxMGRiKTsKCiAgICAgICAgICAgIAogICAgICAgIAogICAgCgogICAgICAgICAgICB2YXIgbWFya2VyXzliOTY5NDRlYzVhYjQ3YjliODNhNzMwYjc3MjU1YTkwID0gTC5tYXJrZXIoCiAgICAgICAgICAgICAgICBbNDMuNzYzNTcyNiwtNzkuMTg4NzExNV0sCiAgICAgICAgICAgICAgICB7CiAgICAgICAgICAgICAgICAgICAgaWNvbjogbmV3IEwuSWNvbi5EZWZhdWx0KCkKICAgICAgICAgICAgICAgICAgICB9CiAgICAgICAgICAgICAgICApCiAgICAgICAgICAgICAgICAuYWRkVG8obWFwX2U1NDliY2ZhZTQ1ZDQzZDNhNjBmZjBkZTk1YWVjZmQ5KTsKICAgICAgICAgICAgCiAgICAKCiAgICAgICAgICAgICAgICB2YXIgaWNvbl9lYmYxNmRlOWY3NWM0MGMzODNmZGRlODc3MDVmNGZhNSA9IEwuQXdlc29tZU1hcmtlcnMuaWNvbih7CiAgICAgICAgICAgICAgICAgICAgaWNvbjogJ2luZm8tc2lnbicsCiAgICAgICAgICAgICAgICAgICAgaWNvbkNvbG9yOiAnI0ZGRkYwMCcsCiAgICAgICAgICAgICAgICAgICAgbWFya2VyQ29sb3I6ICdsaWdodHJlZCcsCiAgICAgICAgICAgICAgICAgICAgcHJlZml4OiAnZ2x5cGhpY29uJywKICAgICAgICAgICAgICAgICAgICBleHRyYUNsYXNzZXM6ICdmYS1yb3RhdGUtMCcKICAgICAgICAgICAgICAgICAgICB9KTsKICAgICAgICAgICAgICAgIG1hcmtlcl85Yjk2OTQ0ZWM1YWI0N2I5YjgzYTczMGI3NzI1NWE5MC5zZXRJY29uKGljb25fZWJmMTZkZTlmNzVjNDBjMzgzZmRkZTg3NzA1ZjRmYTUpOwogICAgICAgICAgICAKICAgIAogICAgICAgICAgICB2YXIgcG9wdXBfZDk4NWQ3ZGVjYWI2NDJkZWJjMWM1OWEyYzdlMzhhNmQgPSBMLnBvcHVwKHttYXhXaWR0aDogJzMwMCd9KTsKCiAgICAgICAgICAgIAogICAgICAgICAgICAgICAgdmFyIGh0bWxfYWVlY2U5MTc5MzQyNDhkYmJkOWE2ZmFlN2UzY2JhNTUgPSAkKCc8ZGl2IGlkPSJodG1sX2FlZWNlOTE3OTM0MjQ4ZGJiZDlhNmZhZTdlM2NiYTU1IiBzdHlsZT0id2lkdGg6IDEwMC4wJTsgaGVpZ2h0OiAxMDAuMCU7Ij5TY2FyYm9yb3VnaDwvZGl2PicpWzBdOwogICAgICAgICAgICAgICAgcG9wdXBfZDk4NWQ3ZGVjYWI2NDJkZWJjMWM1OWEyYzdlMzhhNmQuc2V0Q29udGVudChodG1sX2FlZWNlOTE3OTM0MjQ4ZGJiZDlhNmZhZTdlM2NiYTU1KTsKICAgICAgICAgICAgCgogICAgICAgICAgICBtYXJrZXJfOWI5Njk0NGVjNWFiNDdiOWI4M2E3MzBiNzcyNTVhOTAuYmluZFBvcHVwKHBvcHVwX2Q5ODVkN2RlY2FiNjQyZGViYzFjNTlhMmM3ZTM4YTZkKTsKCiAgICAgICAgICAgIAogICAgICAgIAogICAgCgogICAgICAgICAgICB2YXIgbWFya2VyXzI0NzMyMDdiYzBjNTQ4NzVhMDFkMTc0YjU3NzcyNzkxID0gTC5tYXJrZXIoCiAgICAgICAgICAgICAgICBbNDMuNjc2MzU3Mzk5OTk5OTksLTc5LjI5MzAzMTJdLAogICAgICAgICAgICAgICAgewogICAgICAgICAgICAgICAgICAgIGljb246IG5ldyBMLkljb24uRGVmYXVsdCgpCiAgICAgICAgICAgICAgICAgICAgfQogICAgICAgICAgICAgICAgKQogICAgICAgICAgICAgICAgLmFkZFRvKG1hcF9lNTQ5YmNmYWU0NWQ0M2QzYTYwZmYwZGU5NWFlY2ZkOSk7CiAgICAgICAgICAgIAogICAgCgogICAgICAgICAgICAgICAgdmFyIGljb25fNWU1MmZjYjIxMDVjNGI3Y2IyODMyYjJjOTUyYWU2OWEgPSBMLkF3ZXNvbWVNYXJrZXJzLmljb24oewogICAgICAgICAgICAgICAgICAgIGljb246ICdpbmZvLXNpZ24nLAogICAgICAgICAgICAgICAgICAgIGljb25Db2xvcjogJyNGRkZGMDAnLAogICAgICAgICAgICAgICAgICAgIG1hcmtlckNvbG9yOiAnYmVpZ2UnLAogICAgICAgICAgICAgICAgICAgIHByZWZpeDogJ2dseXBoaWNvbicsCiAgICAgICAgICAgICAgICAgICAgZXh0cmFDbGFzc2VzOiAnZmEtcm90YXRlLTAnCiAgICAgICAgICAgICAgICAgICAgfSk7CiAgICAgICAgICAgICAgICBtYXJrZXJfMjQ3MzIwN2JjMGM1NDg3NWEwMWQxNzRiNTc3NzI3OTEuc2V0SWNvbihpY29uXzVlNTJmY2IyMTA1YzRiN2NiMjgzMmIyYzk1MmFlNjlhKTsKICAgICAgICAgICAgCiAgICAKICAgICAgICAgICAgdmFyIHBvcHVwXzgzMDdhZWU2MWMwNzRjOWY5NTRjN2VkN2RjMGYwNWNhID0gTC5wb3B1cCh7bWF4V2lkdGg6ICczMDAnfSk7CgogICAgICAgICAgICAKICAgICAgICAgICAgICAgIHZhciBodG1sXzY0Y2MwYjEyNDdiZTRlOTBhNDRjYjk0OGIxZjkxYTkwID0gJCgnPGRpdiBpZD0iaHRtbF82NGNjMGIxMjQ3YmU0ZTkwYTQ0Y2I5NDhiMWY5MWE5MCIgc3R5bGU9IndpZHRoOiAxMDAuMCU7IGhlaWdodDogMTAwLjAlOyI+RWFzdCBUb3JvbnRvPC9kaXY+JylbMF07CiAgICAgICAgICAgICAgICBwb3B1cF84MzA3YWVlNjFjMDc0YzlmOTU0YzdlZDdkYzBmMDVjYS5zZXRDb250ZW50KGh0bWxfNjRjYzBiMTI0N2JlNGU5MGE0NGNiOTQ4YjFmOTFhOTApOwogICAgICAgICAgICAKCiAgICAgICAgICAgIG1hcmtlcl8yNDczMjA3YmMwYzU0ODc1YTAxZDE3NGI1Nzc3Mjc5MS5iaW5kUG9wdXAocG9wdXBfODMwN2FlZTYxYzA3NGM5Zjk1NGM3ZWQ3ZGMwZjA1Y2EpOwoKICAgICAgICAgICAgCiAgICAgICAgCiAgICAKCiAgICAgICAgICAgIHZhciBtYXJrZXJfNTVlN2Q5MGExYzlmNDU5NzgyNTA0OGZkYmM3MmJkZjcgPSBMLm1hcmtlcigKICAgICAgICAgICAgICAgIFs0My42NDQ3NzA3OTk5OTk5OTYsLTc5LjM3MzMwNjRdLAogICAgICAgICAgICAgICAgewogICAgICAgICAgICAgICAgICAgIGljb246IG5ldyBMLkljb24uRGVmYXVsdCgpCiAgICAgICAgICAgICAgICAgICAgfQogICAgICAgICAgICAgICAgKQogICAgICAgICAgICAgICAgLmFkZFRvKG1hcF9lNTQ5YmNmYWU0NWQ0M2QzYTYwZmYwZGU5NWFlY2ZkOSk7CiAgICAgICAgICAgIAogICAgCgogICAgICAgICAgICAgICAgdmFyIGljb25fZmNkNDVlOGYxNjYwNGZlNGI2NDAzZTM3ZjU3Y2EwYzIgPSBMLkF3ZXNvbWVNYXJrZXJzLmljb24oewogICAgICAgICAgICAgICAgICAgIGljb246ICdpbmZvLXNpZ24nLAogICAgICAgICAgICAgICAgICAgIGljb25Db2xvcjogJyNGRkZGMDAnLAogICAgICAgICAgICAgICAgICAgIG1hcmtlckNvbG9yOiAnbGlnaHRncmVlbicsCiAgICAgICAgICAgICAgICAgICAgcHJlZml4OiAnZ2x5cGhpY29uJywKICAgICAgICAgICAgICAgICAgICBleHRyYUNsYXNzZXM6ICdmYS1yb3RhdGUtMCcKICAgICAgICAgICAgICAgICAgICB9KTsKICAgICAgICAgICAgICAgIG1hcmtlcl81NWU3ZDkwYTFjOWY0NTk3ODI1MDQ4ZmRiYzcyYmRmNy5zZXRJY29uKGljb25fZmNkNDVlOGYxNjYwNGZlNGI2NDAzZTM3ZjU3Y2EwYzIpOwogICAgICAgICAgICAKICAgIAogICAgICAgICAgICB2YXIgcG9wdXBfYzRlYjg5YzdlN2UxNDY3OGE4NzEyNWNiNzI2OThkNjcgPSBMLnBvcHVwKHttYXhXaWR0aDogJzMwMCd9KTsKCiAgICAgICAgICAgIAogICAgICAgICAgICAgICAgdmFyIGh0bWxfNDk0MWEwMmMyNzk3NDg3ZGEzYzJkMjNkMmZhYTdhYWQgPSAkKCc8ZGl2IGlkPSJodG1sXzQ5NDFhMDJjMjc5NzQ4N2RhM2MyZDIzZDJmYWE3YWFkIiBzdHlsZT0id2lkdGg6IDEwMC4wJTsgaGVpZ2h0OiAxMDAuMCU7Ij5Eb3dudG93biBUb3JvbnRvPC9kaXY+JylbMF07CiAgICAgICAgICAgICAgICBwb3B1cF9jNGViODljN2U3ZTE0Njc4YTg3MTI1Y2I3MjY5OGQ2Ny5zZXRDb250ZW50KGh0bWxfNDk0MWEwMmMyNzk3NDg3ZGEzYzJkMjNkMmZhYTdhYWQpOwogICAgICAgICAgICAKCiAgICAgICAgICAgIG1hcmtlcl81NWU3ZDkwYTFjOWY0NTk3ODI1MDQ4ZmRiYzcyYmRmNy5iaW5kUG9wdXAocG9wdXBfYzRlYjg5YzdlN2UxNDY3OGE4NzEyNWNiNzI2OThkNjcpOwoKICAgICAgICAgICAgCiAgICAgICAgCiAgICAKCiAgICAgICAgICAgIHZhciBtYXJrZXJfMTU2MWZlZGQzMDE3NDlmMzgzOTVkZDAzY2ZkMzczYTcgPSBMLm1hcmtlcigKICAgICAgICAgICAgICAgIFs0My42ODkwMjU2LC03OS40NTM1MTJdLAogICAgICAgICAgICAgICAgewogICAgICAgICAgICAgICAgICAgIGljb246IG5ldyBMLkljb24uRGVmYXVsdCgpCiAgICAgICAgICAgICAgICAgICAgfQogICAgICAgICAgICAgICAgKQogICAgICAgICAgICAgICAgLmFkZFRvKG1hcF9lNTQ5YmNmYWU0NWQ0M2QzYTYwZmYwZGU5NWFlY2ZkOSk7CiAgICAgICAgICAgIAogICAgCgogICAgICAgICAgICAgICAgdmFyIGljb25fNWI0YjYwYThmYmJjNDkzZGFiYjBhM2U3MGY4NmU0MWYgPSBMLkF3ZXNvbWVNYXJrZXJzLmljb24oewogICAgICAgICAgICAgICAgICAgIGljb246ICdpbmZvLXNpZ24nLAogICAgICAgICAgICAgICAgICAgIGljb25Db2xvcjogJyNGRkZGMDAnLAogICAgICAgICAgICAgICAgICAgIG1hcmtlckNvbG9yOiAnYmx1ZScsCiAgICAgICAgICAgICAgICAgICAgcHJlZml4OiAnZ2x5cGhpY29uJywKICAgICAgICAgICAgICAgICAgICBleHRyYUNsYXNzZXM6ICdmYS1yb3RhdGUtMCcKICAgICAgICAgICAgICAgICAgICB9KTsKICAgICAgICAgICAgICAgIG1hcmtlcl8xNTYxZmVkZDMwMTc0OWYzODM5NWRkMDNjZmQzNzNhNy5zZXRJY29uKGljb25fNWI0YjYwYThmYmJjNDkzZGFiYjBhM2U3MGY4NmU0MWYpOwogICAgICAgICAgICAKICAgIAogICAgICAgICAgICB2YXIgcG9wdXBfYWJjNTMxYTU3NTM3NDJlNWI3NTE4OTJiMGNhNWQ5MDQgPSBMLnBvcHVwKHttYXhXaWR0aDogJzMwMCd9KTsKCiAgICAgICAgICAgIAogICAgICAgICAgICAgICAgdmFyIGh0bWxfMWU5YjA2YmRlNDg3NDFkMjlkOTkyYzFjMTcwNjQyYTkgPSAkKCc8ZGl2IGlkPSJodG1sXzFlOWIwNmJkZTQ4NzQxZDI5ZDk5MmMxYzE3MDY0MmE5IiBzdHlsZT0id2lkdGg6IDEwMC4wJTsgaGVpZ2h0OiAxMDAuMCU7Ij5Zb3JrPC9kaXY+JylbMF07CiAgICAgICAgICAgICAgICBwb3B1cF9hYmM1MzFhNTc1Mzc0MmU1Yjc1MTg5MmIwY2E1ZDkwNC5zZXRDb250ZW50KGh0bWxfMWU5YjA2YmRlNDg3NDFkMjlkOTkyYzFjMTcwNjQyYTkpOwogICAgICAgICAgICAKCiAgICAgICAgICAgIG1hcmtlcl8xNTYxZmVkZDMwMTc0OWYzODM5NWRkMDNjZmQzNzNhNy5iaW5kUG9wdXAocG9wdXBfYWJjNTMxYTU3NTM3NDJlNWI3NTE4OTJiMGNhNWQ5MDQpOwoKICAgICAgICAgICAgCiAgICAgICAgCiAgICAKCiAgICAgICAgICAgIHZhciBtYXJrZXJfMDQxMWQ2NDM1Y2VkNGRmZjhjZGQzZGE4Y2NjYTRmMTggPSBMLm1hcmtlcigKICAgICAgICAgICAgICAgIFs0My43NzA5OTIxLC03OS4yMTY5MTc0MDAwMDAwMV0sCiAgICAgICAgICAgICAgICB7CiAgICAgICAgICAgICAgICAgICAgaWNvbjogbmV3IEwuSWNvbi5EZWZhdWx0KCkKICAgICAgICAgICAgICAgICAgICB9CiAgICAgICAgICAgICAgICApCiAgICAgICAgICAgICAgICAuYWRkVG8obWFwX2U1NDliY2ZhZTQ1ZDQzZDNhNjBmZjBkZTk1YWVjZmQ5KTsKICAgICAgICAgICAgCiAgICAKCiAgICAgICAgICAgICAgICB2YXIgaWNvbl80NmExOTc4NDFjNTg0NWU2YmVmNjJiZDc1NThhN2E3MiA9IEwuQXdlc29tZU1hcmtlcnMuaWNvbih7CiAgICAgICAgICAgICAgICAgICAgaWNvbjogJ2luZm8tc2lnbicsCiAgICAgICAgICAgICAgICAgICAgaWNvbkNvbG9yOiAnI0ZGRkYwMCcsCiAgICAgICAgICAgICAgICAgICAgbWFya2VyQ29sb3I6ICdsaWdodHJlZCcsCiAgICAgICAgICAgICAgICAgICAgcHJlZml4OiAnZ2x5cGhpY29uJywKICAgICAgICAgICAgICAgICAgICBleHRyYUNsYXNzZXM6ICdmYS1yb3RhdGUtMCcKICAgICAgICAgICAgICAgICAgICB9KTsKICAgICAgICAgICAgICAgIG1hcmtlcl8wNDExZDY0MzVjZWQ0ZGZmOGNkZDNkYThjY2NhNGYxOC5zZXRJY29uKGljb25fNDZhMTk3ODQxYzU4NDVlNmJlZjYyYmQ3NTU4YTdhNzIpOwogICAgICAgICAgICAKICAgIAogICAgICAgICAgICB2YXIgcG9wdXBfMzFlN2NlZjg0NGZmNDc5Njg1MTRlMjYzYWRkNTM2ZjMgPSBMLnBvcHVwKHttYXhXaWR0aDogJzMwMCd9KTsKCiAgICAgICAgICAgIAogICAgICAgICAgICAgICAgdmFyIGh0bWxfNzBlMTJmZTBiZTIyNDYxZGJlOTcxYTk5ZjU3MjM1NWUgPSAkKCc8ZGl2IGlkPSJodG1sXzcwZTEyZmUwYmUyMjQ2MWRiZTk3MWE5OWY1NzIzNTVlIiBzdHlsZT0id2lkdGg6IDEwMC4wJTsgaGVpZ2h0OiAxMDAuMCU7Ij5TY2FyYm9yb3VnaDwvZGl2PicpWzBdOwogICAgICAgICAgICAgICAgcG9wdXBfMzFlN2NlZjg0NGZmNDc5Njg1MTRlMjYzYWRkNTM2ZjMuc2V0Q29udGVudChodG1sXzcwZTEyZmUwYmUyMjQ2MWRiZTk3MWE5OWY1NzIzNTVlKTsKICAgICAgICAgICAgCgogICAgICAgICAgICBtYXJrZXJfMDQxMWQ2NDM1Y2VkNGRmZjhjZGQzZGE4Y2NjYTRmMTguYmluZFBvcHVwKHBvcHVwXzMxZTdjZWY4NDRmZjQ3OTY4NTE0ZTI2M2FkZDUzNmYzKTsKCiAgICAgICAgICAgIAogICAgICAgIAogICAgCgogICAgICAgICAgICB2YXIgbWFya2VyX2JjNmEwZTBjY2JkMTRiM2I5OWNlMjkyYzcyMjA1YjRjID0gTC5tYXJrZXIoCiAgICAgICAgICAgICAgICBbNDMuNzA5MDYwNCwtNzkuMzYzNDUxN10sCiAgICAgICAgICAgICAgICB7CiAgICAgICAgICAgICAgICAgICAgaWNvbjogbmV3IEwuSWNvbi5EZWZhdWx0KCkKICAgICAgICAgICAgICAgICAgICB9CiAgICAgICAgICAgICAgICApCiAgICAgICAgICAgICAgICAuYWRkVG8obWFwX2U1NDliY2ZhZTQ1ZDQzZDNhNjBmZjBkZTk1YWVjZmQ5KTsKICAgICAgICAgICAgCiAgICAKCiAgICAgICAgICAgICAgICB2YXIgaWNvbl9lOWViYWIwN2VhYzg0YTZhOWM5ZTAzOTUxZTliMzdlYSA9IEwuQXdlc29tZU1hcmtlcnMuaWNvbih7CiAgICAgICAgICAgICAgICAgICAgaWNvbjogJ2luZm8tc2lnbicsCiAgICAgICAgICAgICAgICAgICAgaWNvbkNvbG9yOiAnI0ZGRkYwMCcsCiAgICAgICAgICAgICAgICAgICAgbWFya2VyQ29sb3I6ICdsaWdodHJlZCcsCiAgICAgICAgICAgICAgICAgICAgcHJlZml4OiAnZ2x5cGhpY29uJywKICAgICAgICAgICAgICAgICAgICBleHRyYUNsYXNzZXM6ICdmYS1yb3RhdGUtMCcKICAgICAgICAgICAgICAgICAgICB9KTsKICAgICAgICAgICAgICAgIG1hcmtlcl9iYzZhMGUwY2NiZDE0YjNiOTljZTI5MmM3MjIwNWI0Yy5zZXRJY29uKGljb25fZTllYmFiMDdlYWM4NGE2YTljOWUwMzk1MWU5YjM3ZWEpOwogICAgICAgICAgICAKICAgIAogICAgICAgICAgICB2YXIgcG9wdXBfMGE4NjFjYTlmOWM4NGNmZjg3NzQyZDlkMjcyMGY4MDIgPSBMLnBvcHVwKHttYXhXaWR0aDogJzMwMCd9KTsKCiAgICAgICAgICAgIAogICAgICAgICAgICAgICAgdmFyIGh0bWxfYjFlYmJhYTk5YjlmNGU0YmIxOGY1N2E4NjRlNDJiMTEgPSAkKCc8ZGl2IGlkPSJodG1sX2IxZWJiYWE5OWI5ZjRlNGJiMThmNTdhODY0ZTQyYjExIiBzdHlsZT0id2lkdGg6IDEwMC4wJTsgaGVpZ2h0OiAxMDAuMCU7Ij5FYXN0IFlvcms8L2Rpdj4nKVswXTsKICAgICAgICAgICAgICAgIHBvcHVwXzBhODYxY2E5ZjljODRjZmY4Nzc0MmQ5ZDI3MjBmODAyLnNldENvbnRlbnQoaHRtbF9iMWViYmFhOTliOWY0ZTRiYjE4ZjU3YTg2NGU0MmIxMSk7CiAgICAgICAgICAgIAoKICAgICAgICAgICAgbWFya2VyX2JjNmEwZTBjY2JkMTRiM2I5OWNlMjkyYzcyMjA1YjRjLmJpbmRQb3B1cChwb3B1cF8wYTg2MWNhOWY5Yzg0Y2ZmODc3NDJkOWQyNzIwZjgwMik7CgogICAgICAgICAgICAKICAgICAgICAKICAgIAoKICAgICAgICAgICAgdmFyIG1hcmtlcl83ODY3MjRiNTQ5NzQ0ZGNjYWE1YTIzOWEzZDU3ZWQ5ZiA9IEwubWFya2VyKAogICAgICAgICAgICAgICAgWzQzLjY1Nzk1MjQsLTc5LjM4NzM4MjZdLAogICAgICAgICAgICAgICAgewogICAgICAgICAgICAgICAgICAgIGljb246IG5ldyBMLkljb24uRGVmYXVsdCgpCiAgICAgICAgICAgICAgICAgICAgfQogICAgICAgICAgICAgICAgKQogICAgICAgICAgICAgICAgLmFkZFRvKG1hcF9lNTQ5YmNmYWU0NWQ0M2QzYTYwZmYwZGU5NWFlY2ZkOSk7CiAgICAgICAgICAgIAogICAgCgogICAgICAgICAgICAgICAgdmFyIGljb25fOTVjYzA4ZmY5MDM0NGU3Njg5ZGRkMDlkOTI3NWEwNGYgPSBMLkF3ZXNvbWVNYXJrZXJzLmljb24oewogICAgICAgICAgICAgICAgICAgIGljb246ICdpbmZvLXNpZ24nLAogICAgICAgICAgICAgICAgICAgIGljb25Db2xvcjogJyNGRkZGMDAnLAogICAgICAgICAgICAgICAgICAgIG1hcmtlckNvbG9yOiAnbGlnaHRncmVlbicsCiAgICAgICAgICAgICAgICAgICAgcHJlZml4OiAnZ2x5cGhpY29uJywKICAgICAgICAgICAgICAgICAgICBleHRyYUNsYXNzZXM6ICdmYS1yb3RhdGUtMCcKICAgICAgICAgICAgICAgICAgICB9KTsKICAgICAgICAgICAgICAgIG1hcmtlcl83ODY3MjRiNTQ5NzQ0ZGNjYWE1YTIzOWEzZDU3ZWQ5Zi5zZXRJY29uKGljb25fOTVjYzA4ZmY5MDM0NGU3Njg5ZGRkMDlkOTI3NWEwNGYpOwogICAgICAgICAgICAKICAgIAogICAgICAgICAgICB2YXIgcG9wdXBfOTkxNGNmZWE0MWY3NDUzZThiOTdhMmFiYzAwMWY0NDAgPSBMLnBvcHVwKHttYXhXaWR0aDogJzMwMCd9KTsKCiAgICAgICAgICAgIAogICAgICAgICAgICAgICAgdmFyIGh0bWxfNDFlYzJhY2E5MGE4NGQ0Y2FhYzY5YTQ4MzVjYTI4ZDMgPSAkKCc8ZGl2IGlkPSJodG1sXzQxZWMyYWNhOTBhODRkNGNhYWM2OWE0ODM1Y2EyOGQzIiBzdHlsZT0id2lkdGg6IDEwMC4wJTsgaGVpZ2h0OiAxMDAuMCU7Ij5Eb3dudG93biBUb3JvbnRvPC9kaXY+JylbMF07CiAgICAgICAgICAgICAgICBwb3B1cF85OTE0Y2ZlYTQxZjc0NTNlOGI5N2EyYWJjMDAxZjQ0MC5zZXRDb250ZW50KGh0bWxfNDFlYzJhY2E5MGE4NGQ0Y2FhYzY5YTQ4MzVjYTI4ZDMpOwogICAgICAgICAgICAKCiAgICAgICAgICAgIG1hcmtlcl83ODY3MjRiNTQ5NzQ0ZGNjYWE1YTIzOWEzZDU3ZWQ5Zi5iaW5kUG9wdXAocG9wdXBfOTkxNGNmZWE0MWY3NDUzZThiOTdhMmFiYzAwMWY0NDApOwoKICAgICAgICAgICAgCiAgICAgICAgCiAgICAKCiAgICAgICAgICAgIHZhciBtYXJrZXJfMWUyNWUyNDJmZWRkNDQzMmEwODRlZTRmMzczOTQ0OGQgPSBMLm1hcmtlcigKICAgICAgICAgICAgICAgIFs0My42Njk1NDIsLTc5LjQyMjU2MzddLAogICAgICAgICAgICAgICAgewogICAgICAgICAgICAgICAgICAgIGljb246IG5ldyBMLkljb24uRGVmYXVsdCgpCiAgICAgICAgICAgICAgICAgICAgfQogICAgICAgICAgICAgICAgKQogICAgICAgICAgICAgICAgLmFkZFRvKG1hcF9lNTQ5YmNmYWU0NWQ0M2QzYTYwZmYwZGU5NWFlY2ZkOSk7CiAgICAgICAgICAgIAogICAgCgogICAgICAgICAgICAgICAgdmFyIGljb25fZmE5OTZmNTNmY2VjNGIxNGI1NDUyZmIyMTc3YjI4NGYgPSBMLkF3ZXNvbWVNYXJrZXJzLmljb24oewogICAgICAgICAgICAgICAgICAgIGljb246ICdpbmZvLXNpZ24nLAogICAgICAgICAgICAgICAgICAgIGljb25Db2xvcjogJyNGRkZGMDAnLAogICAgICAgICAgICAgICAgICAgIG1hcmtlckNvbG9yOiAnbGlnaHRncmVlbicsCiAgICAgICAgICAgICAgICAgICAgcHJlZml4OiAnZ2x5cGhpY29uJywKICAgICAgICAgICAgICAgICAgICBleHRyYUNsYXNzZXM6ICdmYS1yb3RhdGUtMCcKICAgICAgICAgICAgICAgICAgICB9KTsKICAgICAgICAgICAgICAgIG1hcmtlcl8xZTI1ZTI0MmZlZGQ0NDMyYTA4NGVlNGYzNzM5NDQ4ZC5zZXRJY29uKGljb25fZmE5OTZmNTNmY2VjNGIxNGI1NDUyZmIyMTc3YjI4NGYpOwogICAgICAgICAgICAKICAgIAogICAgICAgICAgICB2YXIgcG9wdXBfMWZiZTMyNWZmN2I5NDY5NGFiMjAyMzExMzY0ZGM3ZTUgPSBMLnBvcHVwKHttYXhXaWR0aDogJzMwMCd9KTsKCiAgICAgICAgICAgIAogICAgICAgICAgICAgICAgdmFyIGh0bWxfMzg2Y2IyZWMxMGM4NGZmYzk0NmQ2ZWIxNmY3NGFkMGYgPSAkKCc8ZGl2IGlkPSJodG1sXzM4NmNiMmVjMTBjODRmZmM5NDZkNmViMTZmNzRhZDBmIiBzdHlsZT0id2lkdGg6IDEwMC4wJTsgaGVpZ2h0OiAxMDAuMCU7Ij5Eb3dudG93biBUb3JvbnRvPC9kaXY+JylbMF07CiAgICAgICAgICAgICAgICBwb3B1cF8xZmJlMzI1ZmY3Yjk0Njk0YWIyMDIzMTEzNjRkYzdlNS5zZXRDb250ZW50KGh0bWxfMzg2Y2IyZWMxMGM4NGZmYzk0NmQ2ZWIxNmY3NGFkMGYpOwogICAgICAgICAgICAKCiAgICAgICAgICAgIG1hcmtlcl8xZTI1ZTI0MmZlZGQ0NDMyYTA4NGVlNGYzNzM5NDQ4ZC5iaW5kUG9wdXAocG9wdXBfMWZiZTMyNWZmN2I5NDY5NGFiMjAyMzExMzY0ZGM3ZTUpOwoKICAgICAgICAgICAgCiAgICAgICAgCiAgICAKCiAgICAgICAgICAgIHZhciBtYXJrZXJfZjI0YjczZmIwMjI0NDA5MDgwODVhNWJjN2E4OWE5M2EgPSBMLm1hcmtlcigKICAgICAgICAgICAgICAgIFs0My43NzMxMzYsLTc5LjIzOTQ3NjA5OTk5OTk5XSwKICAgICAgICAgICAgICAgIHsKICAgICAgICAgICAgICAgICAgICBpY29uOiBuZXcgTC5JY29uLkRlZmF1bHQoKQogICAgICAgICAgICAgICAgICAgIH0KICAgICAgICAgICAgICAgICkKICAgICAgICAgICAgICAgIC5hZGRUbyhtYXBfZTU0OWJjZmFlNDVkNDNkM2E2MGZmMGRlOTVhZWNmZDkpOwogICAgICAgICAgICAKICAgIAoKICAgICAgICAgICAgICAgIHZhciBpY29uXzRlMzFjOTk5NzJhMzQ0NTViY2MzMTQ2YzdiOTQ2OGZiID0gTC5Bd2Vzb21lTWFya2Vycy5pY29uKHsKICAgICAgICAgICAgICAgICAgICBpY29uOiAnaW5mby1zaWduJywKICAgICAgICAgICAgICAgICAgICBpY29uQ29sb3I6ICcjRkZGRjAwJywKICAgICAgICAgICAgICAgICAgICBtYXJrZXJDb2xvcjogJ2xpZ2h0cmVkJywKICAgICAgICAgICAgICAgICAgICBwcmVmaXg6ICdnbHlwaGljb24nLAogICAgICAgICAgICAgICAgICAgIGV4dHJhQ2xhc3NlczogJ2ZhLXJvdGF0ZS0wJwogICAgICAgICAgICAgICAgICAgIH0pOwogICAgICAgICAgICAgICAgbWFya2VyX2YyNGI3M2ZiMDIyNDQwOTA4MDg1YTViYzdhODlhOTNhLnNldEljb24oaWNvbl80ZTMxYzk5OTcyYTM0NDU1YmNjMzE0NmM3Yjk0NjhmYik7CiAgICAgICAgICAgIAogICAgCiAgICAgICAgICAgIHZhciBwb3B1cF9jNzdhYTk5NTgwZDM0ZjhjOTIzNjRhMjgwNTA3YjdlYiA9IEwucG9wdXAoe21heFdpZHRoOiAnMzAwJ30pOwoKICAgICAgICAgICAgCiAgICAgICAgICAgICAgICB2YXIgaHRtbF9kNzYxNzQxMDdhYjk0MDFhYTgxNzFmMjVjMjBjODc2YyA9ICQoJzxkaXYgaWQ9Imh0bWxfZDc2MTc0MTA3YWI5NDAxYWE4MTcxZjI1YzIwYzg3NmMiIHN0eWxlPSJ3aWR0aDogMTAwLjAlOyBoZWlnaHQ6IDEwMC4wJTsiPlNjYXJib3JvdWdoPC9kaXY+JylbMF07CiAgICAgICAgICAgICAgICBwb3B1cF9jNzdhYTk5NTgwZDM0ZjhjOTIzNjRhMjgwNTA3YjdlYi5zZXRDb250ZW50KGh0bWxfZDc2MTc0MTA3YWI5NDAxYWE4MTcxZjI1YzIwYzg3NmMpOwogICAgICAgICAgICAKCiAgICAgICAgICAgIG1hcmtlcl9mMjRiNzNmYjAyMjQ0MDkwODA4NWE1YmM3YTg5YTkzYS5iaW5kUG9wdXAocG9wdXBfYzc3YWE5OTU4MGQzNGY4YzkyMzY0YTI4MDUwN2I3ZWIpOwoKICAgICAgICAgICAgCiAgICAgICAgCiAgICAKCiAgICAgICAgICAgIHZhciBtYXJrZXJfZDgzM2M3OTQ4YTg5NGVlODhiZTA3M2RhNTQ5ODc5ZTggPSBMLm1hcmtlcigKICAgICAgICAgICAgICAgIFs0My44MDM3NjIyLC03OS4zNjM0NTE3XSwKICAgICAgICAgICAgICAgIHsKICAgICAgICAgICAgICAgICAgICBpY29uOiBuZXcgTC5JY29uLkRlZmF1bHQoKQogICAgICAgICAgICAgICAgICAgIH0KICAgICAgICAgICAgICAgICkKICAgICAgICAgICAgICAgIC5hZGRUbyhtYXBfZTU0OWJjZmFlNDVkNDNkM2E2MGZmMGRlOTVhZWNmZDkpOwogICAgICAgICAgICAKICAgIAoKICAgICAgICAgICAgICAgIHZhciBpY29uX2I5YTZkY2IzZjhkMjQyZDFhZjUwMTFjNjViNmRlZmEwID0gTC5Bd2Vzb21lTWFya2Vycy5pY29uKHsKICAgICAgICAgICAgICAgICAgICBpY29uOiAnaW5mby1zaWduJywKICAgICAgICAgICAgICAgICAgICBpY29uQ29sb3I6ICcjRkZGRjAwJywKICAgICAgICAgICAgICAgICAgICBtYXJrZXJDb2xvcjogJ3B1cnBsZScsCiAgICAgICAgICAgICAgICAgICAgcHJlZml4OiAnZ2x5cGhpY29uJywKICAgICAgICAgICAgICAgICAgICBleHRyYUNsYXNzZXM6ICdmYS1yb3RhdGUtMCcKICAgICAgICAgICAgICAgICAgICB9KTsKICAgICAgICAgICAgICAgIG1hcmtlcl9kODMzYzc5NDhhODk0ZWU4OGJlMDczZGE1NDk4NzllOC5zZXRJY29uKGljb25fYjlhNmRjYjNmOGQyNDJkMWFmNTAxMWM2NWI2ZGVmYTApOwogICAgICAgICAgICAKICAgIAogICAgICAgICAgICB2YXIgcG9wdXBfNmRmYjkwM2FjZjE4NDgwOGEzNjE5NTVhMzY2ODg5Y2YgPSBMLnBvcHVwKHttYXhXaWR0aDogJzMwMCd9KTsKCiAgICAgICAgICAgIAogICAgICAgICAgICAgICAgdmFyIGh0bWxfYzZhYmFmZjc4YzJiNDA3NGExYmE3NjZmNTIxMzI0NDIgPSAkKCc8ZGl2IGlkPSJodG1sX2M2YWJhZmY3OGMyYjQwNzRhMWJhNzY2ZjUyMTMyNDQyIiBzdHlsZT0id2lkdGg6IDEwMC4wJTsgaGVpZ2h0OiAxMDAuMCU7Ij5IaWxsY3Jlc3QgVmlsbGFnZTwvZGl2PicpWzBdOwogICAgICAgICAgICAgICAgcG9wdXBfNmRmYjkwM2FjZjE4NDgwOGEzNjE5NTVhMzY2ODg5Y2Yuc2V0Q29udGVudChodG1sX2M2YWJhZmY3OGMyYjQwNzRhMWJhNzY2ZjUyMTMyNDQyKTsKICAgICAgICAgICAgCgogICAgICAgICAgICBtYXJrZXJfZDgzM2M3OTQ4YTg5NGVlODhiZTA3M2RhNTQ5ODc5ZTguYmluZFBvcHVwKHBvcHVwXzZkZmI5MDNhY2YxODQ4MDhhMzYxOTU1YTM2Njg4OWNmKTsKCiAgICAgICAgICAgIAogICAgICAgIAogICAgCgogICAgICAgICAgICB2YXIgbWFya2VyXzcxOTE3YjI2N2MxNjQ3OWM4ZjVmMzJmNGUyYzk2YmZlID0gTC5tYXJrZXIoCiAgICAgICAgICAgICAgICBbNDMuNzU0MzI4MywtNzkuNDQyMjU5M10sCiAgICAgICAgICAgICAgICB7CiAgICAgICAgICAgICAgICAgICAgaWNvbjogbmV3IEwuSWNvbi5EZWZhdWx0KCkKICAgICAgICAgICAgICAgICAgICB9CiAgICAgICAgICAgICAgICApCiAgICAgICAgICAgICAgICAuYWRkVG8obWFwX2U1NDliY2ZhZTQ1ZDQzZDNhNjBmZjBkZTk1YWVjZmQ5KTsKICAgICAgICAgICAgCiAgICAKCiAgICAgICAgICAgICAgICB2YXIgaWNvbl81ZjBiNGEwZTU3N2E0NTE0OTFkODQ3OGM2MmMyZjUzYiA9IEwuQXdlc29tZU1hcmtlcnMuaWNvbih7CiAgICAgICAgICAgICAgICAgICAgaWNvbjogJ2luZm8tc2lnbicsCiAgICAgICAgICAgICAgICAgICAgaWNvbkNvbG9yOiAnI0ZGRkYwMCcsCiAgICAgICAgICAgICAgICAgICAgbWFya2VyQ29sb3I6ICdwdXJwbGUnLAogICAgICAgICAgICAgICAgICAgIHByZWZpeDogJ2dseXBoaWNvbicsCiAgICAgICAgICAgICAgICAgICAgZXh0cmFDbGFzc2VzOiAnZmEtcm90YXRlLTAnCiAgICAgICAgICAgICAgICAgICAgfSk7CiAgICAgICAgICAgICAgICBtYXJrZXJfNzE5MTdiMjY3YzE2NDc5YzhmNWYzMmY0ZTJjOTZiZmUuc2V0SWNvbihpY29uXzVmMGI0YTBlNTc3YTQ1MTQ5MWQ4NDc4YzYyYzJmNTNiKTsKICAgICAgICAgICAgCiAgICAKICAgICAgICAgICAgdmFyIHBvcHVwX2MzYTNjNDAxMTgyNDQyOWU5ZDU5NGE2MmNlNjJiYjc4ID0gTC5wb3B1cCh7bWF4V2lkdGg6ICczMDAnfSk7CgogICAgICAgICAgICAKICAgICAgICAgICAgICAgIHZhciBodG1sXzIxOGFlY2MwNGVjNDQwNmY4N2YxYWYxMWE1MThiNjAwID0gJCgnPGRpdiBpZD0iaHRtbF8yMThhZWNjMDRlYzQ0MDZmODdmMWFmMTFhNTE4YjYwMCIgc3R5bGU9IndpZHRoOiAxMDAuMCU7IGhlaWdodDogMTAwLjAlOyI+QmF0aHVyc3QgTWFub3IsIFdpbHNvbiBIZWlnaHRzLCBEb3duc3ZpZXcgTm9ydGg8L2Rpdj4nKVswXTsKICAgICAgICAgICAgICAgIHBvcHVwX2MzYTNjNDAxMTgyNDQyOWU5ZDU5NGE2MmNlNjJiYjc4LnNldENvbnRlbnQoaHRtbF8yMThhZWNjMDRlYzQ0MDZmODdmMWFmMTFhNTE4YjYwMCk7CiAgICAgICAgICAgIAoKICAgICAgICAgICAgbWFya2VyXzcxOTE3YjI2N2MxNjQ3OWM4ZjVmMzJmNGUyYzk2YmZlLmJpbmRQb3B1cChwb3B1cF9jM2EzYzQwMTE4MjQ0MjllOWQ1OTRhNjJjZTYyYmI3OCk7CgogICAgICAgICAgICAKICAgICAgICAKICAgIAoKICAgICAgICAgICAgdmFyIG1hcmtlcl84OThjOGUyZTU1NTE0NTA5ODg0ZjdkZTMzMDM0NDYxZSA9IEwubWFya2VyKAogICAgICAgICAgICAgICAgWzQzLjcwNTM2ODksLTc5LjM0OTM3MTkwMDAwMDAxXSwKICAgICAgICAgICAgICAgIHsKICAgICAgICAgICAgICAgICAgICBpY29uOiBuZXcgTC5JY29uLkRlZmF1bHQoKQogICAgICAgICAgICAgICAgICAgIH0KICAgICAgICAgICAgICAgICkKICAgICAgICAgICAgICAgIC5hZGRUbyhtYXBfZTU0OWJjZmFlNDVkNDNkM2E2MGZmMGRlOTVhZWNmZDkpOwogICAgICAgICAgICAKICAgIAoKICAgICAgICAgICAgICAgIHZhciBpY29uX2VlZDI1YWJkOWNiNzRkNTQ4ZmI5YzE5OGEyODhhODY3ID0gTC5Bd2Vzb21lTWFya2Vycy5pY29uKHsKICAgICAgICAgICAgICAgICAgICBpY29uOiAnaW5mby1zaWduJywKICAgICAgICAgICAgICAgICAgICBpY29uQ29sb3I6ICcjRkZGRjAwJywKICAgICAgICAgICAgICAgICAgICBtYXJrZXJDb2xvcjogJ2xpZ2h0cmVkJywKICAgICAgICAgICAgICAgICAgICBwcmVmaXg6ICdnbHlwaGljb24nLAogICAgICAgICAgICAgICAgICAgIGV4dHJhQ2xhc3NlczogJ2ZhLXJvdGF0ZS0wJwogICAgICAgICAgICAgICAgICAgIH0pOwogICAgICAgICAgICAgICAgbWFya2VyXzg5OGM4ZTJlNTU1MTQ1MDk4ODRmN2RlMzMwMzQ0NjFlLnNldEljb24oaWNvbl9lZWQyNWFiZDljYjc0ZDU0OGZiOWMxOThhMjg4YTg2Nyk7CiAgICAgICAgICAgIAogICAgCiAgICAgICAgICAgIHZhciBwb3B1cF82Yzg0MTQzNWNiODc0M2YyYTMxNjkyNjMwM2U1YWU3YyA9IEwucG9wdXAoe21heFdpZHRoOiAnMzAwJ30pOwoKICAgICAgICAgICAgCiAgICAgICAgICAgICAgICB2YXIgaHRtbF84ZDRiNDhkYTRlYTg0OTY3YWI4Yjc1MjFjY2RjOTA1NyA9ICQoJzxkaXYgaWQ9Imh0bWxfOGQ0YjQ4ZGE0ZWE4NDk2N2FiOGI3NTIxY2NkYzkwNTciIHN0eWxlPSJ3aWR0aDogMTAwLjAlOyBoZWlnaHQ6IDEwMC4wJTsiPkVhc3QgWW9yazwvZGl2PicpWzBdOwogICAgICAgICAgICAgICAgcG9wdXBfNmM4NDE0MzVjYjg3NDNmMmEzMTY5MjYzMDNlNWFlN2Muc2V0Q29udGVudChodG1sXzhkNGI0OGRhNGVhODQ5NjdhYjhiNzUyMWNjZGM5MDU3KTsKICAgICAgICAgICAgCgogICAgICAgICAgICBtYXJrZXJfODk4YzhlMmU1NTUxNDUwOTg4NGY3ZGUzMzAzNDQ2MWUuYmluZFBvcHVwKHBvcHVwXzZjODQxNDM1Y2I4NzQzZjJhMzE2OTI2MzAzZTVhZTdjKTsKCiAgICAgICAgICAgIAogICAgICAgIAogICAgCgogICAgICAgICAgICB2YXIgbWFya2VyXzJjZDA0NDA4MDIxMTQzMzZhMjUyNjJmYWUxNGM5ZjNmID0gTC5tYXJrZXIoCiAgICAgICAgICAgICAgICBbNDMuNjUwNTcxMjAwMDAwMDEsLTc5LjM4NDU2NzVdLAogICAgICAgICAgICAgICAgewogICAgICAgICAgICAgICAgICAgIGljb246IG5ldyBMLkljb24uRGVmYXVsdCgpCiAgICAgICAgICAgICAgICAgICAgfQogICAgICAgICAgICAgICAgKQogICAgICAgICAgICAgICAgLmFkZFRvKG1hcF9lNTQ5YmNmYWU0NWQ0M2QzYTYwZmYwZGU5NWFlY2ZkOSk7CiAgICAgICAgICAgIAogICAgCgogICAgICAgICAgICAgICAgdmFyIGljb25fMzZiOWFjN2FkNmI5NDFkM2FkMzhiZWE4MzU1NGQzOGUgPSBMLkF3ZXNvbWVNYXJrZXJzLmljb24oewogICAgICAgICAgICAgICAgICAgIGljb246ICdpbmZvLXNpZ24nLAogICAgICAgICAgICAgICAgICAgIGljb25Db2xvcjogJyNGRkZGMDAnLAogICAgICAgICAgICAgICAgICAgIG1hcmtlckNvbG9yOiAnbGlnaHRncmVlbicsCiAgICAgICAgICAgICAgICAgICAgcHJlZml4OiAnZ2x5cGhpY29uJywKICAgICAgICAgICAgICAgICAgICBleHRyYUNsYXNzZXM6ICdmYS1yb3RhdGUtMCcKICAgICAgICAgICAgICAgICAgICB9KTsKICAgICAgICAgICAgICAgIG1hcmtlcl8yY2QwNDQwODAyMTE0MzM2YTI1MjYyZmFlMTRjOWYzZi5zZXRJY29uKGljb25fMzZiOWFjN2FkNmI5NDFkM2FkMzhiZWE4MzU1NGQzOGUpOwogICAgICAgICAgICAKICAgIAogICAgICAgICAgICB2YXIgcG9wdXBfYjc0ZWUyOWVkZjRlNDAxYTgzODFiMDM1NGQyOGQ4NDAgPSBMLnBvcHVwKHttYXhXaWR0aDogJzMwMCd9KTsKCiAgICAgICAgICAgIAogICAgICAgICAgICAgICAgdmFyIGh0bWxfNGIyZWQ0ZTVhYjYwNDA1Mjk0YzQwMWU0NjI2ZTExYmIgPSAkKCc8ZGl2IGlkPSJodG1sXzRiMmVkNGU1YWI2MDQwNTI5NGM0MDFlNDYyNmUxMWJiIiBzdHlsZT0id2lkdGg6IDEwMC4wJTsgaGVpZ2h0OiAxMDAuMCU7Ij5Eb3dudG93biBUb3JvbnRvPC9kaXY+JylbMF07CiAgICAgICAgICAgICAgICBwb3B1cF9iNzRlZTI5ZWRmNGU0MDFhODM4MWIwMzU0ZDI4ZDg0MC5zZXRDb250ZW50KGh0bWxfNGIyZWQ0ZTVhYjYwNDA1Mjk0YzQwMWU0NjI2ZTExYmIpOwogICAgICAgICAgICAKCiAgICAgICAgICAgIG1hcmtlcl8yY2QwNDQwODAyMTE0MzM2YTI1MjYyZmFlMTRjOWYzZi5iaW5kUG9wdXAocG9wdXBfYjc0ZWUyOWVkZjRlNDAxYTgzODFiMDM1NGQyOGQ4NDApOwoKICAgICAgICAgICAgCiAgICAgICAgCiAgICAKCiAgICAgICAgICAgIHZhciBtYXJrZXJfYjUyOTUxZTliNTk5NDI1OTgzZjI5MTk4ZjI2OTk5MmUgPSBMLm1hcmtlcigKICAgICAgICAgICAgICAgIFs0My42NjkwMDUxMDAwMDAwMSwtNzkuNDQyMjU5M10sCiAgICAgICAgICAgICAgICB7CiAgICAgICAgICAgICAgICAgICAgaWNvbjogbmV3IEwuSWNvbi5EZWZhdWx0KCkKICAgICAgICAgICAgICAgICAgICB9CiAgICAgICAgICAgICAgICApCiAgICAgICAgICAgICAgICAuYWRkVG8obWFwX2U1NDliY2ZhZTQ1ZDQzZDNhNjBmZjBkZTk1YWVjZmQ5KTsKICAgICAgICAgICAgCiAgICAKCiAgICAgICAgICAgICAgICB2YXIgaWNvbl8zOWViOWU5NmY0ZTA0YmFmOTM3NDc3NGMyZWNiYWRjZSA9IEwuQXdlc29tZU1hcmtlcnMuaWNvbih7CiAgICAgICAgICAgICAgICAgICAgaWNvbjogJ2luZm8tc2lnbicsCiAgICAgICAgICAgICAgICAgICAgaWNvbkNvbG9yOiAnI0ZGRkYwMCcsCiAgICAgICAgICAgICAgICAgICAgbWFya2VyQ29sb3I6ICdyZWQnLAogICAgICAgICAgICAgICAgICAgIHByZWZpeDogJ2dseXBoaWNvbicsCiAgICAgICAgICAgICAgICAgICAgZXh0cmFDbGFzc2VzOiAnZmEtcm90YXRlLTAnCiAgICAgICAgICAgICAgICAgICAgfSk7CiAgICAgICAgICAgICAgICBtYXJrZXJfYjUyOTUxZTliNTk5NDI1OTgzZjI5MTk4ZjI2OTk5MmUuc2V0SWNvbihpY29uXzM5ZWI5ZTk2ZjRlMDRiYWY5Mzc0Nzc0YzJlY2JhZGNlKTsKICAgICAgICAgICAgCiAgICAKICAgICAgICAgICAgdmFyIHBvcHVwXzI0MzQ4MjA1ODQ1ZDQ4NTZiMzlkODQ0YTQ0NDVhMmJiID0gTC5wb3B1cCh7bWF4V2lkdGg6ICczMDAnfSk7CgogICAgICAgICAgICAKICAgICAgICAgICAgICAgIHZhciBodG1sXzkyZGU0YTc0ZjljNjRkOWY5ODllNjRlZjEzN2E2YzJmID0gJCgnPGRpdiBpZD0iaHRtbF85MmRlNGE3NGY5YzY0ZDlmOTg5ZTY0ZWYxMzdhNmMyZiIgc3R5bGU9IndpZHRoOiAxMDAuMCU7IGhlaWdodDogMTAwLjAlOyI+V2VzdCBUb3JvbnRvPC9kaXY+JylbMF07CiAgICAgICAgICAgICAgICBwb3B1cF8yNDM0ODIwNTg0NWQ0ODU2YjM5ZDg0NGE0NDQ1YTJiYi5zZXRDb250ZW50KGh0bWxfOTJkZTRhNzRmOWM2NGQ5Zjk4OWU2NGVmMTM3YTZjMmYpOwogICAgICAgICAgICAKCiAgICAgICAgICAgIG1hcmtlcl9iNTI5NTFlOWI1OTk0MjU5ODNmMjkxOThmMjY5OTkyZS5iaW5kUG9wdXAocG9wdXBfMjQzNDgyMDU4NDVkNDg1NmIzOWQ4NDRhNDQ0NWEyYmIpOwoKICAgICAgICAgICAgCiAgICAgICAgCiAgICAKCiAgICAgICAgICAgIHZhciBtYXJrZXJfODAxOWYzZDUzYmI3NGUzNGFkOTIwMWJmMzlkZGMwNzQgPSBMLm1hcmtlcigKICAgICAgICAgICAgICAgIFs0My43NDQ3MzQyLC03OS4yMzk0NzYwOTk5OTk5OV0sCiAgICAgICAgICAgICAgICB7CiAgICAgICAgICAgICAgICAgICAgaWNvbjogbmV3IEwuSWNvbi5EZWZhdWx0KCkKICAgICAgICAgICAgICAgICAgICB9CiAgICAgICAgICAgICAgICApCiAgICAgICAgICAgICAgICAuYWRkVG8obWFwX2U1NDliY2ZhZTQ1ZDQzZDNhNjBmZjBkZTk1YWVjZmQ5KTsKICAgICAgICAgICAgCiAgICAKCiAgICAgICAgICAgICAgICB2YXIgaWNvbl82ZTEzNGM5MjUyYjI0MTNhYTEyNThlZGMwZjA1OWZjMiA9IEwuQXdlc29tZU1hcmtlcnMuaWNvbih7CiAgICAgICAgICAgICAgICAgICAgaWNvbjogJ2luZm8tc2lnbicsCiAgICAgICAgICAgICAgICAgICAgaWNvbkNvbG9yOiAnI0ZGRkYwMCcsCiAgICAgICAgICAgICAgICAgICAgbWFya2VyQ29sb3I6ICdsaWdodHJlZCcsCiAgICAgICAgICAgICAgICAgICAgcHJlZml4OiAnZ2x5cGhpY29uJywKICAgICAgICAgICAgICAgICAgICBleHRyYUNsYXNzZXM6ICdmYS1yb3RhdGUtMCcKICAgICAgICAgICAgICAgICAgICB9KTsKICAgICAgICAgICAgICAgIG1hcmtlcl84MDE5ZjNkNTNiYjc0ZTM0YWQ5MjAxYmYzOWRkYzA3NC5zZXRJY29uKGljb25fNmUxMzRjOTI1MmIyNDEzYWExMjU4ZWRjMGYwNTlmYzIpOwogICAgICAgICAgICAKICAgIAogICAgICAgICAgICB2YXIgcG9wdXBfODM5ZGMyYTM4MmRkNGYyMWIzYmMyNzA5MWY5M2UwMDUgPSBMLnBvcHVwKHttYXhXaWR0aDogJzMwMCd9KTsKCiAgICAgICAgICAgIAogICAgICAgICAgICAgICAgdmFyIGh0bWxfMjcyZDFjY2IxMmJhNGVlZmE1NjllY2NkYTRjNWYwMGYgPSAkKCc8ZGl2IGlkPSJodG1sXzI3MmQxY2NiMTJiYTRlZWZhNTY5ZWNjZGE0YzVmMDBmIiBzdHlsZT0id2lkdGg6IDEwMC4wJTsgaGVpZ2h0OiAxMDAuMCU7Ij5TY2FyYm9yb3VnaDwvZGl2PicpWzBdOwogICAgICAgICAgICAgICAgcG9wdXBfODM5ZGMyYTM4MmRkNGYyMWIzYmMyNzA5MWY5M2UwMDUuc2V0Q29udGVudChodG1sXzI3MmQxY2NiMTJiYTRlZWZhNTY5ZWNjZGE0YzVmMDBmKTsKICAgICAgICAgICAgCgogICAgICAgICAgICBtYXJrZXJfODAxOWYzZDUzYmI3NGUzNGFkOTIwMWJmMzlkZGMwNzQuYmluZFBvcHVwKHBvcHVwXzgzOWRjMmEzODJkZDRmMjFiM2JjMjcwOTFmOTNlMDA1KTsKCiAgICAgICAgICAgIAogICAgICAgIAogICAgCgogICAgICAgICAgICB2YXIgbWFya2VyXzZjMDM5YTJiODVlMDRkNTc4MTJhMzc2ZTUzYzEyNTFjID0gTC5tYXJrZXIoCiAgICAgICAgICAgICAgICBbNDMuNzc4NTE3NSwtNzkuMzQ2NTU1N10sCiAgICAgICAgICAgICAgICB7CiAgICAgICAgICAgICAgICAgICAgaWNvbjogbmV3IEwuSWNvbi5EZWZhdWx0KCkKICAgICAgICAgICAgICAgICAgICB9CiAgICAgICAgICAgICAgICApCiAgICAgICAgICAgICAgICAuYWRkVG8obWFwX2U1NDliY2ZhZTQ1ZDQzZDNhNjBmZjBkZTk1YWVjZmQ5KTsKICAgICAgICAgICAgCiAgICAKCiAgICAgICAgICAgICAgICB2YXIgaWNvbl8xODVmNTg1OTdjZDI0MGZjOGU0ZjQ2Mzk1ZWVlZmJhZCA9IEwuQXdlc29tZU1hcmtlcnMuaWNvbih7CiAgICAgICAgICAgICAgICAgICAgaWNvbjogJ2luZm8tc2lnbicsCiAgICAgICAgICAgICAgICAgICAgaWNvbkNvbG9yOiAnI0ZGRkYwMCcsCiAgICAgICAgICAgICAgICAgICAgbWFya2VyQ29sb3I6ICdwdXJwbGUnLAogICAgICAgICAgICAgICAgICAgIHByZWZpeDogJ2dseXBoaWNvbicsCiAgICAgICAgICAgICAgICAgICAgZXh0cmFDbGFzc2VzOiAnZmEtcm90YXRlLTAnCiAgICAgICAgICAgICAgICAgICAgfSk7CiAgICAgICAgICAgICAgICBtYXJrZXJfNmMwMzlhMmI4NWUwNGQ1NzgxMmEzNzZlNTNjMTI1MWMuc2V0SWNvbihpY29uXzE4NWY1ODU5N2NkMjQwZmM4ZTRmNDYzOTVlZWVmYmFkKTsKICAgICAgICAgICAgCiAgICAKICAgICAgICAgICAgdmFyIHBvcHVwXzU2OTQxZTAzMzUyMjRjZWU4MTdhMTFmMzZhODVlODFjID0gTC5wb3B1cCh7bWF4V2lkdGg6ICczMDAnfSk7CgogICAgICAgICAgICAKICAgICAgICAgICAgICAgIHZhciBodG1sXzAwYWUzZTk4ZGVmYjRiMzRhZmEyMTI3MjM4MTg4MWNhID0gJCgnPGRpdiBpZD0iaHRtbF8wMGFlM2U5OGRlZmI0YjM0YWZhMjEyNzIzODE4ODFjYSIgc3R5bGU9IndpZHRoOiAxMDAuMCU7IGhlaWdodDogMTAwLjAlOyI+RmFpcnZpZXcsIEhlbnJ5IEZhcm0sIE9yaW9sZTwvZGl2PicpWzBdOwogICAgICAgICAgICAgICAgcG9wdXBfNTY5NDFlMDMzNTIyNGNlZTgxN2ExMWYzNmE4NWU4MWMuc2V0Q29udGVudChodG1sXzAwYWUzZTk4ZGVmYjRiMzRhZmEyMTI3MjM4MTg4MWNhKTsKICAgICAgICAgICAgCgogICAgICAgICAgICBtYXJrZXJfNmMwMzlhMmI4NWUwNGQ1NzgxMmEzNzZlNTNjMTI1MWMuYmluZFBvcHVwKHBvcHVwXzU2OTQxZTAzMzUyMjRjZWU4MTdhMTFmMzZhODVlODFjKTsKCiAgICAgICAgICAgIAogICAgICAgIAogICAgCgogICAgICAgICAgICB2YXIgbWFya2VyX2QxMWUwODI5YTQ5NjRlZjk5ZmU5Mzg3ZDU5MGZhMjUxID0gTC5tYXJrZXIoCiAgICAgICAgICAgICAgICBbNDMuNzY3OTgwMywtNzkuNDg3MjYxOTAwMDAwMDFdLAogICAgICAgICAgICAgICAgewogICAgICAgICAgICAgICAgICAgIGljb246IG5ldyBMLkljb24uRGVmYXVsdCgpCiAgICAgICAgICAgICAgICAgICAgfQogICAgICAgICAgICAgICAgKQogICAgICAgICAgICAgICAgLmFkZFRvKG1hcF9lNTQ5YmNmYWU0NWQ0M2QzYTYwZmYwZGU5NWFlY2ZkOSk7CiAgICAgICAgICAgIAogICAgCgogICAgICAgICAgICAgICAgdmFyIGljb25fYzA1MDI5OGJmOTgwNGVjMzkxYmE3MjQ5YTViNzVkZDUgPSBMLkF3ZXNvbWVNYXJrZXJzLmljb24oewogICAgICAgICAgICAgICAgICAgIGljb246ICdpbmZvLXNpZ24nLAogICAgICAgICAgICAgICAgICAgIGljb25Db2xvcjogJyNGRkZGMDAnLAogICAgICAgICAgICAgICAgICAgIG1hcmtlckNvbG9yOiAncHVycGxlJywKICAgICAgICAgICAgICAgICAgICBwcmVmaXg6ICdnbHlwaGljb24nLAogICAgICAgICAgICAgICAgICAgIGV4dHJhQ2xhc3NlczogJ2ZhLXJvdGF0ZS0wJwogICAgICAgICAgICAgICAgICAgIH0pOwogICAgICAgICAgICAgICAgbWFya2VyX2QxMWUwODI5YTQ5NjRlZjk5ZmU5Mzg3ZDU5MGZhMjUxLnNldEljb24oaWNvbl9jMDUwMjk4YmY5ODA0ZWMzOTFiYTcyNDlhNWI3NWRkNSk7CiAgICAgICAgICAgIAogICAgCiAgICAgICAgICAgIHZhciBwb3B1cF82YjdiNjc5MDk4N2I0MGIxYmNlMzdlNWYyOTZhNmE2MSA9IEwucG9wdXAoe21heFdpZHRoOiAnMzAwJ30pOwoKICAgICAgICAgICAgCiAgICAgICAgICAgICAgICB2YXIgaHRtbF9lM2I4OGZkYmFmM2M0YTUyOGFjZmQzZmVhZGVkMGQ1YyA9ICQoJzxkaXYgaWQ9Imh0bWxfZTNiODhmZGJhZjNjNGE1MjhhY2ZkM2ZlYWRlZDBkNWMiIHN0eWxlPSJ3aWR0aDogMTAwLjAlOyBoZWlnaHQ6IDEwMC4wJTsiPk5vcnRod29vZCBQYXJrLCBZb3JrIFVuaXZlcnNpdHk8L2Rpdj4nKVswXTsKICAgICAgICAgICAgICAgIHBvcHVwXzZiN2I2NzkwOTg3YjQwYjFiY2UzN2U1ZjI5NmE2YTYxLnNldENvbnRlbnQoaHRtbF9lM2I4OGZkYmFmM2M0YTUyOGFjZmQzZmVhZGVkMGQ1Yyk7CiAgICAgICAgICAgIAoKICAgICAgICAgICAgbWFya2VyX2QxMWUwODI5YTQ5NjRlZjk5ZmU5Mzg3ZDU5MGZhMjUxLmJpbmRQb3B1cChwb3B1cF82YjdiNjc5MDk4N2I0MGIxYmNlMzdlNWYyOTZhNmE2MSk7CgogICAgICAgICAgICAKICAgICAgICAKICAgIAoKICAgICAgICAgICAgdmFyIG1hcmtlcl82MjBmZDE3ZGU4ZWI0MjEzYTg4ZDVjOWZhMjJiZWFmNSA9IEwubWFya2VyKAogICAgICAgICAgICAgICAgWzQzLjY4NTM0NywtNzkuMzM4MTA2NV0sCiAgICAgICAgICAgICAgICB7CiAgICAgICAgICAgICAgICAgICAgaWNvbjogbmV3IEwuSWNvbi5EZWZhdWx0KCkKICAgICAgICAgICAgICAgICAgICB9CiAgICAgICAgICAgICAgICApCiAgICAgICAgICAgICAgICAuYWRkVG8obWFwX2U1NDliY2ZhZTQ1ZDQzZDNhNjBmZjBkZTk1YWVjZmQ5KTsKICAgICAgICAgICAgCiAgICAKCiAgICAgICAgICAgICAgICB2YXIgaWNvbl9kNzQxYWY3MzExZDY0ZDAyOTUzY2VhNzkyMGMxYzUxZSA9IEwuQXdlc29tZU1hcmtlcnMuaWNvbih7CiAgICAgICAgICAgICAgICAgICAgaWNvbjogJ2luZm8tc2lnbicsCiAgICAgICAgICAgICAgICAgICAgaWNvbkNvbG9yOiAnI0ZGRkYwMCcsCiAgICAgICAgICAgICAgICAgICAgbWFya2VyQ29sb3I6ICdsaWdodHJlZCcsCiAgICAgICAgICAgICAgICAgICAgcHJlZml4OiAnZ2x5cGhpY29uJywKICAgICAgICAgICAgICAgICAgICBleHRyYUNsYXNzZXM6ICdmYS1yb3RhdGUtMCcKICAgICAgICAgICAgICAgICAgICB9KTsKICAgICAgICAgICAgICAgIG1hcmtlcl82MjBmZDE3ZGU4ZWI0MjEzYTg4ZDVjOWZhMjJiZWFmNS5zZXRJY29uKGljb25fZDc0MWFmNzMxMWQ2NGQwMjk1M2NlYTc5MjBjMWM1MWUpOwogICAgICAgICAgICAKICAgIAogICAgICAgICAgICB2YXIgcG9wdXBfM2JmOGIwMzQzNWI5NDIyNzkyNTRhZTJiN2IwZDQwODIgPSBMLnBvcHVwKHttYXhXaWR0aDogJzMwMCd9KTsKCiAgICAgICAgICAgIAogICAgICAgICAgICAgICAgdmFyIGh0bWxfMjQ2ZDFkMWEyYjIyNGVkMjhlYWMyOTAwMTI0OTI4MjUgPSAkKCc8ZGl2IGlkPSJodG1sXzI0NmQxZDFhMmIyMjRlZDI4ZWFjMjkwMDEyNDkyODI1IiBzdHlsZT0id2lkdGg6IDEwMC4wJTsgaGVpZ2h0OiAxMDAuMCU7Ij5FYXN0IFlvcms8L2Rpdj4nKVswXTsKICAgICAgICAgICAgICAgIHBvcHVwXzNiZjhiMDM0MzViOTQyMjc5MjU0YWUyYjdiMGQ0MDgyLnNldENvbnRlbnQoaHRtbF8yNDZkMWQxYTJiMjI0ZWQyOGVhYzI5MDAxMjQ5MjgyNSk7CiAgICAgICAgICAgIAoKICAgICAgICAgICAgbWFya2VyXzYyMGZkMTdkZThlYjQyMTNhODhkNWM5ZmEyMmJlYWY1LmJpbmRQb3B1cChwb3B1cF8zYmY4YjAzNDM1Yjk0MjI3OTI1NGFlMmI3YjBkNDA4Mik7CgogICAgICAgICAgICAKICAgICAgICAKICAgIAoKICAgICAgICAgICAgdmFyIG1hcmtlcl8yY2UzMzdmYTEwZDQ0YWQzYjYzYjQ1OGY5ZmEzNDQyYiA9IEwubWFya2VyKAogICAgICAgICAgICAgICAgWzQzLjY0MDgxNTcsLTc5LjM4MTc1MjI5OTk5OTk5XSwKICAgICAgICAgICAgICAgIHsKICAgICAgICAgICAgICAgICAgICBpY29uOiBuZXcgTC5JY29uLkRlZmF1bHQoKQogICAgICAgICAgICAgICAgICAgIH0KICAgICAgICAgICAgICAgICkKICAgICAgICAgICAgICAgIC5hZGRUbyhtYXBfZTU0OWJjZmFlNDVkNDNkM2E2MGZmMGRlOTVhZWNmZDkpOwogICAgICAgICAgICAKICAgIAoKICAgICAgICAgICAgICAgIHZhciBpY29uXzc2MmYyMzA4OGQ3ZjQ1ZGI4YzMyZWY1MTkzYzQ2ZDFmID0gTC5Bd2Vzb21lTWFya2Vycy5pY29uKHsKICAgICAgICAgICAgICAgICAgICBpY29uOiAnaW5mby1zaWduJywKICAgICAgICAgICAgICAgICAgICBpY29uQ29sb3I6ICcjRkZGRjAwJywKICAgICAgICAgICAgICAgICAgICBtYXJrZXJDb2xvcjogJ2xpZ2h0Z3JlZW4nLAogICAgICAgICAgICAgICAgICAgIHByZWZpeDogJ2dseXBoaWNvbicsCiAgICAgICAgICAgICAgICAgICAgZXh0cmFDbGFzc2VzOiAnZmEtcm90YXRlLTAnCiAgICAgICAgICAgICAgICAgICAgfSk7CiAgICAgICAgICAgICAgICBtYXJrZXJfMmNlMzM3ZmExMGQ0NGFkM2I2M2I0NThmOWZhMzQ0MmIuc2V0SWNvbihpY29uXzc2MmYyMzA4OGQ3ZjQ1ZGI4YzMyZWY1MTkzYzQ2ZDFmKTsKICAgICAgICAgICAgCiAgICAKICAgICAgICAgICAgdmFyIHBvcHVwXzM1ZWZhOGI1N2E0OTRhMDc5ZDc5OWQ0ZGQzYTQ0ODg1ID0gTC5wb3B1cCh7bWF4V2lkdGg6ICczMDAnfSk7CgogICAgICAgICAgICAKICAgICAgICAgICAgICAgIHZhciBodG1sX2VlYTYxM2IzOTc1MzRiYWJhOWJmOWMzZTlhN2ExY2VhID0gJCgnPGRpdiBpZD0iaHRtbF9lZWE2MTNiMzk3NTM0YmFiYTliZjljM2U5YTdhMWNlYSIgc3R5bGU9IndpZHRoOiAxMDAuMCU7IGhlaWdodDogMTAwLjAlOyI+RG93bnRvd24gVG9yb250bzwvZGl2PicpWzBdOwogICAgICAgICAgICAgICAgcG9wdXBfMzVlZmE4YjU3YTQ5NGEwNzlkNzk5ZDRkZDNhNDQ4ODUuc2V0Q29udGVudChodG1sX2VlYTYxM2IzOTc1MzRiYWJhOWJmOWMzZTlhN2ExY2VhKTsKICAgICAgICAgICAgCgogICAgICAgICAgICBtYXJrZXJfMmNlMzM3ZmExMGQ0NGFkM2I2M2I0NThmOWZhMzQ0MmIuYmluZFBvcHVwKHBvcHVwXzM1ZWZhOGI1N2E0OTRhMDc5ZDc5OWQ0ZGQzYTQ0ODg1KTsKCiAgICAgICAgICAgIAogICAgICAgIAogICAgCgogICAgICAgICAgICB2YXIgbWFya2VyXzdiYmFhNDNlNTZiMzQ1YmY4ZGUwMTFkYjdlODVkMGM4ID0gTC5tYXJrZXIoCiAgICAgICAgICAgICAgICBbNDMuNjQ3OTI2NzAwMDAwMDA2LC03OS40MTk3NDk3XSwKICAgICAgICAgICAgICAgIHsKICAgICAgICAgICAgICAgICAgICBpY29uOiBuZXcgTC5JY29uLkRlZmF1bHQoKQogICAgICAgICAgICAgICAgICAgIH0KICAgICAgICAgICAgICAgICkKICAgICAgICAgICAgICAgIC5hZGRUbyhtYXBfZTU0OWJjZmFlNDVkNDNkM2E2MGZmMGRlOTVhZWNmZDkpOwogICAgICAgICAgICAKICAgIAoKICAgICAgICAgICAgICAgIHZhciBpY29uX2FiZDEyZTRmNmQ3ZTQyMWQ4MDY1OTJiMDRiMTdiZjRmID0gTC5Bd2Vzb21lTWFya2Vycy5pY29uKHsKICAgICAgICAgICAgICAgICAgICBpY29uOiAnaW5mby1zaWduJywKICAgICAgICAgICAgICAgICAgICBpY29uQ29sb3I6ICcjRkZGRjAwJywKICAgICAgICAgICAgICAgICAgICBtYXJrZXJDb2xvcjogJ3JlZCcsCiAgICAgICAgICAgICAgICAgICAgcHJlZml4OiAnZ2x5cGhpY29uJywKICAgICAgICAgICAgICAgICAgICBleHRyYUNsYXNzZXM6ICdmYS1yb3RhdGUtMCcKICAgICAgICAgICAgICAgICAgICB9KTsKICAgICAgICAgICAgICAgIG1hcmtlcl83YmJhYTQzZTU2YjM0NWJmOGRlMDExZGI3ZTg1ZDBjOC5zZXRJY29uKGljb25fYWJkMTJlNGY2ZDdlNDIxZDgwNjU5MmIwNGIxN2JmNGYpOwogICAgICAgICAgICAKICAgIAogICAgICAgICAgICB2YXIgcG9wdXBfOWUzZjg0NTljMTllNDJlZTg5M2VmMDk3NjMyYmFiMWIgPSBMLnBvcHVwKHttYXhXaWR0aDogJzMwMCd9KTsKCiAgICAgICAgICAgIAogICAgICAgICAgICAgICAgdmFyIGh0bWxfZTY5ODhiYzQzNWIzNGIxYzgyZTJkOGNjMTYwYmIwM2UgPSAkKCc8ZGl2IGlkPSJodG1sX2U2OTg4YmM0MzViMzRiMWM4MmUyZDhjYzE2MGJiMDNlIiBzdHlsZT0id2lkdGg6IDEwMC4wJTsgaGVpZ2h0OiAxMDAuMCU7Ij5XZXN0IFRvcm9udG88L2Rpdj4nKVswXTsKICAgICAgICAgICAgICAgIHBvcHVwXzllM2Y4NDU5YzE5ZTQyZWU4OTNlZjA5NzYzMmJhYjFiLnNldENvbnRlbnQoaHRtbF9lNjk4OGJjNDM1YjM0YjFjODJlMmQ4Y2MxNjBiYjAzZSk7CiAgICAgICAgICAgIAoKICAgICAgICAgICAgbWFya2VyXzdiYmFhNDNlNTZiMzQ1YmY4ZGUwMTFkYjdlODVkMGM4LmJpbmRQb3B1cChwb3B1cF85ZTNmODQ1OWMxOWU0MmVlODkzZWYwOTc2MzJiYWIxYik7CgogICAgICAgICAgICAKICAgICAgICAKICAgIAoKICAgICAgICAgICAgdmFyIG1hcmtlcl9mMDYwNGZiNzdhMzc0OTI1OGE2YTBkNDY3MzZlYWFjYyA9IEwubWFya2VyKAogICAgICAgICAgICAgICAgWzQzLjcyNzkyOTIsLTc5LjI2MjAyOTQwMDAwMDAyXSwKICAgICAgICAgICAgICAgIHsKICAgICAgICAgICAgICAgICAgICBpY29uOiBuZXcgTC5JY29uLkRlZmF1bHQoKQogICAgICAgICAgICAgICAgICAgIH0KICAgICAgICAgICAgICAgICkKICAgICAgICAgICAgICAgIC5hZGRUbyhtYXBfZTU0OWJjZmFlNDVkNDNkM2E2MGZmMGRlOTVhZWNmZDkpOwogICAgICAgICAgICAKICAgIAoKICAgICAgICAgICAgICAgIHZhciBpY29uXzFmZGQwNGNmMjY1NDQ4MDA5Mzg3NWFiOGIzMjIwZGJjID0gTC5Bd2Vzb21lTWFya2Vycy5pY29uKHsKICAgICAgICAgICAgICAgICAgICBpY29uOiAnaW5mby1zaWduJywKICAgICAgICAgICAgICAgICAgICBpY29uQ29sb3I6ICcjRkZGRjAwJywKICAgICAgICAgICAgICAgICAgICBtYXJrZXJDb2xvcjogJ2xpZ2h0cmVkJywKICAgICAgICAgICAgICAgICAgICBwcmVmaXg6ICdnbHlwaGljb24nLAogICAgICAgICAgICAgICAgICAgIGV4dHJhQ2xhc3NlczogJ2ZhLXJvdGF0ZS0wJwogICAgICAgICAgICAgICAgICAgIH0pOwogICAgICAgICAgICAgICAgbWFya2VyX2YwNjA0ZmI3N2EzNzQ5MjU4YTZhMGQ0NjczNmVhYWNjLnNldEljb24oaWNvbl8xZmRkMDRjZjI2NTQ0ODAwOTM4NzVhYjhiMzIyMGRiYyk7CiAgICAgICAgICAgIAogICAgCiAgICAgICAgICAgIHZhciBwb3B1cF84OWZlY2QwNDhiMDc0NGIxOGZhMDRmMzU2Y2VhNzI0ZCA9IEwucG9wdXAoe21heFdpZHRoOiAnMzAwJ30pOwoKICAgICAgICAgICAgCiAgICAgICAgICAgICAgICB2YXIgaHRtbF84OTg4Zjg5MzlkMmE0YjcyOTRkZDYzY2ZhMWEwYjM4YiA9ICQoJzxkaXYgaWQ9Imh0bWxfODk4OGY4OTM5ZDJhNGI3Mjk0ZGQ2M2NmYTFhMGIzOGIiIHN0eWxlPSJ3aWR0aDogMTAwLjAlOyBoZWlnaHQ6IDEwMC4wJTsiPlNjYXJib3JvdWdoPC9kaXY+JylbMF07CiAgICAgICAgICAgICAgICBwb3B1cF84OWZlY2QwNDhiMDc0NGIxOGZhMDRmMzU2Y2VhNzI0ZC5zZXRDb250ZW50KGh0bWxfODk4OGY4OTM5ZDJhNGI3Mjk0ZGQ2M2NmYTFhMGIzOGIpOwogICAgICAgICAgICAKCiAgICAgICAgICAgIG1hcmtlcl9mMDYwNGZiNzdhMzc0OTI1OGE2YTBkNDY3MzZlYWFjYy5iaW5kUG9wdXAocG9wdXBfODlmZWNkMDQ4YjA3NDRiMThmYTA0ZjM1NmNlYTcyNGQpOwoKICAgICAgICAgICAgCiAgICAgICAgCiAgICAKCiAgICAgICAgICAgIHZhciBtYXJrZXJfOGIwZDM3Y2I4ZGU4NGM0MmI2NGNkNDBhZjMzZTQwZmIgPSBMLm1hcmtlcigKICAgICAgICAgICAgICAgIFs0My43ODY5NDczLC03OS4zODU5NzVdLAogICAgICAgICAgICAgICAgewogICAgICAgICAgICAgICAgICAgIGljb246IG5ldyBMLkljb24uRGVmYXVsdCgpCiAgICAgICAgICAgICAgICAgICAgfQogICAgICAgICAgICAgICAgKQogICAgICAgICAgICAgICAgLmFkZFRvKG1hcF9lNTQ5YmNmYWU0NWQ0M2QzYTYwZmYwZGU5NWFlY2ZkOSk7CiAgICAgICAgICAgIAogICAgCgogICAgICAgICAgICAgICAgdmFyIGljb25fMWRiYzU4ZThjMGNhNDk1MThhN2UwOGE4OTUzODEzOWUgPSBMLkF3ZXNvbWVNYXJrZXJzLmljb24oewogICAgICAgICAgICAgICAgICAgIGljb246ICdpbmZvLXNpZ24nLAogICAgICAgICAgICAgICAgICAgIGljb25Db2xvcjogJyNGRkZGMDAnLAogICAgICAgICAgICAgICAgICAgIG1hcmtlckNvbG9yOiAncHVycGxlJywKICAgICAgICAgICAgICAgICAgICBwcmVmaXg6ICdnbHlwaGljb24nLAogICAgICAgICAgICAgICAgICAgIGV4dHJhQ2xhc3NlczogJ2ZhLXJvdGF0ZS0wJwogICAgICAgICAgICAgICAgICAgIH0pOwogICAgICAgICAgICAgICAgbWFya2VyXzhiMGQzN2NiOGRlODRjNDJiNjRjZDQwYWYzM2U0MGZiLnNldEljb24oaWNvbl8xZGJjNThlOGMwY2E0OTUxOGE3ZTA4YTg5NTM4MTM5ZSk7CiAgICAgICAgICAgIAogICAgCiAgICAgICAgICAgIHZhciBwb3B1cF9hNjcxNTM0YjhhNDI0OTY1YmU3MzE1MDUxMTliYmRjYiA9IEwucG9wdXAoe21heFdpZHRoOiAnMzAwJ30pOwoKICAgICAgICAgICAgCiAgICAgICAgICAgICAgICB2YXIgaHRtbF9jMmMzZTk0NTdmMjc0ZGY1YjQ4NzU3NmUwM2QzZmYyNCA9ICQoJzxkaXYgaWQ9Imh0bWxfYzJjM2U5NDU3ZjI3NGRmNWI0ODc1NzZlMDNkM2ZmMjQiIHN0eWxlPSJ3aWR0aDogMTAwLjAlOyBoZWlnaHQ6IDEwMC4wJTsiPkJheXZpZXcgVmlsbGFnZTwvZGl2PicpWzBdOwogICAgICAgICAgICAgICAgcG9wdXBfYTY3MTUzNGI4YTQyNDk2NWJlNzMxNTA1MTE5YmJkY2Iuc2V0Q29udGVudChodG1sX2MyYzNlOTQ1N2YyNzRkZjViNDg3NTc2ZTAzZDNmZjI0KTsKICAgICAgICAgICAgCgogICAgICAgICAgICBtYXJrZXJfOGIwZDM3Y2I4ZGU4NGM0MmI2NGNkNDBhZjMzZTQwZmIuYmluZFBvcHVwKHBvcHVwX2E2NzE1MzRiOGE0MjQ5NjViZTczMTUwNTExOWJiZGNiKTsKCiAgICAgICAgICAgIAogICAgICAgIAogICAgCgogICAgICAgICAgICB2YXIgbWFya2VyXzg4YTAzYmI0ZDUzMzQ1N2VhMWVkYjgzMWY4OWZjOTA2ID0gTC5tYXJrZXIoCiAgICAgICAgICAgICAgICBbNDMuNzM3NDczMjAwMDAwMDA0LC03OS40NjQ3NjMyOTk5OTk5OV0sCiAgICAgICAgICAgICAgICB7CiAgICAgICAgICAgICAgICAgICAgaWNvbjogbmV3IEwuSWNvbi5EZWZhdWx0KCkKICAgICAgICAgICAgICAgICAgICB9CiAgICAgICAgICAgICAgICApCiAgICAgICAgICAgICAgICAuYWRkVG8obWFwX2U1NDliY2ZhZTQ1ZDQzZDNhNjBmZjBkZTk1YWVjZmQ5KTsKICAgICAgICAgICAgCiAgICAKCiAgICAgICAgICAgICAgICB2YXIgaWNvbl9lYzk3ZThjYTA3Y2Q0MmM4ODBmODFkZDdhYWYxNjhkYSA9IEwuQXdlc29tZU1hcmtlcnMuaWNvbih7CiAgICAgICAgICAgICAgICAgICAgaWNvbjogJ2luZm8tc2lnbicsCiAgICAgICAgICAgICAgICAgICAgaWNvbkNvbG9yOiAnI0ZGRkYwMCcsCiAgICAgICAgICAgICAgICAgICAgbWFya2VyQ29sb3I6ICdwdXJwbGUnLAogICAgICAgICAgICAgICAgICAgIHByZWZpeDogJ2dseXBoaWNvbicsCiAgICAgICAgICAgICAgICAgICAgZXh0cmFDbGFzc2VzOiAnZmEtcm90YXRlLTAnCiAgICAgICAgICAgICAgICAgICAgfSk7CiAgICAgICAgICAgICAgICBtYXJrZXJfODhhMDNiYjRkNTMzNDU3ZWExZWRiODMxZjg5ZmM5MDYuc2V0SWNvbihpY29uX2VjOTdlOGNhMDdjZDQyYzg4MGY4MWRkN2FhZjE2OGRhKTsKICAgICAgICAgICAgCiAgICAKICAgICAgICAgICAgdmFyIHBvcHVwX2JmZDZiOThlZmEwNTQwOGM4MzlhMmRiNWM1NzhlMDBjID0gTC5wb3B1cCh7bWF4V2lkdGg6ICczMDAnfSk7CgogICAgICAgICAgICAKICAgICAgICAgICAgICAgIHZhciBodG1sX2JjMzk2NTE3NzFiYzQ3YTViMWZlMTU3MWY1OTc3MWNmID0gJCgnPGRpdiBpZD0iaHRtbF9iYzM5NjUxNzcxYmM0N2E1YjFmZTE1NzFmNTk3NzFjZiIgc3R5bGU9IndpZHRoOiAxMDAuMCU7IGhlaWdodDogMTAwLjAlOyI+RG93bnN2aWV3PC9kaXY+JylbMF07CiAgICAgICAgICAgICAgICBwb3B1cF9iZmQ2Yjk4ZWZhMDU0MDhjODM5YTJkYjVjNTc4ZTAwYy5zZXRDb250ZW50KGh0bWxfYmMzOTY1MTc3MWJjNDdhNWIxZmUxNTcxZjU5NzcxY2YpOwogICAgICAgICAgICAKCiAgICAgICAgICAgIG1hcmtlcl84OGEwM2JiNGQ1MzM0NTdlYTFlZGI4MzFmODlmYzkwNi5iaW5kUG9wdXAocG9wdXBfYmZkNmI5OGVmYTA1NDA4YzgzOWEyZGI1YzU3OGUwMGMpOwoKICAgICAgICAgICAgCiAgICAgICAgCiAgICAKCiAgICAgICAgICAgIHZhciBtYXJrZXJfNmVjMGNiMDZkOGRjNDE1NWIyZDNmNzg2NWUyMjc3MzAgPSBMLm1hcmtlcigKICAgICAgICAgICAgICAgIFs0My42Nzk1NTcxLC03OS4zNTIxODhdLAogICAgICAgICAgICAgICAgewogICAgICAgICAgICAgICAgICAgIGljb246IG5ldyBMLkljb24uRGVmYXVsdCgpCiAgICAgICAgICAgICAgICAgICAgfQogICAgICAgICAgICAgICAgKQogICAgICAgICAgICAgICAgLmFkZFRvKG1hcF9lNTQ5YmNmYWU0NWQ0M2QzYTYwZmYwZGU5NWFlY2ZkOSk7CiAgICAgICAgICAgIAogICAgCgogICAgICAgICAgICAgICAgdmFyIGljb25fMjExYzQzNTZiYzhjNGQwMGIwMGIzZjgxMDA1ZTkzNzcgPSBMLkF3ZXNvbWVNYXJrZXJzLmljb24oewogICAgICAgICAgICAgICAgICAgIGljb246ICdpbmZvLXNpZ24nLAogICAgICAgICAgICAgICAgICAgIGljb25Db2xvcjogJyNGRkZGMDAnLAogICAgICAgICAgICAgICAgICAgIG1hcmtlckNvbG9yOiAnYmVpZ2UnLAogICAgICAgICAgICAgICAgICAgIHByZWZpeDogJ2dseXBoaWNvbicsCiAgICAgICAgICAgICAgICAgICAgZXh0cmFDbGFzc2VzOiAnZmEtcm90YXRlLTAnCiAgICAgICAgICAgICAgICAgICAgfSk7CiAgICAgICAgICAgICAgICBtYXJrZXJfNmVjMGNiMDZkOGRjNDE1NWIyZDNmNzg2NWUyMjc3MzAuc2V0SWNvbihpY29uXzIxMWM0MzU2YmM4YzRkMDBiMDBiM2Y4MTAwNWU5Mzc3KTsKICAgICAgICAgICAgCiAgICAKICAgICAgICAgICAgdmFyIHBvcHVwXzBhYmQyZjkxNDk3NDRlZjk5Y2YwYjE4ZTQ4ZjA4NmRkID0gTC5wb3B1cCh7bWF4V2lkdGg6ICczMDAnfSk7CgogICAgICAgICAgICAKICAgICAgICAgICAgICAgIHZhciBodG1sXzZlMjg0ZDMxMjc0YzQzYTNiM2Y5OWI0ZjliZWJiMmI1ID0gJCgnPGRpdiBpZD0iaHRtbF82ZTI4NGQzMTI3NGM0M2EzYjNmOTliNGY5YmViYjJiNSIgc3R5bGU9IndpZHRoOiAxMDAuMCU7IGhlaWdodDogMTAwLjAlOyI+RWFzdCBUb3JvbnRvPC9kaXY+JylbMF07CiAgICAgICAgICAgICAgICBwb3B1cF8wYWJkMmY5MTQ5NzQ0ZWY5OWNmMGIxOGU0OGYwODZkZC5zZXRDb250ZW50KGh0bWxfNmUyODRkMzEyNzRjNDNhM2IzZjk5YjRmOWJlYmIyYjUpOwogICAgICAgICAgICAKCiAgICAgICAgICAgIG1hcmtlcl82ZWMwY2IwNmQ4ZGM0MTU1YjJkM2Y3ODY1ZTIyNzczMC5iaW5kUG9wdXAocG9wdXBfMGFiZDJmOTE0OTc0NGVmOTljZjBiMThlNDhmMDg2ZGQpOwoKICAgICAgICAgICAgCiAgICAgICAgCiAgICAKCiAgICAgICAgICAgIHZhciBtYXJrZXJfYjBhZGYwZDUzYjcxNGJiZDkyNDhkMDI1ZjgyM2ZhNmQgPSBMLm1hcmtlcigKICAgICAgICAgICAgICAgIFs0My42NDcxNzY4LC03OS4zODE1NzY0MDAwMDAwMV0sCiAgICAgICAgICAgICAgICB7CiAgICAgICAgICAgICAgICAgICAgaWNvbjogbmV3IEwuSWNvbi5EZWZhdWx0KCkKICAgICAgICAgICAgICAgICAgICB9CiAgICAgICAgICAgICAgICApCiAgICAgICAgICAgICAgICAuYWRkVG8obWFwX2U1NDliY2ZhZTQ1ZDQzZDNhNjBmZjBkZTk1YWVjZmQ5KTsKICAgICAgICAgICAgCiAgICAKCiAgICAgICAgICAgICAgICB2YXIgaWNvbl8xMmYwMTYzOThkMWY0NzhmOWIxNjI1ZDczMzFlNDY5ZSA9IEwuQXdlc29tZU1hcmtlcnMuaWNvbih7CiAgICAgICAgICAgICAgICAgICAgaWNvbjogJ2luZm8tc2lnbicsCiAgICAgICAgICAgICAgICAgICAgaWNvbkNvbG9yOiAnI0ZGRkYwMCcsCiAgICAgICAgICAgICAgICAgICAgbWFya2VyQ29sb3I6ICdsaWdodGdyZWVuJywKICAgICAgICAgICAgICAgICAgICBwcmVmaXg6ICdnbHlwaGljb24nLAogICAgICAgICAgICAgICAgICAgIGV4dHJhQ2xhc3NlczogJ2ZhLXJvdGF0ZS0wJwogICAgICAgICAgICAgICAgICAgIH0pOwogICAgICAgICAgICAgICAgbWFya2VyX2IwYWRmMGQ1M2I3MTRiYmQ5MjQ4ZDAyNWY4MjNmYTZkLnNldEljb24oaWNvbl8xMmYwMTYzOThkMWY0NzhmOWIxNjI1ZDczMzFlNDY5ZSk7CiAgICAgICAgICAgIAogICAgCiAgICAgICAgICAgIHZhciBwb3B1cF8wMWZlOWE2NTQ5Yzk0ZGYzOTU5ZDM5OTFjMDY0ZDVhZSA9IEwucG9wdXAoe21heFdpZHRoOiAnMzAwJ30pOwoKICAgICAgICAgICAgCiAgICAgICAgICAgICAgICB2YXIgaHRtbF8wYWQxMjM0YmI0Mzg0MWNjYTI0YzJhNzM1ZjhjOTIwNyA9ICQoJzxkaXYgaWQ9Imh0bWxfMGFkMTIzNGJiNDM4NDFjY2EyNGMyYTczNWY4YzkyMDciIHN0eWxlPSJ3aWR0aDogMTAwLjAlOyBoZWlnaHQ6IDEwMC4wJTsiPkRvd250b3duIFRvcm9udG88L2Rpdj4nKVswXTsKICAgICAgICAgICAgICAgIHBvcHVwXzAxZmU5YTY1NDljOTRkZjM5NTlkMzk5MWMwNjRkNWFlLnNldENvbnRlbnQoaHRtbF8wYWQxMjM0YmI0Mzg0MWNjYTI0YzJhNzM1ZjhjOTIwNyk7CiAgICAgICAgICAgIAoKICAgICAgICAgICAgbWFya2VyX2IwYWRmMGQ1M2I3MTRiYmQ5MjQ4ZDAyNWY4MjNmYTZkLmJpbmRQb3B1cChwb3B1cF8wMWZlOWE2NTQ5Yzk0ZGYzOTU5ZDM5OTFjMDY0ZDVhZSk7CgogICAgICAgICAgICAKICAgICAgICAKICAgIAoKICAgICAgICAgICAgdmFyIG1hcmtlcl9hNDBlNDdiOWQ1YzI0YmNiODY4MDdiN2JhNGQ1NGJjNyA9IEwubWFya2VyKAogICAgICAgICAgICAgICAgWzQzLjYzNjg0NzIsLTc5LjQyODE5MTQwMDAwMDAyXSwKICAgICAgICAgICAgICAgIHsKICAgICAgICAgICAgICAgICAgICBpY29uOiBuZXcgTC5JY29uLkRlZmF1bHQoKQogICAgICAgICAgICAgICAgICAgIH0KICAgICAgICAgICAgICAgICkKICAgICAgICAgICAgICAgIC5hZGRUbyhtYXBfZTU0OWJjZmFlNDVkNDNkM2E2MGZmMGRlOTVhZWNmZDkpOwogICAgICAgICAgICAKICAgIAoKICAgICAgICAgICAgICAgIHZhciBpY29uX2JhZGMzMDlmY2Q1ZTQ0MmFiMjZjMTBjZmJkYzM2MTRmID0gTC5Bd2Vzb21lTWFya2Vycy5pY29uKHsKICAgICAgICAgICAgICAgICAgICBpY29uOiAnaW5mby1zaWduJywKICAgICAgICAgICAgICAgICAgICBpY29uQ29sb3I6ICcjRkZGRjAwJywKICAgICAgICAgICAgICAgICAgICBtYXJrZXJDb2xvcjogJ3JlZCcsCiAgICAgICAgICAgICAgICAgICAgcHJlZml4OiAnZ2x5cGhpY29uJywKICAgICAgICAgICAgICAgICAgICBleHRyYUNsYXNzZXM6ICdmYS1yb3RhdGUtMCcKICAgICAgICAgICAgICAgICAgICB9KTsKICAgICAgICAgICAgICAgIG1hcmtlcl9hNDBlNDdiOWQ1YzI0YmNiODY4MDdiN2JhNGQ1NGJjNy5zZXRJY29uKGljb25fYmFkYzMwOWZjZDVlNDQyYWIyNmMxMGNmYmRjMzYxNGYpOwogICAgICAgICAgICAKICAgIAogICAgICAgICAgICB2YXIgcG9wdXBfNWVhNmUxZDhkMmE5NDQ1N2IxMmU4ZThhZWYxZjRiZmYgPSBMLnBvcHVwKHttYXhXaWR0aDogJzMwMCd9KTsKCiAgICAgICAgICAgIAogICAgICAgICAgICAgICAgdmFyIGh0bWxfNWI2MTUyNGYwNThkNDkwNjg0MmU3NzgxODYxODUxYWMgPSAkKCc8ZGl2IGlkPSJodG1sXzViNjE1MjRmMDU4ZDQ5MDY4NDJlNzc4MTg2MTg1MWFjIiBzdHlsZT0id2lkdGg6IDEwMC4wJTsgaGVpZ2h0OiAxMDAuMCU7Ij5XZXN0IFRvcm9udG88L2Rpdj4nKVswXTsKICAgICAgICAgICAgICAgIHBvcHVwXzVlYTZlMWQ4ZDJhOTQ0NTdiMTJlOGU4YWVmMWY0YmZmLnNldENvbnRlbnQoaHRtbF81YjYxNTI0ZjA1OGQ0OTA2ODQyZTc3ODE4NjE4NTFhYyk7CiAgICAgICAgICAgIAoKICAgICAgICAgICAgbWFya2VyX2E0MGU0N2I5ZDVjMjRiY2I4NjgwN2I3YmE0ZDU0YmM3LmJpbmRQb3B1cChwb3B1cF81ZWE2ZTFkOGQyYTk0NDU3YjEyZThlOGFlZjFmNGJmZik7CgogICAgICAgICAgICAKICAgICAgICAKICAgIAoKICAgICAgICAgICAgdmFyIG1hcmtlcl81MWM4NjYzZjMxYmU0Yzg1YjRhNjA3YjgxYWM3OGYyYyA9IEwubWFya2VyKAogICAgICAgICAgICAgICAgWzQzLjcxMTExMTcwMDAwMDAwNCwtNzkuMjg0NTc3Ml0sCiAgICAgICAgICAgICAgICB7CiAgICAgICAgICAgICAgICAgICAgaWNvbjogbmV3IEwuSWNvbi5EZWZhdWx0KCkKICAgICAgICAgICAgICAgICAgICB9CiAgICAgICAgICAgICAgICApCiAgICAgICAgICAgICAgICAuYWRkVG8obWFwX2U1NDliY2ZhZTQ1ZDQzZDNhNjBmZjBkZTk1YWVjZmQ5KTsKICAgICAgICAgICAgCiAgICAKCiAgICAgICAgICAgICAgICB2YXIgaWNvbl80MDYyMTEzYzQ5ODQ0M2M4YmNlMzBhNGJhODZlYTJiMiA9IEwuQXdlc29tZU1hcmtlcnMuaWNvbih7CiAgICAgICAgICAgICAgICAgICAgaWNvbjogJ2luZm8tc2lnbicsCiAgICAgICAgICAgICAgICAgICAgaWNvbkNvbG9yOiAnI0ZGRkYwMCcsCiAgICAgICAgICAgICAgICAgICAgbWFya2VyQ29sb3I6ICdsaWdodHJlZCcsCiAgICAgICAgICAgICAgICAgICAgcHJlZml4OiAnZ2x5cGhpY29uJywKICAgICAgICAgICAgICAgICAgICBleHRyYUNsYXNzZXM6ICdmYS1yb3RhdGUtMCcKICAgICAgICAgICAgICAgICAgICB9KTsKICAgICAgICAgICAgICAgIG1hcmtlcl81MWM4NjYzZjMxYmU0Yzg1YjRhNjA3YjgxYWM3OGYyYy5zZXRJY29uKGljb25fNDA2MjExM2M0OTg0NDNjOGJjZTMwYTRiYTg2ZWEyYjIpOwogICAgICAgICAgICAKICAgIAogICAgICAgICAgICB2YXIgcG9wdXBfOTZjYmViNjE0Nzk1NDNiYmIyYWQ5MjEzYjgxMDljZTIgPSBMLnBvcHVwKHttYXhXaWR0aDogJzMwMCd9KTsKCiAgICAgICAgICAgIAogICAgICAgICAgICAgICAgdmFyIGh0bWxfNDMxODIwZDIxNDBmNDVmYTkxZGE1MDc3MWEzMTQzODUgPSAkKCc8ZGl2IGlkPSJodG1sXzQzMTgyMGQyMTQwZjQ1ZmE5MWRhNTA3NzFhMzE0Mzg1IiBzdHlsZT0id2lkdGg6IDEwMC4wJTsgaGVpZ2h0OiAxMDAuMCU7Ij5TY2FyYm9yb3VnaDwvZGl2PicpWzBdOwogICAgICAgICAgICAgICAgcG9wdXBfOTZjYmViNjE0Nzk1NDNiYmIyYWQ5MjEzYjgxMDljZTIuc2V0Q29udGVudChodG1sXzQzMTgyMGQyMTQwZjQ1ZmE5MWRhNTA3NzFhMzE0Mzg1KTsKICAgICAgICAgICAgCgogICAgICAgICAgICBtYXJrZXJfNTFjODY2M2YzMWJlNGM4NWI0YTYwN2I4MWFjNzhmMmMuYmluZFBvcHVwKHBvcHVwXzk2Y2JlYjYxNDc5NTQzYmJiMmFkOTIxM2I4MTA5Y2UyKTsKCiAgICAgICAgICAgIAogICAgICAgIAogICAgCgogICAgICAgICAgICB2YXIgbWFya2VyX2RhYzc5NjczY2EwYzRmZmY5MDQ5NmI2NTEzMTYxNGFlID0gTC5tYXJrZXIoCiAgICAgICAgICAgICAgICBbNDMuNzU3NDkwMiwtNzkuMzc0NzE0MDk5OTk5OTldLAogICAgICAgICAgICAgICAgewogICAgICAgICAgICAgICAgICAgIGljb246IG5ldyBMLkljb24uRGVmYXVsdCgpCiAgICAgICAgICAgICAgICAgICAgfQogICAgICAgICAgICAgICAgKQogICAgICAgICAgICAgICAgLmFkZFRvKG1hcF9lNTQ5YmNmYWU0NWQ0M2QzYTYwZmYwZGU5NWFlY2ZkOSk7CiAgICAgICAgICAgIAogICAgCgogICAgICAgICAgICAgICAgdmFyIGljb25fOTBmMGE5NjJhOWI2NGFlNzllYmQwOGYyZGVhMDg0NGYgPSBMLkF3ZXNvbWVNYXJrZXJzLmljb24oewogICAgICAgICAgICAgICAgICAgIGljb246ICdpbmZvLXNpZ24nLAogICAgICAgICAgICAgICAgICAgIGljb25Db2xvcjogJyNGRkZGMDAnLAogICAgICAgICAgICAgICAgICAgIG1hcmtlckNvbG9yOiAncHVycGxlJywKICAgICAgICAgICAgICAgICAgICBwcmVmaXg6ICdnbHlwaGljb24nLAogICAgICAgICAgICAgICAgICAgIGV4dHJhQ2xhc3NlczogJ2ZhLXJvdGF0ZS0wJwogICAgICAgICAgICAgICAgICAgIH0pOwogICAgICAgICAgICAgICAgbWFya2VyX2RhYzc5NjczY2EwYzRmZmY5MDQ5NmI2NTEzMTYxNGFlLnNldEljb24oaWNvbl85MGYwYTk2MmE5YjY0YWU3OWViZDA4ZjJkZWEwODQ0Zik7CiAgICAgICAgICAgIAogICAgCiAgICAgICAgICAgIHZhciBwb3B1cF84Yjc0OTc5NzVlYmU0YjMzYWFlZjAzNTRmYTBkM2IwYSA9IEwucG9wdXAoe21heFdpZHRoOiAnMzAwJ30pOwoKICAgICAgICAgICAgCiAgICAgICAgICAgICAgICB2YXIgaHRtbF83ZTQxNjQyODQ1NDE0ZmQxOTJhODdkZmRiMTBjNDgxYyA9ICQoJzxkaXYgaWQ9Imh0bWxfN2U0MTY0Mjg0NTQxNGZkMTkyYTg3ZGZkYjEwYzQ4MWMiIHN0eWxlPSJ3aWR0aDogMTAwLjAlOyBoZWlnaHQ6IDEwMC4wJTsiPllvcmsgTWlsbHMsIFNpbHZlciBIaWxsczwvZGl2PicpWzBdOwogICAgICAgICAgICAgICAgcG9wdXBfOGI3NDk3OTc1ZWJlNGIzM2FhZWYwMzU0ZmEwZDNiMGEuc2V0Q29udGVudChodG1sXzdlNDE2NDI4NDU0MTRmZDE5MmE4N2RmZGIxMGM0ODFjKTsKICAgICAgICAgICAgCgogICAgICAgICAgICBtYXJrZXJfZGFjNzk2NzNjYTBjNGZmZjkwNDk2YjY1MTMxNjE0YWUuYmluZFBvcHVwKHBvcHVwXzhiNzQ5Nzk3NWViZTRiMzNhYWVmMDM1NGZhMGQzYjBhKTsKCiAgICAgICAgICAgIAogICAgICAgIAogICAgCgogICAgICAgICAgICB2YXIgbWFya2VyXzA4ZDk2YmIwZDQ4NjQ3MmU5Yjk3ZjAzMzRjMzNhMWZiID0gTC5tYXJrZXIoCiAgICAgICAgICAgICAgICBbNDMuNzM5MDE0NiwtNzkuNTA2OTQzNl0sCiAgICAgICAgICAgICAgICB7CiAgICAgICAgICAgICAgICAgICAgaWNvbjogbmV3IEwuSWNvbi5EZWZhdWx0KCkKICAgICAgICAgICAgICAgICAgICB9CiAgICAgICAgICAgICAgICApCiAgICAgICAgICAgICAgICAuYWRkVG8obWFwX2U1NDliY2ZhZTQ1ZDQzZDNhNjBmZjBkZTk1YWVjZmQ5KTsKICAgICAgICAgICAgCiAgICAKCiAgICAgICAgICAgICAgICB2YXIgaWNvbl9jODc2YmVlNTY5Nzc0OWU1YTNmMzFkMDBjMWEzZDYwYiA9IEwuQXdlc29tZU1hcmtlcnMuaWNvbih7CiAgICAgICAgICAgICAgICAgICAgaWNvbjogJ2luZm8tc2lnbicsCiAgICAgICAgICAgICAgICAgICAgaWNvbkNvbG9yOiAnI0ZGRkYwMCcsCiAgICAgICAgICAgICAgICAgICAgbWFya2VyQ29sb3I6ICdwdXJwbGUnLAogICAgICAgICAgICAgICAgICAgIHByZWZpeDogJ2dseXBoaWNvbicsCiAgICAgICAgICAgICAgICAgICAgZXh0cmFDbGFzc2VzOiAnZmEtcm90YXRlLTAnCiAgICAgICAgICAgICAgICAgICAgfSk7CiAgICAgICAgICAgICAgICBtYXJrZXJfMDhkOTZiYjBkNDg2NDcyZTliOTdmMDMzNGMzM2ExZmIuc2V0SWNvbihpY29uX2M4NzZiZWU1Njk3NzQ5ZTVhM2YzMWQwMGMxYTNkNjBiKTsKICAgICAgICAgICAgCiAgICAKICAgICAgICAgICAgdmFyIHBvcHVwX2M5NmM3NDMyYmVhNzQxNzY5Y2M0NTk1NWZjYmY4YWJhID0gTC5wb3B1cCh7bWF4V2lkdGg6ICczMDAnfSk7CgogICAgICAgICAgICAKICAgICAgICAgICAgICAgIHZhciBodG1sXzllOTAwMzMzZTZkYzQzMWU5NDg1ZGY2YjVjMmYyYjQ4ID0gJCgnPGRpdiBpZD0iaHRtbF85ZTkwMDMzM2U2ZGM0MzFlOTQ4NWRmNmI1YzJmMmI0OCIgc3R5bGU9IndpZHRoOiAxMDAuMCU7IGhlaWdodDogMTAwLjAlOyI+RG93bnN2aWV3PC9kaXY+JylbMF07CiAgICAgICAgICAgICAgICBwb3B1cF9jOTZjNzQzMmJlYTc0MTc2OWNjNDU5NTVmY2JmOGFiYS5zZXRDb250ZW50KGh0bWxfOWU5MDAzMzNlNmRjNDMxZTk0ODVkZjZiNWMyZjJiNDgpOwogICAgICAgICAgICAKCiAgICAgICAgICAgIG1hcmtlcl8wOGQ5NmJiMGQ0ODY0NzJlOWI5N2YwMzM0YzMzYTFmYi5iaW5kUG9wdXAocG9wdXBfYzk2Yzc0MzJiZWE3NDE3NjljYzQ1OTU1ZmNiZjhhYmEpOwoKICAgICAgICAgICAgCiAgICAgICAgCiAgICAKCiAgICAgICAgICAgIHZhciBtYXJrZXJfZjA3NDM0YzFlZjQzNDg4OTk0OTg5M2E1NTJhODhlNWMgPSBMLm1hcmtlcigKICAgICAgICAgICAgICAgIFs0My42Njg5OTg1LC03OS4zMTU1NzE1OTk5OTk5OF0sCiAgICAgICAgICAgICAgICB7CiAgICAgICAgICAgICAgICAgICAgaWNvbjogbmV3IEwuSWNvbi5EZWZhdWx0KCkKICAgICAgICAgICAgICAgICAgICB9CiAgICAgICAgICAgICAgICApCiAgICAgICAgICAgICAgICAuYWRkVG8obWFwX2U1NDliY2ZhZTQ1ZDQzZDNhNjBmZjBkZTk1YWVjZmQ5KTsKICAgICAgICAgICAgCiAgICAKCiAgICAgICAgICAgICAgICB2YXIgaWNvbl80MDc4MmY3OWE1MmQ0ZDQ0OTY0ZTgyNmIzMDExOTY5ZCA9IEwuQXdlc29tZU1hcmtlcnMuaWNvbih7CiAgICAgICAgICAgICAgICAgICAgaWNvbjogJ2luZm8tc2lnbicsCiAgICAgICAgICAgICAgICAgICAgaWNvbkNvbG9yOiAnI0ZGRkYwMCcsCiAgICAgICAgICAgICAgICAgICAgbWFya2VyQ29sb3I6ICdiZWlnZScsCiAgICAgICAgICAgICAgICAgICAgcHJlZml4OiAnZ2x5cGhpY29uJywKICAgICAgICAgICAgICAgICAgICBleHRyYUNsYXNzZXM6ICdmYS1yb3RhdGUtMCcKICAgICAgICAgICAgICAgICAgICB9KTsKICAgICAgICAgICAgICAgIG1hcmtlcl9mMDc0MzRjMWVmNDM0ODg5OTQ5ODkzYTU1MmE4OGU1Yy5zZXRJY29uKGljb25fNDA3ODJmNzlhNTJkNGQ0NDk2NGU4MjZiMzAxMTk2OWQpOwogICAgICAgICAgICAKICAgIAogICAgICAgICAgICB2YXIgcG9wdXBfNTdhZDQ0OWNjODI0NGI0OThhMjIxMzRiODE2ZjJlYWIgPSBMLnBvcHVwKHttYXhXaWR0aDogJzMwMCd9KTsKCiAgICAgICAgICAgIAogICAgICAgICAgICAgICAgdmFyIGh0bWxfNTAxMDEwY2RiNjRjNGE5MWJlOTQ5YjU0N2VmMjNmZTIgPSAkKCc8ZGl2IGlkPSJodG1sXzUwMTAxMGNkYjY0YzRhOTFiZTk0OWI1NDdlZjIzZmUyIiBzdHlsZT0id2lkdGg6IDEwMC4wJTsgaGVpZ2h0OiAxMDAuMCU7Ij5FYXN0IFRvcm9udG88L2Rpdj4nKVswXTsKICAgICAgICAgICAgICAgIHBvcHVwXzU3YWQ0NDljYzgyNDRiNDk4YTIyMTM0YjgxNmYyZWFiLnNldENvbnRlbnQoaHRtbF81MDEwMTBjZGI2NGM0YTkxYmU5NDliNTQ3ZWYyM2ZlMik7CiAgICAgICAgICAgIAoKICAgICAgICAgICAgbWFya2VyX2YwNzQzNGMxZWY0MzQ4ODk5NDk4OTNhNTUyYTg4ZTVjLmJpbmRQb3B1cChwb3B1cF81N2FkNDQ5Y2M4MjQ0YjQ5OGEyMjEzNGI4MTZmMmVhYik7CgogICAgICAgICAgICAKICAgICAgICAKICAgIAoKICAgICAgICAgICAgdmFyIG1hcmtlcl85YjA3MzQyMjUwYTY0ODdhOWU1YjI3ODQyZmE0M2FjZCA9IEwubWFya2VyKAogICAgICAgICAgICAgICAgWzQzLjY0ODE5ODUsLTc5LjM3OTgxNjkwMDAwMDAxXSwKICAgICAgICAgICAgICAgIHsKICAgICAgICAgICAgICAgICAgICBpY29uOiBuZXcgTC5JY29uLkRlZmF1bHQoKQogICAgICAgICAgICAgICAgICAgIH0KICAgICAgICAgICAgICAgICkKICAgICAgICAgICAgICAgIC5hZGRUbyhtYXBfZTU0OWJjZmFlNDVkNDNkM2E2MGZmMGRlOTVhZWNmZDkpOwogICAgICAgICAgICAKICAgIAoKICAgICAgICAgICAgICAgIHZhciBpY29uX2RkMTI5NGM3YWZmYzQ2N2I5MjhjMTY1NTI4ZTZkZWQ4ID0gTC5Bd2Vzb21lTWFya2Vycy5pY29uKHsKICAgICAgICAgICAgICAgICAgICBpY29uOiAnaW5mby1zaWduJywKICAgICAgICAgICAgICAgICAgICBpY29uQ29sb3I6ICcjRkZGRjAwJywKICAgICAgICAgICAgICAgICAgICBtYXJrZXJDb2xvcjogJ2xpZ2h0Z3JlZW4nLAogICAgICAgICAgICAgICAgICAgIHByZWZpeDogJ2dseXBoaWNvbicsCiAgICAgICAgICAgICAgICAgICAgZXh0cmFDbGFzc2VzOiAnZmEtcm90YXRlLTAnCiAgICAgICAgICAgICAgICAgICAgfSk7CiAgICAgICAgICAgICAgICBtYXJrZXJfOWIwNzM0MjI1MGE2NDg3YTllNWIyNzg0MmZhNDNhY2Quc2V0SWNvbihpY29uX2RkMTI5NGM3YWZmYzQ2N2I5MjhjMTY1NTI4ZTZkZWQ4KTsKICAgICAgICAgICAgCiAgICAKICAgICAgICAgICAgdmFyIHBvcHVwXzFiNGYyY2ZjOTY3ZjQ1NDg5ZDIwMmI1YmJmNWFmYzgxID0gTC5wb3B1cCh7bWF4V2lkdGg6ICczMDAnfSk7CgogICAgICAgICAgICAKICAgICAgICAgICAgICAgIHZhciBodG1sX2UzMWVkZTBmYjZjNjQ1Mjc5ZjFjZjQxNzQ5NWU5NzFhID0gJCgnPGRpdiBpZD0iaHRtbF9lMzFlZGUwZmI2YzY0NTI3OWYxY2Y0MTc0OTVlOTcxYSIgc3R5bGU9IndpZHRoOiAxMDAuMCU7IGhlaWdodDogMTAwLjAlOyI+RG93bnRvd24gVG9yb250bzwvZGl2PicpWzBdOwogICAgICAgICAgICAgICAgcG9wdXBfMWI0ZjJjZmM5NjdmNDU0ODlkMjAyYjViYmY1YWZjODEuc2V0Q29udGVudChodG1sX2UzMWVkZTBmYjZjNjQ1Mjc5ZjFjZjQxNzQ5NWU5NzFhKTsKICAgICAgICAgICAgCgogICAgICAgICAgICBtYXJrZXJfOWIwNzM0MjI1MGE2NDg3YTllNWIyNzg0MmZhNDNhY2QuYmluZFBvcHVwKHBvcHVwXzFiNGYyY2ZjOTY3ZjQ1NDg5ZDIwMmI1YmJmNWFmYzgxKTsKCiAgICAgICAgICAgIAogICAgICAgIAogICAgCgogICAgICAgICAgICB2YXIgbWFya2VyX2IzZDA3ZmQ3ZTgyNjRkMTRhYTM2ZjcyMGM1ZjM1ZWIyID0gTC5tYXJrZXIoCiAgICAgICAgICAgICAgICBbNDMuNzEzNzU2MjAwMDAwMDA2LC03OS40OTAwNzM4XSwKICAgICAgICAgICAgICAgIHsKICAgICAgICAgICAgICAgICAgICBpY29uOiBuZXcgTC5JY29uLkRlZmF1bHQoKQogICAgICAgICAgICAgICAgICAgIH0KICAgICAgICAgICAgICAgICkKICAgICAgICAgICAgICAgIC5hZGRUbyhtYXBfZTU0OWJjZmFlNDVkNDNkM2E2MGZmMGRlOTVhZWNmZDkpOwogICAgICAgICAgICAKICAgIAoKICAgICAgICAgICAgICAgIHZhciBpY29uXzRmZjc5YWY5MGM3ZjQ5OWI5MzkwOGFkNDM1ODAzOWMzID0gTC5Bd2Vzb21lTWFya2Vycy5pY29uKHsKICAgICAgICAgICAgICAgICAgICBpY29uOiAnaW5mby1zaWduJywKICAgICAgICAgICAgICAgICAgICBpY29uQ29sb3I6ICcjRkZGRjAwJywKICAgICAgICAgICAgICAgICAgICBtYXJrZXJDb2xvcjogJ3B1cnBsZScsCiAgICAgICAgICAgICAgICAgICAgcHJlZml4OiAnZ2x5cGhpY29uJywKICAgICAgICAgICAgICAgICAgICBleHRyYUNsYXNzZXM6ICdmYS1yb3RhdGUtMCcKICAgICAgICAgICAgICAgICAgICB9KTsKICAgICAgICAgICAgICAgIG1hcmtlcl9iM2QwN2ZkN2U4MjY0ZDE0YWEzNmY3MjBjNWYzNWViMi5zZXRJY29uKGljb25fNGZmNzlhZjkwYzdmNDk5YjkzOTA4YWQ0MzU4MDM5YzMpOwogICAgICAgICAgICAKICAgIAogICAgICAgICAgICB2YXIgcG9wdXBfYTM1ZDYxYjVkYjg0NGY2Yzk1ZTkwMTk1MjViNjFhZDEgPSBMLnBvcHVwKHttYXhXaWR0aDogJzMwMCd9KTsKCiAgICAgICAgICAgIAogICAgICAgICAgICAgICAgdmFyIGh0bWxfOWM1N2M5YmFlZWQwNDBmMjg3YWRhN2JlNGYwZDA1NTIgPSAkKCc8ZGl2IGlkPSJodG1sXzljNTdjOWJhZWVkMDQwZjI4N2FkYTdiZTRmMGQwNTUyIiBzdHlsZT0id2lkdGg6IDEwMC4wJTsgaGVpZ2h0OiAxMDAuMCU7Ij5Ob3J0aCBQYXJrLCBNYXBsZSBMZWFmIFBhcmssIFVwd29vZCBQYXJrPC9kaXY+JylbMF07CiAgICAgICAgICAgICAgICBwb3B1cF9hMzVkNjFiNWRiODQ0ZjZjOTVlOTAxOTUyNWI2MWFkMS5zZXRDb250ZW50KGh0bWxfOWM1N2M5YmFlZWQwNDBmMjg3YWRhN2JlNGYwZDA1NTIpOwogICAgICAgICAgICAKCiAgICAgICAgICAgIG1hcmtlcl9iM2QwN2ZkN2U4MjY0ZDE0YWEzNmY3MjBjNWYzNWViMi5iaW5kUG9wdXAocG9wdXBfYTM1ZDYxYjVkYjg0NGY2Yzk1ZTkwMTk1MjViNjFhZDEpOwoKICAgICAgICAgICAgCiAgICAgICAgCiAgICAKCiAgICAgICAgICAgIHZhciBtYXJrZXJfYzFlZTgyMTI3Y2Q1NDMyOWE4ODI2N2Y4NDA3YWNhYTMgPSBMLm1hcmtlcigKICAgICAgICAgICAgICAgIFs0My43NTYzMDMzLC03OS41NjU5NjMyOTk5OTk5OV0sCiAgICAgICAgICAgICAgICB7CiAgICAgICAgICAgICAgICAgICAgaWNvbjogbmV3IEwuSWNvbi5EZWZhdWx0KCkKICAgICAgICAgICAgICAgICAgICB9CiAgICAgICAgICAgICAgICApCiAgICAgICAgICAgICAgICAuYWRkVG8obWFwX2U1NDliY2ZhZTQ1ZDQzZDNhNjBmZjBkZTk1YWVjZmQ5KTsKICAgICAgICAgICAgCiAgICAKCiAgICAgICAgICAgICAgICB2YXIgaWNvbl9hNTY1MjI1YTE5MTM0Y2VkODVmMjgyMzY0OTA1YTJiYiA9IEwuQXdlc29tZU1hcmtlcnMuaWNvbih7CiAgICAgICAgICAgICAgICAgICAgaWNvbjogJ2luZm8tc2lnbicsCiAgICAgICAgICAgICAgICAgICAgaWNvbkNvbG9yOiAnI0ZGRkYwMCcsCiAgICAgICAgICAgICAgICAgICAgbWFya2VyQ29sb3I6ICdwdXJwbGUnLAogICAgICAgICAgICAgICAgICAgIHByZWZpeDogJ2dseXBoaWNvbicsCiAgICAgICAgICAgICAgICAgICAgZXh0cmFDbGFzc2VzOiAnZmEtcm90YXRlLTAnCiAgICAgICAgICAgICAgICAgICAgfSk7CiAgICAgICAgICAgICAgICBtYXJrZXJfYzFlZTgyMTI3Y2Q1NDMyOWE4ODI2N2Y4NDA3YWNhYTMuc2V0SWNvbihpY29uX2E1NjUyMjVhMTkxMzRjZWQ4NWYyODIzNjQ5MDVhMmJiKTsKICAgICAgICAgICAgCiAgICAKICAgICAgICAgICAgdmFyIHBvcHVwXzlkMzU1Zjk4Y2MyNDQ1NWRhYjZlZGY4ZmY1YmJkMGMwID0gTC5wb3B1cCh7bWF4V2lkdGg6ICczMDAnfSk7CgogICAgICAgICAgICAKICAgICAgICAgICAgICAgIHZhciBodG1sXzI2ODNjY2ViNjEwZTRjYWE5NzM4OGQzNDcwZWYzMDc2ID0gJCgnPGRpdiBpZD0iaHRtbF8yNjgzY2NlYjYxMGU0Y2FhOTczODhkMzQ3MGVmMzA3NiIgc3R5bGU9IndpZHRoOiAxMDAuMCU7IGhlaWdodDogMTAwLjAlOyI+SHVtYmVyIFN1bW1pdDwvZGl2PicpWzBdOwogICAgICAgICAgICAgICAgcG9wdXBfOWQzNTVmOThjYzI0NDU1ZGFiNmVkZjhmZjViYmQwYzAuc2V0Q29udGVudChodG1sXzI2ODNjY2ViNjEwZTRjYWE5NzM4OGQzNDcwZWYzMDc2KTsKICAgICAgICAgICAgCgogICAgICAgICAgICBtYXJrZXJfYzFlZTgyMTI3Y2Q1NDMyOWE4ODI2N2Y4NDA3YWNhYTMuYmluZFBvcHVwKHBvcHVwXzlkMzU1Zjk4Y2MyNDQ1NWRhYjZlZGY4ZmY1YmJkMGMwKTsKCiAgICAgICAgICAgIAogICAgICAgIAogICAgCgogICAgICAgICAgICB2YXIgbWFya2VyX2RlZDY1OGY2NmJiNTRkYjQ4NzNjNzE3N2U0ZThlOTg0ID0gTC5tYXJrZXIoCiAgICAgICAgICAgICAgICBbNDMuNzE2MzE2LC03OS4yMzk0NzYwOTk5OTk5OV0sCiAgICAgICAgICAgICAgICB7CiAgICAgICAgICAgICAgICAgICAgaWNvbjogbmV3IEwuSWNvbi5EZWZhdWx0KCkKICAgICAgICAgICAgICAgICAgICB9CiAgICAgICAgICAgICAgICApCiAgICAgICAgICAgICAgICAuYWRkVG8obWFwX2U1NDliY2ZhZTQ1ZDQzZDNhNjBmZjBkZTk1YWVjZmQ5KTsKICAgICAgICAgICAgCiAgICAKCiAgICAgICAgICAgICAgICB2YXIgaWNvbl83YWE0MmQ2ZmQ1NmM0YTBkYWU2OWRkZDU4MTc1OWIyZCA9IEwuQXdlc29tZU1hcmtlcnMuaWNvbih7CiAgICAgICAgICAgICAgICAgICAgaWNvbjogJ2luZm8tc2lnbicsCiAgICAgICAgICAgICAgICAgICAgaWNvbkNvbG9yOiAnI0ZGRkYwMCcsCiAgICAgICAgICAgICAgICAgICAgbWFya2VyQ29sb3I6ICdsaWdodHJlZCcsCiAgICAgICAgICAgICAgICAgICAgcHJlZml4OiAnZ2x5cGhpY29uJywKICAgICAgICAgICAgICAgICAgICBleHRyYUNsYXNzZXM6ICdmYS1yb3RhdGUtMCcKICAgICAgICAgICAgICAgICAgICB9KTsKICAgICAgICAgICAgICAgIG1hcmtlcl9kZWQ2NThmNjZiYjU0ZGI0ODczYzcxNzdlNGU4ZTk4NC5zZXRJY29uKGljb25fN2FhNDJkNmZkNTZjNGEwZGFlNjlkZGQ1ODE3NTliMmQpOwogICAgICAgICAgICAKICAgIAogICAgICAgICAgICB2YXIgcG9wdXBfZDA2NDBjMDQyMDM3NGEyZmEzZmE0OWNhM2RlOTBlZGUgPSBMLnBvcHVwKHttYXhXaWR0aDogJzMwMCd9KTsKCiAgICAgICAgICAgIAogICAgICAgICAgICAgICAgdmFyIGh0bWxfNmM0YzNjYjI5Yzg2NDJjMmFlZWQzZGQ4Zjg1ZjdiZjAgPSAkKCc8ZGl2IGlkPSJodG1sXzZjNGMzY2IyOWM4NjQyYzJhZWVkM2RkOGY4NWY3YmYwIiBzdHlsZT0id2lkdGg6IDEwMC4wJTsgaGVpZ2h0OiAxMDAuMCU7Ij5TY2FyYm9yb3VnaDwvZGl2PicpWzBdOwogICAgICAgICAgICAgICAgcG9wdXBfZDA2NDBjMDQyMDM3NGEyZmEzZmE0OWNhM2RlOTBlZGUuc2V0Q29udGVudChodG1sXzZjNGMzY2IyOWM4NjQyYzJhZWVkM2RkOGY4NWY3YmYwKTsKICAgICAgICAgICAgCgogICAgICAgICAgICBtYXJrZXJfZGVkNjU4ZjY2YmI1NGRiNDg3M2M3MTc3ZTRlOGU5ODQuYmluZFBvcHVwKHBvcHVwX2QwNjQwYzA0MjAzNzRhMmZhM2ZhNDljYTNkZTkwZWRlKTsKCiAgICAgICAgICAgIAogICAgICAgIAogICAgCgogICAgICAgICAgICB2YXIgbWFya2VyXzY2ODdiYmE5YWViMDQzZGI5NjUwNjQ4ZTZkNTVlMjVjID0gTC5tYXJrZXIoCiAgICAgICAgICAgICAgICBbNDMuNzg5MDUzLC03OS40MDg0OTI3OTk5OTk5OV0sCiAgICAgICAgICAgICAgICB7CiAgICAgICAgICAgICAgICAgICAgaWNvbjogbmV3IEwuSWNvbi5EZWZhdWx0KCkKICAgICAgICAgICAgICAgICAgICB9CiAgICAgICAgICAgICAgICApCiAgICAgICAgICAgICAgICAuYWRkVG8obWFwX2U1NDliY2ZhZTQ1ZDQzZDNhNjBmZjBkZTk1YWVjZmQ5KTsKICAgICAgICAgICAgCiAgICAKCiAgICAgICAgICAgICAgICB2YXIgaWNvbl8wMzQwNmJkOWI3YmM0NTdkYmZhYzZmMzJiZTliOWY1ZiA9IEwuQXdlc29tZU1hcmtlcnMuaWNvbih7CiAgICAgICAgICAgICAgICAgICAgaWNvbjogJ2luZm8tc2lnbicsCiAgICAgICAgICAgICAgICAgICAgaWNvbkNvbG9yOiAnI0ZGRkYwMCcsCiAgICAgICAgICAgICAgICAgICAgbWFya2VyQ29sb3I6ICdwdXJwbGUnLAogICAgICAgICAgICAgICAgICAgIHByZWZpeDogJ2dseXBoaWNvbicsCiAgICAgICAgICAgICAgICAgICAgZXh0cmFDbGFzc2VzOiAnZmEtcm90YXRlLTAnCiAgICAgICAgICAgICAgICAgICAgfSk7CiAgICAgICAgICAgICAgICBtYXJrZXJfNjY4N2JiYTlhZWIwNDNkYjk2NTA2NDhlNmQ1NWUyNWMuc2V0SWNvbihpY29uXzAzNDA2YmQ5YjdiYzQ1N2RiZmFjNmYzMmJlOWI5ZjVmKTsKICAgICAgICAgICAgCiAgICAKICAgICAgICAgICAgdmFyIHBvcHVwX2QwNGZmZjVhYzA4ZjRhODg5ODZhZWQ1M2M1Nzc3NGI0ID0gTC5wb3B1cCh7bWF4V2lkdGg6ICczMDAnfSk7CgogICAgICAgICAgICAKICAgICAgICAgICAgICAgIHZhciBodG1sX2I2NTY2Zjk4NWJiZTQ2MWZiMjBhMGFlMmI1NzhlMjRkID0gJCgnPGRpdiBpZD0iaHRtbF9iNjU2NmY5ODViYmU0NjFmYjIwYTBhZTJiNTc4ZTI0ZCIgc3R5bGU9IndpZHRoOiAxMDAuMCU7IGhlaWdodDogMTAwLjAlOyI+V2lsbG93ZGFsZSwgTmV3dG9uYnJvb2s8L2Rpdj4nKVswXTsKICAgICAgICAgICAgICAgIHBvcHVwX2QwNGZmZjVhYzA4ZjRhODg5ODZhZWQ1M2M1Nzc3NGI0LnNldENvbnRlbnQoaHRtbF9iNjU2NmY5ODViYmU0NjFmYjIwYTBhZTJiNTc4ZTI0ZCk7CiAgICAgICAgICAgIAoKICAgICAgICAgICAgbWFya2VyXzY2ODdiYmE5YWViMDQzZGI5NjUwNjQ4ZTZkNTVlMjVjLmJpbmRQb3B1cChwb3B1cF9kMDRmZmY1YWMwOGY0YTg4OTg2YWVkNTNjNTc3NzRiNCk7CgogICAgICAgICAgICAKICAgICAgICAKICAgIAoKICAgICAgICAgICAgdmFyIG1hcmtlcl9kMzJiYmQ3OWIzMjM0ZTllYWY4OTUwZTNjYmM0N2ZjNSA9IEwubWFya2VyKAogICAgICAgICAgICAgICAgWzQzLjcyODQ5NjQsLTc5LjQ5NTY5NzQwMDAwMDAxXSwKICAgICAgICAgICAgICAgIHsKICAgICAgICAgICAgICAgICAgICBpY29uOiBuZXcgTC5JY29uLkRlZmF1bHQoKQogICAgICAgICAgICAgICAgICAgIH0KICAgICAgICAgICAgICAgICkKICAgICAgICAgICAgICAgIC5hZGRUbyhtYXBfZTU0OWJjZmFlNDVkNDNkM2E2MGZmMGRlOTVhZWNmZDkpOwogICAgICAgICAgICAKICAgIAoKICAgICAgICAgICAgICAgIHZhciBpY29uXzFmZTJkNjQxMjVlNDQ5NmQ5NTk0NDk0ZWE5NTgxODAxID0gTC5Bd2Vzb21lTWFya2Vycy5pY29uKHsKICAgICAgICAgICAgICAgICAgICBpY29uOiAnaW5mby1zaWduJywKICAgICAgICAgICAgICAgICAgICBpY29uQ29sb3I6ICcjRkZGRjAwJywKICAgICAgICAgICAgICAgICAgICBtYXJrZXJDb2xvcjogJ3B1cnBsZScsCiAgICAgICAgICAgICAgICAgICAgcHJlZml4OiAnZ2x5cGhpY29uJywKICAgICAgICAgICAgICAgICAgICBleHRyYUNsYXNzZXM6ICdmYS1yb3RhdGUtMCcKICAgICAgICAgICAgICAgICAgICB9KTsKICAgICAgICAgICAgICAgIG1hcmtlcl9kMzJiYmQ3OWIzMjM0ZTllYWY4OTUwZTNjYmM0N2ZjNS5zZXRJY29uKGljb25fMWZlMmQ2NDEyNWU0NDk2ZDk1OTQ0OTRlYTk1ODE4MDEpOwogICAgICAgICAgICAKICAgIAogICAgICAgICAgICB2YXIgcG9wdXBfMDE2Nzk4ZDZlMjEwNGIxNDllNmE2MmMwMjUwMzNlMTggPSBMLnBvcHVwKHttYXhXaWR0aDogJzMwMCd9KTsKCiAgICAgICAgICAgIAogICAgICAgICAgICAgICAgdmFyIGh0bWxfNDM2MWMzODAwZWNjNDNkMmE4ZWExYTJmMGVmYzBhMWQgPSAkKCc8ZGl2IGlkPSJodG1sXzQzNjFjMzgwMGVjYzQzZDJhOGVhMWEyZjBlZmMwYTFkIiBzdHlsZT0id2lkdGg6IDEwMC4wJTsgaGVpZ2h0OiAxMDAuMCU7Ij5Eb3duc3ZpZXc8L2Rpdj4nKVswXTsKICAgICAgICAgICAgICAgIHBvcHVwXzAxNjc5OGQ2ZTIxMDRiMTQ5ZTZhNjJjMDI1MDMzZTE4LnNldENvbnRlbnQoaHRtbF80MzYxYzM4MDBlY2M0M2QyYThlYTFhMmYwZWZjMGExZCk7CiAgICAgICAgICAgIAoKICAgICAgICAgICAgbWFya2VyX2QzMmJiZDc5YjMyMzRlOWVhZjg5NTBlM2NiYzQ3ZmM1LmJpbmRQb3B1cChwb3B1cF8wMTY3OThkNmUyMTA0YjE0OWU2YTYyYzAyNTAzM2UxOCk7CgogICAgICAgICAgICAKICAgICAgICAKICAgIAoKICAgICAgICAgICAgdmFyIG1hcmtlcl8xYTkyZDc2OTk4NWM0M2ZmYmExYzc3NjgzNzc0MDI2YyA9IEwubWFya2VyKAogICAgICAgICAgICAgICAgWzQzLjY1OTUyNTUsLTc5LjM0MDkyM10sCiAgICAgICAgICAgICAgICB7CiAgICAgICAgICAgICAgICAgICAgaWNvbjogbmV3IEwuSWNvbi5EZWZhdWx0KCkKICAgICAgICAgICAgICAgICAgICB9CiAgICAgICAgICAgICAgICApCiAgICAgICAgICAgICAgICAuYWRkVG8obWFwX2U1NDliY2ZhZTQ1ZDQzZDNhNjBmZjBkZTk1YWVjZmQ5KTsKICAgICAgICAgICAgCiAgICAKCiAgICAgICAgICAgICAgICB2YXIgaWNvbl8wYjU2YWVmYjI2MzY0ZmVmYTA5NDI2ZTEyMDNkMTg4MiA9IEwuQXdlc29tZU1hcmtlcnMuaWNvbih7CiAgICAgICAgICAgICAgICAgICAgaWNvbjogJ2luZm8tc2lnbicsCiAgICAgICAgICAgICAgICAgICAgaWNvbkNvbG9yOiAnI0ZGRkYwMCcsCiAgICAgICAgICAgICAgICAgICAgbWFya2VyQ29sb3I6ICdiZWlnZScsCiAgICAgICAgICAgICAgICAgICAgcHJlZml4OiAnZ2x5cGhpY29uJywKICAgICAgICAgICAgICAgICAgICBleHRyYUNsYXNzZXM6ICdmYS1yb3RhdGUtMCcKICAgICAgICAgICAgICAgICAgICB9KTsKICAgICAgICAgICAgICAgIG1hcmtlcl8xYTkyZDc2OTk4NWM0M2ZmYmExYzc3NjgzNzc0MDI2Yy5zZXRJY29uKGljb25fMGI1NmFlZmIyNjM2NGZlZmEwOTQyNmUxMjAzZDE4ODIpOwogICAgICAgICAgICAKICAgIAogICAgICAgICAgICB2YXIgcG9wdXBfNWZlYWUzZTc3MmYwNDkwMWJjN2FjODE2NDEwMTJjZTcgPSBMLnBvcHVwKHttYXhXaWR0aDogJzMwMCd9KTsKCiAgICAgICAgICAgIAogICAgICAgICAgICAgICAgdmFyIGh0bWxfNDgzNGVkMWUzYTJiNGQ3MWI5ZDE0M2NlZWQ5ODIyNWEgPSAkKCc8ZGl2IGlkPSJodG1sXzQ4MzRlZDFlM2EyYjRkNzFiOWQxNDNjZWVkOTgyMjVhIiBzdHlsZT0id2lkdGg6IDEwMC4wJTsgaGVpZ2h0OiAxMDAuMCU7Ij5FYXN0IFRvcm9udG88L2Rpdj4nKVswXTsKICAgICAgICAgICAgICAgIHBvcHVwXzVmZWFlM2U3NzJmMDQ5MDFiYzdhYzgxNjQxMDEyY2U3LnNldENvbnRlbnQoaHRtbF80ODM0ZWQxZTNhMmI0ZDcxYjlkMTQzY2VlZDk4MjI1YSk7CiAgICAgICAgICAgIAoKICAgICAgICAgICAgbWFya2VyXzFhOTJkNzY5OTg1YzQzZmZiYTFjNzc2ODM3NzQwMjZjLmJpbmRQb3B1cChwb3B1cF81ZmVhZTNlNzcyZjA0OTAxYmM3YWM4MTY0MTAxMmNlNyk7CgogICAgICAgICAgICAKICAgICAgICAKICAgIAoKICAgICAgICAgICAgdmFyIG1hcmtlcl8xNzkwNGViZmVlZTg0MDU2YjMzODBmYjIzNWVhODFkNyA9IEwubWFya2VyKAogICAgICAgICAgICAgICAgWzQzLjczMzI4MjUsLTc5LjQxOTc0OTddLAogICAgICAgICAgICAgICAgewogICAgICAgICAgICAgICAgICAgIGljb246IG5ldyBMLkljb24uRGVmYXVsdCgpCiAgICAgICAgICAgICAgICAgICAgfQogICAgICAgICAgICAgICAgKQogICAgICAgICAgICAgICAgLmFkZFRvKG1hcF9lNTQ5YmNmYWU0NWQ0M2QzYTYwZmYwZGU5NWFlY2ZkOSk7CiAgICAgICAgICAgIAogICAgCgogICAgICAgICAgICAgICAgdmFyIGljb25fN2EyZGFlNjM4YTM2NGU0MWFkZjRiM2ZhN2Y1NWE1ZGEgPSBMLkF3ZXNvbWVNYXJrZXJzLmljb24oewogICAgICAgICAgICAgICAgICAgIGljb246ICdpbmZvLXNpZ24nLAogICAgICAgICAgICAgICAgICAgIGljb25Db2xvcjogJyNGRkZGMDAnLAogICAgICAgICAgICAgICAgICAgIG1hcmtlckNvbG9yOiAncHVycGxlJywKICAgICAgICAgICAgICAgICAgICBwcmVmaXg6ICdnbHlwaGljb24nLAogICAgICAgICAgICAgICAgICAgIGV4dHJhQ2xhc3NlczogJ2ZhLXJvdGF0ZS0wJwogICAgICAgICAgICAgICAgICAgIH0pOwogICAgICAgICAgICAgICAgbWFya2VyXzE3OTA0ZWJmZWVlODQwNTZiMzM4MGZiMjM1ZWE4MWQ3LnNldEljb24oaWNvbl83YTJkYWU2MzhhMzY0ZTQxYWRmNGIzZmE3ZjU1YTVkYSk7CiAgICAgICAgICAgIAogICAgCiAgICAgICAgICAgIHZhciBwb3B1cF9iYzA0MzBhMWEwZTI0MDQzYTE5YzM0ZmJjMmY3ZWJiMSA9IEwucG9wdXAoe21heFdpZHRoOiAnMzAwJ30pOwoKICAgICAgICAgICAgCiAgICAgICAgICAgICAgICB2YXIgaHRtbF9lNTNmY2VlMzI0NDM0MjY3YTUyMjlhZmFhYmIwZmVlNiA9ICQoJzxkaXYgaWQ9Imh0bWxfZTUzZmNlZTMyNDQzNDI2N2E1MjI5YWZhYWJiMGZlZTYiIHN0eWxlPSJ3aWR0aDogMTAwLjAlOyBoZWlnaHQ6IDEwMC4wJTsiPkJlZGZvcmQgUGFyaywgTGF3cmVuY2UgTWFub3IgRWFzdDwvZGl2PicpWzBdOwogICAgICAgICAgICAgICAgcG9wdXBfYmMwNDMwYTFhMGUyNDA0M2ExOWMzNGZiYzJmN2ViYjEuc2V0Q29udGVudChodG1sX2U1M2ZjZWUzMjQ0MzQyNjdhNTIyOWFmYWFiYjBmZWU2KTsKICAgICAgICAgICAgCgogICAgICAgICAgICBtYXJrZXJfMTc5MDRlYmZlZWU4NDA1NmIzMzgwZmIyMzVlYTgxZDcuYmluZFBvcHVwKHBvcHVwX2JjMDQzMGExYTBlMjQwNDNhMTljMzRmYmMyZjdlYmIxKTsKCiAgICAgICAgICAgIAogICAgICAgIAogICAgCgogICAgICAgICAgICB2YXIgbWFya2VyX2FiNWYxNzQ0NjQ3NzRiOTBhMzg1OGNmNGMwNmYwN2M1ID0gTC5tYXJrZXIoCiAgICAgICAgICAgICAgICBbNDMuNjkxMTE1OCwtNzkuNDc2MDEzMjk5OTk5OTldLAogICAgICAgICAgICAgICAgewogICAgICAgICAgICAgICAgICAgIGljb246IG5ldyBMLkljb24uRGVmYXVsdCgpCiAgICAgICAgICAgICAgICAgICAgfQogICAgICAgICAgICAgICAgKQogICAgICAgICAgICAgICAgLmFkZFRvKG1hcF9lNTQ5YmNmYWU0NWQ0M2QzYTYwZmYwZGU5NWFlY2ZkOSk7CiAgICAgICAgICAgIAogICAgCgogICAgICAgICAgICAgICAgdmFyIGljb25fYjgzYzhhNmE5MmNhNGUwMGJkZmE0ODc4YWRhOGFmZGEgPSBMLkF3ZXNvbWVNYXJrZXJzLmljb24oewogICAgICAgICAgICAgICAgICAgIGljb246ICdpbmZvLXNpZ24nLAogICAgICAgICAgICAgICAgICAgIGljb25Db2xvcjogJyNGRkZGMDAnLAogICAgICAgICAgICAgICAgICAgIG1hcmtlckNvbG9yOiAnYmx1ZScsCiAgICAgICAgICAgICAgICAgICAgcHJlZml4OiAnZ2x5cGhpY29uJywKICAgICAgICAgICAgICAgICAgICBleHRyYUNsYXNzZXM6ICdmYS1yb3RhdGUtMCcKICAgICAgICAgICAgICAgICAgICB9KTsKICAgICAgICAgICAgICAgIG1hcmtlcl9hYjVmMTc0NDY0Nzc0YjkwYTM4NThjZjRjMDZmMDdjNS5zZXRJY29uKGljb25fYjgzYzhhNmE5MmNhNGUwMGJkZmE0ODc4YWRhOGFmZGEpOwogICAgICAgICAgICAKICAgIAogICAgICAgICAgICB2YXIgcG9wdXBfZTI5NjlkOWZmMGIwNGZmNWJlN2U4OWY1ZGI3ZmRjNDIgPSBMLnBvcHVwKHttYXhXaWR0aDogJzMwMCd9KTsKCiAgICAgICAgICAgIAogICAgICAgICAgICAgICAgdmFyIGh0bWxfOWNlNDI1NGQzNjYwNDZkODhhNDYzNTViMTI0ZjIyZTEgPSAkKCc8ZGl2IGlkPSJodG1sXzljZTQyNTRkMzY2MDQ2ZDg4YTQ2MzU1YjEyNGYyMmUxIiBzdHlsZT0id2lkdGg6IDEwMC4wJTsgaGVpZ2h0OiAxMDAuMCU7Ij5Zb3JrPC9kaXY+JylbMF07CiAgICAgICAgICAgICAgICBwb3B1cF9lMjk2OWQ5ZmYwYjA0ZmY1YmU3ZTg5ZjVkYjdmZGM0Mi5zZXRDb250ZW50KGh0bWxfOWNlNDI1NGQzNjYwNDZkODhhNDYzNTViMTI0ZjIyZTEpOwogICAgICAgICAgICAKCiAgICAgICAgICAgIG1hcmtlcl9hYjVmMTc0NDY0Nzc0YjkwYTM4NThjZjRjMDZmMDdjNS5iaW5kUG9wdXAocG9wdXBfZTI5NjlkOWZmMGIwNGZmNWJlN2U4OWY1ZGI3ZmRjNDIpOwoKICAgICAgICAgICAgCiAgICAgICAgCiAgICAKCiAgICAgICAgICAgIHZhciBtYXJrZXJfNmUzNmQ3OGVhMzNmNDdmYWE2ZjFlZDkyM2YxZDY0MjUgPSBMLm1hcmtlcigKICAgICAgICAgICAgICAgIFs0My43MjQ3NjU5LC03OS41MzIyNDI0MDAwMDAwMl0sCiAgICAgICAgICAgICAgICB7CiAgICAgICAgICAgICAgICAgICAgaWNvbjogbmV3IEwuSWNvbi5EZWZhdWx0KCkKICAgICAgICAgICAgICAgICAgICB9CiAgICAgICAgICAgICAgICApCiAgICAgICAgICAgICAgICAuYWRkVG8obWFwX2U1NDliY2ZhZTQ1ZDQzZDNhNjBmZjBkZTk1YWVjZmQ5KTsKICAgICAgICAgICAgCiAgICAKCiAgICAgICAgICAgICAgICB2YXIgaWNvbl8xY2VlMDQ4YTVlMTY0YjYwYjBlZjMzZWE1OWNiZTNjNyA9IEwuQXdlc29tZU1hcmtlcnMuaWNvbih7CiAgICAgICAgICAgICAgICAgICAgaWNvbjogJ2luZm8tc2lnbicsCiAgICAgICAgICAgICAgICAgICAgaWNvbkNvbG9yOiAnI0ZGRkYwMCcsCiAgICAgICAgICAgICAgICAgICAgbWFya2VyQ29sb3I6ICdwdXJwbGUnLAogICAgICAgICAgICAgICAgICAgIHByZWZpeDogJ2dseXBoaWNvbicsCiAgICAgICAgICAgICAgICAgICAgZXh0cmFDbGFzc2VzOiAnZmEtcm90YXRlLTAnCiAgICAgICAgICAgICAgICAgICAgfSk7CiAgICAgICAgICAgICAgICBtYXJrZXJfNmUzNmQ3OGVhMzNmNDdmYWE2ZjFlZDkyM2YxZDY0MjUuc2V0SWNvbihpY29uXzFjZWUwNDhhNWUxNjRiNjBiMGVmMzNlYTU5Y2JlM2M3KTsKICAgICAgICAgICAgCiAgICAKICAgICAgICAgICAgdmFyIHBvcHVwXzQ0MGZjZWNhY2ZhMjRkNDhhM2Q0NGI1NDhhZTc3YmYyID0gTC5wb3B1cCh7bWF4V2lkdGg6ICczMDAnfSk7CgogICAgICAgICAgICAKICAgICAgICAgICAgICAgIHZhciBodG1sX2U4NTFmNmEwZGE4NzQzYTFiOTgyZjQzYTA4ZTY2NWQ4ID0gJCgnPGRpdiBpZD0iaHRtbF9lODUxZjZhMGRhODc0M2ExYjk4MmY0M2EwOGU2NjVkOCIgc3R5bGU9IndpZHRoOiAxMDAuMCU7IGhlaWdodDogMTAwLjAlOyI+SHVtYmVybGVhLCBFbWVyeTwvZGl2PicpWzBdOwogICAgICAgICAgICAgICAgcG9wdXBfNDQwZmNlY2FjZmEyNGQ0OGEzZDQ0YjU0OGFlNzdiZjIuc2V0Q29udGVudChodG1sX2U4NTFmNmEwZGE4NzQzYTFiOTgyZjQzYTA4ZTY2NWQ4KTsKICAgICAgICAgICAgCgogICAgICAgICAgICBtYXJrZXJfNmUzNmQ3OGVhMzNmNDdmYWE2ZjFlZDkyM2YxZDY0MjUuYmluZFBvcHVwKHBvcHVwXzQ0MGZjZWNhY2ZhMjRkNDhhM2Q0NGI1NDhhZTc3YmYyKTsKCiAgICAgICAgICAgIAogICAgICAgIAogICAgCgogICAgICAgICAgICB2YXIgbWFya2VyX2QzOGNjOWZhNDFmZDQ5ZGJiYjViMTVmMTE0NDdkZDA4ID0gTC5tYXJrZXIoCiAgICAgICAgICAgICAgICBbNDMuNjkyNjU3MDAwMDAwMDA0LC03OS4yNjQ4NDgxXSwKICAgICAgICAgICAgICAgIHsKICAgICAgICAgICAgICAgICAgICBpY29uOiBuZXcgTC5JY29uLkRlZmF1bHQoKQogICAgICAgICAgICAgICAgICAgIH0KICAgICAgICAgICAgICAgICkKICAgICAgICAgICAgICAgIC5hZGRUbyhtYXBfZTU0OWJjZmFlNDVkNDNkM2E2MGZmMGRlOTVhZWNmZDkpOwogICAgICAgICAgICAKICAgIAoKICAgICAgICAgICAgICAgIHZhciBpY29uX2YxNDQ2Mjc4OGQyMDRlZTU5NDY3NGRiZDY0ZWU1NWY0ID0gTC5Bd2Vzb21lTWFya2Vycy5pY29uKHsKICAgICAgICAgICAgICAgICAgICBpY29uOiAnaW5mby1zaWduJywKICAgICAgICAgICAgICAgICAgICBpY29uQ29sb3I6ICcjRkZGRjAwJywKICAgICAgICAgICAgICAgICAgICBtYXJrZXJDb2xvcjogJ2xpZ2h0cmVkJywKICAgICAgICAgICAgICAgICAgICBwcmVmaXg6ICdnbHlwaGljb24nLAogICAgICAgICAgICAgICAgICAgIGV4dHJhQ2xhc3NlczogJ2ZhLXJvdGF0ZS0wJwogICAgICAgICAgICAgICAgICAgIH0pOwogICAgICAgICAgICAgICAgbWFya2VyX2QzOGNjOWZhNDFmZDQ5ZGJiYjViMTVmMTE0NDdkZDA4LnNldEljb24oaWNvbl9mMTQ0NjI3ODhkMjA0ZWU1OTQ2NzRkYmQ2NGVlNTVmNCk7CiAgICAgICAgICAgIAogICAgCiAgICAgICAgICAgIHZhciBwb3B1cF8wZjg1ZjExNTRhYzU0NmIyYmQ4MzI0YWIwNTllMGJhOCA9IEwucG9wdXAoe21heFdpZHRoOiAnMzAwJ30pOwoKICAgICAgICAgICAgCiAgICAgICAgICAgICAgICB2YXIgaHRtbF9mNTVjMjYwZTMwYzE0NWJjYmQyODlmYmYxOTkzZDYwYiA9ICQoJzxkaXYgaWQ9Imh0bWxfZjU1YzI2MGUzMGMxNDViY2JkMjg5ZmJmMTk5M2Q2MGIiIHN0eWxlPSJ3aWR0aDogMTAwLjAlOyBoZWlnaHQ6IDEwMC4wJTsiPlNjYXJib3JvdWdoPC9kaXY+JylbMF07CiAgICAgICAgICAgICAgICBwb3B1cF8wZjg1ZjExNTRhYzU0NmIyYmQ4MzI0YWIwNTllMGJhOC5zZXRDb250ZW50KGh0bWxfZjU1YzI2MGUzMGMxNDViY2JkMjg5ZmJmMTk5M2Q2MGIpOwogICAgICAgICAgICAKCiAgICAgICAgICAgIG1hcmtlcl9kMzhjYzlmYTQxZmQ0OWRiYmI1YjE1ZjExNDQ3ZGQwOC5iaW5kUG9wdXAocG9wdXBfMGY4NWYxMTU0YWM1NDZiMmJkODMyNGFiMDU5ZTBiYTgpOwoKICAgICAgICAgICAgCiAgICAgICAgCiAgICAKCiAgICAgICAgICAgIHZhciBtYXJrZXJfMzYyMjFjN2E3NTM4NDY1ODg0NDU5NmFlZTIyZTA0NGUgPSBMLm1hcmtlcigKICAgICAgICAgICAgICAgIFs0My43NzAxMTk5LC03OS40MDg0OTI3OTk5OTk5OV0sCiAgICAgICAgICAgICAgICB7CiAgICAgICAgICAgICAgICAgICAgaWNvbjogbmV3IEwuSWNvbi5EZWZhdWx0KCkKICAgICAgICAgICAgICAgICAgICB9CiAgICAgICAgICAgICAgICApCiAgICAgICAgICAgICAgICAuYWRkVG8obWFwX2U1NDliY2ZhZTQ1ZDQzZDNhNjBmZjBkZTk1YWVjZmQ5KTsKICAgICAgICAgICAgCiAgICAKCiAgICAgICAgICAgICAgICB2YXIgaWNvbl80ZjVhMzdhOTczOTA0YTM3YTQ2YmJlMDViNjJhMWJiZCA9IEwuQXdlc29tZU1hcmtlcnMuaWNvbih7CiAgICAgICAgICAgICAgICAgICAgaWNvbjogJ2luZm8tc2lnbicsCiAgICAgICAgICAgICAgICAgICAgaWNvbkNvbG9yOiAnI0ZGRkYwMCcsCiAgICAgICAgICAgICAgICAgICAgbWFya2VyQ29sb3I6ICdwdXJwbGUnLAogICAgICAgICAgICAgICAgICAgIHByZWZpeDogJ2dseXBoaWNvbicsCiAgICAgICAgICAgICAgICAgICAgZXh0cmFDbGFzc2VzOiAnZmEtcm90YXRlLTAnCiAgICAgICAgICAgICAgICAgICAgfSk7CiAgICAgICAgICAgICAgICBtYXJrZXJfMzYyMjFjN2E3NTM4NDY1ODg0NDU5NmFlZTIyZTA0NGUuc2V0SWNvbihpY29uXzRmNWEzN2E5NzM5MDRhMzdhNDZiYmUwNWI2MmExYmJkKTsKICAgICAgICAgICAgCiAgICAKICAgICAgICAgICAgdmFyIHBvcHVwX2UzZDc3MmU0YTZhZjQxZTE4MjY1OGIyNmFkMmM4NmU1ID0gTC5wb3B1cCh7bWF4V2lkdGg6ICczMDAnfSk7CgogICAgICAgICAgICAKICAgICAgICAgICAgICAgIHZhciBodG1sXzM4MzAxNDYyMGNhNDQ1NmI4OTZjYWE3MTI5YjY0NWIyID0gJCgnPGRpdiBpZD0iaHRtbF8zODMwMTQ2MjBjYTQ0NTZiODk2Y2FhNzEyOWI2NDViMiIgc3R5bGU9IndpZHRoOiAxMDAuMCU7IGhlaWdodDogMTAwLjAlOyI+V2lsbG93ZGFsZSwgV2lsbG93ZGFsZSBFYXN0PC9kaXY+JylbMF07CiAgICAgICAgICAgICAgICBwb3B1cF9lM2Q3NzJlNGE2YWY0MWUxODI2NThiMjZhZDJjODZlNS5zZXRDb250ZW50KGh0bWxfMzgzMDE0NjIwY2E0NDU2Yjg5NmNhYTcxMjliNjQ1YjIpOwogICAgICAgICAgICAKCiAgICAgICAgICAgIG1hcmtlcl8zNjIyMWM3YTc1Mzg0NjU4ODQ0NTk2YWVlMjJlMDQ0ZS5iaW5kUG9wdXAocG9wdXBfZTNkNzcyZTRhNmFmNDFlMTgyNjU4YjI2YWQyYzg2ZTUpOwoKICAgICAgICAgICAgCiAgICAgICAgCiAgICAKCiAgICAgICAgICAgIHZhciBtYXJrZXJfNGI0OTVjZTdiMWQ4NGFlNDk2ZmU4YTczNjU3OWMyYTcgPSBMLm1hcmtlcigKICAgICAgICAgICAgICAgIFs0My43NjE2MzEzLC03OS41MjA5OTk0MDAwMDAwMV0sCiAgICAgICAgICAgICAgICB7CiAgICAgICAgICAgICAgICAgICAgaWNvbjogbmV3IEwuSWNvbi5EZWZhdWx0KCkKICAgICAgICAgICAgICAgICAgICB9CiAgICAgICAgICAgICAgICApCiAgICAgICAgICAgICAgICAuYWRkVG8obWFwX2U1NDliY2ZhZTQ1ZDQzZDNhNjBmZjBkZTk1YWVjZmQ5KTsKICAgICAgICAgICAgCiAgICAKCiAgICAgICAgICAgICAgICB2YXIgaWNvbl8zNjg0ZjVkNjJlYTU0M2Q0YmYxOWQwMzdhZTkxYWNiZiA9IEwuQXdlc29tZU1hcmtlcnMuaWNvbih7CiAgICAgICAgICAgICAgICAgICAgaWNvbjogJ2luZm8tc2lnbicsCiAgICAgICAgICAgICAgICAgICAgaWNvbkNvbG9yOiAnI0ZGRkYwMCcsCiAgICAgICAgICAgICAgICAgICAgbWFya2VyQ29sb3I6ICdwdXJwbGUnLAogICAgICAgICAgICAgICAgICAgIHByZWZpeDogJ2dseXBoaWNvbicsCiAgICAgICAgICAgICAgICAgICAgZXh0cmFDbGFzc2VzOiAnZmEtcm90YXRlLTAnCiAgICAgICAgICAgICAgICAgICAgfSk7CiAgICAgICAgICAgICAgICBtYXJrZXJfNGI0OTVjZTdiMWQ4NGFlNDk2ZmU4YTczNjU3OWMyYTcuc2V0SWNvbihpY29uXzM2ODRmNWQ2MmVhNTQzZDRiZjE5ZDAzN2FlOTFhY2JmKTsKICAgICAgICAgICAgCiAgICAKICAgICAgICAgICAgdmFyIHBvcHVwXzI2OTYxZjBhMDYxMTRjYjhiOWZjMTNjNGZkZDM2N2E5ID0gTC5wb3B1cCh7bWF4V2lkdGg6ICczMDAnfSk7CgogICAgICAgICAgICAKICAgICAgICAgICAgICAgIHZhciBodG1sXzI0ZTA2YmNhYmY2MDQ4Mjc5ZWJhYzk3MzBkZjgyYTgwID0gJCgnPGRpdiBpZD0iaHRtbF8yNGUwNmJjYWJmNjA0ODI3OWViYWM5NzMwZGY4MmE4MCIgc3R5bGU9IndpZHRoOiAxMDAuMCU7IGhlaWdodDogMTAwLjAlOyI+RG93bnN2aWV3PC9kaXY+JylbMF07CiAgICAgICAgICAgICAgICBwb3B1cF8yNjk2MWYwYTA2MTE0Y2I4YjlmYzEzYzRmZGQzNjdhOS5zZXRDb250ZW50KGh0bWxfMjRlMDZiY2FiZjYwNDgyNzllYmFjOTczMGRmODJhODApOwogICAgICAgICAgICAKCiAgICAgICAgICAgIG1hcmtlcl80YjQ5NWNlN2IxZDg0YWU0OTZmZThhNzM2NTc5YzJhNy5iaW5kUG9wdXAocG9wdXBfMjY5NjFmMGEwNjExNGNiOGI5ZmMxM2M0ZmRkMzY3YTkpOwoKICAgICAgICAgICAgCiAgICAgICAgCiAgICAKCiAgICAgICAgICAgIHZhciBtYXJrZXJfYTg1OWM1YjIxMTUxNGNkY2FmM2Y1NzFiNjcwNmIzNjUgPSBMLm1hcmtlcigKICAgICAgICAgICAgICAgIFs0My43MjgwMjA1LC03OS4zODg3OTAxXSwKICAgICAgICAgICAgICAgIHsKICAgICAgICAgICAgICAgICAgICBpY29uOiBuZXcgTC5JY29uLkRlZmF1bHQoKQogICAgICAgICAgICAgICAgICAgIH0KICAgICAgICAgICAgICAgICkKICAgICAgICAgICAgICAgIC5hZGRUbyhtYXBfZTU0OWJjZmFlNDVkNDNkM2E2MGZmMGRlOTVhZWNmZDkpOwogICAgICAgICAgICAKICAgIAoKICAgICAgICAgICAgICAgIHZhciBpY29uX2NiYjA4ZWY4NGNlZDRjNTRiODE4NTA4Zjc4ZDYxOWFjID0gTC5Bd2Vzb21lTWFya2Vycy5pY29uKHsKICAgICAgICAgICAgICAgICAgICBpY29uOiAnaW5mby1zaWduJywKICAgICAgICAgICAgICAgICAgICBpY29uQ29sb3I6ICcjRkZGRjAwJywKICAgICAgICAgICAgICAgICAgICBtYXJrZXJDb2xvcjogJ29yYW5nZScsCiAgICAgICAgICAgICAgICAgICAgcHJlZml4OiAnZ2x5cGhpY29uJywKICAgICAgICAgICAgICAgICAgICBleHRyYUNsYXNzZXM6ICdmYS1yb3RhdGUtMCcKICAgICAgICAgICAgICAgICAgICB9KTsKICAgICAgICAgICAgICAgIG1hcmtlcl9hODU5YzViMjExNTE0Y2RjYWYzZjU3MWI2NzA2YjM2NS5zZXRJY29uKGljb25fY2JiMDhlZjg0Y2VkNGM1NGI4MTg1MDhmNzhkNjE5YWMpOwogICAgICAgICAgICAKICAgIAogICAgICAgICAgICB2YXIgcG9wdXBfZmQ2NmZkOWQyZDUzNGI4OTkzOWQ0ZGMxMTdmNDM5ZjMgPSBMLnBvcHVwKHttYXhXaWR0aDogJzMwMCd9KTsKCiAgICAgICAgICAgIAogICAgICAgICAgICAgICAgdmFyIGh0bWxfMzgyMmE0NzNmNzM3NDNiN2IxMmYzMzg2OTdkNDVmNGQgPSAkKCc8ZGl2IGlkPSJodG1sXzM4MjJhNDczZjczNzQzYjdiMTJmMzM4Njk3ZDQ1ZjRkIiBzdHlsZT0id2lkdGg6IDEwMC4wJTsgaGVpZ2h0OiAxMDAuMCU7Ij5DZW50cmFsIFRvcm9udG88L2Rpdj4nKVswXTsKICAgICAgICAgICAgICAgIHBvcHVwX2ZkNjZmZDlkMmQ1MzRiODk5MzlkNGRjMTE3ZjQzOWYzLnNldENvbnRlbnQoaHRtbF8zODIyYTQ3M2Y3Mzc0M2I3YjEyZjMzODY5N2Q0NWY0ZCk7CiAgICAgICAgICAgIAoKICAgICAgICAgICAgbWFya2VyX2E4NTljNWIyMTE1MTRjZGNhZjNmNTcxYjY3MDZiMzY1LmJpbmRQb3B1cChwb3B1cF9mZDY2ZmQ5ZDJkNTM0Yjg5OTM5ZDRkYzExN2Y0MzlmMyk7CgogICAgICAgICAgICAKICAgICAgICAKICAgIAoKICAgICAgICAgICAgdmFyIG1hcmtlcl8wNTc0NzAzMGI2ZDQ0NWQ0YWVjN2E4MmQwODk2Y2EwYyA9IEwubWFya2VyKAogICAgICAgICAgICAgICAgWzQzLjcxMTY5NDgsLTc5LjQxNjkzNTU5OTk5OTk5XSwKICAgICAgICAgICAgICAgIHsKICAgICAgICAgICAgICAgICAgICBpY29uOiBuZXcgTC5JY29uLkRlZmF1bHQoKQogICAgICAgICAgICAgICAgICAgIH0KICAgICAgICAgICAgICAgICkKICAgICAgICAgICAgICAgIC5hZGRUbyhtYXBfZTU0OWJjZmFlNDVkNDNkM2E2MGZmMGRlOTVhZWNmZDkpOwogICAgICAgICAgICAKICAgIAoKICAgICAgICAgICAgICAgIHZhciBpY29uXzFjNGRjYWZhNTZhZDQ0MzViYjMyNWEyMTRlNTc0NTE4ID0gTC5Bd2Vzb21lTWFya2Vycy5pY29uKHsKICAgICAgICAgICAgICAgICAgICBpY29uOiAnaW5mby1zaWduJywKICAgICAgICAgICAgICAgICAgICBpY29uQ29sb3I6ICcjRkZGRjAwJywKICAgICAgICAgICAgICAgICAgICBtYXJrZXJDb2xvcjogJ29yYW5nZScsCiAgICAgICAgICAgICAgICAgICAgcHJlZml4OiAnZ2x5cGhpY29uJywKICAgICAgICAgICAgICAgICAgICBleHRyYUNsYXNzZXM6ICdmYS1yb3RhdGUtMCcKICAgICAgICAgICAgICAgICAgICB9KTsKICAgICAgICAgICAgICAgIG1hcmtlcl8wNTc0NzAzMGI2ZDQ0NWQ0YWVjN2E4MmQwODk2Y2EwYy5zZXRJY29uKGljb25fMWM0ZGNhZmE1NmFkNDQzNWJiMzI1YTIxNGU1NzQ1MTgpOwogICAgICAgICAgICAKICAgIAogICAgICAgICAgICB2YXIgcG9wdXBfYmYyZjE4YzdjY2MzNDQ0YWJmMzNkYzkzNDJjNjQ1NDUgPSBMLnBvcHVwKHttYXhXaWR0aDogJzMwMCd9KTsKCiAgICAgICAgICAgIAogICAgICAgICAgICAgICAgdmFyIGh0bWxfZWIzZmExMWNlOWIxNGNmMjkwZWFlYjBkNGMwMmNiMTIgPSAkKCc8ZGl2IGlkPSJodG1sX2ViM2ZhMTFjZTliMTRjZjI5MGVhZWIwZDRjMDJjYjEyIiBzdHlsZT0id2lkdGg6IDEwMC4wJTsgaGVpZ2h0OiAxMDAuMCU7Ij5DZW50cmFsIFRvcm9udG88L2Rpdj4nKVswXTsKICAgICAgICAgICAgICAgIHBvcHVwX2JmMmYxOGM3Y2NjMzQ0NGFiZjMzZGM5MzQyYzY0NTQ1LnNldENvbnRlbnQoaHRtbF9lYjNmYTExY2U5YjE0Y2YyOTBlYWViMGQ0YzAyY2IxMik7CiAgICAgICAgICAgIAoKICAgICAgICAgICAgbWFya2VyXzA1NzQ3MDMwYjZkNDQ1ZDRhZWM3YTgyZDA4OTZjYTBjLmJpbmRQb3B1cChwb3B1cF9iZjJmMThjN2NjYzM0NDRhYmYzM2RjOTM0MmM2NDU0NSk7CgogICAgICAgICAgICAKICAgICAgICAKICAgIAoKICAgICAgICAgICAgdmFyIG1hcmtlcl8wM2RiNmM0MjkyMGU0Yzc0YmNkOWMxMWRlYTU1ODYxZCA9IEwubWFya2VyKAogICAgICAgICAgICAgICAgWzQzLjY3MzE4NTI5OTk5OTk5LC03OS40ODcyNjE5MDAwMDAwMV0sCiAgICAgICAgICAgICAgICB7CiAgICAgICAgICAgICAgICAgICAgaWNvbjogbmV3IEwuSWNvbi5EZWZhdWx0KCkKICAgICAgICAgICAgICAgICAgICB9CiAgICAgICAgICAgICAgICApCiAgICAgICAgICAgICAgICAuYWRkVG8obWFwX2U1NDliY2ZhZTQ1ZDQzZDNhNjBmZjBkZTk1YWVjZmQ5KTsKICAgICAgICAgICAgCiAgICAKCiAgICAgICAgICAgICAgICB2YXIgaWNvbl9kNmY0ZmNhMjAyODM0NjQyYTI2OTIwZWJiMjZhMDQ0ZiA9IEwuQXdlc29tZU1hcmtlcnMuaWNvbih7CiAgICAgICAgICAgICAgICAgICAgaWNvbjogJ2luZm8tc2lnbicsCiAgICAgICAgICAgICAgICAgICAgaWNvbkNvbG9yOiAnI0ZGRkYwMCcsCiAgICAgICAgICAgICAgICAgICAgbWFya2VyQ29sb3I6ICdibHVlJywKICAgICAgICAgICAgICAgICAgICBwcmVmaXg6ICdnbHlwaGljb24nLAogICAgICAgICAgICAgICAgICAgIGV4dHJhQ2xhc3NlczogJ2ZhLXJvdGF0ZS0wJwogICAgICAgICAgICAgICAgICAgIH0pOwogICAgICAgICAgICAgICAgbWFya2VyXzAzZGI2YzQyOTIwZTRjNzRiY2Q5YzExZGVhNTU4NjFkLnNldEljb24oaWNvbl9kNmY0ZmNhMjAyODM0NjQyYTI2OTIwZWJiMjZhMDQ0Zik7CiAgICAgICAgICAgIAogICAgCiAgICAgICAgICAgIHZhciBwb3B1cF84OTNkMjk2MjIzMTU0ZjcxYmIxMzZmZWRkY2NhZjRiOSA9IEwucG9wdXAoe21heFdpZHRoOiAnMzAwJ30pOwoKICAgICAgICAgICAgCiAgICAgICAgICAgICAgICB2YXIgaHRtbF8zZmZjZWI0OTYxMGU0M2ZmOWNmYjhmYzUxZDdjZTQ2OSA9ICQoJzxkaXYgaWQ9Imh0bWxfM2ZmY2ViNDk2MTBlNDNmZjljZmI4ZmM1MWQ3Y2U0NjkiIHN0eWxlPSJ3aWR0aDogMTAwLjAlOyBoZWlnaHQ6IDEwMC4wJTsiPllvcms8L2Rpdj4nKVswXTsKICAgICAgICAgICAgICAgIHBvcHVwXzg5M2QyOTYyMjMxNTRmNzFiYjEzNmZlZGRjY2FmNGI5LnNldENvbnRlbnQoaHRtbF8zZmZjZWI0OTYxMGU0M2ZmOWNmYjhmYzUxZDdjZTQ2OSk7CiAgICAgICAgICAgIAoKICAgICAgICAgICAgbWFya2VyXzAzZGI2YzQyOTIwZTRjNzRiY2Q5YzExZGVhNTU4NjFkLmJpbmRQb3B1cChwb3B1cF84OTNkMjk2MjIzMTU0ZjcxYmIxMzZmZWRkY2NhZjRiOSk7CgogICAgICAgICAgICAKICAgICAgICAKICAgIAoKICAgICAgICAgICAgdmFyIG1hcmtlcl9hMDEwYzU0ZTE2NzU0NmUzODQ2MGVlYTYxNWNlYmJiZiA9IEwubWFya2VyKAogICAgICAgICAgICAgICAgWzQzLjcwNjg3NiwtNzkuNTE4MTg4NDAwMDAwMDFdLAogICAgICAgICAgICAgICAgewogICAgICAgICAgICAgICAgICAgIGljb246IG5ldyBMLkljb24uRGVmYXVsdCgpCiAgICAgICAgICAgICAgICAgICAgfQogICAgICAgICAgICAgICAgKQogICAgICAgICAgICAgICAgLmFkZFRvKG1hcF9lNTQ5YmNmYWU0NWQ0M2QzYTYwZmYwZGU5NWFlY2ZkOSk7CiAgICAgICAgICAgIAogICAgCgogICAgICAgICAgICAgICAgdmFyIGljb25fZjgyZTcxZjVhZmM0NDczY2FkM2VkMGIzN2Y5NGI4YWQgPSBMLkF3ZXNvbWVNYXJrZXJzLmljb24oewogICAgICAgICAgICAgICAgICAgIGljb246ICdpbmZvLXNpZ24nLAogICAgICAgICAgICAgICAgICAgIGljb25Db2xvcjogJyNGRkZGMDAnLAogICAgICAgICAgICAgICAgICAgIG1hcmtlckNvbG9yOiAnYmx1ZScsCiAgICAgICAgICAgICAgICAgICAgcHJlZml4OiAnZ2x5cGhpY29uJywKICAgICAgICAgICAgICAgICAgICBleHRyYUNsYXNzZXM6ICdmYS1yb3RhdGUtMCcKICAgICAgICAgICAgICAgICAgICB9KTsKICAgICAgICAgICAgICAgIG1hcmtlcl9hMDEwYzU0ZTE2NzU0NmUzODQ2MGVlYTYxNWNlYmJiZi5zZXRJY29uKGljb25fZjgyZTcxZjVhZmM0NDczY2FkM2VkMGIzN2Y5NGI4YWQpOwogICAgICAgICAgICAKICAgIAogICAgICAgICAgICB2YXIgcG9wdXBfM2FjNjUxNjFjMWUxNGJkYTg0NDE0ZjBkNDI1NDg2ZDUgPSBMLnBvcHVwKHttYXhXaWR0aDogJzMwMCd9KTsKCiAgICAgICAgICAgIAogICAgICAgICAgICAgICAgdmFyIGh0bWxfZjVkNmU1N2YyY2Q4NDQyYmE5ODdlYTQ3M2VjYTcwYzEgPSAkKCc8ZGl2IGlkPSJodG1sX2Y1ZDZlNTdmMmNkODQ0MmJhOTg3ZWE0NzNlY2E3MGMxIiBzdHlsZT0id2lkdGg6IDEwMC4wJTsgaGVpZ2h0OiAxMDAuMCU7Ij5Zb3JrPC9kaXY+JylbMF07CiAgICAgICAgICAgICAgICBwb3B1cF8zYWM2NTE2MWMxZTE0YmRhODQ0MTRmMGQ0MjU0ODZkNS5zZXRDb250ZW50KGh0bWxfZjVkNmU1N2YyY2Q4NDQyYmE5ODdlYTQ3M2VjYTcwYzEpOwogICAgICAgICAgICAKCiAgICAgICAgICAgIG1hcmtlcl9hMDEwYzU0ZTE2NzU0NmUzODQ2MGVlYTYxNWNlYmJiZi5iaW5kUG9wdXAocG9wdXBfM2FjNjUxNjFjMWUxNGJkYTg0NDE0ZjBkNDI1NDg2ZDUpOwoKICAgICAgICAgICAgCiAgICAgICAgCiAgICAKCiAgICAgICAgICAgIHZhciBtYXJrZXJfMDk5NmI1ZDVlZDVhNDg4M2JhYzU4YjM3Y2UyNTZhNWMgPSBMLm1hcmtlcigKICAgICAgICAgICAgICAgIFs0My43NTc0MDk2LC03OS4yNzMzMDQwMDAwMDAwMV0sCiAgICAgICAgICAgICAgICB7CiAgICAgICAgICAgICAgICAgICAgaWNvbjogbmV3IEwuSWNvbi5EZWZhdWx0KCkKICAgICAgICAgICAgICAgICAgICB9CiAgICAgICAgICAgICAgICApCiAgICAgICAgICAgICAgICAuYWRkVG8obWFwX2U1NDliY2ZhZTQ1ZDQzZDNhNjBmZjBkZTk1YWVjZmQ5KTsKICAgICAgICAgICAgCiAgICAKCiAgICAgICAgICAgICAgICB2YXIgaWNvbl82ZTI3YjM1Yzk3Yjc0NzY5YTg4ZWViZTkwMDE5ZDVhMSA9IEwuQXdlc29tZU1hcmtlcnMuaWNvbih7CiAgICAgICAgICAgICAgICAgICAgaWNvbjogJ2luZm8tc2lnbicsCiAgICAgICAgICAgICAgICAgICAgaWNvbkNvbG9yOiAnI0ZGRkYwMCcsCiAgICAgICAgICAgICAgICAgICAgbWFya2VyQ29sb3I6ICdsaWdodHJlZCcsCiAgICAgICAgICAgICAgICAgICAgcHJlZml4OiAnZ2x5cGhpY29uJywKICAgICAgICAgICAgICAgICAgICBleHRyYUNsYXNzZXM6ICdmYS1yb3RhdGUtMCcKICAgICAgICAgICAgICAgICAgICB9KTsKICAgICAgICAgICAgICAgIG1hcmtlcl8wOTk2YjVkNWVkNWE0ODgzYmFjNThiMzdjZTI1NmE1Yy5zZXRJY29uKGljb25fNmUyN2IzNWM5N2I3NDc2OWE4OGVlYmU5MDAxOWQ1YTEpOwogICAgICAgICAgICAKICAgIAogICAgICAgICAgICB2YXIgcG9wdXBfY2NiMWNhOGQ1ZmI4NGZjMGJmNWVmYzE4YTZjYTU2YzQgPSBMLnBvcHVwKHttYXhXaWR0aDogJzMwMCd9KTsKCiAgICAgICAgICAgIAogICAgICAgICAgICAgICAgdmFyIGh0bWxfNTYxYmVhNTJkZTFhNDJiNmJmYmJlOTY0ZjQ5YjMwMzUgPSAkKCc8ZGl2IGlkPSJodG1sXzU2MWJlYTUyZGUxYTQyYjZiZmJiZTk2NGY0OWIzMDM1IiBzdHlsZT0id2lkdGg6IDEwMC4wJTsgaGVpZ2h0OiAxMDAuMCU7Ij5TY2FyYm9yb3VnaDwvZGl2PicpWzBdOwogICAgICAgICAgICAgICAgcG9wdXBfY2NiMWNhOGQ1ZmI4NGZjMGJmNWVmYzE4YTZjYTU2YzQuc2V0Q29udGVudChodG1sXzU2MWJlYTUyZGUxYTQyYjZiZmJiZTk2NGY0OWIzMDM1KTsKICAgICAgICAgICAgCgogICAgICAgICAgICBtYXJrZXJfMDk5NmI1ZDVlZDVhNDg4M2JhYzU4YjM3Y2UyNTZhNWMuYmluZFBvcHVwKHBvcHVwX2NjYjFjYThkNWZiODRmYzBiZjVlZmMxOGE2Y2E1NmM0KTsKCiAgICAgICAgICAgIAogICAgICAgIAogICAgCgogICAgICAgICAgICB2YXIgbWFya2VyXzZkN2Q4MGZjMGFlMTQ2YWE5MzMyMmJjOGQ0ODU3ZWUyID0gTC5tYXJrZXIoCiAgICAgICAgICAgICAgICBbNDMuNzUyNzU4Mjk5OTk5OTk2LC03OS40MDAwNDkzXSwKICAgICAgICAgICAgICAgIHsKICAgICAgICAgICAgICAgICAgICBpY29uOiBuZXcgTC5JY29uLkRlZmF1bHQoKQogICAgICAgICAgICAgICAgICAgIH0KICAgICAgICAgICAgICAgICkKICAgICAgICAgICAgICAgIC5hZGRUbyhtYXBfZTU0OWJjZmFlNDVkNDNkM2E2MGZmMGRlOTVhZWNmZDkpOwogICAgICAgICAgICAKICAgIAoKICAgICAgICAgICAgICAgIHZhciBpY29uXzFjYzhmMDQ4MjQ4MTRjZGQ5YzI1Y2JhYjI3NjQxNDZmID0gTC5Bd2Vzb21lTWFya2Vycy5pY29uKHsKICAgICAgICAgICAgICAgICAgICBpY29uOiAnaW5mby1zaWduJywKICAgICAgICAgICAgICAgICAgICBpY29uQ29sb3I6ICcjRkZGRjAwJywKICAgICAgICAgICAgICAgICAgICBtYXJrZXJDb2xvcjogJ3B1cnBsZScsCiAgICAgICAgICAgICAgICAgICAgcHJlZml4OiAnZ2x5cGhpY29uJywKICAgICAgICAgICAgICAgICAgICBleHRyYUNsYXNzZXM6ICdmYS1yb3RhdGUtMCcKICAgICAgICAgICAgICAgICAgICB9KTsKICAgICAgICAgICAgICAgIG1hcmtlcl82ZDdkODBmYzBhZTE0NmFhOTMzMjJiYzhkNDg1N2VlMi5zZXRJY29uKGljb25fMWNjOGYwNDgyNDgxNGNkZDljMjVjYmFiMjc2NDE0NmYpOwogICAgICAgICAgICAKICAgIAogICAgICAgICAgICB2YXIgcG9wdXBfZDEzYWU3ODZkZGEwNDBiYThlNGU0ZTgzNzE5N2Y3MDAgPSBMLnBvcHVwKHttYXhXaWR0aDogJzMwMCd9KTsKCiAgICAgICAgICAgIAogICAgICAgICAgICAgICAgdmFyIGh0bWxfNThjZWQyOTRhMzYzNGQ1OTg0NTJkMjhmM2U1Njk5ZDEgPSAkKCc8ZGl2IGlkPSJodG1sXzU4Y2VkMjk0YTM2MzRkNTk4NDUyZDI4ZjNlNTY5OWQxIiBzdHlsZT0id2lkdGg6IDEwMC4wJTsgaGVpZ2h0OiAxMDAuMCU7Ij5Zb3JrIE1pbGxzIFdlc3Q8L2Rpdj4nKVswXTsKICAgICAgICAgICAgICAgIHBvcHVwX2QxM2FlNzg2ZGRhMDQwYmE4ZTRlNGU4MzcxOTdmNzAwLnNldENvbnRlbnQoaHRtbF81OGNlZDI5NGEzNjM0ZDU5ODQ1MmQyOGYzZTU2OTlkMSk7CiAgICAgICAgICAgIAoKICAgICAgICAgICAgbWFya2VyXzZkN2Q4MGZjMGFlMTQ2YWE5MzMyMmJjOGQ0ODU3ZWUyLmJpbmRQb3B1cChwb3B1cF9kMTNhZTc4NmRkYTA0MGJhOGU0ZTRlODM3MTk3ZjcwMCk7CgogICAgICAgICAgICAKICAgICAgICAKICAgIAoKICAgICAgICAgICAgdmFyIG1hcmtlcl8wMDk0MjA0NTQwODU0YmU0YWYzZTNkMTdhZWJlZWM1MCA9IEwubWFya2VyKAogICAgICAgICAgICAgICAgWzQzLjcxMjc1MTEsLTc5LjM5MDE5NzVdLAogICAgICAgICAgICAgICAgewogICAgICAgICAgICAgICAgICAgIGljb246IG5ldyBMLkljb24uRGVmYXVsdCgpCiAgICAgICAgICAgICAgICAgICAgfQogICAgICAgICAgICAgICAgKQogICAgICAgICAgICAgICAgLmFkZFRvKG1hcF9lNTQ5YmNmYWU0NWQ0M2QzYTYwZmYwZGU5NWFlY2ZkOSk7CiAgICAgICAgICAgIAogICAgCgogICAgICAgICAgICAgICAgdmFyIGljb25fMjEzOTA0YzdkM2I4NDJmNWEwODNhNTI1NTZmN2JlYmYgPSBMLkF3ZXNvbWVNYXJrZXJzLmljb24oewogICAgICAgICAgICAgICAgICAgIGljb246ICdpbmZvLXNpZ24nLAogICAgICAgICAgICAgICAgICAgIGljb25Db2xvcjogJyNGRkZGMDAnLAogICAgICAgICAgICAgICAgICAgIG1hcmtlckNvbG9yOiAnb3JhbmdlJywKICAgICAgICAgICAgICAgICAgICBwcmVmaXg6ICdnbHlwaGljb24nLAogICAgICAgICAgICAgICAgICAgIGV4dHJhQ2xhc3NlczogJ2ZhLXJvdGF0ZS0wJwogICAgICAgICAgICAgICAgICAgIH0pOwogICAgICAgICAgICAgICAgbWFya2VyXzAwOTQyMDQ1NDA4NTRiZTRhZjNlM2QxN2FlYmVlYzUwLnNldEljb24oaWNvbl8yMTM5MDRjN2QzYjg0MmY1YTA4M2E1MjU1NmY3YmViZik7CiAgICAgICAgICAgIAogICAgCiAgICAgICAgICAgIHZhciBwb3B1cF9kMDcxYjJiODU1ZWM0MDM4YWM1ZjRkYzlmZjQwNjc4ZiA9IEwucG9wdXAoe21heFdpZHRoOiAnMzAwJ30pOwoKICAgICAgICAgICAgCiAgICAgICAgICAgICAgICB2YXIgaHRtbF9jODI5NjgxYmYwYTk0YTI1Yjk5ZTUyOGNkZTFjMmMyNCA9ICQoJzxkaXYgaWQ9Imh0bWxfYzgyOTY4MWJmMGE5NGEyNWI5OWU1MjhjZGUxYzJjMjQiIHN0eWxlPSJ3aWR0aDogMTAwLjAlOyBoZWlnaHQ6IDEwMC4wJTsiPkNlbnRyYWwgVG9yb250bzwvZGl2PicpWzBdOwogICAgICAgICAgICAgICAgcG9wdXBfZDA3MWIyYjg1NWVjNDAzOGFjNWY0ZGM5ZmY0MDY3OGYuc2V0Q29udGVudChodG1sX2M4Mjk2ODFiZjBhOTRhMjViOTllNTI4Y2RlMWMyYzI0KTsKICAgICAgICAgICAgCgogICAgICAgICAgICBtYXJrZXJfMDA5NDIwNDU0MDg1NGJlNGFmM2UzZDE3YWViZWVjNTAuYmluZFBvcHVwKHBvcHVwX2QwNzFiMmI4NTVlYzQwMzhhYzVmNGRjOWZmNDA2NzhmKTsKCiAgICAgICAgICAgIAogICAgICAgIAogICAgCgogICAgICAgICAgICB2YXIgbWFya2VyXzIwYjFiNmIwNTZmYzRiZTZiMTg0ZTdhYTBmOTU2YzdhID0gTC5tYXJrZXIoCiAgICAgICAgICAgICAgICBbNDMuNjk2OTQ3NiwtNzkuNDExMzA3MjAwMDAwMDFdLAogICAgICAgICAgICAgICAgewogICAgICAgICAgICAgICAgICAgIGljb246IG5ldyBMLkljb24uRGVmYXVsdCgpCiAgICAgICAgICAgICAgICAgICAgfQogICAgICAgICAgICAgICAgKQogICAgICAgICAgICAgICAgLmFkZFRvKG1hcF9lNTQ5YmNmYWU0NWQ0M2QzYTYwZmYwZGU5NWFlY2ZkOSk7CiAgICAgICAgICAgIAogICAgCgogICAgICAgICAgICAgICAgdmFyIGljb25fZGVjMzU0NzAzZGZhNDg3Njg2ZWY2MzFhMWJkNTQ5N2YgPSBMLkF3ZXNvbWVNYXJrZXJzLmljb24oewogICAgICAgICAgICAgICAgICAgIGljb246ICdpbmZvLXNpZ24nLAogICAgICAgICAgICAgICAgICAgIGljb25Db2xvcjogJyNGRkZGMDAnLAogICAgICAgICAgICAgICAgICAgIG1hcmtlckNvbG9yOiAnb3JhbmdlJywKICAgICAgICAgICAgICAgICAgICBwcmVmaXg6ICdnbHlwaGljb24nLAogICAgICAgICAgICAgICAgICAgIGV4dHJhQ2xhc3NlczogJ2ZhLXJvdGF0ZS0wJwogICAgICAgICAgICAgICAgICAgIH0pOwogICAgICAgICAgICAgICAgbWFya2VyXzIwYjFiNmIwNTZmYzRiZTZiMTg0ZTdhYTBmOTU2YzdhLnNldEljb24oaWNvbl9kZWMzNTQ3MDNkZmE0ODc2ODZlZjYzMWExYmQ1NDk3Zik7CiAgICAgICAgICAgIAogICAgCiAgICAgICAgICAgIHZhciBwb3B1cF9hODdmNDgwNjEyNzM0ZjQzYTM5OTIxZWE4YjgzYWMyZCA9IEwucG9wdXAoe21heFdpZHRoOiAnMzAwJ30pOwoKICAgICAgICAgICAgCiAgICAgICAgICAgICAgICB2YXIgaHRtbF9hMjQyMWRmZTU1OTQ0NTVlOTNjOGMzYjE0NjI2OWVkMCA9ICQoJzxkaXYgaWQ9Imh0bWxfYTI0MjFkZmU1NTk0NDU1ZTkzYzhjM2IxNDYyNjllZDAiIHN0eWxlPSJ3aWR0aDogMTAwLjAlOyBoZWlnaHQ6IDEwMC4wJTsiPkNlbnRyYWwgVG9yb250bzwvZGl2PicpWzBdOwogICAgICAgICAgICAgICAgcG9wdXBfYTg3ZjQ4MDYxMjczNGY0M2EzOTkyMWVhOGI4M2FjMmQuc2V0Q29udGVudChodG1sX2EyNDIxZGZlNTU5NDQ1NWU5M2M4YzNiMTQ2MjY5ZWQwKTsKICAgICAgICAgICAgCgogICAgICAgICAgICBtYXJrZXJfMjBiMWI2YjA1NmZjNGJlNmIxODRlN2FhMGY5NTZjN2EuYmluZFBvcHVwKHBvcHVwX2E4N2Y0ODA2MTI3MzRmNDNhMzk5MjFlYThiODNhYzJkKTsKCiAgICAgICAgICAgIAogICAgICAgIAogICAgCgogICAgICAgICAgICB2YXIgbWFya2VyX2Y2MTdlODk3Y2MwNTRiN2ViM2Q3NzBiYTBmYzIxNDBlID0gTC5tYXJrZXIoCiAgICAgICAgICAgICAgICBbNDMuNjYxNjA4MywtNzkuNDY0NzYzMjk5OTk5OTldLAogICAgICAgICAgICAgICAgewogICAgICAgICAgICAgICAgICAgIGljb246IG5ldyBMLkljb24uRGVmYXVsdCgpCiAgICAgICAgICAgICAgICAgICAgfQogICAgICAgICAgICAgICAgKQogICAgICAgICAgICAgICAgLmFkZFRvKG1hcF9lNTQ5YmNmYWU0NWQ0M2QzYTYwZmYwZGU5NWFlY2ZkOSk7CiAgICAgICAgICAgIAogICAgCgogICAgICAgICAgICAgICAgdmFyIGljb25fZWJkMDI4Y2Q1Yzk1NDczZmEyYTM2OGFhNWUwMmMwMjggPSBMLkF3ZXNvbWVNYXJrZXJzLmljb24oewogICAgICAgICAgICAgICAgICAgIGljb246ICdpbmZvLXNpZ24nLAogICAgICAgICAgICAgICAgICAgIGljb25Db2xvcjogJyNGRkZGMDAnLAogICAgICAgICAgICAgICAgICAgIG1hcmtlckNvbG9yOiAncmVkJywKICAgICAgICAgICAgICAgICAgICBwcmVmaXg6ICdnbHlwaGljb24nLAogICAgICAgICAgICAgICAgICAgIGV4dHJhQ2xhc3NlczogJ2ZhLXJvdGF0ZS0wJwogICAgICAgICAgICAgICAgICAgIH0pOwogICAgICAgICAgICAgICAgbWFya2VyX2Y2MTdlODk3Y2MwNTRiN2ViM2Q3NzBiYTBmYzIxNDBlLnNldEljb24oaWNvbl9lYmQwMjhjZDVjOTU0NzNmYTJhMzY4YWE1ZTAyYzAyOCk7CiAgICAgICAgICAgIAogICAgCiAgICAgICAgICAgIHZhciBwb3B1cF9lYjUyNzYyNjI1OTA0NjMwODBkM2NiYTMwMjRmMTdhNyA9IEwucG9wdXAoe21heFdpZHRoOiAnMzAwJ30pOwoKICAgICAgICAgICAgCiAgICAgICAgICAgICAgICB2YXIgaHRtbF8zMjA3MTQ1OTdhZTM0NGVhOTBiMWU5YzI0N2UzMjIzYSA9ICQoJzxkaXYgaWQ9Imh0bWxfMzIwNzE0NTk3YWUzNDRlYTkwYjFlOWMyNDdlMzIyM2EiIHN0eWxlPSJ3aWR0aDogMTAwLjAlOyBoZWlnaHQ6IDEwMC4wJTsiPldlc3QgVG9yb250bzwvZGl2PicpWzBdOwogICAgICAgICAgICAgICAgcG9wdXBfZWI1Mjc2MjYyNTkwNDYzMDgwZDNjYmEzMDI0ZjE3YTcuc2V0Q29udGVudChodG1sXzMyMDcxNDU5N2FlMzQ0ZWE5MGIxZTljMjQ3ZTMyMjNhKTsKICAgICAgICAgICAgCgogICAgICAgICAgICBtYXJrZXJfZjYxN2U4OTdjYzA1NGI3ZWIzZDc3MGJhMGZjMjE0MGUuYmluZFBvcHVwKHBvcHVwX2ViNTI3NjI2MjU5MDQ2MzA4MGQzY2JhMzAyNGYxN2E3KTsKCiAgICAgICAgICAgIAogICAgICAgIAogICAgCgogICAgICAgICAgICB2YXIgbWFya2VyXzBmYTI3ODQwYjM4NjQ1NTdhMzg0Njk4ZWExNWRkYTY0ID0gTC5tYXJrZXIoCiAgICAgICAgICAgICAgICBbNDMuNjk2MzE5LC03OS41MzIyNDI0MDAwMDAwMl0sCiAgICAgICAgICAgICAgICB7CiAgICAgICAgICAgICAgICAgICAgaWNvbjogbmV3IEwuSWNvbi5EZWZhdWx0KCkKICAgICAgICAgICAgICAgICAgICB9CiAgICAgICAgICAgICAgICApCiAgICAgICAgICAgICAgICAuYWRkVG8obWFwX2U1NDliY2ZhZTQ1ZDQzZDNhNjBmZjBkZTk1YWVjZmQ5KTsKICAgICAgICAgICAgCiAgICAKCiAgICAgICAgICAgICAgICB2YXIgaWNvbl85NTUwMTgxZDBlNDg0YjEyOWFhMzMxYzIzOTg4OTYwYyA9IEwuQXdlc29tZU1hcmtlcnMuaWNvbih7CiAgICAgICAgICAgICAgICAgICAgaWNvbjogJ2luZm8tc2lnbicsCiAgICAgICAgICAgICAgICAgICAgaWNvbkNvbG9yOiAnI0ZGRkYwMCcsCiAgICAgICAgICAgICAgICAgICAgbWFya2VyQ29sb3I6ICdncmVlbicsCiAgICAgICAgICAgICAgICAgICAgcHJlZml4OiAnZ2x5cGhpY29uJywKICAgICAgICAgICAgICAgICAgICBleHRyYUNsYXNzZXM6ICdmYS1yb3RhdGUtMCcKICAgICAgICAgICAgICAgICAgICB9KTsKICAgICAgICAgICAgICAgIG1hcmtlcl8wZmEyNzg0MGIzODY0NTU3YTM4NDY5OGVhMTVkZGE2NC5zZXRJY29uKGljb25fOTU1MDE4MWQwZTQ4NGIxMjlhYTMzMWMyMzk4ODk2MGMpOwogICAgICAgICAgICAKICAgIAogICAgICAgICAgICB2YXIgcG9wdXBfZmFhZTFkZWYyN2Y5NDZhNTljOGNjM2YwNDE1YTJlNDAgPSBMLnBvcHVwKHttYXhXaWR0aDogJzMwMCd9KTsKCiAgICAgICAgICAgIAogICAgICAgICAgICAgICAgdmFyIGh0bWxfNzBhZGJkMzJhOWY2NGUxNWJjMzkxNTk4ZjFmYjU5ZTkgPSAkKCc8ZGl2IGlkPSJodG1sXzcwYWRiZDMyYTlmNjRlMTViYzM5MTU5OGYxZmI1OWU5IiBzdHlsZT0id2lkdGg6IDEwMC4wJTsgaGVpZ2h0OiAxMDAuMCU7Ij5FdG9iaWNva2U8L2Rpdj4nKVswXTsKICAgICAgICAgICAgICAgIHBvcHVwX2ZhYWUxZGVmMjdmOTQ2YTU5YzhjYzNmMDQxNWEyZTQwLnNldENvbnRlbnQoaHRtbF83MGFkYmQzMmE5ZjY0ZTE1YmMzOTE1OThmMWZiNTllOSk7CiAgICAgICAgICAgIAoKICAgICAgICAgICAgbWFya2VyXzBmYTI3ODQwYjM4NjQ1NTdhMzg0Njk4ZWExNWRkYTY0LmJpbmRQb3B1cChwb3B1cF9mYWFlMWRlZjI3Zjk0NmE1OWM4Y2MzZjA0MTVhMmU0MCk7CgogICAgICAgICAgICAKICAgICAgICAKICAgIAoKICAgICAgICAgICAgdmFyIG1hcmtlcl84YmU5NzBjNzA1ODg0MWM5ODgyZjYwZjI0MzA0ZjA4NiA9IEwubWFya2VyKAogICAgICAgICAgICAgICAgWzQzLjc1MDA3MTUwMDAwMDAwNCwtNzkuMjk1ODQ5MV0sCiAgICAgICAgICAgICAgICB7CiAgICAgICAgICAgICAgICAgICAgaWNvbjogbmV3IEwuSWNvbi5EZWZhdWx0KCkKICAgICAgICAgICAgICAgICAgICB9CiAgICAgICAgICAgICAgICApCiAgICAgICAgICAgICAgICAuYWRkVG8obWFwX2U1NDliY2ZhZTQ1ZDQzZDNhNjBmZjBkZTk1YWVjZmQ5KTsKICAgICAgICAgICAgCiAgICAKCiAgICAgICAgICAgICAgICB2YXIgaWNvbl9iNWU1OTY2ZmRmNGM0YTU4YWUzM2RkNTAwMGNmNDViNyA9IEwuQXdlc29tZU1hcmtlcnMuaWNvbih7CiAgICAgICAgICAgICAgICAgICAgaWNvbjogJ2luZm8tc2lnbicsCiAgICAgICAgICAgICAgICAgICAgaWNvbkNvbG9yOiAnI0ZGRkYwMCcsCiAgICAgICAgICAgICAgICAgICAgbWFya2VyQ29sb3I6ICdsaWdodHJlZCcsCiAgICAgICAgICAgICAgICAgICAgcHJlZml4OiAnZ2x5cGhpY29uJywKICAgICAgICAgICAgICAgICAgICBleHRyYUNsYXNzZXM6ICdmYS1yb3RhdGUtMCcKICAgICAgICAgICAgICAgICAgICB9KTsKICAgICAgICAgICAgICAgIG1hcmtlcl84YmU5NzBjNzA1ODg0MWM5ODgyZjYwZjI0MzA0ZjA4Ni5zZXRJY29uKGljb25fYjVlNTk2NmZkZjRjNGE1OGFlMzNkZDUwMDBjZjQ1YjcpOwogICAgICAgICAgICAKICAgIAogICAgICAgICAgICB2YXIgcG9wdXBfNmEyMjMxNjlmY2Y5NDBjNmEyYjc2OTg0ZTMyNjE5YWUgPSBMLnBvcHVwKHttYXhXaWR0aDogJzMwMCd9KTsKCiAgICAgICAgICAgIAogICAgICAgICAgICAgICAgdmFyIGh0bWxfOTgyNDg5MmMxODkxNDVlN2FhOTJiYTBmZTY0YTczZDIgPSAkKCc8ZGl2IGlkPSJodG1sXzk4MjQ4OTJjMTg5MTQ1ZTdhYTkyYmEwZmU2NGE3M2QyIiBzdHlsZT0id2lkdGg6IDEwMC4wJTsgaGVpZ2h0OiAxMDAuMCU7Ij5TY2FyYm9yb3VnaDwvZGl2PicpWzBdOwogICAgICAgICAgICAgICAgcG9wdXBfNmEyMjMxNjlmY2Y5NDBjNmEyYjc2OTg0ZTMyNjE5YWUuc2V0Q29udGVudChodG1sXzk4MjQ4OTJjMTg5MTQ1ZTdhYTkyYmEwZmU2NGE3M2QyKTsKICAgICAgICAgICAgCgogICAgICAgICAgICBtYXJrZXJfOGJlOTcwYzcwNTg4NDFjOTg4MmY2MGYyNDMwNGYwODYuYmluZFBvcHVwKHBvcHVwXzZhMjIzMTY5ZmNmOTQwYzZhMmI3Njk4NGUzMjYxOWFlKTsKCiAgICAgICAgICAgIAogICAgICAgIAogICAgCgogICAgICAgICAgICB2YXIgbWFya2VyXzQxM2ViOTk3MzVmNzRkMjBiZmNkMGQ1MWQwNWRmYjA3ID0gTC5tYXJrZXIoCiAgICAgICAgICAgICAgICBbNDMuNzgyNzM2NCwtNzkuNDQyMjU5M10sCiAgICAgICAgICAgICAgICB7CiAgICAgICAgICAgICAgICAgICAgaWNvbjogbmV3IEwuSWNvbi5EZWZhdWx0KCkKICAgICAgICAgICAgICAgICAgICB9CiAgICAgICAgICAgICAgICApCiAgICAgICAgICAgICAgICAuYWRkVG8obWFwX2U1NDliY2ZhZTQ1ZDQzZDNhNjBmZjBkZTk1YWVjZmQ5KTsKICAgICAgICAgICAgCiAgICAKCiAgICAgICAgICAgICAgICB2YXIgaWNvbl83NmQzNDY2N2QxYzA0MGI2OWRkYThjNzYxMGFlZTcxZiA9IEwuQXdlc29tZU1hcmtlcnMuaWNvbih7CiAgICAgICAgICAgICAgICAgICAgaWNvbjogJ2luZm8tc2lnbicsCiAgICAgICAgICAgICAgICAgICAgaWNvbkNvbG9yOiAnI0ZGRkYwMCcsCiAgICAgICAgICAgICAgICAgICAgbWFya2VyQ29sb3I6ICdwdXJwbGUnLAogICAgICAgICAgICAgICAgICAgIHByZWZpeDogJ2dseXBoaWNvbicsCiAgICAgICAgICAgICAgICAgICAgZXh0cmFDbGFzc2VzOiAnZmEtcm90YXRlLTAnCiAgICAgICAgICAgICAgICAgICAgfSk7CiAgICAgICAgICAgICAgICBtYXJrZXJfNDEzZWI5OTczNWY3NGQyMGJmY2QwZDUxZDA1ZGZiMDcuc2V0SWNvbihpY29uXzc2ZDM0NjY3ZDFjMDQwYjY5ZGRhOGM3NjEwYWVlNzFmKTsKICAgICAgICAgICAgCiAgICAKICAgICAgICAgICAgdmFyIHBvcHVwX2U4MDA3MWNiZTJhYzRkYWNhNmExZDA1ODExYzUwZDlmID0gTC5wb3B1cCh7bWF4V2lkdGg6ICczMDAnfSk7CgogICAgICAgICAgICAKICAgICAgICAgICAgICAgIHZhciBodG1sX2NkMGI3YjQxNzJjNTRlNWU5ODExYzA1MTFmY2JlYmRkID0gJCgnPGRpdiBpZD0iaHRtbF9jZDBiN2I0MTcyYzU0ZTVlOTgxMWMwNTExZmNiZWJkZCIgc3R5bGU9IndpZHRoOiAxMDAuMCU7IGhlaWdodDogMTAwLjAlOyI+V2lsbG93ZGFsZSwgV2lsbG93ZGFsZSBXZXN0PC9kaXY+JylbMF07CiAgICAgICAgICAgICAgICBwb3B1cF9lODAwNzFjYmUyYWM0ZGFjYTZhMWQwNTgxMWM1MGQ5Zi5zZXRDb250ZW50KGh0bWxfY2QwYjdiNDE3MmM1NGU1ZTk4MTFjMDUxMWZjYmViZGQpOwogICAgICAgICAgICAKCiAgICAgICAgICAgIG1hcmtlcl80MTNlYjk5NzM1Zjc0ZDIwYmZjZDBkNTFkMDVkZmIwNy5iaW5kUG9wdXAocG9wdXBfZTgwMDcxY2JlMmFjNGRhY2E2YTFkMDU4MTFjNTBkOWYpOwoKICAgICAgICAgICAgCiAgICAgICAgCiAgICAKCiAgICAgICAgICAgIHZhciBtYXJrZXJfNTE2YTZhOTQ3MDcyNDFiOWJiMDFhYzM5MzcxMzgxNDIgPSBMLm1hcmtlcigKICAgICAgICAgICAgICAgIFs0My43MTUzODM0LC03OS40MDU2Nzg0MDAwMDAwMV0sCiAgICAgICAgICAgICAgICB7CiAgICAgICAgICAgICAgICAgICAgaWNvbjogbmV3IEwuSWNvbi5EZWZhdWx0KCkKICAgICAgICAgICAgICAgICAgICB9CiAgICAgICAgICAgICAgICApCiAgICAgICAgICAgICAgICAuYWRkVG8obWFwX2U1NDliY2ZhZTQ1ZDQzZDNhNjBmZjBkZTk1YWVjZmQ5KTsKICAgICAgICAgICAgCiAgICAKCiAgICAgICAgICAgICAgICB2YXIgaWNvbl8yMmI2ZDgyNDI4N2Q0MjliOGYwYjFmNmRkM2JiNDZhOSA9IEwuQXdlc29tZU1hcmtlcnMuaWNvbih7CiAgICAgICAgICAgICAgICAgICAgaWNvbjogJ2luZm8tc2lnbicsCiAgICAgICAgICAgICAgICAgICAgaWNvbkNvbG9yOiAnI0ZGRkYwMCcsCiAgICAgICAgICAgICAgICAgICAgbWFya2VyQ29sb3I6ICdvcmFuZ2UnLAogICAgICAgICAgICAgICAgICAgIHByZWZpeDogJ2dseXBoaWNvbicsCiAgICAgICAgICAgICAgICAgICAgZXh0cmFDbGFzc2VzOiAnZmEtcm90YXRlLTAnCiAgICAgICAgICAgICAgICAgICAgfSk7CiAgICAgICAgICAgICAgICBtYXJrZXJfNTE2YTZhOTQ3MDcyNDFiOWJiMDFhYzM5MzcxMzgxNDIuc2V0SWNvbihpY29uXzIyYjZkODI0Mjg3ZDQyOWI4ZjBiMWY2ZGQzYmI0NmE5KTsKICAgICAgICAgICAgCiAgICAKICAgICAgICAgICAgdmFyIHBvcHVwX2YwZjM1OTZkZGMyNDQ0NTQ4NGJlZmU4YjQzNDAxYzJmID0gTC5wb3B1cCh7bWF4V2lkdGg6ICczMDAnfSk7CgogICAgICAgICAgICAKICAgICAgICAgICAgICAgIHZhciBodG1sXzI0ZDQyZGJiNDc0NjQ3ODdhYjA4MDM4MGM5NjU2OGVlID0gJCgnPGRpdiBpZD0iaHRtbF8yNGQ0MmRiYjQ3NDY0Nzg3YWIwODAzODBjOTY1NjhlZSIgc3R5bGU9IndpZHRoOiAxMDAuMCU7IGhlaWdodDogMTAwLjAlOyI+Q2VudHJhbCBUb3JvbnRvPC9kaXY+JylbMF07CiAgICAgICAgICAgICAgICBwb3B1cF9mMGYzNTk2ZGRjMjQ0NDU0ODRiZWZlOGI0MzQwMWMyZi5zZXRDb250ZW50KGh0bWxfMjRkNDJkYmI0NzQ2NDc4N2FiMDgwMzgwYzk2NTY4ZWUpOwogICAgICAgICAgICAKCiAgICAgICAgICAgIG1hcmtlcl81MTZhNmE5NDcwNzI0MWI5YmIwMWFjMzkzNzEzODE0Mi5iaW5kUG9wdXAocG9wdXBfZjBmMzU5NmRkYzI0NDQ1NDg0YmVmZThiNDM0MDFjMmYpOwoKICAgICAgICAgICAgCiAgICAgICAgCiAgICAKCiAgICAgICAgICAgIHZhciBtYXJrZXJfZDQwOTE1NTNhNWUyNDVlM2FkZDhkMGIxNGNlN2RhZmUgPSBMLm1hcmtlcigKICAgICAgICAgICAgICAgIFs0My42NzI3MDk3LC03OS40MDU2Nzg0MDAwMDAwMV0sCiAgICAgICAgICAgICAgICB7CiAgICAgICAgICAgICAgICAgICAgaWNvbjogbmV3IEwuSWNvbi5EZWZhdWx0KCkKICAgICAgICAgICAgICAgICAgICB9CiAgICAgICAgICAgICAgICApCiAgICAgICAgICAgICAgICAuYWRkVG8obWFwX2U1NDliY2ZhZTQ1ZDQzZDNhNjBmZjBkZTk1YWVjZmQ5KTsKICAgICAgICAgICAgCiAgICAKCiAgICAgICAgICAgICAgICB2YXIgaWNvbl9jNjg3MmQ5NzRlMmI0NzUwYWExZGUzNDI4YmNlZmYzZCA9IEwuQXdlc29tZU1hcmtlcnMuaWNvbih7CiAgICAgICAgICAgICAgICAgICAgaWNvbjogJ2luZm8tc2lnbicsCiAgICAgICAgICAgICAgICAgICAgaWNvbkNvbG9yOiAnI0ZGRkYwMCcsCiAgICAgICAgICAgICAgICAgICAgbWFya2VyQ29sb3I6ICdvcmFuZ2UnLAogICAgICAgICAgICAgICAgICAgIHByZWZpeDogJ2dseXBoaWNvbicsCiAgICAgICAgICAgICAgICAgICAgZXh0cmFDbGFzc2VzOiAnZmEtcm90YXRlLTAnCiAgICAgICAgICAgICAgICAgICAgfSk7CiAgICAgICAgICAgICAgICBtYXJrZXJfZDQwOTE1NTNhNWUyNDVlM2FkZDhkMGIxNGNlN2RhZmUuc2V0SWNvbihpY29uX2M2ODcyZDk3NGUyYjQ3NTBhYTFkZTM0MjhiY2VmZjNkKTsKICAgICAgICAgICAgCiAgICAKICAgICAgICAgICAgdmFyIHBvcHVwXzJiODhhZWY3N2M1MjRhODc5NzBkNGQ3YjcwYzg4ODM1ID0gTC5wb3B1cCh7bWF4V2lkdGg6ICczMDAnfSk7CgogICAgICAgICAgICAKICAgICAgICAgICAgICAgIHZhciBodG1sXzQ2NDNhYjEzNjRjNTQ1YWQ5Zjc3NzFkZmNiMTRhNGU2ID0gJCgnPGRpdiBpZD0iaHRtbF80NjQzYWIxMzY0YzU0NWFkOWY3NzcxZGZjYjE0YTRlNiIgc3R5bGU9IndpZHRoOiAxMDAuMCU7IGhlaWdodDogMTAwLjAlOyI+Q2VudHJhbCBUb3JvbnRvPC9kaXY+JylbMF07CiAgICAgICAgICAgICAgICBwb3B1cF8yYjg4YWVmNzdjNTI0YTg3OTcwZDRkN2I3MGM4ODgzNS5zZXRDb250ZW50KGh0bWxfNDY0M2FiMTM2NGM1NDVhZDlmNzc3MWRmY2IxNGE0ZTYpOwogICAgICAgICAgICAKCiAgICAgICAgICAgIG1hcmtlcl9kNDA5MTU1M2E1ZTI0NWUzYWRkOGQwYjE0Y2U3ZGFmZS5iaW5kUG9wdXAocG9wdXBfMmI4OGFlZjc3YzUyNGE4Nzk3MGQ0ZDdiNzBjODg4MzUpOwoKICAgICAgICAgICAgCiAgICAgICAgCiAgICAKCiAgICAgICAgICAgIHZhciBtYXJrZXJfMmM1ZjdmZTAzYzM2NDYwYzllZDAzOTYyNTY1ZWQxMDAgPSBMLm1hcmtlcigKICAgICAgICAgICAgICAgIFs0My42NDg5NTk3LC03OS40NTYzMjVdLAogICAgICAgICAgICAgICAgewogICAgICAgICAgICAgICAgICAgIGljb246IG5ldyBMLkljb24uRGVmYXVsdCgpCiAgICAgICAgICAgICAgICAgICAgfQogICAgICAgICAgICAgICAgKQogICAgICAgICAgICAgICAgLmFkZFRvKG1hcF9lNTQ5YmNmYWU0NWQ0M2QzYTYwZmYwZGU5NWFlY2ZkOSk7CiAgICAgICAgICAgIAogICAgCgogICAgICAgICAgICAgICAgdmFyIGljb25fZDFlYmM3Y2UyZGVlNGVjZGJlMjAxN2Y2ODM5YmFmNzUgPSBMLkF3ZXNvbWVNYXJrZXJzLmljb24oewogICAgICAgICAgICAgICAgICAgIGljb246ICdpbmZvLXNpZ24nLAogICAgICAgICAgICAgICAgICAgIGljb25Db2xvcjogJyNGRkZGMDAnLAogICAgICAgICAgICAgICAgICAgIG1hcmtlckNvbG9yOiAncmVkJywKICAgICAgICAgICAgICAgICAgICBwcmVmaXg6ICdnbHlwaGljb24nLAogICAgICAgICAgICAgICAgICAgIGV4dHJhQ2xhc3NlczogJ2ZhLXJvdGF0ZS0wJwogICAgICAgICAgICAgICAgICAgIH0pOwogICAgICAgICAgICAgICAgbWFya2VyXzJjNWY3ZmUwM2MzNjQ2MGM5ZWQwMzk2MjU2NWVkMTAwLnNldEljb24oaWNvbl9kMWViYzdjZTJkZWU0ZWNkYmUyMDE3ZjY4MzliYWY3NSk7CiAgICAgICAgICAgIAogICAgCiAgICAgICAgICAgIHZhciBwb3B1cF9jNzU5M2ZiNDI2ZTE0Nzk0OGE1MzBmMzYzZDE2ZmE1MyA9IEwucG9wdXAoe21heFdpZHRoOiAnMzAwJ30pOwoKICAgICAgICAgICAgCiAgICAgICAgICAgICAgICB2YXIgaHRtbF8wNGM3ZjY4NGMzY2Q0YmQyYjQwZTg4YjhiMDkzODZjZCA9ICQoJzxkaXYgaWQ9Imh0bWxfMDRjN2Y2ODRjM2NkNGJkMmI0MGU4OGI4YjA5Mzg2Y2QiIHN0eWxlPSJ3aWR0aDogMTAwLjAlOyBoZWlnaHQ6IDEwMC4wJTsiPldlc3QgVG9yb250bzwvZGl2PicpWzBdOwogICAgICAgICAgICAgICAgcG9wdXBfYzc1OTNmYjQyNmUxNDc5NDhhNTMwZjM2M2QxNmZhNTMuc2V0Q29udGVudChodG1sXzA0YzdmNjg0YzNjZDRiZDJiNDBlODhiOGIwOTM4NmNkKTsKICAgICAgICAgICAgCgogICAgICAgICAgICBtYXJrZXJfMmM1ZjdmZTAzYzM2NDYwYzllZDAzOTYyNTY1ZWQxMDAuYmluZFBvcHVwKHBvcHVwX2M3NTkzZmI0MjZlMTQ3OTQ4YTUzMGYzNjNkMTZmYTUzKTsKCiAgICAgICAgICAgIAogICAgICAgIAogICAgCgogICAgICAgICAgICB2YXIgbWFya2VyX2JmOGU3ZjAxNmFiODRhY2Q4OWZiMDkwNWQ0YmNjYjJkID0gTC5tYXJrZXIoCiAgICAgICAgICAgICAgICBbNDMuNjM2OTY1NiwtNzkuNjE1ODE4OTk5OTk5OTldLAogICAgICAgICAgICAgICAgewogICAgICAgICAgICAgICAgICAgIGljb246IG5ldyBMLkljb24uRGVmYXVsdCgpCiAgICAgICAgICAgICAgICAgICAgfQogICAgICAgICAgICAgICAgKQogICAgICAgICAgICAgICAgLmFkZFRvKG1hcF9lNTQ5YmNmYWU0NWQ0M2QzYTYwZmYwZGU5NWFlY2ZkOSk7CiAgICAgICAgICAgIAogICAgCgogICAgICAgICAgICAgICAgdmFyIGljb25fY2EzOGUwMTc4NDkxNDE1ZGJmMTI4NmNiN2E4NjIwMDAgPSBMLkF3ZXNvbWVNYXJrZXJzLmljb24oewogICAgICAgICAgICAgICAgICAgIGljb246ICdpbmZvLXNpZ24nLAogICAgICAgICAgICAgICAgICAgIGljb25Db2xvcjogJyNGRkZGMDAnLAogICAgICAgICAgICAgICAgICAgIG1hcmtlckNvbG9yOiAncGluaycsCiAgICAgICAgICAgICAgICAgICAgcHJlZml4OiAnZ2x5cGhpY29uJywKICAgICAgICAgICAgICAgICAgICBleHRyYUNsYXNzZXM6ICdmYS1yb3RhdGUtMCcKICAgICAgICAgICAgICAgICAgICB9KTsKICAgICAgICAgICAgICAgIG1hcmtlcl9iZjhlN2YwMTZhYjg0YWNkODlmYjA5MDVkNGJjY2IyZC5zZXRJY29uKGljb25fY2EzOGUwMTc4NDkxNDE1ZGJmMTI4NmNiN2E4NjIwMDApOwogICAgICAgICAgICAKICAgIAogICAgICAgICAgICB2YXIgcG9wdXBfNzBhZWZiOTUwNjJlNDVhMmI3OTFlYTM1YTdmYzQ3MDAgPSBMLnBvcHVwKHttYXhXaWR0aDogJzMwMCd9KTsKCiAgICAgICAgICAgIAogICAgICAgICAgICAgICAgdmFyIGh0bWxfZmM2YjNiZjkxOTAwNGFhZDgyNWFiNTgzZjlkNjQ4MTQgPSAkKCc8ZGl2IGlkPSJodG1sX2ZjNmIzYmY5MTkwMDRhYWQ4MjVhYjU4M2Y5ZDY0ODE0IiBzdHlsZT0id2lkdGg6IDEwMC4wJTsgaGVpZ2h0OiAxMDAuMCU7Ij5NaXNzaXNzYXVnYTwvZGl2PicpWzBdOwogICAgICAgICAgICAgICAgcG9wdXBfNzBhZWZiOTUwNjJlNDVhMmI3OTFlYTM1YTdmYzQ3MDAuc2V0Q29udGVudChodG1sX2ZjNmIzYmY5MTkwMDRhYWQ4MjVhYjU4M2Y5ZDY0ODE0KTsKICAgICAgICAgICAgCgogICAgICAgICAgICBtYXJrZXJfYmY4ZTdmMDE2YWI4NGFjZDg5ZmIwOTA1ZDRiY2NiMmQuYmluZFBvcHVwKHBvcHVwXzcwYWVmYjk1MDYyZTQ1YTJiNzkxZWEzNWE3ZmM0NzAwKTsKCiAgICAgICAgICAgIAogICAgICAgIAogICAgCgogICAgICAgICAgICB2YXIgbWFya2VyXzI1NGM3YjkyY2EyZTQ4NzZiM2RmNjkyZjY3NzA3NzdjID0gTC5tYXJrZXIoCiAgICAgICAgICAgICAgICBbNDMuNjg4OTA1NCwtNzkuNTU0NzI0NDAwMDAwMDFdLAogICAgICAgICAgICAgICAgewogICAgICAgICAgICAgICAgICAgIGljb246IG5ldyBMLkljb24uRGVmYXVsdCgpCiAgICAgICAgICAgICAgICAgICAgfQogICAgICAgICAgICAgICAgKQogICAgICAgICAgICAgICAgLmFkZFRvKG1hcF9lNTQ5YmNmYWU0NWQ0M2QzYTYwZmYwZGU5NWFlY2ZkOSk7CiAgICAgICAgICAgIAogICAgCgogICAgICAgICAgICAgICAgdmFyIGljb25fMmI4NzlhZWE4ZjYxNGE4ZmE4N2RjZmVkYjhhOTZkOTMgPSBMLkF3ZXNvbWVNYXJrZXJzLmljb24oewogICAgICAgICAgICAgICAgICAgIGljb246ICdpbmZvLXNpZ24nLAogICAgICAgICAgICAgICAgICAgIGljb25Db2xvcjogJyNGRkZGMDAnLAogICAgICAgICAgICAgICAgICAgIG1hcmtlckNvbG9yOiAnZ3JlZW4nLAogICAgICAgICAgICAgICAgICAgIHByZWZpeDogJ2dseXBoaWNvbicsCiAgICAgICAgICAgICAgICAgICAgZXh0cmFDbGFzc2VzOiAnZmEtcm90YXRlLTAnCiAgICAgICAgICAgICAgICAgICAgfSk7CiAgICAgICAgICAgICAgICBtYXJrZXJfMjU0YzdiOTJjYTJlNDg3NmIzZGY2OTJmNjc3MDc3N2Muc2V0SWNvbihpY29uXzJiODc5YWVhOGY2MTRhOGZhODdkY2ZlZGI4YTk2ZDkzKTsKICAgICAgICAgICAgCiAgICAKICAgICAgICAgICAgdmFyIHBvcHVwXzAzZjk5MmQ2YTliZjQwZTI5MzQ0ZmMwNWFmMGU4N2IxID0gTC5wb3B1cCh7bWF4V2lkdGg6ICczMDAnfSk7CgogICAgICAgICAgICAKICAgICAgICAgICAgICAgIHZhciBodG1sX2E0YzY1MmI3ZTc3OTRlNjc4NGM3ODZiZGMzZWEyNTZkID0gJCgnPGRpdiBpZD0iaHRtbF9hNGM2NTJiN2U3Nzk0ZTY3ODRjNzg2YmRjM2VhMjU2ZCIgc3R5bGU9IndpZHRoOiAxMDAuMCU7IGhlaWdodDogMTAwLjAlOyI+RXRvYmljb2tlPC9kaXY+JylbMF07CiAgICAgICAgICAgICAgICBwb3B1cF8wM2Y5OTJkNmE5YmY0MGUyOTM0NGZjMDVhZjBlODdiMS5zZXRDb250ZW50KGh0bWxfYTRjNjUyYjdlNzc5NGU2Nzg0Yzc4NmJkYzNlYTI1NmQpOwogICAgICAgICAgICAKCiAgICAgICAgICAgIG1hcmtlcl8yNTRjN2I5MmNhMmU0ODc2YjNkZjY5MmY2NzcwNzc3Yy5iaW5kUG9wdXAocG9wdXBfMDNmOTkyZDZhOWJmNDBlMjkzNDRmYzA1YWYwZTg3YjEpOwoKICAgICAgICAgICAgCiAgICAgICAgCiAgICAKCiAgICAgICAgICAgIHZhciBtYXJrZXJfMjNmZjE0NTk0NWI4NGRjZmFjYzVmYzQyMmNiYTAzYTIgPSBMLm1hcmtlcigKICAgICAgICAgICAgICAgIFs0My43OTQyMDAzLC03OS4yNjIwMjk0MDAwMDAwMl0sCiAgICAgICAgICAgICAgICB7CiAgICAgICAgICAgICAgICAgICAgaWNvbjogbmV3IEwuSWNvbi5EZWZhdWx0KCkKICAgICAgICAgICAgICAgICAgICB9CiAgICAgICAgICAgICAgICApCiAgICAgICAgICAgICAgICAuYWRkVG8obWFwX2U1NDliY2ZhZTQ1ZDQzZDNhNjBmZjBkZTk1YWVjZmQ5KTsKICAgICAgICAgICAgCiAgICAKCiAgICAgICAgICAgICAgICB2YXIgaWNvbl8yOTY3YzFlZGYwNDc0NjM5OTdiOTUyZmQ1NmJkMGRlYyA9IEwuQXdlc29tZU1hcmtlcnMuaWNvbih7CiAgICAgICAgICAgICAgICAgICAgaWNvbjogJ2luZm8tc2lnbicsCiAgICAgICAgICAgICAgICAgICAgaWNvbkNvbG9yOiAnI0ZGRkYwMCcsCiAgICAgICAgICAgICAgICAgICAgbWFya2VyQ29sb3I6ICdsaWdodHJlZCcsCiAgICAgICAgICAgICAgICAgICAgcHJlZml4OiAnZ2x5cGhpY29uJywKICAgICAgICAgICAgICAgICAgICBleHRyYUNsYXNzZXM6ICdmYS1yb3RhdGUtMCcKICAgICAgICAgICAgICAgICAgICB9KTsKICAgICAgICAgICAgICAgIG1hcmtlcl8yM2ZmMTQ1OTQ1Yjg0ZGNmYWNjNWZjNDIyY2JhMDNhMi5zZXRJY29uKGljb25fMjk2N2MxZWRmMDQ3NDYzOTk3Yjk1MmZkNTZiZDBkZWMpOwogICAgICAgICAgICAKICAgIAogICAgICAgICAgICB2YXIgcG9wdXBfMWE4MjY4ZGVhMTUyNGExNWJjZDQ4YWIyMDAyMDA0ODAgPSBMLnBvcHVwKHttYXhXaWR0aDogJzMwMCd9KTsKCiAgICAgICAgICAgIAogICAgICAgICAgICAgICAgdmFyIGh0bWxfMDRhMzQ5YjljOGQ3NGY5ZTk3ZTAyNDY4NjVjN2M2NWEgPSAkKCc8ZGl2IGlkPSJodG1sXzA0YTM0OWI5YzhkNzRmOWU5N2UwMjQ2ODY1YzdjNjVhIiBzdHlsZT0id2lkdGg6IDEwMC4wJTsgaGVpZ2h0OiAxMDAuMCU7Ij5TY2FyYm9yb3VnaDwvZGl2PicpWzBdOwogICAgICAgICAgICAgICAgcG9wdXBfMWE4MjY4ZGVhMTUyNGExNWJjZDQ4YWIyMDAyMDA0ODAuc2V0Q29udGVudChodG1sXzA0YTM0OWI5YzhkNzRmOWU5N2UwMjQ2ODY1YzdjNjVhKTsKICAgICAgICAgICAgCgogICAgICAgICAgICBtYXJrZXJfMjNmZjE0NTk0NWI4NGRjZmFjYzVmYzQyMmNiYTAzYTIuYmluZFBvcHVwKHBvcHVwXzFhODI2OGRlYTE1MjRhMTViY2Q0OGFiMjAwMjAwNDgwKTsKCiAgICAgICAgICAgIAogICAgICAgIAogICAgCgogICAgICAgICAgICB2YXIgbWFya2VyX2VkNzQ0YjMyZGY0NTQwNjk5OTBhZWIzN2U0NWNjMTU4ID0gTC5tYXJrZXIoCiAgICAgICAgICAgICAgICBbNDMuNzA0MzI0NCwtNzkuMzg4NzkwMV0sCiAgICAgICAgICAgICAgICB7CiAgICAgICAgICAgICAgICAgICAgaWNvbjogbmV3IEwuSWNvbi5EZWZhdWx0KCkKICAgICAgICAgICAgICAgICAgICB9CiAgICAgICAgICAgICAgICApCiAgICAgICAgICAgICAgICAuYWRkVG8obWFwX2U1NDliY2ZhZTQ1ZDQzZDNhNjBmZjBkZTk1YWVjZmQ5KTsKICAgICAgICAgICAgCiAgICAKCiAgICAgICAgICAgICAgICB2YXIgaWNvbl85NmQ1ZTk4ZWRmZTU0Y2Y4Yjg1ZWZmNDgyNDEyNWM4ZCA9IEwuQXdlc29tZU1hcmtlcnMuaWNvbih7CiAgICAgICAgICAgICAgICAgICAgaWNvbjogJ2luZm8tc2lnbicsCiAgICAgICAgICAgICAgICAgICAgaWNvbkNvbG9yOiAnI0ZGRkYwMCcsCiAgICAgICAgICAgICAgICAgICAgbWFya2VyQ29sb3I6ICdvcmFuZ2UnLAogICAgICAgICAgICAgICAgICAgIHByZWZpeDogJ2dseXBoaWNvbicsCiAgICAgICAgICAgICAgICAgICAgZXh0cmFDbGFzc2VzOiAnZmEtcm90YXRlLTAnCiAgICAgICAgICAgICAgICAgICAgfSk7CiAgICAgICAgICAgICAgICBtYXJrZXJfZWQ3NDRiMzJkZjQ1NDA2OTk5MGFlYjM3ZTQ1Y2MxNTguc2V0SWNvbihpY29uXzk2ZDVlOThlZGZlNTRjZjhiODVlZmY0ODI0MTI1YzhkKTsKICAgICAgICAgICAgCiAgICAKICAgICAgICAgICAgdmFyIHBvcHVwXzViM2EyMjlhZGI5NjRkMmRiMzdhY2IyYzdmMmJkZWVhID0gTC5wb3B1cCh7bWF4V2lkdGg6ICczMDAnfSk7CgogICAgICAgICAgICAKICAgICAgICAgICAgICAgIHZhciBodG1sXzlmMWY4MGQ3ZjRkNjRkMDA5YzYxYjhlMmVmNzA0YmJmID0gJCgnPGRpdiBpZD0iaHRtbF85ZjFmODBkN2Y0ZDY0ZDAwOWM2MWI4ZTJlZjcwNGJiZiIgc3R5bGU9IndpZHRoOiAxMDAuMCU7IGhlaWdodDogMTAwLjAlOyI+Q2VudHJhbCBUb3JvbnRvPC9kaXY+JylbMF07CiAgICAgICAgICAgICAgICBwb3B1cF81YjNhMjI5YWRiOTY0ZDJkYjM3YWNiMmM3ZjJiZGVlYS5zZXRDb250ZW50KGh0bWxfOWYxZjgwZDdmNGQ2NGQwMDljNjFiOGUyZWY3MDRiYmYpOwogICAgICAgICAgICAKCiAgICAgICAgICAgIG1hcmtlcl9lZDc0NGIzMmRmNDU0MDY5OTkwYWViMzdlNDVjYzE1OC5iaW5kUG9wdXAocG9wdXBfNWIzYTIyOWFkYjk2NGQyZGIzN2FjYjJjN2YyYmRlZWEpOwoKICAgICAgICAgICAgCiAgICAgICAgCiAgICAKCiAgICAgICAgICAgIHZhciBtYXJrZXJfYmM3YTJhZWYzMTYxNDExMGI2OWJmOThhY2E3OWNiZDAgPSBMLm1hcmtlcigKICAgICAgICAgICAgICAgIFs0My42NjI2OTU2LC03OS40MDAwNDkzXSwKICAgICAgICAgICAgICAgIHsKICAgICAgICAgICAgICAgICAgICBpY29uOiBuZXcgTC5JY29uLkRlZmF1bHQoKQogICAgICAgICAgICAgICAgICAgIH0KICAgICAgICAgICAgICAgICkKICAgICAgICAgICAgICAgIC5hZGRUbyhtYXBfZTU0OWJjZmFlNDVkNDNkM2E2MGZmMGRlOTVhZWNmZDkpOwogICAgICAgICAgICAKICAgIAoKICAgICAgICAgICAgICAgIHZhciBpY29uXzcxODQ5MGY0OTE2ODRlNmY5M2I1ODJhM2I5MWYxOGRmID0gTC5Bd2Vzb21lTWFya2Vycy5pY29uKHsKICAgICAgICAgICAgICAgICAgICBpY29uOiAnaW5mby1zaWduJywKICAgICAgICAgICAgICAgICAgICBpY29uQ29sb3I6ICcjRkZGRjAwJywKICAgICAgICAgICAgICAgICAgICBtYXJrZXJDb2xvcjogJ2xpZ2h0Z3JlZW4nLAogICAgICAgICAgICAgICAgICAgIHByZWZpeDogJ2dseXBoaWNvbicsCiAgICAgICAgICAgICAgICAgICAgZXh0cmFDbGFzc2VzOiAnZmEtcm90YXRlLTAnCiAgICAgICAgICAgICAgICAgICAgfSk7CiAgICAgICAgICAgICAgICBtYXJrZXJfYmM3YTJhZWYzMTYxNDExMGI2OWJmOThhY2E3OWNiZDAuc2V0SWNvbihpY29uXzcxODQ5MGY0OTE2ODRlNmY5M2I1ODJhM2I5MWYxOGRmKTsKICAgICAgICAgICAgCiAgICAKICAgICAgICAgICAgdmFyIHBvcHVwXzVkODQ4NzE3YzI3NTQ1NDNhN2U4MGQ0ODgxNTU1YTdiID0gTC5wb3B1cCh7bWF4V2lkdGg6ICczMDAnfSk7CgogICAgICAgICAgICAKICAgICAgICAgICAgICAgIHZhciBodG1sXzQ4OTg1MDA4ODA1MjRmOTk4OTE2ZDIxMTBjNGFjMGJmID0gJCgnPGRpdiBpZD0iaHRtbF80ODk4NTAwODgwNTI0Zjk5ODkxNmQyMTEwYzRhYzBiZiIgc3R5bGU9IndpZHRoOiAxMDAuMCU7IGhlaWdodDogMTAwLjAlOyI+RG93bnRvd24gVG9yb250bzwvZGl2PicpWzBdOwogICAgICAgICAgICAgICAgcG9wdXBfNWQ4NDg3MTdjMjc1NDU0M2E3ZTgwZDQ4ODE1NTVhN2Iuc2V0Q29udGVudChodG1sXzQ4OTg1MDA4ODA1MjRmOTk4OTE2ZDIxMTBjNGFjMGJmKTsKICAgICAgICAgICAgCgogICAgICAgICAgICBtYXJrZXJfYmM3YTJhZWYzMTYxNDExMGI2OWJmOThhY2E3OWNiZDAuYmluZFBvcHVwKHBvcHVwXzVkODQ4NzE3YzI3NTQ1NDNhN2U4MGQ0ODgxNTU1YTdiKTsKCiAgICAgICAgICAgIAogICAgICAgIAogICAgCgogICAgICAgICAgICB2YXIgbWFya2VyXzM2ZDUxZDc1M2M1NTQyY2Q5YzQ1Y2RkZTAwZjE5MDM3ID0gTC5tYXJrZXIoCiAgICAgICAgICAgICAgICBbNDMuNjUxNTcwNiwtNzkuNDg0NDQ5OV0sCiAgICAgICAgICAgICAgICB7CiAgICAgICAgICAgICAgICAgICAgaWNvbjogbmV3IEwuSWNvbi5EZWZhdWx0KCkKICAgICAgICAgICAgICAgICAgICB9CiAgICAgICAgICAgICAgICApCiAgICAgICAgICAgICAgICAuYWRkVG8obWFwX2U1NDliY2ZhZTQ1ZDQzZDNhNjBmZjBkZTk1YWVjZmQ5KTsKICAgICAgICAgICAgCiAgICAKCiAgICAgICAgICAgICAgICB2YXIgaWNvbl9kNTBmNmYzZTEyNzQ0YjM0OGI3YzY0NTc5OTcyZTM5ZiA9IEwuQXdlc29tZU1hcmtlcnMuaWNvbih7CiAgICAgICAgICAgICAgICAgICAgaWNvbjogJ2luZm8tc2lnbicsCiAgICAgICAgICAgICAgICAgICAgaWNvbkNvbG9yOiAnI0ZGRkYwMCcsCiAgICAgICAgICAgICAgICAgICAgbWFya2VyQ29sb3I6ICdyZWQnLAogICAgICAgICAgICAgICAgICAgIHByZWZpeDogJ2dseXBoaWNvbicsCiAgICAgICAgICAgICAgICAgICAgZXh0cmFDbGFzc2VzOiAnZmEtcm90YXRlLTAnCiAgICAgICAgICAgICAgICAgICAgfSk7CiAgICAgICAgICAgICAgICBtYXJrZXJfMzZkNTFkNzUzYzU1NDJjZDljNDVjZGRlMDBmMTkwMzcuc2V0SWNvbihpY29uX2Q1MGY2ZjNlMTI3NDRiMzQ4YjdjNjQ1Nzk5NzJlMzlmKTsKICAgICAgICAgICAgCiAgICAKICAgICAgICAgICAgdmFyIHBvcHVwXzhlOGQyNTcwYjFiMTRkNWI5NjgxZDQ4ZTcwNmM0OGJiID0gTC5wb3B1cCh7bWF4V2lkdGg6ICczMDAnfSk7CgogICAgICAgICAgICAKICAgICAgICAgICAgICAgIHZhciBodG1sX2NhOGExNDk3MDMwMjRmMGY5ZmQ3YzVjNzBiYmY0MGFlID0gJCgnPGRpdiBpZD0iaHRtbF9jYThhMTQ5NzAzMDI0ZjBmOWZkN2M1YzcwYmJmNDBhZSIgc3R5bGU9IndpZHRoOiAxMDAuMCU7IGhlaWdodDogMTAwLjAlOyI+V2VzdCBUb3JvbnRvPC9kaXY+JylbMF07CiAgICAgICAgICAgICAgICBwb3B1cF84ZThkMjU3MGIxYjE0ZDViOTY4MWQ0OGU3MDZjNDhiYi5zZXRDb250ZW50KGh0bWxfY2E4YTE0OTcwMzAyNGYwZjlmZDdjNWM3MGJiZjQwYWUpOwogICAgICAgICAgICAKCiAgICAgICAgICAgIG1hcmtlcl8zNmQ1MWQ3NTNjNTU0MmNkOWM0NWNkZGUwMGYxOTAzNy5iaW5kUG9wdXAocG9wdXBfOGU4ZDI1NzBiMWIxNGQ1Yjk2ODFkNDhlNzA2YzQ4YmIpOwoKICAgICAgICAgICAgCiAgICAgICAgCiAgICAKCiAgICAgICAgICAgIHZhciBtYXJrZXJfMWQzNmViMjFjNzJlNDY2N2FmYWVlYjA0ZjM1MjhkYmEgPSBMLm1hcmtlcigKICAgICAgICAgICAgICAgIFs0My43ODE2Mzc1LC03OS4zMDQzMDIxXSwKICAgICAgICAgICAgICAgIHsKICAgICAgICAgICAgICAgICAgICBpY29uOiBuZXcgTC5JY29uLkRlZmF1bHQoKQogICAgICAgICAgICAgICAgICAgIH0KICAgICAgICAgICAgICAgICkKICAgICAgICAgICAgICAgIC5hZGRUbyhtYXBfZTU0OWJjZmFlNDVkNDNkM2E2MGZmMGRlOTVhZWNmZDkpOwogICAgICAgICAgICAKICAgIAoKICAgICAgICAgICAgICAgIHZhciBpY29uXzA1NzYxODM4MzE3YjRhNjg5OGI1ZjFiODY5NjRlN2Q2ID0gTC5Bd2Vzb21lTWFya2Vycy5pY29uKHsKICAgICAgICAgICAgICAgICAgICBpY29uOiAnaW5mby1zaWduJywKICAgICAgICAgICAgICAgICAgICBpY29uQ29sb3I6ICcjRkZGRjAwJywKICAgICAgICAgICAgICAgICAgICBtYXJrZXJDb2xvcjogJ2xpZ2h0cmVkJywKICAgICAgICAgICAgICAgICAgICBwcmVmaXg6ICdnbHlwaGljb24nLAogICAgICAgICAgICAgICAgICAgIGV4dHJhQ2xhc3NlczogJ2ZhLXJvdGF0ZS0wJwogICAgICAgICAgICAgICAgICAgIH0pOwogICAgICAgICAgICAgICAgbWFya2VyXzFkMzZlYjIxYzcyZTQ2NjdhZmFlZWIwNGYzNTI4ZGJhLnNldEljb24oaWNvbl8wNTc2MTgzODMxN2I0YTY4OThiNWYxYjg2OTY0ZTdkNik7CiAgICAgICAgICAgIAogICAgCiAgICAgICAgICAgIHZhciBwb3B1cF8yZjUwY2FiNjAxOTM0NWZlODQwODJkZTI5ZTk1YzVmNiA9IEwucG9wdXAoe21heFdpZHRoOiAnMzAwJ30pOwoKICAgICAgICAgICAgCiAgICAgICAgICAgICAgICB2YXIgaHRtbF9mY2VmMWJlNjZhYzQ0OTA1ODYwNTZkYzNiNTk3NzI3MCA9ICQoJzxkaXYgaWQ9Imh0bWxfZmNlZjFiZTY2YWM0NDkwNTg2MDU2ZGMzYjU5NzcyNzAiIHN0eWxlPSJ3aWR0aDogMTAwLjAlOyBoZWlnaHQ6IDEwMC4wJTsiPlNjYXJib3JvdWdoPC9kaXY+JylbMF07CiAgICAgICAgICAgICAgICBwb3B1cF8yZjUwY2FiNjAxOTM0NWZlODQwODJkZTI5ZTk1YzVmNi5zZXRDb250ZW50KGh0bWxfZmNlZjFiZTY2YWM0NDkwNTg2MDU2ZGMzYjU5NzcyNzApOwogICAgICAgICAgICAKCiAgICAgICAgICAgIG1hcmtlcl8xZDM2ZWIyMWM3MmU0NjY3YWZhZWViMDRmMzUyOGRiYS5iaW5kUG9wdXAocG9wdXBfMmY1MGNhYjYwMTkzNDVmZTg0MDgyZGUyOWU5NWM1ZjYpOwoKICAgICAgICAgICAgCiAgICAgICAgCiAgICAKCiAgICAgICAgICAgIHZhciBtYXJrZXJfMTIwMzkzOWY4NWJlNGYzYTljMGRkMjE5NDM5ZDJlZDYgPSBMLm1hcmtlcigKICAgICAgICAgICAgICAgIFs0My42ODk1NzQzLC03OS4zODMxNTk5MDAwMDAwMV0sCiAgICAgICAgICAgICAgICB7CiAgICAgICAgICAgICAgICAgICAgaWNvbjogbmV3IEwuSWNvbi5EZWZhdWx0KCkKICAgICAgICAgICAgICAgICAgICB9CiAgICAgICAgICAgICAgICApCiAgICAgICAgICAgICAgICAuYWRkVG8obWFwX2U1NDliY2ZhZTQ1ZDQzZDNhNjBmZjBkZTk1YWVjZmQ5KTsKICAgICAgICAgICAgCiAgICAKCiAgICAgICAgICAgICAgICB2YXIgaWNvbl9iMzI0OTRmMDAwMTY0NTYzOTJkMDczMTkxNGNhYTUxZiA9IEwuQXdlc29tZU1hcmtlcnMuaWNvbih7CiAgICAgICAgICAgICAgICAgICAgaWNvbjogJ2luZm8tc2lnbicsCiAgICAgICAgICAgICAgICAgICAgaWNvbkNvbG9yOiAnI0ZGRkYwMCcsCiAgICAgICAgICAgICAgICAgICAgbWFya2VyQ29sb3I6ICdvcmFuZ2UnLAogICAgICAgICAgICAgICAgICAgIHByZWZpeDogJ2dseXBoaWNvbicsCiAgICAgICAgICAgICAgICAgICAgZXh0cmFDbGFzc2VzOiAnZmEtcm90YXRlLTAnCiAgICAgICAgICAgICAgICAgICAgfSk7CiAgICAgICAgICAgICAgICBtYXJrZXJfMTIwMzkzOWY4NWJlNGYzYTljMGRkMjE5NDM5ZDJlZDYuc2V0SWNvbihpY29uX2IzMjQ5NGYwMDAxNjQ1NjM5MmQwNzMxOTE0Y2FhNTFmKTsKICAgICAgICAgICAgCiAgICAKICAgICAgICAgICAgdmFyIHBvcHVwXzg5YWQ0NDY5YWU1YzRjZTVhNjRhNGRkMTkwZGNmNjQwID0gTC5wb3B1cCh7bWF4V2lkdGg6ICczMDAnfSk7CgogICAgICAgICAgICAKICAgICAgICAgICAgICAgIHZhciBodG1sX2RhMzUzOWVkNmIxNjRkODA4YThlNzJjZDE3NDBkN2FhID0gJCgnPGRpdiBpZD0iaHRtbF9kYTM1MzllZDZiMTY0ZDgwOGE4ZTcyY2QxNzQwZDdhYSIgc3R5bGU9IndpZHRoOiAxMDAuMCU7IGhlaWdodDogMTAwLjAlOyI+Q2VudHJhbCBUb3JvbnRvPC9kaXY+JylbMF07CiAgICAgICAgICAgICAgICBwb3B1cF84OWFkNDQ2OWFlNWM0Y2U1YTY0YTRkZDE5MGRjZjY0MC5zZXRDb250ZW50KGh0bWxfZGEzNTM5ZWQ2YjE2NGQ4MDhhOGU3MmNkMTc0MGQ3YWEpOwogICAgICAgICAgICAKCiAgICAgICAgICAgIG1hcmtlcl8xMjAzOTM5Zjg1YmU0ZjNhOWMwZGQyMTk0MzlkMmVkNi5iaW5kUG9wdXAocG9wdXBfODlhZDQ0NjlhZTVjNGNlNWE2NGE0ZGQxOTBkY2Y2NDApOwoKICAgICAgICAgICAgCiAgICAgICAgCiAgICAKCiAgICAgICAgICAgIHZhciBtYXJrZXJfN2NhMzU2MTZhNmQxNDEwZDk0NTFmZDlhMzNiMDM1NmIgPSBMLm1hcmtlcigKICAgICAgICAgICAgICAgIFs0My42NTMyMDU3LC03OS40MDAwNDkzXSwKICAgICAgICAgICAgICAgIHsKICAgICAgICAgICAgICAgICAgICBpY29uOiBuZXcgTC5JY29uLkRlZmF1bHQoKQogICAgICAgICAgICAgICAgICAgIH0KICAgICAgICAgICAgICAgICkKICAgICAgICAgICAgICAgIC5hZGRUbyhtYXBfZTU0OWJjZmFlNDVkNDNkM2E2MGZmMGRlOTVhZWNmZDkpOwogICAgICAgICAgICAKICAgIAoKICAgICAgICAgICAgICAgIHZhciBpY29uXzBiMmUwYzUwZGNkOTQ5ODM4OGIzMDAxYjRmYWY3ZmNiID0gTC5Bd2Vzb21lTWFya2Vycy5pY29uKHsKICAgICAgICAgICAgICAgICAgICBpY29uOiAnaW5mby1zaWduJywKICAgICAgICAgICAgICAgICAgICBpY29uQ29sb3I6ICcjRkZGRjAwJywKICAgICAgICAgICAgICAgICAgICBtYXJrZXJDb2xvcjogJ2xpZ2h0Z3JlZW4nLAogICAgICAgICAgICAgICAgICAgIHByZWZpeDogJ2dseXBoaWNvbicsCiAgICAgICAgICAgICAgICAgICAgZXh0cmFDbGFzc2VzOiAnZmEtcm90YXRlLTAnCiAgICAgICAgICAgICAgICAgICAgfSk7CiAgICAgICAgICAgICAgICBtYXJrZXJfN2NhMzU2MTZhNmQxNDEwZDk0NTFmZDlhMzNiMDM1NmIuc2V0SWNvbihpY29uXzBiMmUwYzUwZGNkOTQ5ODM4OGIzMDAxYjRmYWY3ZmNiKTsKICAgICAgICAgICAgCiAgICAKICAgICAgICAgICAgdmFyIHBvcHVwXzllMTU2MGY4MTAyYjRmNzg5ODY4ZWYyNjMzZTcwZTU2ID0gTC5wb3B1cCh7bWF4V2lkdGg6ICczMDAnfSk7CgogICAgICAgICAgICAKICAgICAgICAgICAgICAgIHZhciBodG1sXzJhN2Y2ZmE4OWZkODQ0OWRhMmZjNmFkYjVkYzhjYmY0ID0gJCgnPGRpdiBpZD0iaHRtbF8yYTdmNmZhODlmZDg0NDlkYTJmYzZhZGI1ZGM4Y2JmNCIgc3R5bGU9IndpZHRoOiAxMDAuMCU7IGhlaWdodDogMTAwLjAlOyI+RG93bnRvd24gVG9yb250bzwvZGl2PicpWzBdOwogICAgICAgICAgICAgICAgcG9wdXBfOWUxNTYwZjgxMDJiNGY3ODk4NjhlZjI2MzNlNzBlNTYuc2V0Q29udGVudChodG1sXzJhN2Y2ZmE4OWZkODQ0OWRhMmZjNmFkYjVkYzhjYmY0KTsKICAgICAgICAgICAgCgogICAgICAgICAgICBtYXJrZXJfN2NhMzU2MTZhNmQxNDEwZDk0NTFmZDlhMzNiMDM1NmIuYmluZFBvcHVwKHBvcHVwXzllMTU2MGY4MTAyYjRmNzg5ODY4ZWYyNjMzZTcwZTU2KTsKCiAgICAgICAgICAgIAogICAgICAgIAogICAgCgogICAgICAgICAgICB2YXIgbWFya2VyXzQ0M2IxZmI3NmY4NjQ3YTBhYTk1NDUyMTZlMGQ5M2M1ID0gTC5tYXJrZXIoCiAgICAgICAgICAgICAgICBbNDMuODE1MjUyMiwtNzkuMjg0NTc3Ml0sCiAgICAgICAgICAgICAgICB7CiAgICAgICAgICAgICAgICAgICAgaWNvbjogbmV3IEwuSWNvbi5EZWZhdWx0KCkKICAgICAgICAgICAgICAgICAgICB9CiAgICAgICAgICAgICAgICApCiAgICAgICAgICAgICAgICAuYWRkVG8obWFwX2U1NDliY2ZhZTQ1ZDQzZDNhNjBmZjBkZTk1YWVjZmQ5KTsKICAgICAgICAgICAgCiAgICAKCiAgICAgICAgICAgICAgICB2YXIgaWNvbl83MWNiMGRlN2M0M2Q0NDhmOTlhMzRiNzhkMjRjNmZmOCA9IEwuQXdlc29tZU1hcmtlcnMuaWNvbih7CiAgICAgICAgICAgICAgICAgICAgaWNvbjogJ2luZm8tc2lnbicsCiAgICAgICAgICAgICAgICAgICAgaWNvbkNvbG9yOiAnI0ZGRkYwMCcsCiAgICAgICAgICAgICAgICAgICAgbWFya2VyQ29sb3I6ICdsaWdodHJlZCcsCiAgICAgICAgICAgICAgICAgICAgcHJlZml4OiAnZ2x5cGhpY29uJywKICAgICAgICAgICAgICAgICAgICBleHRyYUNsYXNzZXM6ICdmYS1yb3RhdGUtMCcKICAgICAgICAgICAgICAgICAgICB9KTsKICAgICAgICAgICAgICAgIG1hcmtlcl80NDNiMWZiNzZmODY0N2EwYWE5NTQ1MjE2ZTBkOTNjNS5zZXRJY29uKGljb25fNzFjYjBkZTdjNDNkNDQ4Zjk5YTM0Yjc4ZDI0YzZmZjgpOwogICAgICAgICAgICAKICAgIAogICAgICAgICAgICB2YXIgcG9wdXBfNzdlYjIwZDgyYmE4NGY3ZjkyZGU3ZmUzZDFjODlmNjAgPSBMLnBvcHVwKHttYXhXaWR0aDogJzMwMCd9KTsKCiAgICAgICAgICAgIAogICAgICAgICAgICAgICAgdmFyIGh0bWxfMDdhODkxOGE4MTlmNGRiMmFjYmEyODI2YTMyMjMyZGQgPSAkKCc8ZGl2IGlkPSJodG1sXzA3YTg5MThhODE5ZjRkYjJhY2JhMjgyNmEzMjIzMmRkIiBzdHlsZT0id2lkdGg6IDEwMC4wJTsgaGVpZ2h0OiAxMDAuMCU7Ij5TY2FyYm9yb3VnaDwvZGl2PicpWzBdOwogICAgICAgICAgICAgICAgcG9wdXBfNzdlYjIwZDgyYmE4NGY3ZjkyZGU3ZmUzZDFjODlmNjAuc2V0Q29udGVudChodG1sXzA3YTg5MThhODE5ZjRkYjJhY2JhMjgyNmEzMjIzMmRkKTsKICAgICAgICAgICAgCgogICAgICAgICAgICBtYXJrZXJfNDQzYjFmYjc2Zjg2NDdhMGFhOTU0NTIxNmUwZDkzYzUuYmluZFBvcHVwKHBvcHVwXzc3ZWIyMGQ4MmJhODRmN2Y5MmRlN2ZlM2QxYzg5ZjYwKTsKCiAgICAgICAgICAgIAogICAgICAgIAogICAgCgogICAgICAgICAgICB2YXIgbWFya2VyX2VhMGIwNjU1MjJhZDQ5NmFhNDEzOWI1NjYwNmI2NDFkID0gTC5tYXJrZXIoCiAgICAgICAgICAgICAgICBbNDMuNjg2NDEyMjk5OTk5OTksLTc5LjQwMDA0OTNdLAogICAgICAgICAgICAgICAgewogICAgICAgICAgICAgICAgICAgIGljb246IG5ldyBMLkljb24uRGVmYXVsdCgpCiAgICAgICAgICAgICAgICAgICAgfQogICAgICAgICAgICAgICAgKQogICAgICAgICAgICAgICAgLmFkZFRvKG1hcF9lNTQ5YmNmYWU0NWQ0M2QzYTYwZmYwZGU5NWFlY2ZkOSk7CiAgICAgICAgICAgIAogICAgCgogICAgICAgICAgICAgICAgdmFyIGljb25fODc1ODEzNmM2YmRlNDMxYzk2ZjlhNGE4ODE4NzUyOWUgPSBMLkF3ZXNvbWVNYXJrZXJzLmljb24oewogICAgICAgICAgICAgICAgICAgIGljb246ICdpbmZvLXNpZ24nLAogICAgICAgICAgICAgICAgICAgIGljb25Db2xvcjogJyNGRkZGMDAnLAogICAgICAgICAgICAgICAgICAgIG1hcmtlckNvbG9yOiAnb3JhbmdlJywKICAgICAgICAgICAgICAgICAgICBwcmVmaXg6ICdnbHlwaGljb24nLAogICAgICAgICAgICAgICAgICAgIGV4dHJhQ2xhc3NlczogJ2ZhLXJvdGF0ZS0wJwogICAgICAgICAgICAgICAgICAgIH0pOwogICAgICAgICAgICAgICAgbWFya2VyX2VhMGIwNjU1MjJhZDQ5NmFhNDEzOWI1NjYwNmI2NDFkLnNldEljb24oaWNvbl84NzU4MTM2YzZiZGU0MzFjOTZmOWE0YTg4MTg3NTI5ZSk7CiAgICAgICAgICAgIAogICAgCiAgICAgICAgICAgIHZhciBwb3B1cF84MzQwNjdhYThiYTU0MzkzYjkwMDFjZDg5NzE5NGFlYiA9IEwucG9wdXAoe21heFdpZHRoOiAnMzAwJ30pOwoKICAgICAgICAgICAgCiAgICAgICAgICAgICAgICB2YXIgaHRtbF81Yzg1OTg1ZGVmYzA0YWNiYjIyNjI5NTZjYmQ3ZmMzZiA9ICQoJzxkaXYgaWQ9Imh0bWxfNWM4NTk4NWRlZmMwNGFjYmIyMjYyOTU2Y2JkN2ZjM2YiIHN0eWxlPSJ3aWR0aDogMTAwLjAlOyBoZWlnaHQ6IDEwMC4wJTsiPkNlbnRyYWwgVG9yb250bzwvZGl2PicpWzBdOwogICAgICAgICAgICAgICAgcG9wdXBfODM0MDY3YWE4YmE1NDM5M2I5MDAxY2Q4OTcxOTRhZWIuc2V0Q29udGVudChodG1sXzVjODU5ODVkZWZjMDRhY2JiMjI2Mjk1NmNiZDdmYzNmKTsKICAgICAgICAgICAgCgogICAgICAgICAgICBtYXJrZXJfZWEwYjA2NTUyMmFkNDk2YWE0MTM5YjU2NjA2YjY0MWQuYmluZFBvcHVwKHBvcHVwXzgzNDA2N2FhOGJhNTQzOTNiOTAwMWNkODk3MTk0YWViKTsKCiAgICAgICAgICAgIAogICAgICAgIAogICAgCgogICAgICAgICAgICB2YXIgbWFya2VyX2M4ZGUzZWEyMDUyMzQ4YTc5Y2ZmZTZkZGEwMzE3ZjE3ID0gTC5tYXJrZXIoCiAgICAgICAgICAgICAgICBbNDMuNjI4OTQ2NywtNzkuMzk0NDE5OV0sCiAgICAgICAgICAgICAgICB7CiAgICAgICAgICAgICAgICAgICAgaWNvbjogbmV3IEwuSWNvbi5EZWZhdWx0KCkKICAgICAgICAgICAgICAgICAgICB9CiAgICAgICAgICAgICAgICApCiAgICAgICAgICAgICAgICAuYWRkVG8obWFwX2U1NDliY2ZhZTQ1ZDQzZDNhNjBmZjBkZTk1YWVjZmQ5KTsKICAgICAgICAgICAgCiAgICAKCiAgICAgICAgICAgICAgICB2YXIgaWNvbl9lYzhjZTgwZDhmNjQ0YTg5OGZiOTQxM2RhMTdiNGY4NiA9IEwuQXdlc29tZU1hcmtlcnMuaWNvbih7CiAgICAgICAgICAgICAgICAgICAgaWNvbjogJ2luZm8tc2lnbicsCiAgICAgICAgICAgICAgICAgICAgaWNvbkNvbG9yOiAnI0ZGRkYwMCcsCiAgICAgICAgICAgICAgICAgICAgbWFya2VyQ29sb3I6ICdsaWdodGdyZWVuJywKICAgICAgICAgICAgICAgICAgICBwcmVmaXg6ICdnbHlwaGljb24nLAogICAgICAgICAgICAgICAgICAgIGV4dHJhQ2xhc3NlczogJ2ZhLXJvdGF0ZS0wJwogICAgICAgICAgICAgICAgICAgIH0pOwogICAgICAgICAgICAgICAgbWFya2VyX2M4ZGUzZWEyMDUyMzQ4YTc5Y2ZmZTZkZGEwMzE3ZjE3LnNldEljb24oaWNvbl9lYzhjZTgwZDhmNjQ0YTg5OGZiOTQxM2RhMTdiNGY4Nik7CiAgICAgICAgICAgIAogICAgCiAgICAgICAgICAgIHZhciBwb3B1cF83M2UwZmIzMTc3NTI0YTFkODNlZTk2YzdhNjhlNDIzNiA9IEwucG9wdXAoe21heFdpZHRoOiAnMzAwJ30pOwoKICAgICAgICAgICAgCiAgICAgICAgICAgICAgICB2YXIgaHRtbF84OWNkMDE5MDdjNWU0MzU4ODJkOTkzMjgzYzZmNTZjOSA9ICQoJzxkaXYgaWQ9Imh0bWxfODljZDAxOTA3YzVlNDM1ODgyZDk5MzI4M2M2ZjU2YzkiIHN0eWxlPSJ3aWR0aDogMTAwLjAlOyBoZWlnaHQ6IDEwMC4wJTsiPkRvd250b3duIFRvcm9udG88L2Rpdj4nKVswXTsKICAgICAgICAgICAgICAgIHBvcHVwXzczZTBmYjMxNzc1MjRhMWQ4M2VlOTZjN2E2OGU0MjM2LnNldENvbnRlbnQoaHRtbF84OWNkMDE5MDdjNWU0MzU4ODJkOTkzMjgzYzZmNTZjOSk7CiAgICAgICAgICAgIAoKICAgICAgICAgICAgbWFya2VyX2M4ZGUzZWEyMDUyMzQ4YTc5Y2ZmZTZkZGEwMzE3ZjE3LmJpbmRQb3B1cChwb3B1cF83M2UwZmIzMTc3NTI0YTFkODNlZTk2YzdhNjhlNDIzNik7CgogICAgICAgICAgICAKICAgICAgICAKICAgIAoKICAgICAgICAgICAgdmFyIG1hcmtlcl82OTlmMzk3NWRjMWQ0ZDk0Yjc0YWVlMTA1ZTJhMTcwNCA9IEwubWFya2VyKAogICAgICAgICAgICAgICAgWzQzLjYwNTY0NjYsLTc5LjUwMTMyMDcwMDAwMDAxXSwKICAgICAgICAgICAgICAgIHsKICAgICAgICAgICAgICAgICAgICBpY29uOiBuZXcgTC5JY29uLkRlZmF1bHQoKQogICAgICAgICAgICAgICAgICAgIH0KICAgICAgICAgICAgICAgICkKICAgICAgICAgICAgICAgIC5hZGRUbyhtYXBfZTU0OWJjZmFlNDVkNDNkM2E2MGZmMGRlOTVhZWNmZDkpOwogICAgICAgICAgICAKICAgIAoKICAgICAgICAgICAgICAgIHZhciBpY29uX2E1MjU5NjZiYzRjYjRhN2ZiYjRmODU2MTJjOWU5MGM5ID0gTC5Bd2Vzb21lTWFya2Vycy5pY29uKHsKICAgICAgICAgICAgICAgICAgICBpY29uOiAnaW5mby1zaWduJywKICAgICAgICAgICAgICAgICAgICBpY29uQ29sb3I6ICcjRkZGRjAwJywKICAgICAgICAgICAgICAgICAgICBtYXJrZXJDb2xvcjogJ2dyZWVuJywKICAgICAgICAgICAgICAgICAgICBwcmVmaXg6ICdnbHlwaGljb24nLAogICAgICAgICAgICAgICAgICAgIGV4dHJhQ2xhc3NlczogJ2ZhLXJvdGF0ZS0wJwogICAgICAgICAgICAgICAgICAgIH0pOwogICAgICAgICAgICAgICAgbWFya2VyXzY5OWYzOTc1ZGMxZDRkOTRiNzRhZWUxMDVlMmExNzA0LnNldEljb24oaWNvbl9hNTI1OTY2YmM0Y2I0YTdmYmI0Zjg1NjEyYzllOTBjOSk7CiAgICAgICAgICAgIAogICAgCiAgICAgICAgICAgIHZhciBwb3B1cF83OGJkNmE2NmRlYzg0ZDMyODMzYzM3NWI2OTQxYWM2NiA9IEwucG9wdXAoe21heFdpZHRoOiAnMzAwJ30pOwoKICAgICAgICAgICAgCiAgICAgICAgICAgICAgICB2YXIgaHRtbF8xODVkMzNkNGMwMzc0ZTlkOWIxYWViYjM0M2Q4ODExZCA9ICQoJzxkaXYgaWQ9Imh0bWxfMTg1ZDMzZDRjMDM3NGU5ZDliMWFlYmIzNDNkODgxMWQiIHN0eWxlPSJ3aWR0aDogMTAwLjAlOyBoZWlnaHQ6IDEwMC4wJTsiPkV0b2JpY29rZTwvZGl2PicpWzBdOwogICAgICAgICAgICAgICAgcG9wdXBfNzhiZDZhNjZkZWM4NGQzMjgzM2MzNzViNjk0MWFjNjYuc2V0Q29udGVudChodG1sXzE4NWQzM2Q0YzAzNzRlOWQ5YjFhZWJiMzQzZDg4MTFkKTsKICAgICAgICAgICAgCgogICAgICAgICAgICBtYXJrZXJfNjk5ZjM5NzVkYzFkNGQ5NGI3NGFlZTEwNWUyYTE3MDQuYmluZFBvcHVwKHBvcHVwXzc4YmQ2YTY2ZGVjODRkMzI4MzNjMzc1YjY5NDFhYzY2KTsKCiAgICAgICAgICAgIAogICAgICAgIAogICAgCgogICAgICAgICAgICB2YXIgbWFya2VyXzM2MTYwYmI2MGFmMTQwZTBiOTFkZGFmNzU5MjZkZmI4ID0gTC5tYXJrZXIoCiAgICAgICAgICAgICAgICBbNDMuNzM5NDE2Mzk5OTk5OTk2LC03OS41ODg0MzY5XSwKICAgICAgICAgICAgICAgIHsKICAgICAgICAgICAgICAgICAgICBpY29uOiBuZXcgTC5JY29uLkRlZmF1bHQoKQogICAgICAgICAgICAgICAgICAgIH0KICAgICAgICAgICAgICAgICkKICAgICAgICAgICAgICAgIC5hZGRUbyhtYXBfZTU0OWJjZmFlNDVkNDNkM2E2MGZmMGRlOTVhZWNmZDkpOwogICAgICAgICAgICAKICAgIAoKICAgICAgICAgICAgICAgIHZhciBpY29uXzEyZGM1MjM4NjMyZjQ2MTdhMWU3MGFiNTZjMDY1OTZhID0gTC5Bd2Vzb21lTWFya2Vycy5pY29uKHsKICAgICAgICAgICAgICAgICAgICBpY29uOiAnaW5mby1zaWduJywKICAgICAgICAgICAgICAgICAgICBpY29uQ29sb3I6ICcjRkZGRjAwJywKICAgICAgICAgICAgICAgICAgICBtYXJrZXJDb2xvcjogJ2dyZWVuJywKICAgICAgICAgICAgICAgICAgICBwcmVmaXg6ICdnbHlwaGljb24nLAogICAgICAgICAgICAgICAgICAgIGV4dHJhQ2xhc3NlczogJ2ZhLXJvdGF0ZS0wJwogICAgICAgICAgICAgICAgICAgIH0pOwogICAgICAgICAgICAgICAgbWFya2VyXzM2MTYwYmI2MGFmMTQwZTBiOTFkZGFmNzU5MjZkZmI4LnNldEljb24oaWNvbl8xMmRjNTIzODYzMmY0NjE3YTFlNzBhYjU2YzA2NTk2YSk7CiAgICAgICAgICAgIAogICAgCiAgICAgICAgICAgIHZhciBwb3B1cF9lYTExNmZlM2Y1NGE0OWRhYTVmN2YyOGFlMmQyZDEzYyA9IEwucG9wdXAoe21heFdpZHRoOiAnMzAwJ30pOwoKICAgICAgICAgICAgCiAgICAgICAgICAgICAgICB2YXIgaHRtbF84YWI4YWUyZjE0MTM0ZWUwYmUwNzEyZTU5N2NiYjVlMCA9ICQoJzxkaXYgaWQ9Imh0bWxfOGFiOGFlMmYxNDEzNGVlMGJlMDcxMmU1OTdjYmI1ZTAiIHN0eWxlPSJ3aWR0aDogMTAwLjAlOyBoZWlnaHQ6IDEwMC4wJTsiPkV0b2JpY29rZTwvZGl2PicpWzBdOwogICAgICAgICAgICAgICAgcG9wdXBfZWExMTZmZTNmNTRhNDlkYWE1ZjdmMjhhZTJkMmQxM2Muc2V0Q29udGVudChodG1sXzhhYjhhZTJmMTQxMzRlZTBiZTA3MTJlNTk3Y2JiNWUwKTsKICAgICAgICAgICAgCgogICAgICAgICAgICBtYXJrZXJfMzYxNjBiYjYwYWYxNDBlMGI5MWRkYWY3NTkyNmRmYjguYmluZFBvcHVwKHBvcHVwX2VhMTE2ZmUzZjU0YTQ5ZGFhNWY3ZjI4YWUyZDJkMTNjKTsKCiAgICAgICAgICAgIAogICAgICAgIAogICAgCgogICAgICAgICAgICB2YXIgbWFya2VyX2FmYjc2ZDA4NjNiMjQ0NjVhNWE2OGM1ZTYzZjMzYjBkID0gTC5tYXJrZXIoCiAgICAgICAgICAgICAgICBbNDMuNzk5NTI1MjAwMDAwMDA1LC03OS4zMTgzODg3XSwKICAgICAgICAgICAgICAgIHsKICAgICAgICAgICAgICAgICAgICBpY29uOiBuZXcgTC5JY29uLkRlZmF1bHQoKQogICAgICAgICAgICAgICAgICAgIH0KICAgICAgICAgICAgICAgICkKICAgICAgICAgICAgICAgIC5hZGRUbyhtYXBfZTU0OWJjZmFlNDVkNDNkM2E2MGZmMGRlOTVhZWNmZDkpOwogICAgICAgICAgICAKICAgIAoKICAgICAgICAgICAgICAgIHZhciBpY29uXzQ5MzNhZjllNTQ5YjQ2ZmQ4ZGE1MzgyOTU1ODhiYzVhID0gTC5Bd2Vzb21lTWFya2Vycy5pY29uKHsKICAgICAgICAgICAgICAgICAgICBpY29uOiAnaW5mby1zaWduJywKICAgICAgICAgICAgICAgICAgICBpY29uQ29sb3I6ICcjRkZGRjAwJywKICAgICAgICAgICAgICAgICAgICBtYXJrZXJDb2xvcjogJ2xpZ2h0cmVkJywKICAgICAgICAgICAgICAgICAgICBwcmVmaXg6ICdnbHlwaGljb24nLAogICAgICAgICAgICAgICAgICAgIGV4dHJhQ2xhc3NlczogJ2ZhLXJvdGF0ZS0wJwogICAgICAgICAgICAgICAgICAgIH0pOwogICAgICAgICAgICAgICAgbWFya2VyX2FmYjc2ZDA4NjNiMjQ0NjVhNWE2OGM1ZTYzZjMzYjBkLnNldEljb24oaWNvbl80OTMzYWY5ZTU0OWI0NmZkOGRhNTM4Mjk1NTg4YmM1YSk7CiAgICAgICAgICAgIAogICAgCiAgICAgICAgICAgIHZhciBwb3B1cF83OGQ3ZjU1ZDI4NTU0Njg5YTA5NmM2ZmI4MjRmMDhhOCA9IEwucG9wdXAoe21heFdpZHRoOiAnMzAwJ30pOwoKICAgICAgICAgICAgCiAgICAgICAgICAgICAgICB2YXIgaHRtbF8zMWJhYTNhNDZhZWY0NWU5Yjk1OTA5OWUyNzEzNTYzMyA9ICQoJzxkaXYgaWQ9Imh0bWxfMzFiYWEzYTQ2YWVmNDVlOWI5NTkwOTllMjcxMzU2MzMiIHN0eWxlPSJ3aWR0aDogMTAwLjAlOyBoZWlnaHQ6IDEwMC4wJTsiPlNjYXJib3JvdWdoPC9kaXY+JylbMF07CiAgICAgICAgICAgICAgICBwb3B1cF83OGQ3ZjU1ZDI4NTU0Njg5YTA5NmM2ZmI4MjRmMDhhOC5zZXRDb250ZW50KGh0bWxfMzFiYWEzYTQ2YWVmNDVlOWI5NTkwOTllMjcxMzU2MzMpOwogICAgICAgICAgICAKCiAgICAgICAgICAgIG1hcmtlcl9hZmI3NmQwODYzYjI0NDY1YTVhNjhjNWU2M2YzM2IwZC5iaW5kUG9wdXAocG9wdXBfNzhkN2Y1NWQyODU1NDY4OWEwOTZjNmZiODI0ZjA4YTgpOwoKICAgICAgICAgICAgCiAgICAgICAgCiAgICAKCiAgICAgICAgICAgIHZhciBtYXJrZXJfNGE3NDE1ZjkyMTk0NGFjMmJhOWQxYjg2MTNhOTQ2MDggPSBMLm1hcmtlcigKICAgICAgICAgICAgICAgIFs0My42Nzk1NjI2LC03OS4zNzc1Mjk0MDAwMDAwMV0sCiAgICAgICAgICAgICAgICB7CiAgICAgICAgICAgICAgICAgICAgaWNvbjogbmV3IEwuSWNvbi5EZWZhdWx0KCkKICAgICAgICAgICAgICAgICAgICB9CiAgICAgICAgICAgICAgICApCiAgICAgICAgICAgICAgICAuYWRkVG8obWFwX2U1NDliY2ZhZTQ1ZDQzZDNhNjBmZjBkZTk1YWVjZmQ5KTsKICAgICAgICAgICAgCiAgICAKCiAgICAgICAgICAgICAgICB2YXIgaWNvbl9jZTNhZjM3NmYwOTg0ZmU0ODAwNTRjMGEwNWQ0ZjAyMSA9IEwuQXdlc29tZU1hcmtlcnMuaWNvbih7CiAgICAgICAgICAgICAgICAgICAgaWNvbjogJ2luZm8tc2lnbicsCiAgICAgICAgICAgICAgICAgICAgaWNvbkNvbG9yOiAnI0ZGRkYwMCcsCiAgICAgICAgICAgICAgICAgICAgbWFya2VyQ29sb3I6ICdsaWdodGdyZWVuJywKICAgICAgICAgICAgICAgICAgICBwcmVmaXg6ICdnbHlwaGljb24nLAogICAgICAgICAgICAgICAgICAgIGV4dHJhQ2xhc3NlczogJ2ZhLXJvdGF0ZS0wJwogICAgICAgICAgICAgICAgICAgIH0pOwogICAgICAgICAgICAgICAgbWFya2VyXzRhNzQxNWY5MjE5NDRhYzJiYTlkMWI4NjEzYTk0NjA4LnNldEljb24oaWNvbl9jZTNhZjM3NmYwOTg0ZmU0ODAwNTRjMGEwNWQ0ZjAyMSk7CiAgICAgICAgICAgIAogICAgCiAgICAgICAgICAgIHZhciBwb3B1cF9jMmE4Y2I5N2FlOTE0MDU2YTVhYzc4MzllMDI1OTA3ZCA9IEwucG9wdXAoe21heFdpZHRoOiAnMzAwJ30pOwoKICAgICAgICAgICAgCiAgICAgICAgICAgICAgICB2YXIgaHRtbF84ZTFjYzdiZTVmOWQ0ZDQwYjUwNzYxM2Y3ZDNjOTZlNiA9ICQoJzxkaXYgaWQ9Imh0bWxfOGUxY2M3YmU1ZjlkNGQ0MGI1MDc2MTNmN2QzYzk2ZTYiIHN0eWxlPSJ3aWR0aDogMTAwLjAlOyBoZWlnaHQ6IDEwMC4wJTsiPkRvd250b3duIFRvcm9udG88L2Rpdj4nKVswXTsKICAgICAgICAgICAgICAgIHBvcHVwX2MyYThjYjk3YWU5MTQwNTZhNWFjNzgzOWUwMjU5MDdkLnNldENvbnRlbnQoaHRtbF84ZTFjYzdiZTVmOWQ0ZDQwYjUwNzYxM2Y3ZDNjOTZlNik7CiAgICAgICAgICAgIAoKICAgICAgICAgICAgbWFya2VyXzRhNzQxNWY5MjE5NDRhYzJiYTlkMWI4NjEzYTk0NjA4LmJpbmRQb3B1cChwb3B1cF9jMmE4Y2I5N2FlOTE0MDU2YTVhYzc4MzllMDI1OTA3ZCk7CgogICAgICAgICAgICAKICAgICAgICAKICAgIAoKICAgICAgICAgICAgdmFyIG1hcmtlcl8zODc0NTYwZGIwZDU0ZDEzYWJkNzA2OWM0Y2NiNmI5NSA9IEwubWFya2VyKAogICAgICAgICAgICAgICAgWzQzLjY0NjQzNTIsLTc5LjM3NDg0NTk5OTk5OTk5XSwKICAgICAgICAgICAgICAgIHsKICAgICAgICAgICAgICAgICAgICBpY29uOiBuZXcgTC5JY29uLkRlZmF1bHQoKQogICAgICAgICAgICAgICAgICAgIH0KICAgICAgICAgICAgICAgICkKICAgICAgICAgICAgICAgIC5hZGRUbyhtYXBfZTU0OWJjZmFlNDVkNDNkM2E2MGZmMGRlOTVhZWNmZDkpOwogICAgICAgICAgICAKICAgIAoKICAgICAgICAgICAgICAgIHZhciBpY29uX2MzNWNjMjI4N2I1YjQ0NjdiODNmNTJkNjNiMjZjZjM5ID0gTC5Bd2Vzb21lTWFya2Vycy5pY29uKHsKICAgICAgICAgICAgICAgICAgICBpY29uOiAnaW5mby1zaWduJywKICAgICAgICAgICAgICAgICAgICBpY29uQ29sb3I6ICcjRkZGRjAwJywKICAgICAgICAgICAgICAgICAgICBtYXJrZXJDb2xvcjogJ2xpZ2h0Z3JlZW4nLAogICAgICAgICAgICAgICAgICAgIHByZWZpeDogJ2dseXBoaWNvbicsCiAgICAgICAgICAgICAgICAgICAgZXh0cmFDbGFzc2VzOiAnZmEtcm90YXRlLTAnCiAgICAgICAgICAgICAgICAgICAgfSk7CiAgICAgICAgICAgICAgICBtYXJrZXJfMzg3NDU2MGRiMGQ1NGQxM2FiZDcwNjljNGNjYjZiOTUuc2V0SWNvbihpY29uX2MzNWNjMjI4N2I1YjQ0NjdiODNmNTJkNjNiMjZjZjM5KTsKICAgICAgICAgICAgCiAgICAKICAgICAgICAgICAgdmFyIHBvcHVwXzhiYTRlMTlhODdkZTQyZTFhNjkzMjkwMzhhZjhkMjU1ID0gTC5wb3B1cCh7bWF4V2lkdGg6ICczMDAnfSk7CgogICAgICAgICAgICAKICAgICAgICAgICAgICAgIHZhciBodG1sXzE2NDBjNWExM2NiYTRjZGE5N2IzNGJlYWI5MjBhN2ZmID0gJCgnPGRpdiBpZD0iaHRtbF8xNjQwYzVhMTNjYmE0Y2RhOTdiMzRiZWFiOTIwYTdmZiIgc3R5bGU9IndpZHRoOiAxMDAuMCU7IGhlaWdodDogMTAwLjAlOyI+RG93bnRvd24gVG9yb250bzwvZGl2PicpWzBdOwogICAgICAgICAgICAgICAgcG9wdXBfOGJhNGUxOWE4N2RlNDJlMWE2OTMyOTAzOGFmOGQyNTUuc2V0Q29udGVudChodG1sXzE2NDBjNWExM2NiYTRjZGE5N2IzNGJlYWI5MjBhN2ZmKTsKICAgICAgICAgICAgCgogICAgICAgICAgICBtYXJrZXJfMzg3NDU2MGRiMGQ1NGQxM2FiZDcwNjljNGNjYjZiOTUuYmluZFBvcHVwKHBvcHVwXzhiYTRlMTlhODdkZTQyZTFhNjkzMjkwMzhhZjhkMjU1KTsKCiAgICAgICAgICAgIAogICAgICAgIAogICAgCgogICAgICAgICAgICB2YXIgbWFya2VyX2E3MGQ3ODUxNWNiMjRjMDI4NDhhYTgwNzEwZWEzYTZmID0gTC5tYXJrZXIoCiAgICAgICAgICAgICAgICBbNDMuNjAyNDEzNzAwMDAwMDEsLTc5LjU0MzQ4NDA5OTk5OTk5XSwKICAgICAgICAgICAgICAgIHsKICAgICAgICAgICAgICAgICAgICBpY29uOiBuZXcgTC5JY29uLkRlZmF1bHQoKQogICAgICAgICAgICAgICAgICAgIH0KICAgICAgICAgICAgICAgICkKICAgICAgICAgICAgICAgIC5hZGRUbyhtYXBfZTU0OWJjZmFlNDVkNDNkM2E2MGZmMGRlOTVhZWNmZDkpOwogICAgICAgICAgICAKICAgIAoKICAgICAgICAgICAgICAgIHZhciBpY29uXzA0NTExZGE3YTdjNDRhY2U5NGUzZThhYWJhNmNhY2E4ID0gTC5Bd2Vzb21lTWFya2Vycy5pY29uKHsKICAgICAgICAgICAgICAgICAgICBpY29uOiAnaW5mby1zaWduJywKICAgICAgICAgICAgICAgICAgICBpY29uQ29sb3I6ICcjRkZGRjAwJywKICAgICAgICAgICAgICAgICAgICBtYXJrZXJDb2xvcjogJ2dyZWVuJywKICAgICAgICAgICAgICAgICAgICBwcmVmaXg6ICdnbHlwaGljb24nLAogICAgICAgICAgICAgICAgICAgIGV4dHJhQ2xhc3NlczogJ2ZhLXJvdGF0ZS0wJwogICAgICAgICAgICAgICAgICAgIH0pOwogICAgICAgICAgICAgICAgbWFya2VyX2E3MGQ3ODUxNWNiMjRjMDI4NDhhYTgwNzEwZWEzYTZmLnNldEljb24oaWNvbl8wNDUxMWRhN2E3YzQ0YWNlOTRlM2U4YWFiYTZjYWNhOCk7CiAgICAgICAgICAgIAogICAgCiAgICAgICAgICAgIHZhciBwb3B1cF84MzIyNGY3NjI0OWU0ZjUyYmQzNGI0NWMwMDRlY2ZmNiA9IEwucG9wdXAoe21heFdpZHRoOiAnMzAwJ30pOwoKICAgICAgICAgICAgCiAgICAgICAgICAgICAgICB2YXIgaHRtbF9mNzdlMTQwYThkOGM0YTExYWUxN2U5MmQxMmViMzhjMiA9ICQoJzxkaXYgaWQ9Imh0bWxfZjc3ZTE0MGE4ZDhjNGExMWFlMTdlOTJkMTJlYjM4YzIiIHN0eWxlPSJ3aWR0aDogMTAwLjAlOyBoZWlnaHQ6IDEwMC4wJTsiPkV0b2JpY29rZTwvZGl2PicpWzBdOwogICAgICAgICAgICAgICAgcG9wdXBfODMyMjRmNzYyNDllNGY1MmJkMzRiNDVjMDA0ZWNmZjYuc2V0Q29udGVudChodG1sX2Y3N2UxNDBhOGQ4YzRhMTFhZTE3ZTkyZDEyZWIzOGMyKTsKICAgICAgICAgICAgCgogICAgICAgICAgICBtYXJrZXJfYTcwZDc4NTE1Y2IyNGMwMjg0OGFhODA3MTBlYTNhNmYuYmluZFBvcHVwKHBvcHVwXzgzMjI0Zjc2MjQ5ZTRmNTJiZDM0YjQ1YzAwNGVjZmY2KTsKCiAgICAgICAgICAgIAogICAgICAgIAogICAgCgogICAgICAgICAgICB2YXIgbWFya2VyX2NmNzE5NWE0ZjFjNDQzMjY4YWJiMWM4MDE1YTdkYjQ1ID0gTC5tYXJrZXIoCiAgICAgICAgICAgICAgICBbNDMuNzA2NzQ4Mjk5OTk5OTk0LC03OS41OTQwNTQ0XSwKICAgICAgICAgICAgICAgIHsKICAgICAgICAgICAgICAgICAgICBpY29uOiBuZXcgTC5JY29uLkRlZmF1bHQoKQogICAgICAgICAgICAgICAgICAgIH0KICAgICAgICAgICAgICAgICkKICAgICAgICAgICAgICAgIC5hZGRUbyhtYXBfZTU0OWJjZmFlNDVkNDNkM2E2MGZmMGRlOTVhZWNmZDkpOwogICAgICAgICAgICAKICAgIAoKICAgICAgICAgICAgICAgIHZhciBpY29uXzI1ZTQ3OTVlM2E2ZDQ5NDQ5OGUxNDFmMTkwNTdhMmZmID0gTC5Bd2Vzb21lTWFya2Vycy5pY29uKHsKICAgICAgICAgICAgICAgICAgICBpY29uOiAnaW5mby1zaWduJywKICAgICAgICAgICAgICAgICAgICBpY29uQ29sb3I6ICcjRkZGRjAwJywKICAgICAgICAgICAgICAgICAgICBtYXJrZXJDb2xvcjogJ2dyZWVuJywKICAgICAgICAgICAgICAgICAgICBwcmVmaXg6ICdnbHlwaGljb24nLAogICAgICAgICAgICAgICAgICAgIGV4dHJhQ2xhc3NlczogJ2ZhLXJvdGF0ZS0wJwogICAgICAgICAgICAgICAgICAgIH0pOwogICAgICAgICAgICAgICAgbWFya2VyX2NmNzE5NWE0ZjFjNDQzMjY4YWJiMWM4MDE1YTdkYjQ1LnNldEljb24oaWNvbl8yNWU0Nzk1ZTNhNmQ0OTQ0OThlMTQxZjE5MDU3YTJmZik7CiAgICAgICAgICAgIAogICAgCiAgICAgICAgICAgIHZhciBwb3B1cF8xODEyNWVhNDE2NDI0MmRlYTQwMjQzMzk3MmM5ODNmNyA9IEwucG9wdXAoe21heFdpZHRoOiAnMzAwJ30pOwoKICAgICAgICAgICAgCiAgICAgICAgICAgICAgICB2YXIgaHRtbF8zNGYxODExZTFkM2M0MWJmOTk0ZTg4NTRiNTMzODNmNCA9ICQoJzxkaXYgaWQ9Imh0bWxfMzRmMTgxMWUxZDNjNDFiZjk5NGU4ODU0YjUzMzgzZjQiIHN0eWxlPSJ3aWR0aDogMTAwLjAlOyBoZWlnaHQ6IDEwMC4wJTsiPkV0b2JpY29rZTwvZGl2PicpWzBdOwogICAgICAgICAgICAgICAgcG9wdXBfMTgxMjVlYTQxNjQyNDJkZWE0MDI0MzM5NzJjOTgzZjcuc2V0Q29udGVudChodG1sXzM0ZjE4MTFlMWQzYzQxYmY5OTRlODg1NGI1MzM4M2Y0KTsKICAgICAgICAgICAgCgogICAgICAgICAgICBtYXJrZXJfY2Y3MTk1YTRmMWM0NDMyNjhhYmIxYzgwMTVhN2RiNDUuYmluZFBvcHVwKHBvcHVwXzE4MTI1ZWE0MTY0MjQyZGVhNDAyNDMzOTcyYzk4M2Y3KTsKCiAgICAgICAgICAgIAogICAgICAgIAogICAgCgogICAgICAgICAgICB2YXIgbWFya2VyXzhiMzhiNjRjZDk4OTRjMDg4YTQ1MWYyMzZmYmQ1NjRlID0gTC5tYXJrZXIoCiAgICAgICAgICAgICAgICBbNDMuODM2MTI0NzAwMDAwMDA2LC03OS4yMDU2MzYwOTk5OTk5OV0sCiAgICAgICAgICAgICAgICB7CiAgICAgICAgICAgICAgICAgICAgaWNvbjogbmV3IEwuSWNvbi5EZWZhdWx0KCkKICAgICAgICAgICAgICAgICAgICB9CiAgICAgICAgICAgICAgICApCiAgICAgICAgICAgICAgICAuYWRkVG8obWFwX2U1NDliY2ZhZTQ1ZDQzZDNhNjBmZjBkZTk1YWVjZmQ5KTsKICAgICAgICAgICAgCiAgICAKCiAgICAgICAgICAgICAgICB2YXIgaWNvbl82ZWM3YThmMWZlZDU0Mzg3OTZhODZmNGY0MDUwMmM3YiA9IEwuQXdlc29tZU1hcmtlcnMuaWNvbih7CiAgICAgICAgICAgICAgICAgICAgaWNvbjogJ2luZm8tc2lnbicsCiAgICAgICAgICAgICAgICAgICAgaWNvbkNvbG9yOiAnI0ZGRkYwMCcsCiAgICAgICAgICAgICAgICAgICAgbWFya2VyQ29sb3I6ICdsaWdodHJlZCcsCiAgICAgICAgICAgICAgICAgICAgcHJlZml4OiAnZ2x5cGhpY29uJywKICAgICAgICAgICAgICAgICAgICBleHRyYUNsYXNzZXM6ICdmYS1yb3RhdGUtMCcKICAgICAgICAgICAgICAgICAgICB9KTsKICAgICAgICAgICAgICAgIG1hcmtlcl84YjM4YjY0Y2Q5ODk0YzA4OGE0NTFmMjM2ZmJkNTY0ZS5zZXRJY29uKGljb25fNmVjN2E4ZjFmZWQ1NDM4Nzk2YTg2ZjRmNDA1MDJjN2IpOwogICAgICAgICAgICAKICAgIAogICAgICAgICAgICB2YXIgcG9wdXBfNTQyNjUwOTI1MGU3NDIwNTk2NjM5YWQ1Zjg4YTJlNWMgPSBMLnBvcHVwKHttYXhXaWR0aDogJzMwMCd9KTsKCiAgICAgICAgICAgIAogICAgICAgICAgICAgICAgdmFyIGh0bWxfYjZkM2UxMDc3OTAyNDQ2NWIxNmIzOWNiZjNlZjM0YWIgPSAkKCc8ZGl2IGlkPSJodG1sX2I2ZDNlMTA3NzkwMjQ0NjViMTZiMzljYmYzZWYzNGFiIiBzdHlsZT0id2lkdGg6IDEwMC4wJTsgaGVpZ2h0OiAxMDAuMCU7Ij5TY2FyYm9yb3VnaDwvZGl2PicpWzBdOwogICAgICAgICAgICAgICAgcG9wdXBfNTQyNjUwOTI1MGU3NDIwNTk2NjM5YWQ1Zjg4YTJlNWMuc2V0Q29udGVudChodG1sX2I2ZDNlMTA3NzkwMjQ0NjViMTZiMzljYmYzZWYzNGFiKTsKICAgICAgICAgICAgCgogICAgICAgICAgICBtYXJrZXJfOGIzOGI2NGNkOTg5NGMwODhhNDUxZjIzNmZiZDU2NGUuYmluZFBvcHVwKHBvcHVwXzU0MjY1MDkyNTBlNzQyMDU5NjYzOWFkNWY4OGEyZTVjKTsKCiAgICAgICAgICAgIAogICAgICAgIAogICAgCgogICAgICAgICAgICB2YXIgbWFya2VyXzg5MmQ4NjJkZjllYTQzYWViNjVkZTM4ZjQxYTJiMGU1ID0gTC5tYXJrZXIoCiAgICAgICAgICAgICAgICBbNDMuNjY3OTY3LC03OS4zNjc2NzUzXSwKICAgICAgICAgICAgICAgIHsKICAgICAgICAgICAgICAgICAgICBpY29uOiBuZXcgTC5JY29uLkRlZmF1bHQoKQogICAgICAgICAgICAgICAgICAgIH0KICAgICAgICAgICAgICAgICkKICAgICAgICAgICAgICAgIC5hZGRUbyhtYXBfZTU0OWJjZmFlNDVkNDNkM2E2MGZmMGRlOTVhZWNmZDkpOwogICAgICAgICAgICAKICAgIAoKICAgICAgICAgICAgICAgIHZhciBpY29uXzI3NmE2OTQ4ZDc1NDQyOGFiYzVhYTkyNTJjNmViNmExID0gTC5Bd2Vzb21lTWFya2Vycy5pY29uKHsKICAgICAgICAgICAgICAgICAgICBpY29uOiAnaW5mby1zaWduJywKICAgICAgICAgICAgICAgICAgICBpY29uQ29sb3I6ICcjRkZGRjAwJywKICAgICAgICAgICAgICAgICAgICBtYXJrZXJDb2xvcjogJ2xpZ2h0Z3JlZW4nLAogICAgICAgICAgICAgICAgICAgIHByZWZpeDogJ2dseXBoaWNvbicsCiAgICAgICAgICAgICAgICAgICAgZXh0cmFDbGFzc2VzOiAnZmEtcm90YXRlLTAnCiAgICAgICAgICAgICAgICAgICAgfSk7CiAgICAgICAgICAgICAgICBtYXJrZXJfODkyZDg2MmRmOWVhNDNhZWI2NWRlMzhmNDFhMmIwZTUuc2V0SWNvbihpY29uXzI3NmE2OTQ4ZDc1NDQyOGFiYzVhYTkyNTJjNmViNmExKTsKICAgICAgICAgICAgCiAgICAKICAgICAgICAgICAgdmFyIHBvcHVwXzgyZjFiMDZhMDhhYTQ0NDg4ZDY1MmJkYjUxZDc0OWEwID0gTC5wb3B1cCh7bWF4V2lkdGg6ICczMDAnfSk7CgogICAgICAgICAgICAKICAgICAgICAgICAgICAgIHZhciBodG1sXzNlMDMwZjY3YzgyMTQzYjJiYTY0YmExNTA0MDcxNDhlID0gJCgnPGRpdiBpZD0iaHRtbF8zZTAzMGY2N2M4MjE0M2IyYmE2NGJhMTUwNDA3MTQ4ZSIgc3R5bGU9IndpZHRoOiAxMDAuMCU7IGhlaWdodDogMTAwLjAlOyI+RG93bnRvd24gVG9yb250bzwvZGl2PicpWzBdOwogICAgICAgICAgICAgICAgcG9wdXBfODJmMWIwNmEwOGFhNDQ0ODhkNjUyYmRiNTFkNzQ5YTAuc2V0Q29udGVudChodG1sXzNlMDMwZjY3YzgyMTQzYjJiYTY0YmExNTA0MDcxNDhlKTsKICAgICAgICAgICAgCgogICAgICAgICAgICBtYXJrZXJfODkyZDg2MmRmOWVhNDNhZWI2NWRlMzhmNDFhMmIwZTUuYmluZFBvcHVwKHBvcHVwXzgyZjFiMDZhMDhhYTQ0NDg4ZDY1MmJkYjUxZDc0OWEwKTsKCiAgICAgICAgICAgIAogICAgICAgIAogICAgCgogICAgICAgICAgICB2YXIgbWFya2VyXzhiNzJiMjQ4NjNmZTQwNjdhMTdmZWFhYWJkYjc0Yjk3ID0gTC5tYXJrZXIoCiAgICAgICAgICAgICAgICBbNDMuNjQ4NDI5MiwtNzkuMzgyMjgwMl0sCiAgICAgICAgICAgICAgICB7CiAgICAgICAgICAgICAgICAgICAgaWNvbjogbmV3IEwuSWNvbi5EZWZhdWx0KCkKICAgICAgICAgICAgICAgICAgICB9CiAgICAgICAgICAgICAgICApCiAgICAgICAgICAgICAgICAuYWRkVG8obWFwX2U1NDliY2ZhZTQ1ZDQzZDNhNjBmZjBkZTk1YWVjZmQ5KTsKICAgICAgICAgICAgCiAgICAKCiAgICAgICAgICAgICAgICB2YXIgaWNvbl8yZjUzMzY3OTgxNzI0NmE2ODAwOTI4N2Y0Mjc2OWVkOCA9IEwuQXdlc29tZU1hcmtlcnMuaWNvbih7CiAgICAgICAgICAgICAgICAgICAgaWNvbjogJ2luZm8tc2lnbicsCiAgICAgICAgICAgICAgICAgICAgaWNvbkNvbG9yOiAnI0ZGRkYwMCcsCiAgICAgICAgICAgICAgICAgICAgbWFya2VyQ29sb3I6ICdsaWdodGdyZWVuJywKICAgICAgICAgICAgICAgICAgICBwcmVmaXg6ICdnbHlwaGljb24nLAogICAgICAgICAgICAgICAgICAgIGV4dHJhQ2xhc3NlczogJ2ZhLXJvdGF0ZS0wJwogICAgICAgICAgICAgICAgICAgIH0pOwogICAgICAgICAgICAgICAgbWFya2VyXzhiNzJiMjQ4NjNmZTQwNjdhMTdmZWFhYWJkYjc0Yjk3LnNldEljb24oaWNvbl8yZjUzMzY3OTgxNzI0NmE2ODAwOTI4N2Y0Mjc2OWVkOCk7CiAgICAgICAgICAgIAogICAgCiAgICAgICAgICAgIHZhciBwb3B1cF8xNzg1NThlODk5MDk0YTQyYmExZWNlMzJmMjNlNjIzYyA9IEwucG9wdXAoe21heFdpZHRoOiAnMzAwJ30pOwoKICAgICAgICAgICAgCiAgICAgICAgICAgICAgICB2YXIgaHRtbF82ZDJmZmVjNmJjOTU0YzE1OTBiODZjZGJlOTgyOGJhNyA9ICQoJzxkaXYgaWQ9Imh0bWxfNmQyZmZlYzZiYzk1NGMxNTkwYjg2Y2RiZTk4MjhiYTciIHN0eWxlPSJ3aWR0aDogMTAwLjAlOyBoZWlnaHQ6IDEwMC4wJTsiPkRvd250b3duIFRvcm9udG88L2Rpdj4nKVswXTsKICAgICAgICAgICAgICAgIHBvcHVwXzE3ODU1OGU4OTkwOTRhNDJiYTFlY2UzMmYyM2U2MjNjLnNldENvbnRlbnQoaHRtbF82ZDJmZmVjNmJjOTU0YzE1OTBiODZjZGJlOTgyOGJhNyk7CiAgICAgICAgICAgIAoKICAgICAgICAgICAgbWFya2VyXzhiNzJiMjQ4NjNmZTQwNjdhMTdmZWFhYWJkYjc0Yjk3LmJpbmRQb3B1cChwb3B1cF8xNzg1NThlODk5MDk0YTQyYmExZWNlMzJmMjNlNjIzYyk7CgogICAgICAgICAgICAKICAgICAgICAKICAgIAoKICAgICAgICAgICAgdmFyIG1hcmtlcl9hYzY5OTcxY2U1Yjk0ZjliYjJlNGQ1Y2JiYTNkZTFmMyA9IEwubWFya2VyKAogICAgICAgICAgICAgICAgWzQzLjY1MzY1MzYwMDAwMDAwNSwtNzkuNTA2OTQzNl0sCiAgICAgICAgICAgICAgICB7CiAgICAgICAgICAgICAgICAgICAgaWNvbjogbmV3IEwuSWNvbi5EZWZhdWx0KCkKICAgICAgICAgICAgICAgICAgICB9CiAgICAgICAgICAgICAgICApCiAgICAgICAgICAgICAgICAuYWRkVG8obWFwX2U1NDliY2ZhZTQ1ZDQzZDNhNjBmZjBkZTk1YWVjZmQ5KTsKICAgICAgICAgICAgCiAgICAKCiAgICAgICAgICAgICAgICB2YXIgaWNvbl8zY2Y3MWFlZTkwYmQ0OTVlODA1YjcyYjJmZWFjMjNjZiA9IEwuQXdlc29tZU1hcmtlcnMuaWNvbih7CiAgICAgICAgICAgICAgICAgICAgaWNvbjogJ2luZm8tc2lnbicsCiAgICAgICAgICAgICAgICAgICAgaWNvbkNvbG9yOiAnI0ZGRkYwMCcsCiAgICAgICAgICAgICAgICAgICAgbWFya2VyQ29sb3I6ICdncmVlbicsCiAgICAgICAgICAgICAgICAgICAgcHJlZml4OiAnZ2x5cGhpY29uJywKICAgICAgICAgICAgICAgICAgICBleHRyYUNsYXNzZXM6ICdmYS1yb3RhdGUtMCcKICAgICAgICAgICAgICAgICAgICB9KTsKICAgICAgICAgICAgICAgIG1hcmtlcl9hYzY5OTcxY2U1Yjk0ZjliYjJlNGQ1Y2JiYTNkZTFmMy5zZXRJY29uKGljb25fM2NmNzFhZWU5MGJkNDk1ZTgwNWI3MmIyZmVhYzIzY2YpOwogICAgICAgICAgICAKICAgIAogICAgICAgICAgICB2YXIgcG9wdXBfODdhNzNjMGM2MmY0NDk1M2I3ZDcxMDRhOTUxOTVkNDggPSBMLnBvcHVwKHttYXhXaWR0aDogJzMwMCd9KTsKCiAgICAgICAgICAgIAogICAgICAgICAgICAgICAgdmFyIGh0bWxfZmRlOGQ5OTI4MmM2NDA3Nzk1YTdkZGQ5NWVlYTljZjIgPSAkKCc8ZGl2IGlkPSJodG1sX2ZkZThkOTkyODJjNjQwNzc5NWE3ZGRkOTVlZWE5Y2YyIiBzdHlsZT0id2lkdGg6IDEwMC4wJTsgaGVpZ2h0OiAxMDAuMCU7Ij5FdG9iaWNva2U8L2Rpdj4nKVswXTsKICAgICAgICAgICAgICAgIHBvcHVwXzg3YTczYzBjNjJmNDQ5NTNiN2Q3MTA0YTk1MTk1ZDQ4LnNldENvbnRlbnQoaHRtbF9mZGU4ZDk5MjgyYzY0MDc3OTVhN2RkZDk1ZWVhOWNmMik7CiAgICAgICAgICAgIAoKICAgICAgICAgICAgbWFya2VyX2FjNjk5NzFjZTViOTRmOWJiMmU0ZDVjYmJhM2RlMWYzLmJpbmRQb3B1cChwb3B1cF84N2E3M2MwYzYyZjQ0OTUzYjdkNzEwNGE5NTE5NWQ0OCk7CgogICAgICAgICAgICAKICAgICAgICAKICAgIAoKICAgICAgICAgICAgdmFyIG1hcmtlcl9lZTc1ODVlOWU1ZjU0YzkwYWU3MjAzZDExMWEzMWQ0NyA9IEwubWFya2VyKAogICAgICAgICAgICAgICAgWzQzLjY2NTg1OTksLTc5LjM4MzE1OTkwMDAwMDAxXSwKICAgICAgICAgICAgICAgIHsKICAgICAgICAgICAgICAgICAgICBpY29uOiBuZXcgTC5JY29uLkRlZmF1bHQoKQogICAgICAgICAgICAgICAgICAgIH0KICAgICAgICAgICAgICAgICkKICAgICAgICAgICAgICAgIC5hZGRUbyhtYXBfZTU0OWJjZmFlNDVkNDNkM2E2MGZmMGRlOTVhZWNmZDkpOwogICAgICAgICAgICAKICAgIAoKICAgICAgICAgICAgICAgIHZhciBpY29uX2NjMjliNjNkNzBlZTQyNmFhNTAzNTgzOTU1MzJmNTU2ID0gTC5Bd2Vzb21lTWFya2Vycy5pY29uKHsKICAgICAgICAgICAgICAgICAgICBpY29uOiAnaW5mby1zaWduJywKICAgICAgICAgICAgICAgICAgICBpY29uQ29sb3I6ICcjRkZGRjAwJywKICAgICAgICAgICAgICAgICAgICBtYXJrZXJDb2xvcjogJ2xpZ2h0Z3JlZW4nLAogICAgICAgICAgICAgICAgICAgIHByZWZpeDogJ2dseXBoaWNvbicsCiAgICAgICAgICAgICAgICAgICAgZXh0cmFDbGFzc2VzOiAnZmEtcm90YXRlLTAnCiAgICAgICAgICAgICAgICAgICAgfSk7CiAgICAgICAgICAgICAgICBtYXJrZXJfZWU3NTg1ZTllNWY1NGM5MGFlNzIwM2QxMTFhMzFkNDcuc2V0SWNvbihpY29uX2NjMjliNjNkNzBlZTQyNmFhNTAzNTgzOTU1MzJmNTU2KTsKICAgICAgICAgICAgCiAgICAKICAgICAgICAgICAgdmFyIHBvcHVwXzBhMzA4NzI1MGUyNDQ5NjM4ZTQ5NDAyYzAxODNjYzNmID0gTC5wb3B1cCh7bWF4V2lkdGg6ICczMDAnfSk7CgogICAgICAgICAgICAKICAgICAgICAgICAgICAgIHZhciBodG1sX2FjNjE2ZWQ4MDZlYjQxZGZhOTRlZjU5MmNhMDIzMDQwID0gJCgnPGRpdiBpZD0iaHRtbF9hYzYxNmVkODA2ZWI0MWRmYTk0ZWY1OTJjYTAyMzA0MCIgc3R5bGU9IndpZHRoOiAxMDAuMCU7IGhlaWdodDogMTAwLjAlOyI+RG93bnRvd24gVG9yb250bzwvZGl2PicpWzBdOwogICAgICAgICAgICAgICAgcG9wdXBfMGEzMDg3MjUwZTI0NDk2MzhlNDk0MDJjMDE4M2NjM2Yuc2V0Q29udGVudChodG1sX2FjNjE2ZWQ4MDZlYjQxZGZhOTRlZjU5MmNhMDIzMDQwKTsKICAgICAgICAgICAgCgogICAgICAgICAgICBtYXJrZXJfZWU3NTg1ZTllNWY1NGM5MGFlNzIwM2QxMTFhMzFkNDcuYmluZFBvcHVwKHBvcHVwXzBhMzA4NzI1MGUyNDQ5NjM4ZTQ5NDAyYzAxODNjYzNmKTsKCiAgICAgICAgICAgIAogICAgICAgIAogICAgCgogICAgICAgICAgICB2YXIgbWFya2VyX2JmZmUzYjA1ODI5ZDRlN2Y5YzE5MjczNjNlZmI2NWQ2ID0gTC5tYXJrZXIoCiAgICAgICAgICAgICAgICBbNDMuNjYyNzQzOSwtNzkuMzIxNTU4XSwKICAgICAgICAgICAgICAgIHsKICAgICAgICAgICAgICAgICAgICBpY29uOiBuZXcgTC5JY29uLkRlZmF1bHQoKQogICAgICAgICAgICAgICAgICAgIH0KICAgICAgICAgICAgICAgICkKICAgICAgICAgICAgICAgIC5hZGRUbyhtYXBfZTU0OWJjZmFlNDVkNDNkM2E2MGZmMGRlOTVhZWNmZDkpOwogICAgICAgICAgICAKICAgIAoKICAgICAgICAgICAgICAgIHZhciBpY29uXzBjNzdiYjZlMmYwOTQ4MmU5NjJjY2ExZDExM2FiYzBjID0gTC5Bd2Vzb21lTWFya2Vycy5pY29uKHsKICAgICAgICAgICAgICAgICAgICBpY29uOiAnaW5mby1zaWduJywKICAgICAgICAgICAgICAgICAgICBpY29uQ29sb3I6ICcjRkZGRjAwJywKICAgICAgICAgICAgICAgICAgICBtYXJrZXJDb2xvcjogJ2JlaWdlJywKICAgICAgICAgICAgICAgICAgICBwcmVmaXg6ICdnbHlwaGljb24nLAogICAgICAgICAgICAgICAgICAgIGV4dHJhQ2xhc3NlczogJ2ZhLXJvdGF0ZS0wJwogICAgICAgICAgICAgICAgICAgIH0pOwogICAgICAgICAgICAgICAgbWFya2VyX2JmZmUzYjA1ODI5ZDRlN2Y5YzE5MjczNjNlZmI2NWQ2LnNldEljb24oaWNvbl8wYzc3YmI2ZTJmMDk0ODJlOTYyY2NhMWQxMTNhYmMwYyk7CiAgICAgICAgICAgIAogICAgCiAgICAgICAgICAgIHZhciBwb3B1cF84MmZlYjUyNTkwMWM0NmUzODVlNGYxMDEzMGRjYjQ4ZCA9IEwucG9wdXAoe21heFdpZHRoOiAnMzAwJ30pOwoKICAgICAgICAgICAgCiAgICAgICAgICAgICAgICB2YXIgaHRtbF8wNTQ5MmYyZmMwN2U0OTQxYTU4NmJiYTYxOWViYTgzMyA9ICQoJzxkaXYgaWQ9Imh0bWxfMDU0OTJmMmZjMDdlNDk0MWE1ODZiYmE2MTllYmE4MzMiIHN0eWxlPSJ3aWR0aDogMTAwLjAlOyBoZWlnaHQ6IDEwMC4wJTsiPkVhc3QgVG9yb250bzwvZGl2PicpWzBdOwogICAgICAgICAgICAgICAgcG9wdXBfODJmZWI1MjU5MDFjNDZlMzg1ZTRmMTAxMzBkY2I0OGQuc2V0Q29udGVudChodG1sXzA1NDkyZjJmYzA3ZTQ5NDFhNTg2YmJhNjE5ZWJhODMzKTsKICAgICAgICAgICAgCgogICAgICAgICAgICBtYXJrZXJfYmZmZTNiMDU4MjlkNGU3ZjljMTkyNzM2M2VmYjY1ZDYuYmluZFBvcHVwKHBvcHVwXzgyZmViNTI1OTAxYzQ2ZTM4NWU0ZjEwMTMwZGNiNDhkKTsKCiAgICAgICAgICAgIAogICAgICAgIAogICAgCgogICAgICAgICAgICB2YXIgbWFya2VyX2IzMTBiZjk2NzJjMjRkOWM4YjExMDE1MjY1NjU5YTdiID0gTC5tYXJrZXIoCiAgICAgICAgICAgICAgICBbNDMuNjM2MjU3OSwtNzkuNDk4NTA5MDk5OTk5OTldLAogICAgICAgICAgICAgICAgewogICAgICAgICAgICAgICAgICAgIGljb246IG5ldyBMLkljb24uRGVmYXVsdCgpCiAgICAgICAgICAgICAgICAgICAgfQogICAgICAgICAgICAgICAgKQogICAgICAgICAgICAgICAgLmFkZFRvKG1hcF9lNTQ5YmNmYWU0NWQ0M2QzYTYwZmYwZGU5NWFlY2ZkOSk7CiAgICAgICAgICAgIAogICAgCgogICAgICAgICAgICAgICAgdmFyIGljb25fZGIwZTE4ZjE2ZGFlNDdiODkyZTA2YTM1YjU5ZGJiOTMgPSBMLkF3ZXNvbWVNYXJrZXJzLmljb24oewogICAgICAgICAgICAgICAgICAgIGljb246ICdpbmZvLXNpZ24nLAogICAgICAgICAgICAgICAgICAgIGljb25Db2xvcjogJyNGRkZGMDAnLAogICAgICAgICAgICAgICAgICAgIG1hcmtlckNvbG9yOiAnZ3JlZW4nLAogICAgICAgICAgICAgICAgICAgIHByZWZpeDogJ2dseXBoaWNvbicsCiAgICAgICAgICAgICAgICAgICAgZXh0cmFDbGFzc2VzOiAnZmEtcm90YXRlLTAnCiAgICAgICAgICAgICAgICAgICAgfSk7CiAgICAgICAgICAgICAgICBtYXJrZXJfYjMxMGJmOTY3MmMyNGQ5YzhiMTEwMTUyNjU2NTlhN2Iuc2V0SWNvbihpY29uX2RiMGUxOGYxNmRhZTQ3Yjg5MmUwNmEzNWI1OWRiYjkzKTsKICAgICAgICAgICAgCiAgICAKICAgICAgICAgICAgdmFyIHBvcHVwXzU5ODlkZTA1ZDg3MDQxYjA4YWIzNzdiNTk2ZWVhNjM0ID0gTC5wb3B1cCh7bWF4V2lkdGg6ICczMDAnfSk7CgogICAgICAgICAgICAKICAgICAgICAgICAgICAgIHZhciBodG1sX2Q0NTdlOTI0MTM4MTRhZjk4YjYwNTA2ZWE3ODMzYzllID0gJCgnPGRpdiBpZD0iaHRtbF9kNDU3ZTkyNDEzODE0YWY5OGI2MDUwNmVhNzgzM2M5ZSIgc3R5bGU9IndpZHRoOiAxMDAuMCU7IGhlaWdodDogMTAwLjAlOyI+RXRvYmljb2tlPC9kaXY+JylbMF07CiAgICAgICAgICAgICAgICBwb3B1cF81OTg5ZGUwNWQ4NzA0MWIwOGFiMzc3YjU5NmVlYTYzNC5zZXRDb250ZW50KGh0bWxfZDQ1N2U5MjQxMzgxNGFmOThiNjA1MDZlYTc4MzNjOWUpOwogICAgICAgICAgICAKCiAgICAgICAgICAgIG1hcmtlcl9iMzEwYmY5NjcyYzI0ZDljOGIxMTAxNTI2NTY1OWE3Yi5iaW5kUG9wdXAocG9wdXBfNTk4OWRlMDVkODcwNDFiMDhhYjM3N2I1OTZlZWE2MzQpOwoKICAgICAgICAgICAgCiAgICAgICAgCiAgICAKCiAgICAgICAgICAgIHZhciBtYXJrZXJfZDNhMDhlZWQzOWYzNGIyZGIyOGNiNjk0YzA2MjM4NGQgPSBMLm1hcmtlcigKICAgICAgICAgICAgICAgIFs0My42Mjg4NDA4LC03OS41MjA5OTk0MDAwMDAwMV0sCiAgICAgICAgICAgICAgICB7CiAgICAgICAgICAgICAgICAgICAgaWNvbjogbmV3IEwuSWNvbi5EZWZhdWx0KCkKICAgICAgICAgICAgICAgICAgICB9CiAgICAgICAgICAgICAgICApCiAgICAgICAgICAgICAgICAuYWRkVG8obWFwX2U1NDliY2ZhZTQ1ZDQzZDNhNjBmZjBkZTk1YWVjZmQ5KTsKICAgICAgICAgICAgCiAgICAKCiAgICAgICAgICAgICAgICB2YXIgaWNvbl8xODNjNTc1NmUyNzE0N2MyOGIwZThjMTZhNmFlODUwOSA9IEwuQXdlc29tZU1hcmtlcnMuaWNvbih7CiAgICAgICAgICAgICAgICAgICAgaWNvbjogJ2luZm8tc2lnbicsCiAgICAgICAgICAgICAgICAgICAgaWNvbkNvbG9yOiAnI0ZGRkYwMCcsCiAgICAgICAgICAgICAgICAgICAgbWFya2VyQ29sb3I6ICdncmVlbicsCiAgICAgICAgICAgICAgICAgICAgcHJlZml4OiAnZ2x5cGhpY29uJywKICAgICAgICAgICAgICAgICAgICBleHRyYUNsYXNzZXM6ICdmYS1yb3RhdGUtMCcKICAgICAgICAgICAgICAgICAgICB9KTsKICAgICAgICAgICAgICAgIG1hcmtlcl9kM2EwOGVlZDM5ZjM0YjJkYjI4Y2I2OTRjMDYyMzg0ZC5zZXRJY29uKGljb25fMTgzYzU3NTZlMjcxNDdjMjhiMGU4YzE2YTZhZTg1MDkpOwogICAgICAgICAgICAKICAgIAogICAgICAgICAgICB2YXIgcG9wdXBfODFiYjU4YmYwZTg3NDg4NzkzODAwYjE4ODRhM2QxZGIgPSBMLnBvcHVwKHttYXhXaWR0aDogJzMwMCd9KTsKCiAgICAgICAgICAgIAogICAgICAgICAgICAgICAgdmFyIGh0bWxfZThiMWNkZjY5OWZhNGVlMmFjYzZiOGZmMjAxMGJhYTMgPSAkKCc8ZGl2IGlkPSJodG1sX2U4YjFjZGY2OTlmYTRlZTJhY2M2YjhmZjIwMTBiYWEzIiBzdHlsZT0id2lkdGg6IDEwMC4wJTsgaGVpZ2h0OiAxMDAuMCU7Ij5FdG9iaWNva2U8L2Rpdj4nKVswXTsKICAgICAgICAgICAgICAgIHBvcHVwXzgxYmI1OGJmMGU4NzQ4ODc5MzgwMGIxODg0YTNkMWRiLnNldENvbnRlbnQoaHRtbF9lOGIxY2RmNjk5ZmE0ZWUyYWNjNmI4ZmYyMDEwYmFhMyk7CiAgICAgICAgICAgIAoKICAgICAgICAgICAgbWFya2VyX2QzYTA4ZWVkMzlmMzRiMmRiMjhjYjY5NGMwNjIzODRkLmJpbmRQb3B1cChwb3B1cF84MWJiNThiZjBlODc0ODg3OTM4MDBiMTg4NGEzZDFkYik7CgogICAgICAgICAgICAKICAgICAgICAKPC9zY3JpcHQ+ onload=\"this.contentDocument.open();this.contentDocument.write(atob(this.getAttribute('data-html')));this.contentDocument.close();\" allowfullscreen webkitallowfullscreen mozallowfullscreen></iframe></div></div>"
      ],
      "text/plain": [
       "<folium.folium.Map at 0x22b1b051c48>"
      ]
     },
     "execution_count": 250,
     "metadata": {},
     "output_type": "execute_result"
    }
   ],
   "source": [
    "# Generating map with different color clustered Boroughs\n",
    "import folium\n",
    "\n",
    "Tor_map1 = folium.Map(location = [df2['Latitude'][0], df2['Longitude'][0]], zoom_start=11)\n",
    "\n",
    "locations = df2[['Latitude', 'Longitude']]\n",
    "locationlist = locations.values.tolist()\n",
    "\n",
    "for point in df2.index:\n",
    "    if df2['Borough'][point] == 'North York':\n",
    "        folium.Marker(locationlist[point], popup=df2['Neighborhood'][point],icon=folium.Icon(color='purple',icon_color='#FFFF00')).add_to(Tor_map1)\n",
    "    elif df2['Borough'][point] == 'Downtown Toronto':\n",
    "        folium.Marker(locationlist[point], popup=df2['Borough'][point],icon=folium.Icon(color='lightgreen',icon_color='#FFFF00')).add_to(Tor_map1)\n",
    "    elif df2['Borough'][point] == 'Scarborough':\n",
    "        folium.Marker(locationlist[point], popup=df2['Borough'][point],icon=folium.Icon(color='lightred',icon_color='#FFFF00')).add_to(Tor_map1)\n",
    "    elif df2['Borough'][point] == 'Etobicoke':\n",
    "        folium.Marker(locationlist[point], popup=df2['Borough'][point],icon=folium.Icon(color='green',icon_color='#FFFF00')).add_to(Tor_map1)\n",
    "    elif df2['Borough'][point] == 'Central Toronto':\n",
    "        folium.Marker(locationlist[point], popup=df2['Borough'][point],icon=folium.Icon(color='orange',icon_color='#FFFF00')).add_to(Tor_map1)\n",
    "    elif df2['Borough'][point] == 'West Toronto':\n",
    "        folium.Marker(locationlist[point], popup=df2['Borough'][point],icon=folium.Icon(color='red',icon_color='#FFFF00')).add_to(Tor_map1)\n",
    "    elif df2['Borough'][point] == 'East Toronto':\n",
    "        folium.Marker(locationlist[point], popup=df2['Borough'][point],icon=folium.Icon(color='beige',icon_color='#FFFF00')).add_to(Tor_map1)\n",
    "    elif df2['Borough'][point] == 'York':\n",
    "        folium.Marker(locationlist[point], popup=df2['Borough'][point],icon=folium.Icon(color='blue',icon_color='#FFFF00')).add_to(Tor_map1)\n",
    "    elif df2['Borough'][point] == 'East York':\n",
    "        folium.Marker(locationlist[point], popup=df2['Borough'][point],icon=folium.Icon(color='lightred',icon_color='#FFFF00')).add_to(Tor_map1)\n",
    "    else:\n",
    "        folium.Marker(locationlist[point], popup=df2['Borough'][point],icon=folium.Icon(color='pink',icon_color='#FFFF00')).add_to(Tor_map1)\n",
    "\n",
    "Tor_map1"
   ]
  },
  {
   "cell_type": "markdown",
   "metadata": {},
   "source": [
    "Step 9 - Checking number of Indian restaurants around my home by consuming API from Foursquare. Next step will be to find areas with similar number of Indian restaurants and highlighting on the map with black markers."
   ]
  },
  {
   "cell_type": "code",
   "execution_count": 251,
   "metadata": {},
   "outputs": [
    {
     "name": "stdout",
     "output_type": "stream",
     "text": [
      "Postal Code                          M5B\n",
      "Borough                 Downtown Toronto\n",
      "Neighborhood    Garden District, Ryerson\n",
      "Latitude                         43.6572\n",
      "Longitude                       -79.3789\n",
      "Name: 9, dtype: object\n"
     ]
    }
   ],
   "source": [
    "# Retrieving my area coordinates\n",
    "for i in df2.index:\n",
    "    if df2['Postal Code'][i]=='M5B':\n",
    "        print (df2.iloc[i][:])"
   ]
  },
  {
   "cell_type": "code",
   "execution_count": 252,
   "metadata": {},
   "outputs": [],
   "source": [
    "#Checking number of Indian restaurants in 800m radius from my area.\n",
    "\n",
    "CLIENT_ID = 'H0H14SE2XUSNUABDM4JRNDTLGBRSNCLW5KP1AYR4SCZML3BJ' # my Foursquare ID\n",
    "CLIENT_SECRET = 'L4POMOLGOGX5D1WUTLLUOS54I1CZ1XFJSHIVYOPODEFFZJ3P' # my Foursquare Secret\n",
    "VERSION = '20200615'\n",
    "LIMIT = 30\n",
    "radius = 800\n",
    "Lat_home = 43.6572\n",
    "Long_home = -79.3789\n",
    "search_query='Indian'"
   ]
  },
  {
   "cell_type": "code",
   "execution_count": 253,
   "metadata": {},
   "outputs": [],
   "source": [
    "# Importing necessary modules\n",
    "\n",
    "import requests"
   ]
  },
  {
   "cell_type": "code",
   "execution_count": 254,
   "metadata": {},
   "outputs": [
    {
     "data": {
      "text/plain": [
       "'https://api.foursquare.com/v2/venues/search?client_id=H0H14SE2XUSNUABDM4JRNDTLGBRSNCLW5KP1AYR4SCZML3BJ&client_secret=L4POMOLGOGX5D1WUTLLUOS54I1CZ1XFJSHIVYOPODEFFZJ3P&ll=43.6572,-79.3789&v=20200615&query=Indian&radius=800&limit=30'"
      ]
     },
     "execution_count": 254,
     "metadata": {},
     "output_type": "execute_result"
    }
   ],
   "source": [
    "url = 'https://api.foursquare.com/v2/venues/search?client_id={}&client_secret={}&ll={},{}&v={}&query={}&radius={}&limit={}'.format(CLIENT_ID, CLIENT_SECRET, Lat_home, Long_home, VERSION, search_query, radius, LIMIT)\n",
    "url"
   ]
  },
  {
   "cell_type": "code",
   "execution_count": 255,
   "metadata": {},
   "outputs": [
    {
     "data": {
      "text/plain": [
       "{'meta': {'code': 200, 'requestId': '5ee81b69237de16992de6940'},\n",
       " 'response': {'venues': [{'id': '4b2a634af964a52020a824e3',\n",
       "    'name': 'Indian Flavour',\n",
       "    'location': {'address': '123 Dundas St W',\n",
       "     'crossStreet': 'btw Elizabeth & Bay',\n",
       "     'lat': 43.65564910619165,\n",
       "     'lng': -79.38411937886697,\n",
       "     'labeledLatLngs': [{'label': 'display',\n",
       "       'lat': 43.65564910619165,\n",
       "       'lng': -79.38411937886697}],\n",
       "     'distance': 454,\n",
       "     'cc': 'CA',\n",
       "     'city': 'Toronto',\n",
       "     'state': 'ON',\n",
       "     'country': 'Canada',\n",
       "     'formattedAddress': ['123 Dundas St W (btw Elizabeth & Bay)',\n",
       "      'Toronto ON',\n",
       "      'Canada']},\n",
       "    'categories': [{'id': '4bf58dd8d48988d10f941735',\n",
       "      'name': 'Indian Restaurant',\n",
       "      'pluralName': 'Indian Restaurants',\n",
       "      'shortName': 'Indian',\n",
       "      'icon': {'prefix': 'https://ss3.4sqi.net/img/categories_v2/food/indian_',\n",
       "       'suffix': '.png'},\n",
       "      'primary': True}],\n",
       "    'referralId': 'v-1592269684',\n",
       "    'hasPerk': False},\n",
       "   {'id': '5165c333e4b07a7ad88d8a69',\n",
       "    'name': \"Joe's Indian Restaurant\",\n",
       "    'location': {'lat': 43.65814977325445,\n",
       "     'lng': -79.38156263736568,\n",
       "     'labeledLatLngs': [{'label': 'display',\n",
       "       'lat': 43.65814977325445,\n",
       "       'lng': -79.38156263736568}],\n",
       "     'distance': 239,\n",
       "     'cc': 'CA',\n",
       "     'country': 'Canada',\n",
       "     'formattedAddress': ['Canada']},\n",
       "    'categories': [{'id': '4bf58dd8d48988d10f941735',\n",
       "      'name': 'Indian Restaurant',\n",
       "      'pluralName': 'Indian Restaurants',\n",
       "      'shortName': 'Indian',\n",
       "      'icon': {'prefix': 'https://ss3.4sqi.net/img/categories_v2/food/indian_',\n",
       "       'suffix': '.png'},\n",
       "      'primary': True}],\n",
       "    'referralId': 'v-1592269684',\n",
       "    'hasPerk': False},\n",
       "   {'id': '4afd920ff964a520ad2822e3',\n",
       "    'name': 'Indian Biriyani House',\n",
       "    'location': {'address': '181 Dundas St W',\n",
       "     'crossStreet': 'W of Chestnut St',\n",
       "     'lat': 43.65511996683289,\n",
       "     'lng': -79.3866447102921,\n",
       "     'labeledLatLngs': [{'label': 'display',\n",
       "       'lat': 43.65511996683289,\n",
       "       'lng': -79.3866447102921}],\n",
       "     'distance': 665,\n",
       "     'postalCode': 'M5G 1C7',\n",
       "     'cc': 'CA',\n",
       "     'city': 'Toronto',\n",
       "     'state': 'ON',\n",
       "     'country': 'Canada',\n",
       "     'formattedAddress': ['181 Dundas St W (W of Chestnut St)',\n",
       "      'Toronto ON M5G 1C7',\n",
       "      'Canada']},\n",
       "    'categories': [{'id': '4bf58dd8d48988d10f941735',\n",
       "      'name': 'Indian Restaurant',\n",
       "      'pluralName': 'Indian Restaurants',\n",
       "      'shortName': 'Indian',\n",
       "      'icon': {'prefix': 'https://ss3.4sqi.net/img/categories_v2/food/indian_',\n",
       "       'suffix': '.png'},\n",
       "      'primary': True}],\n",
       "    'referralId': 'v-1592269684',\n",
       "    'hasPerk': False},\n",
       "   {'id': '547f94e9498e62f695829624',\n",
       "    'name': 'Indian Roti House',\n",
       "    'location': {'lat': 43.66438249736424,\n",
       "     'lng': -79.38046844039624,\n",
       "     'labeledLatLngs': [{'label': 'display',\n",
       "       'lat': 43.66438249736424,\n",
       "       'lng': -79.38046844039624}],\n",
       "     'distance': 809,\n",
       "     'cc': 'CA',\n",
       "     'city': 'Toronto',\n",
       "     'state': 'ON',\n",
       "     'country': 'Canada',\n",
       "     'formattedAddress': ['Toronto ON', 'Canada']},\n",
       "    'categories': [{'id': '4bf58dd8d48988d10f941735',\n",
       "      'name': 'Indian Restaurant',\n",
       "      'pluralName': 'Indian Restaurants',\n",
       "      'shortName': 'Indian',\n",
       "      'icon': {'prefix': 'https://ss3.4sqi.net/img/categories_v2/food/indian_',\n",
       "       'suffix': '.png'},\n",
       "      'primary': True}],\n",
       "    'referralId': 'v-1592269684',\n",
       "    'hasPerk': False},\n",
       "   {'id': '4fea497c121d2480d3579412',\n",
       "    'name': 'Indian Biriyani House',\n",
       "    'location': {'address': '120 Adelaide Street West',\n",
       "     'crossStreet': 'at Bay Street',\n",
       "     'lat': 43.650050280518336,\n",
       "     'lng': -79.38066244125366,\n",
       "     'labeledLatLngs': [{'label': 'display',\n",
       "       'lat': 43.650050280518336,\n",
       "       'lng': -79.38066244125366}],\n",
       "     'distance': 808,\n",
       "     'postalCode': 'M5H 3V1',\n",
       "     'cc': 'CA',\n",
       "     'city': 'Toronto',\n",
       "     'state': 'ON',\n",
       "     'country': 'Canada',\n",
       "     'formattedAddress': ['120 Adelaide Street West (at Bay Street)',\n",
       "      'Toronto ON M5H 3V1',\n",
       "      'Canada']},\n",
       "    'categories': [{'id': '4bf58dd8d48988d10f941735',\n",
       "      'name': 'Indian Restaurant',\n",
       "      'pluralName': 'Indian Restaurants',\n",
       "      'shortName': 'Indian',\n",
       "      'icon': {'prefix': 'https://ss3.4sqi.net/img/categories_v2/food/indian_',\n",
       "       'suffix': '.png'},\n",
       "      'primary': True}],\n",
       "    'referralId': 'v-1592269684',\n",
       "    'hasPerk': False},\n",
       "   {'id': '596f9dea1fa7632be2eacab9',\n",
       "    'name': \"Mami's Indian Cuisine\",\n",
       "    'location': {'lat': 43.65698561897954,\n",
       "     'lng': -79.38584032854251,\n",
       "     'labeledLatLngs': [{'label': 'display',\n",
       "       'lat': 43.65698561897954,\n",
       "       'lng': -79.38584032854251}],\n",
       "     'distance': 559,\n",
       "     'postalCode': 'M5G 2N2',\n",
       "     'cc': 'CA',\n",
       "     'city': 'Toronto',\n",
       "     'state': 'ON',\n",
       "     'country': 'Canada',\n",
       "     'formattedAddress': ['Toronto ON M5G 2N2', 'Canada']},\n",
       "    'categories': [{'id': '4bf58dd8d48988d1cb941735',\n",
       "      'name': 'Food Truck',\n",
       "      'pluralName': 'Food Trucks',\n",
       "      'shortName': 'Food Truck',\n",
       "      'icon': {'prefix': 'https://ss3.4sqi.net/img/categories_v2/food/streetfood_',\n",
       "       'suffix': '.png'},\n",
       "      'primary': True}],\n",
       "    'referralId': 'v-1592269684',\n",
       "    'hasPerk': False},\n",
       "   {'id': '5a56bfcd829b0c136ad18986',\n",
       "    'name': 'Spice Indian Bistro',\n",
       "    'location': {'address': '320 Richmond St East',\n",
       "     'crossStreet': 'Sherbourne St',\n",
       "     'lat': 43.653948,\n",
       "     'lng': -79.369143,\n",
       "     'labeledLatLngs': [{'label': 'display',\n",
       "       'lat': 43.653948,\n",
       "       'lng': -79.369143}],\n",
       "     'distance': 865,\n",
       "     'postalCode': 'M5A 2R3',\n",
       "     'cc': 'CA',\n",
       "     'city': 'Toronto',\n",
       "     'state': 'ON',\n",
       "     'country': 'Canada',\n",
       "     'formattedAddress': ['320 Richmond St East (Sherbourne St)',\n",
       "      'Toronto ON M5A 2R3',\n",
       "      'Canada']},\n",
       "    'categories': [{'id': '4bf58dd8d48988d10f941735',\n",
       "      'name': 'Indian Restaurant',\n",
       "      'pluralName': 'Indian Restaurants',\n",
       "      'shortName': 'Indian',\n",
       "      'icon': {'prefix': 'https://ss3.4sqi.net/img/categories_v2/food/indian_',\n",
       "       'suffix': '.png'},\n",
       "      'primary': True}],\n",
       "    'referralId': 'v-1592269684',\n",
       "    'hasPerk': False},\n",
       "   {'id': '5c7969857dc9e1002c4e3819',\n",
       "    'name': 'Chadani Indian Cuisine',\n",
       "    'location': {'address': '51 Colborne Street',\n",
       "     'lat': 43.649153,\n",
       "     'lng': -79.374814,\n",
       "     'labeledLatLngs': [{'label': 'display',\n",
       "       'lat': 43.649153,\n",
       "       'lng': -79.374814}],\n",
       "     'distance': 954,\n",
       "     'postalCode': 'M5E 0B7',\n",
       "     'cc': 'CA',\n",
       "     'city': 'Toronto',\n",
       "     'state': 'ON',\n",
       "     'country': 'Canada',\n",
       "     'formattedAddress': ['51 Colborne Street',\n",
       "      'Toronto ON M5E 0B7',\n",
       "      'Canada']},\n",
       "    'categories': [{'id': '4bf58dd8d48988d10f941735',\n",
       "      'name': 'Indian Restaurant',\n",
       "      'pluralName': 'Indian Restaurants',\n",
       "      'shortName': 'Indian',\n",
       "      'icon': {'prefix': 'https://ss3.4sqi.net/img/categories_v2/food/indian_',\n",
       "       'suffix': '.png'},\n",
       "      'primary': True}],\n",
       "    'referralId': 'v-1592269684',\n",
       "    'hasPerk': False},\n",
       "   {'id': '4d137f8c7a8ba1433cb3d169',\n",
       "    'name': 'Touch - Indian Cuisine',\n",
       "    'location': {'address': '1 Adelaide St. E',\n",
       "     'crossStreet': 'at Yonge St',\n",
       "     'lat': 43.64986899674456,\n",
       "     'lng': -79.37821832718096,\n",
       "     'labeledLatLngs': [{'label': 'display',\n",
       "       'lat': 43.64986899674456,\n",
       "       'lng': -79.37821832718096}],\n",
       "     'distance': 817,\n",
       "     'cc': 'CA',\n",
       "     'city': 'Toronto',\n",
       "     'state': 'ON',\n",
       "     'country': 'Canada',\n",
       "     'formattedAddress': ['1 Adelaide St. E (at Yonge St)',\n",
       "      'Toronto ON',\n",
       "      'Canada']},\n",
       "    'categories': [{'id': '4bf58dd8d48988d10f941735',\n",
       "      'name': 'Indian Restaurant',\n",
       "      'pluralName': 'Indian Restaurants',\n",
       "      'shortName': 'Indian',\n",
       "      'icon': {'prefix': 'https://ss3.4sqi.net/img/categories_v2/food/indian_',\n",
       "       'suffix': '.png'},\n",
       "      'primary': True}],\n",
       "    'referralId': 'v-1592269684',\n",
       "    'hasPerk': False}]}}"
      ]
     },
     "execution_count": 255,
     "metadata": {},
     "output_type": "execute_result"
    }
   ],
   "source": [
    "results = requests.get(url).json()\n",
    "results"
   ]
  },
  {
   "cell_type": "code",
   "execution_count": 256,
   "metadata": {},
   "outputs": [
    {
     "data": {
      "text/plain": [
       "9"
      ]
     },
     "execution_count": 256,
     "metadata": {},
     "output_type": "execute_result"
    }
   ],
   "source": [
    "# There are 9 Indian restaurants in 800m radius of my home\n",
    "R_search = results['response']['venues']\n",
    "df4= pd.json_normalize(R_search)\n",
    "df4.shape[0]"
   ]
  },
  {
   "cell_type": "markdown",
   "metadata": {},
   "source": [
    "Step 10 - Filtering areas with 7 or more Indian restaurants in 800m radius from them and highlighting with black markers on the map."
   ]
  },
  {
   "cell_type": "code",
   "execution_count": 257,
   "metadata": {
    "scrolled": true
   },
   "outputs": [
    {
     "name": "stdout",
     "output_type": "stream",
     "text": [
      "Qualified areas: \n",
      " M7A, Queen's Park, Ontario Provincial Government, Downtown Toronto\n",
      "Qualified areas: \n",
      " M5B, Garden District, Ryerson, Downtown Toronto\n",
      "Qualified areas: \n",
      " M5C, St. James Town, Downtown Toronto\n",
      "Qualified areas: \n",
      " M5E, Berczy Park, Downtown Toronto\n",
      "Qualified areas: \n",
      " M5G, Central Bay Street, Downtown Toronto\n",
      "Qualified areas: \n",
      " M5H, Richmond, Adelaide, King, Downtown Toronto\n",
      "Qualified areas: \n",
      " M5K, Toronto Dominion Centre, Design Exchange, Downtown Toronto\n",
      "Qualified areas: \n",
      " M5L, Commerce Court, Victoria Hotel, Downtown Toronto\n",
      "Qualified areas: \n",
      " M5W, Stn A PO Boxes, Downtown Toronto\n",
      "Qualified areas: \n",
      " M5X, First Canadian Place, Underground city, Downtown Toronto\n"
     ]
    }
   ],
   "source": [
    "# Checking no. of Indian restaurants around all 103 locations available in our list of areas/localities. Only those with more than 6 restaurants will be highlighted with black marker on map.\n",
    "list_residences=[]\n",
    "for i in df2.index:\n",
    "    Lat_new= df2['Latitude'][i]\n",
    "    Long_new=df2['Longitude'][i]\n",
    "    url_new='https://api.foursquare.com/v2/venues/search?client_id={}&client_secret={}&ll={},{}&v={}&query={}&radius={}&limit={}'.format(CLIENT_ID, CLIENT_SECRET, Lat_new, Long_new, VERSION, search_query, radius, LIMIT)\n",
    "    results_new = requests.get(url_new).json()\n",
    "    R_search_new = results_new['response']['venues']\n",
    "    df_new = pd.json_normalize(R_search_new)\n",
    "    if df_new.shape[0] > 6:\n",
    "        print ('Qualified areas: \\n',df2['Postal Code'][i]+ \", \"+ df2['Neighborhood'][i]+ \", \"+ df2['Borough'][i])\n",
    "        list_residences.append(df2['Postal Code'][i])\n",
    "        #folium.Marker(locationlist[i], popup=df2['Neighborhood'][i]+\", \"+df2['Borough'][i],icon=folium.Icon(color='black',icon_color='#FFFF00')).add_to(Tor_map2)"
   ]
  },
  {
   "cell_type": "code",
   "execution_count": 284,
   "metadata": {},
   "outputs": [
    {
     "data": {
      "text/html": [
       "<div style=\"width:100%;\"><div style=\"position:relative;width:100%;height:0;padding-bottom:60%;\"><span style=\"color:#565656\">Make this Notebook Trusted to load map: File -> Trust Notebook</span><iframe src=\"about:blank\" style=\"position:absolute;width:100%;height:100%;left:0;top:0;border:none !important;\" data-html=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 onload=\"this.contentDocument.open();this.contentDocument.write(atob(this.getAttribute('data-html')));this.contentDocument.close();\" allowfullscreen webkitallowfullscreen mozallowfullscreen></iframe></div></div>"
      ],
      "text/plain": [
       "<folium.folium.Map at 0x22b1b6d1a08>"
      ]
     },
     "execution_count": 284,
     "metadata": {},
     "output_type": "execute_result"
    }
   ],
   "source": [
    "# Marking the filtered areas on the map with black marker.\n",
    "latlat = float (df2.loc[df2['Postal Code'] == list_residences[0], ['Latitude']].values)\n",
    "longlong=float (df2.loc[df2['Postal Code'] == list_residences[0], ['Longitude']].values)\n",
    "Tor_map2 = folium.Map(location = [latlat,longlong], zoom_start=13)\n",
    "for i in df2.index:\n",
    "    for j in list_residences:\n",
    "        if df2['Postal Code'][i]==j:\n",
    "            folium.Marker(locationlist[i], icon=folium.Icon(color='black',icon_color='#FFFF00')).add_to(Tor_map2)\n",
    "            #folium.Marker(locationlist[i], popup=df2['Neighborhood'][i]+\", \"+df2['Borough'][i],icon=folium.Icon(color='black',icon_color='#FFFF00')).add_to(Tor_map2)\n",
    "        else:\n",
    "            continue\n",
    "Tor_map2"
   ]
  },
  {
   "cell_type": "code",
   "execution_count": null,
   "metadata": {},
   "outputs": [],
   "source": []
  }
 ],
 "metadata": {
  "kernelspec": {
   "display_name": "Python 3",
   "language": "python",
   "name": "python3"
  },
  "language_info": {
   "codemirror_mode": {
    "name": "ipython",
    "version": 3
   },
   "file_extension": ".py",
   "mimetype": "text/x-python",
   "name": "python",
   "nbconvert_exporter": "python",
   "pygments_lexer": "ipython3",
   "version": "3.7.6"
  }
 },
 "nbformat": 4,
 "nbformat_minor": 4
}
