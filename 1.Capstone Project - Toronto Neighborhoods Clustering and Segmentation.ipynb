{
 "cells": [
  {
   "cell_type": "markdown",
   "metadata": {},
   "source": [
    "# Segmenting and clustering Toronto geographic area"
   ]
  },
  {
   "cell_type": "markdown",
   "metadata": {},
   "source": [
    "## Part 1 of 3 (Getting areas/localities with postal code, borough and neighborhoods)\n",
    "Step1 - Downloaded the html file with Toronto area codes to local drive\n",
    "\n",
    "\n",
    "File path: C:\\Kanishk Singh\\HDD backup\\Important Personal Docs\\Professional Skills and Certifications\\(wip) Data Science - IBM COURSERA\\Session 9 - Capstone\\List of postal codes of Canada_ M - Wikipedia.html"
   ]
  },
  {
   "cell_type": "markdown",
   "metadata": {},
   "source": [
    "Step2 - Import the html file as pandas dataframe"
   ]
  },
  {
   "cell_type": "code",
   "execution_count": 285,
   "metadata": {},
   "outputs": [
    {
     "data": {
      "text/html": [
       "<div>\n",
       "<style scoped>\n",
       "    .dataframe tbody tr th:only-of-type {\n",
       "        vertical-align: middle;\n",
       "    }\n",
       "\n",
       "    .dataframe tbody tr th {\n",
       "        vertical-align: top;\n",
       "    }\n",
       "\n",
       "    .dataframe thead th {\n",
       "        text-align: right;\n",
       "    }\n",
       "</style>\n",
       "<table border=\"1\" class=\"dataframe\">\n",
       "  <thead>\n",
       "    <tr style=\"text-align: right;\">\n",
       "      <th></th>\n",
       "      <th>Postal Code</th>\n",
       "      <th>Borough</th>\n",
       "      <th>Neighborhood</th>\n",
       "    </tr>\n",
       "  </thead>\n",
       "  <tbody>\n",
       "    <tr>\n",
       "      <th>0</th>\n",
       "      <td>M1A</td>\n",
       "      <td>Not assigned</td>\n",
       "      <td>Not assigned</td>\n",
       "    </tr>\n",
       "    <tr>\n",
       "      <th>1</th>\n",
       "      <td>M2A</td>\n",
       "      <td>Not assigned</td>\n",
       "      <td>Not assigned</td>\n",
       "    </tr>\n",
       "    <tr>\n",
       "      <th>2</th>\n",
       "      <td>M3A</td>\n",
       "      <td>North York</td>\n",
       "      <td>Parkwoods</td>\n",
       "    </tr>\n",
       "    <tr>\n",
       "      <th>3</th>\n",
       "      <td>M4A</td>\n",
       "      <td>North York</td>\n",
       "      <td>Victoria Village</td>\n",
       "    </tr>\n",
       "    <tr>\n",
       "      <th>4</th>\n",
       "      <td>M5A</td>\n",
       "      <td>Downtown Toronto</td>\n",
       "      <td>Regent Park, Harbourfront</td>\n",
       "    </tr>\n",
       "  </tbody>\n",
       "</table>\n",
       "</div>"
      ],
      "text/plain": [
       "  Postal Code           Borough               Neighborhood\n",
       "0         M1A      Not assigned               Not assigned\n",
       "1         M2A      Not assigned               Not assigned\n",
       "2         M3A        North York                  Parkwoods\n",
       "3         M4A        North York           Victoria Village\n",
       "4         M5A  Downtown Toronto  Regent Park, Harbourfront"
      ]
     },
     "execution_count": 285,
     "metadata": {},
     "output_type": "execute_result"
    }
   ],
   "source": [
    "import pandas as pd\n",
    "df1 = pd.read_html(r\"C:\\Kanishk Singh\\HDD backup\\Important Personal Docs\\Professional Skills and Certifications\\(wip) Data Science - IBM COURSERA\\Session 9 - Capstone\\List of postal codes of Canada_ M - Wikipedia.html\")\n",
    "df2=df1[0]\n",
    "df2.head(5)"
   ]
  },
  {
   "cell_type": "markdown",
   "metadata": {},
   "source": [
    "Step3 - Ignore cells with a borough that is 'Not assigned'."
   ]
  },
  {
   "cell_type": "code",
   "execution_count": 286,
   "metadata": {},
   "outputs": [
    {
     "data": {
      "text/html": [
       "<div>\n",
       "<style scoped>\n",
       "    .dataframe tbody tr th:only-of-type {\n",
       "        vertical-align: middle;\n",
       "    }\n",
       "\n",
       "    .dataframe tbody tr th {\n",
       "        vertical-align: top;\n",
       "    }\n",
       "\n",
       "    .dataframe thead th {\n",
       "        text-align: right;\n",
       "    }\n",
       "</style>\n",
       "<table border=\"1\" class=\"dataframe\">\n",
       "  <thead>\n",
       "    <tr style=\"text-align: right;\">\n",
       "      <th></th>\n",
       "      <th>index</th>\n",
       "      <th>Postal Code</th>\n",
       "      <th>Borough</th>\n",
       "      <th>Neighborhood</th>\n",
       "    </tr>\n",
       "  </thead>\n",
       "  <tbody>\n",
       "    <tr>\n",
       "      <th>0</th>\n",
       "      <td>2</td>\n",
       "      <td>M3A</td>\n",
       "      <td>North York</td>\n",
       "      <td>Parkwoods</td>\n",
       "    </tr>\n",
       "    <tr>\n",
       "      <th>1</th>\n",
       "      <td>3</td>\n",
       "      <td>M4A</td>\n",
       "      <td>North York</td>\n",
       "      <td>Victoria Village</td>\n",
       "    </tr>\n",
       "    <tr>\n",
       "      <th>2</th>\n",
       "      <td>4</td>\n",
       "      <td>M5A</td>\n",
       "      <td>Downtown Toronto</td>\n",
       "      <td>Regent Park, Harbourfront</td>\n",
       "    </tr>\n",
       "    <tr>\n",
       "      <th>3</th>\n",
       "      <td>5</td>\n",
       "      <td>M6A</td>\n",
       "      <td>North York</td>\n",
       "      <td>Lawrence Manor, Lawrence Heights</td>\n",
       "    </tr>\n",
       "    <tr>\n",
       "      <th>4</th>\n",
       "      <td>6</td>\n",
       "      <td>M7A</td>\n",
       "      <td>Downtown Toronto</td>\n",
       "      <td>Queen's Park, Ontario Provincial Government</td>\n",
       "    </tr>\n",
       "  </tbody>\n",
       "</table>\n",
       "</div>"
      ],
      "text/plain": [
       "   index Postal Code           Borough  \\\n",
       "0      2         M3A        North York   \n",
       "1      3         M4A        North York   \n",
       "2      4         M5A  Downtown Toronto   \n",
       "3      5         M6A        North York   \n",
       "4      6         M7A  Downtown Toronto   \n",
       "\n",
       "                                  Neighborhood  \n",
       "0                                    Parkwoods  \n",
       "1                             Victoria Village  \n",
       "2                    Regent Park, Harbourfront  \n",
       "3             Lawrence Manor, Lawrence Heights  \n",
       "4  Queen's Park, Ontario Provincial Government  "
      ]
     },
     "execution_count": 286,
     "metadata": {},
     "output_type": "execute_result"
    }
   ],
   "source": [
    "df2=df2[df2.Borough != 'Not assigned']\n",
    "df2.reset_index(inplace=True)\n",
    "df2.head()"
   ]
  },
  {
   "cell_type": "code",
   "execution_count": 287,
   "metadata": {},
   "outputs": [
    {
     "name": "stderr",
     "output_type": "stream",
     "text": [
      "C:\\Users\\kanis\\anaconda3\\lib\\site-packages\\pandas\\core\\frame.py:3997: SettingWithCopyWarning: \n",
      "A value is trying to be set on a copy of a slice from a DataFrame\n",
      "\n",
      "See the caveats in the documentation: https://pandas.pydata.org/pandas-docs/stable/user_guide/indexing.html#returning-a-view-versus-a-copy\n",
      "  errors=errors,\n"
     ]
    },
    {
     "data": {
      "text/html": [
       "<div>\n",
       "<style scoped>\n",
       "    .dataframe tbody tr th:only-of-type {\n",
       "        vertical-align: middle;\n",
       "    }\n",
       "\n",
       "    .dataframe tbody tr th {\n",
       "        vertical-align: top;\n",
       "    }\n",
       "\n",
       "    .dataframe thead th {\n",
       "        text-align: right;\n",
       "    }\n",
       "</style>\n",
       "<table border=\"1\" class=\"dataframe\">\n",
       "  <thead>\n",
       "    <tr style=\"text-align: right;\">\n",
       "      <th></th>\n",
       "      <th>Postal Code</th>\n",
       "      <th>Borough</th>\n",
       "      <th>Neighborhood</th>\n",
       "    </tr>\n",
       "  </thead>\n",
       "  <tbody>\n",
       "    <tr>\n",
       "      <th>0</th>\n",
       "      <td>M3A</td>\n",
       "      <td>North York</td>\n",
       "      <td>Parkwoods</td>\n",
       "    </tr>\n",
       "    <tr>\n",
       "      <th>1</th>\n",
       "      <td>M4A</td>\n",
       "      <td>North York</td>\n",
       "      <td>Victoria Village</td>\n",
       "    </tr>\n",
       "    <tr>\n",
       "      <th>2</th>\n",
       "      <td>M5A</td>\n",
       "      <td>Downtown Toronto</td>\n",
       "      <td>Regent Park, Harbourfront</td>\n",
       "    </tr>\n",
       "    <tr>\n",
       "      <th>3</th>\n",
       "      <td>M6A</td>\n",
       "      <td>North York</td>\n",
       "      <td>Lawrence Manor, Lawrence Heights</td>\n",
       "    </tr>\n",
       "    <tr>\n",
       "      <th>4</th>\n",
       "      <td>M7A</td>\n",
       "      <td>Downtown Toronto</td>\n",
       "      <td>Queen's Park, Ontario Provincial Government</td>\n",
       "    </tr>\n",
       "    <tr>\n",
       "      <th>...</th>\n",
       "      <td>...</td>\n",
       "      <td>...</td>\n",
       "      <td>...</td>\n",
       "    </tr>\n",
       "    <tr>\n",
       "      <th>98</th>\n",
       "      <td>M8X</td>\n",
       "      <td>Etobicoke</td>\n",
       "      <td>The Kingsway, Montgomery Road, Old Mill North</td>\n",
       "    </tr>\n",
       "    <tr>\n",
       "      <th>99</th>\n",
       "      <td>M4Y</td>\n",
       "      <td>Downtown Toronto</td>\n",
       "      <td>Church and Wellesley</td>\n",
       "    </tr>\n",
       "    <tr>\n",
       "      <th>100</th>\n",
       "      <td>M7Y</td>\n",
       "      <td>East Toronto</td>\n",
       "      <td>Business reply mail Processing Centre, South C...</td>\n",
       "    </tr>\n",
       "    <tr>\n",
       "      <th>101</th>\n",
       "      <td>M8Y</td>\n",
       "      <td>Etobicoke</td>\n",
       "      <td>Old Mill South, King's Mill Park, Sunnylea, Hu...</td>\n",
       "    </tr>\n",
       "    <tr>\n",
       "      <th>102</th>\n",
       "      <td>M8Z</td>\n",
       "      <td>Etobicoke</td>\n",
       "      <td>Mimico NW, The Queensway West, South of Bloor,...</td>\n",
       "    </tr>\n",
       "  </tbody>\n",
       "</table>\n",
       "<p>103 rows × 3 columns</p>\n",
       "</div>"
      ],
      "text/plain": [
       "    Postal Code           Borough  \\\n",
       "0           M3A        North York   \n",
       "1           M4A        North York   \n",
       "2           M5A  Downtown Toronto   \n",
       "3           M6A        North York   \n",
       "4           M7A  Downtown Toronto   \n",
       "..          ...               ...   \n",
       "98          M8X         Etobicoke   \n",
       "99          M4Y  Downtown Toronto   \n",
       "100         M7Y      East Toronto   \n",
       "101         M8Y         Etobicoke   \n",
       "102         M8Z         Etobicoke   \n",
       "\n",
       "                                          Neighborhood  \n",
       "0                                            Parkwoods  \n",
       "1                                     Victoria Village  \n",
       "2                            Regent Park, Harbourfront  \n",
       "3                     Lawrence Manor, Lawrence Heights  \n",
       "4          Queen's Park, Ontario Provincial Government  \n",
       "..                                                 ...  \n",
       "98       The Kingsway, Montgomery Road, Old Mill North  \n",
       "99                                Church and Wellesley  \n",
       "100  Business reply mail Processing Centre, South C...  \n",
       "101  Old Mill South, King's Mill Park, Sunnylea, Hu...  \n",
       "102  Mimico NW, The Queensway West, South of Bloor,...  \n",
       "\n",
       "[103 rows x 3 columns]"
      ]
     },
     "execution_count": 287,
     "metadata": {},
     "output_type": "execute_result"
    }
   ],
   "source": [
    "df2.drop(labels='index',axis=1,inplace=True)\n",
    "df2"
   ]
  },
  {
   "cell_type": "markdown",
   "metadata": {},
   "source": [
    "Step 4 - More than one neighborhood can exist in one postal code area. For example, in the table on the Wikipedia page, you will notice that M5A is listed twice and has two neighborhoods: Harbourfront and Regent Park. These two rows will be combined into one row with the neighborhoods separated with a comma as shown in row 11 in the above table."
   ]
  },
  {
   "cell_type": "markdown",
   "metadata": {},
   "source": [
    "The dataset already fulfills this condition!"
   ]
  },
  {
   "cell_type": "markdown",
   "metadata": {},
   "source": [
    "Step 5 - If a cell has a borough but a Not assigned neighborhood, then the neighborhood will be the same as the borough."
   ]
  },
  {
   "cell_type": "code",
   "execution_count": 288,
   "metadata": {},
   "outputs": [
    {
     "name": "stderr",
     "output_type": "stream",
     "text": [
      "C:\\Users\\kanis\\anaconda3\\lib\\site-packages\\pandas\\core\\indexing.py:670: SettingWithCopyWarning: \n",
      "A value is trying to be set on a copy of a slice from a DataFrame\n",
      "\n",
      "See the caveats in the documentation: https://pandas.pydata.org/pandas-docs/stable/user_guide/indexing.html#returning-a-view-versus-a-copy\n",
      "  self._setitem_with_indexer(indexer, value)\n",
      "C:\\Users\\kanis\\anaconda3\\lib\\site-packages\\ipykernel_launcher.py:1: SettingWithCopyWarning: \n",
      "A value is trying to be set on a copy of a slice from a DataFrame\n",
      "\n",
      "See the caveats in the documentation: https://pandas.pydata.org/pandas-docs/stable/user_guide/indexing.html#returning-a-view-versus-a-copy\n",
      "  \"\"\"Entry point for launching an IPython kernel.\n"
     ]
    },
    {
     "data": {
      "text/html": [
       "<div>\n",
       "<style scoped>\n",
       "    .dataframe tbody tr th:only-of-type {\n",
       "        vertical-align: middle;\n",
       "    }\n",
       "\n",
       "    .dataframe tbody tr th {\n",
       "        vertical-align: top;\n",
       "    }\n",
       "\n",
       "    .dataframe thead th {\n",
       "        text-align: right;\n",
       "    }\n",
       "</style>\n",
       "<table border=\"1\" class=\"dataframe\">\n",
       "  <thead>\n",
       "    <tr style=\"text-align: right;\">\n",
       "      <th></th>\n",
       "      <th>Postal Code</th>\n",
       "      <th>Borough</th>\n",
       "      <th>Neighborhood</th>\n",
       "    </tr>\n",
       "  </thead>\n",
       "  <tbody>\n",
       "    <tr>\n",
       "      <th>0</th>\n",
       "      <td>M3A</td>\n",
       "      <td>North York</td>\n",
       "      <td>Parkwoods</td>\n",
       "    </tr>\n",
       "    <tr>\n",
       "      <th>1</th>\n",
       "      <td>M4A</td>\n",
       "      <td>North York</td>\n",
       "      <td>Victoria Village</td>\n",
       "    </tr>\n",
       "    <tr>\n",
       "      <th>2</th>\n",
       "      <td>M5A</td>\n",
       "      <td>Downtown Toronto</td>\n",
       "      <td>Regent Park, Harbourfront</td>\n",
       "    </tr>\n",
       "    <tr>\n",
       "      <th>3</th>\n",
       "      <td>M6A</td>\n",
       "      <td>North York</td>\n",
       "      <td>Lawrence Manor, Lawrence Heights</td>\n",
       "    </tr>\n",
       "    <tr>\n",
       "      <th>4</th>\n",
       "      <td>M7A</td>\n",
       "      <td>Downtown Toronto</td>\n",
       "      <td>Queen's Park, Ontario Provincial Government</td>\n",
       "    </tr>\n",
       "    <tr>\n",
       "      <th>...</th>\n",
       "      <td>...</td>\n",
       "      <td>...</td>\n",
       "      <td>...</td>\n",
       "    </tr>\n",
       "    <tr>\n",
       "      <th>98</th>\n",
       "      <td>M8X</td>\n",
       "      <td>Etobicoke</td>\n",
       "      <td>The Kingsway, Montgomery Road, Old Mill North</td>\n",
       "    </tr>\n",
       "    <tr>\n",
       "      <th>99</th>\n",
       "      <td>M4Y</td>\n",
       "      <td>Downtown Toronto</td>\n",
       "      <td>Church and Wellesley</td>\n",
       "    </tr>\n",
       "    <tr>\n",
       "      <th>100</th>\n",
       "      <td>M7Y</td>\n",
       "      <td>East Toronto</td>\n",
       "      <td>Business reply mail Processing Centre, South C...</td>\n",
       "    </tr>\n",
       "    <tr>\n",
       "      <th>101</th>\n",
       "      <td>M8Y</td>\n",
       "      <td>Etobicoke</td>\n",
       "      <td>Old Mill South, King's Mill Park, Sunnylea, Hu...</td>\n",
       "    </tr>\n",
       "    <tr>\n",
       "      <th>102</th>\n",
       "      <td>M8Z</td>\n",
       "      <td>Etobicoke</td>\n",
       "      <td>Mimico NW, The Queensway West, South of Bloor,...</td>\n",
       "    </tr>\n",
       "  </tbody>\n",
       "</table>\n",
       "<p>103 rows × 3 columns</p>\n",
       "</div>"
      ],
      "text/plain": [
       "    Postal Code           Borough  \\\n",
       "0           M3A        North York   \n",
       "1           M4A        North York   \n",
       "2           M5A  Downtown Toronto   \n",
       "3           M6A        North York   \n",
       "4           M7A  Downtown Toronto   \n",
       "..          ...               ...   \n",
       "98          M8X         Etobicoke   \n",
       "99          M4Y  Downtown Toronto   \n",
       "100         M7Y      East Toronto   \n",
       "101         M8Y         Etobicoke   \n",
       "102         M8Z         Etobicoke   \n",
       "\n",
       "                                          Neighborhood  \n",
       "0                                            Parkwoods  \n",
       "1                                     Victoria Village  \n",
       "2                            Regent Park, Harbourfront  \n",
       "3                     Lawrence Manor, Lawrence Heights  \n",
       "4          Queen's Park, Ontario Provincial Government  \n",
       "..                                                 ...  \n",
       "98       The Kingsway, Montgomery Road, Old Mill North  \n",
       "99                                Church and Wellesley  \n",
       "100  Business reply mail Processing Centre, South C...  \n",
       "101  Old Mill South, King's Mill Park, Sunnylea, Hu...  \n",
       "102  Mimico NW, The Queensway West, South of Bloor,...  \n",
       "\n",
       "[103 rows x 3 columns]"
      ]
     },
     "execution_count": 288,
     "metadata": {},
     "output_type": "execute_result"
    }
   ],
   "source": [
    "df2.loc[df2['Neighborhood'] == 'Not assigned', 'Neighborhood'] = df2['Borough']\n",
    "df2"
   ]
  },
  {
   "cell_type": "markdown",
   "metadata": {},
   "source": [
    "Step 6 - shape of the data"
   ]
  },
  {
   "cell_type": "code",
   "execution_count": 289,
   "metadata": {},
   "outputs": [
    {
     "data": {
      "text/plain": [
       "(103, 3)"
      ]
     },
     "execution_count": 289,
     "metadata": {},
     "output_type": "execute_result"
    }
   ],
   "source": [
    "df2.shape"
   ]
  },
  {
   "cell_type": "markdown",
   "metadata": {},
   "source": [
    "## Part 2 of 3 (Adding lat-long of neighborhoods)\n",
    "Step 7 - Retrieve coordinates of locations and add to the dataframe"
   ]
  },
  {
   "cell_type": "code",
   "execution_count": 290,
   "metadata": {},
   "outputs": [
    {
     "name": "stdout",
     "output_type": "stream",
     "text": [
      "Requirement already satisfied: geocoder in c:\\users\\kanis\\anaconda3\\lib\\site-packages (1.38.1)\n",
      "Requirement already satisfied: six in c:\\users\\kanis\\anaconda3\\lib\\site-packages (from geocoder) (1.14.0)\n",
      "Requirement already satisfied: ratelim in c:\\users\\kanis\\anaconda3\\lib\\site-packages (from geocoder) (0.1.6)\n",
      "Requirement already satisfied: requests in c:\\users\\kanis\\anaconda3\\lib\\site-packages (from geocoder) (2.22.0)\n",
      "Requirement already satisfied: future in c:\\users\\kanis\\anaconda3\\lib\\site-packages (from geocoder) (0.18.2)\n",
      "Requirement already satisfied: click in c:\\users\\kanis\\anaconda3\\lib\\site-packages (from geocoder) (7.0)\n",
      "Requirement already satisfied: decorator in c:\\users\\kanis\\anaconda3\\lib\\site-packages (from ratelim->geocoder) (4.4.1)\n",
      "Requirement already satisfied: chardet<3.1.0,>=3.0.2 in c:\\users\\kanis\\anaconda3\\lib\\site-packages (from requests->geocoder) (3.0.4)\n",
      "Requirement already satisfied: certifi>=2017.4.17 in c:\\users\\kanis\\anaconda3\\lib\\site-packages (from requests->geocoder) (2019.11.28)\n",
      "Requirement already satisfied: urllib3!=1.25.0,!=1.25.1,<1.26,>=1.21.1 in c:\\users\\kanis\\anaconda3\\lib\\site-packages (from requests->geocoder) (1.25.8)\n",
      "Requirement already satisfied: idna<2.9,>=2.5 in c:\\users\\kanis\\anaconda3\\lib\\site-packages (from requests->geocoder) (2.8)\n",
      "Note: you may need to restart the kernel to use updated packages.\n"
     ]
    }
   ],
   "source": [
    "pip install geocoder"
   ]
  },
  {
   "cell_type": "markdown",
   "metadata": {},
   "source": [
    "#### The code in this cell is returning 'None' instead of the coordinate values. \n",
    "\n",
    "\n",
    "import geocoder # import geocoder\n",
    "\n",
    "#### initialize your variable to None\n",
    "lat_lng_coords = None\n",
    "\n",
    "#### loop until you get the coordinates\n",
    "for i in df2.index:\n",
    "    while(lat_lng_coords is None):\n",
    "        #g = geocoder.google(df2['Postal Code'][i] + ', Toronto, Ontario')\n",
    "        g = geocoder.google('M3A, Toronto, Ontario')\n",
    "        lat_lng_coords = g.latlng\n",
    "        print (lat_lng_coords)\n",
    "        #print (lat_lng_coords[0])\n",
    "        #print (lat_lng_coords[1])\n",
    "        #df2[['Latitude'][i]] = lat_lng_coords[0]\n",
    "        #df2[['Longitude'][i]] = lat_lng_coords[1]\n"
   ]
  },
  {
   "cell_type": "code",
   "execution_count": 291,
   "metadata": {},
   "outputs": [
    {
     "data": {
      "text/html": [
       "<div>\n",
       "<style scoped>\n",
       "    .dataframe tbody tr th:only-of-type {\n",
       "        vertical-align: middle;\n",
       "    }\n",
       "\n",
       "    .dataframe tbody tr th {\n",
       "        vertical-align: top;\n",
       "    }\n",
       "\n",
       "    .dataframe thead th {\n",
       "        text-align: right;\n",
       "    }\n",
       "</style>\n",
       "<table border=\"1\" class=\"dataframe\">\n",
       "  <thead>\n",
       "    <tr style=\"text-align: right;\">\n",
       "      <th></th>\n",
       "      <th>Postal Code</th>\n",
       "      <th>Borough</th>\n",
       "      <th>Neighborhood</th>\n",
       "      <th>Latitude</th>\n",
       "      <th>Longitude</th>\n",
       "    </tr>\n",
       "  </thead>\n",
       "  <tbody>\n",
       "    <tr>\n",
       "      <th>0</th>\n",
       "      <td>M3A</td>\n",
       "      <td>North York</td>\n",
       "      <td>Parkwoods</td>\n",
       "      <td>43.753259</td>\n",
       "      <td>-79.329656</td>\n",
       "    </tr>\n",
       "    <tr>\n",
       "      <th>1</th>\n",
       "      <td>M4A</td>\n",
       "      <td>North York</td>\n",
       "      <td>Victoria Village</td>\n",
       "      <td>43.725882</td>\n",
       "      <td>-79.315572</td>\n",
       "    </tr>\n",
       "    <tr>\n",
       "      <th>2</th>\n",
       "      <td>M5A</td>\n",
       "      <td>Downtown Toronto</td>\n",
       "      <td>Regent Park, Harbourfront</td>\n",
       "      <td>43.654260</td>\n",
       "      <td>-79.360636</td>\n",
       "    </tr>\n",
       "    <tr>\n",
       "      <th>3</th>\n",
       "      <td>M6A</td>\n",
       "      <td>North York</td>\n",
       "      <td>Lawrence Manor, Lawrence Heights</td>\n",
       "      <td>43.718518</td>\n",
       "      <td>-79.464763</td>\n",
       "    </tr>\n",
       "    <tr>\n",
       "      <th>4</th>\n",
       "      <td>M7A</td>\n",
       "      <td>Downtown Toronto</td>\n",
       "      <td>Queen's Park, Ontario Provincial Government</td>\n",
       "      <td>43.662301</td>\n",
       "      <td>-79.389494</td>\n",
       "    </tr>\n",
       "    <tr>\n",
       "      <th>...</th>\n",
       "      <td>...</td>\n",
       "      <td>...</td>\n",
       "      <td>...</td>\n",
       "      <td>...</td>\n",
       "      <td>...</td>\n",
       "    </tr>\n",
       "    <tr>\n",
       "      <th>98</th>\n",
       "      <td>M8X</td>\n",
       "      <td>Etobicoke</td>\n",
       "      <td>The Kingsway, Montgomery Road, Old Mill North</td>\n",
       "      <td>43.653654</td>\n",
       "      <td>-79.506944</td>\n",
       "    </tr>\n",
       "    <tr>\n",
       "      <th>99</th>\n",
       "      <td>M4Y</td>\n",
       "      <td>Downtown Toronto</td>\n",
       "      <td>Church and Wellesley</td>\n",
       "      <td>43.665860</td>\n",
       "      <td>-79.383160</td>\n",
       "    </tr>\n",
       "    <tr>\n",
       "      <th>100</th>\n",
       "      <td>M7Y</td>\n",
       "      <td>East Toronto</td>\n",
       "      <td>Business reply mail Processing Centre, South C...</td>\n",
       "      <td>43.662744</td>\n",
       "      <td>-79.321558</td>\n",
       "    </tr>\n",
       "    <tr>\n",
       "      <th>101</th>\n",
       "      <td>M8Y</td>\n",
       "      <td>Etobicoke</td>\n",
       "      <td>Old Mill South, King's Mill Park, Sunnylea, Hu...</td>\n",
       "      <td>43.636258</td>\n",
       "      <td>-79.498509</td>\n",
       "    </tr>\n",
       "    <tr>\n",
       "      <th>102</th>\n",
       "      <td>M8Z</td>\n",
       "      <td>Etobicoke</td>\n",
       "      <td>Mimico NW, The Queensway West, South of Bloor,...</td>\n",
       "      <td>43.628841</td>\n",
       "      <td>-79.520999</td>\n",
       "    </tr>\n",
       "  </tbody>\n",
       "</table>\n",
       "<p>103 rows × 5 columns</p>\n",
       "</div>"
      ],
      "text/plain": [
       "    Postal Code           Borough  \\\n",
       "0           M3A        North York   \n",
       "1           M4A        North York   \n",
       "2           M5A  Downtown Toronto   \n",
       "3           M6A        North York   \n",
       "4           M7A  Downtown Toronto   \n",
       "..          ...               ...   \n",
       "98          M8X         Etobicoke   \n",
       "99          M4Y  Downtown Toronto   \n",
       "100         M7Y      East Toronto   \n",
       "101         M8Y         Etobicoke   \n",
       "102         M8Z         Etobicoke   \n",
       "\n",
       "                                          Neighborhood   Latitude  Longitude  \n",
       "0                                            Parkwoods  43.753259 -79.329656  \n",
       "1                                     Victoria Village  43.725882 -79.315572  \n",
       "2                            Regent Park, Harbourfront  43.654260 -79.360636  \n",
       "3                     Lawrence Manor, Lawrence Heights  43.718518 -79.464763  \n",
       "4          Queen's Park, Ontario Provincial Government  43.662301 -79.389494  \n",
       "..                                                 ...        ...        ...  \n",
       "98       The Kingsway, Montgomery Road, Old Mill North  43.653654 -79.506944  \n",
       "99                                Church and Wellesley  43.665860 -79.383160  \n",
       "100  Business reply mail Processing Centre, South C...  43.662744 -79.321558  \n",
       "101  Old Mill South, King's Mill Park, Sunnylea, Hu...  43.636258 -79.498509  \n",
       "102  Mimico NW, The Queensway West, South of Bloor,...  43.628841 -79.520999  \n",
       "\n",
       "[103 rows x 5 columns]"
      ]
     },
     "execution_count": 291,
     "metadata": {},
     "output_type": "execute_result"
    }
   ],
   "source": [
    "# Successfully added the lat-longs to the dataframe\n",
    "\n",
    "df3= pd.read_csv(r\"C:\\Kanishk Singh\\HDD backup\\Important Personal Docs\\Professional Skills and Certifications\\(wip) Data Science - IBM COURSERA\\Session 9 - Capstone\\Geospatial_Coordinates.csv\")\n",
    "#df3.head()\n",
    "\n",
    "df2 = df2.merge(df3,on='Postal Code')\n",
    "\n",
    "df2"
   ]
  },
  {
   "cell_type": "markdown",
   "metadata": {},
   "source": [
    "## Part 3 of 3 (Clustering and segmentation of Toronto areas)\n",
    "Step 8 - Clustered all neighborhoods basis Boroughs and assigned different colors to each Borough."
   ]
  },
  {
   "cell_type": "code",
   "execution_count": 292,
   "metadata": {
    "scrolled": true
   },
   "outputs": [
    {
     "data": {
      "text/plain": [
       "North York          24\n",
       "Downtown Toronto    19\n",
       "Scarborough         17\n",
       "Etobicoke           12\n",
       "Central Toronto      9\n",
       "West Toronto         6\n",
       "East Toronto         5\n",
       "York                 5\n",
       "East York            5\n",
       "Mississauga          1\n",
       "Name: Borough, dtype: int64"
      ]
     },
     "execution_count": 292,
     "metadata": {},
     "output_type": "execute_result"
    }
   ],
   "source": [
    "# Checking unique Boroughs and number of Neighborhoods within each\n",
    "df2['Borough'].value_counts()"
   ]
  },
  {
   "cell_type": "code",
   "execution_count": 293,
   "metadata": {
    "scrolled": true
   },
   "outputs": [
    {
     "data": {
      "text/html": [
       "<div style=\"width:100%;\"><div style=\"position:relative;width:100%;height:0;padding-bottom:60%;\"><span style=\"color:#565656\">Make this Notebook Trusted to load map: File -> Trust Notebook</span><iframe src=\"about:blank\" style=\"position:absolute;width:100%;height:100%;left:0;top:0;border:none !important;\" data-html=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 onload=\"this.contentDocument.open();this.contentDocument.write(atob(this.getAttribute('data-html')));this.contentDocument.close();\" allowfullscreen webkitallowfullscreen mozallowfullscreen></iframe></div></div>"
      ],
      "text/plain": [
       "<folium.folium.Map at 0x22b1b789608>"
      ]
     },
     "execution_count": 293,
     "metadata": {},
     "output_type": "execute_result"
    }
   ],
   "source": [
    "# Generating map with different color clustered Boroughs\n",
    "import folium\n",
    "\n",
    "Tor_map1 = folium.Map(location = [df2['Latitude'][0], df2['Longitude'][0]], zoom_start=11)\n",
    "\n",
    "locations = df2[['Latitude', 'Longitude']]\n",
    "locationlist = locations.values.tolist()\n",
    "\n",
    "for point in df2.index:\n",
    "    if df2['Borough'][point] == 'North York':\n",
    "        folium.Marker(locationlist[point], popup=df2['Neighborhood'][point],icon=folium.Icon(color='purple',icon_color='#FFFF00')).add_to(Tor_map1)\n",
    "    elif df2['Borough'][point] == 'Downtown Toronto':\n",
    "        folium.Marker(locationlist[point], popup=df2['Borough'][point],icon=folium.Icon(color='lightgreen',icon_color='#FFFF00')).add_to(Tor_map1)\n",
    "    elif df2['Borough'][point] == 'Scarborough':\n",
    "        folium.Marker(locationlist[point], popup=df2['Borough'][point],icon=folium.Icon(color='lightred',icon_color='#FFFF00')).add_to(Tor_map1)\n",
    "    elif df2['Borough'][point] == 'Etobicoke':\n",
    "        folium.Marker(locationlist[point], popup=df2['Borough'][point],icon=folium.Icon(color='green',icon_color='#FFFF00')).add_to(Tor_map1)\n",
    "    elif df2['Borough'][point] == 'Central Toronto':\n",
    "        folium.Marker(locationlist[point], popup=df2['Borough'][point],icon=folium.Icon(color='orange',icon_color='#FFFF00')).add_to(Tor_map1)\n",
    "    elif df2['Borough'][point] == 'West Toronto':\n",
    "        folium.Marker(locationlist[point], popup=df2['Borough'][point],icon=folium.Icon(color='red',icon_color='#FFFF00')).add_to(Tor_map1)\n",
    "    elif df2['Borough'][point] == 'East Toronto':\n",
    "        folium.Marker(locationlist[point], popup=df2['Borough'][point],icon=folium.Icon(color='beige',icon_color='#FFFF00')).add_to(Tor_map1)\n",
    "    elif df2['Borough'][point] == 'York':\n",
    "        folium.Marker(locationlist[point], popup=df2['Borough'][point],icon=folium.Icon(color='blue',icon_color='#FFFF00')).add_to(Tor_map1)\n",
    "    elif df2['Borough'][point] == 'East York':\n",
    "        folium.Marker(locationlist[point], popup=df2['Borough'][point],icon=folium.Icon(color='lightred',icon_color='#FFFF00')).add_to(Tor_map1)\n",
    "    else:\n",
    "        folium.Marker(locationlist[point], popup=df2['Borough'][point],icon=folium.Icon(color='pink',icon_color='#FFFF00')).add_to(Tor_map1)\n",
    "\n",
    "Tor_map1"
   ]
  },
  {
   "cell_type": "markdown",
   "metadata": {},
   "source": [
    "Step 9 - Checking number of Indian restaurants around my home by consuming API from Foursquare. Next step will be to find areas with similar number of Indian restaurants and highlighting on the map with black markers."
   ]
  },
  {
   "cell_type": "code",
   "execution_count": 294,
   "metadata": {},
   "outputs": [
    {
     "name": "stdout",
     "output_type": "stream",
     "text": [
      "Postal Code                          M5B\n",
      "Borough                 Downtown Toronto\n",
      "Neighborhood    Garden District, Ryerson\n",
      "Latitude                         43.6572\n",
      "Longitude                       -79.3789\n",
      "Name: 9, dtype: object\n"
     ]
    }
   ],
   "source": [
    "# Retrieving my area coordinates\n",
    "for i in df2.index:\n",
    "    if df2['Postal Code'][i]=='M5B':\n",
    "        print (df2.iloc[i][:])"
   ]
  },
  {
   "cell_type": "code",
   "execution_count": 300,
   "metadata": {},
   "outputs": [],
   "source": [
    "#Checking number of Indian restaurants in 800m radius from my area.\n",
    "\n",
    "CLIENT_ID = 'H0H14SE2XUSNUABDM4JRNDTLGBRSNCLW5KP1AYR4SCZML3BJ' # my Foursquare ID\n",
    "CLIENT_SECRET = '3VTGUX1QL0OTNW1EY5K5BFBIC1V4B3YRUMOTBULA1UEZZPFY' # my Foursquare Secret\n",
    "VERSION = '20200615'\n",
    "LIMIT = 30\n",
    "radius = 800\n",
    "Lat_home = 43.6572\n",
    "Long_home = -79.3789\n",
    "search_query='Indian'"
   ]
  },
  {
   "cell_type": "code",
   "execution_count": 301,
   "metadata": {},
   "outputs": [],
   "source": [
    "# Importing necessary modules\n",
    "\n",
    "import requests"
   ]
  },
  {
   "cell_type": "code",
   "execution_count": 302,
   "metadata": {},
   "outputs": [
    {
     "data": {
      "text/plain": [
       "'https://api.foursquare.com/v2/venues/search?client_id=H0H14SE2XUSNUABDM4JRNDTLGBRSNCLW5KP1AYR4SCZML3BJ&client_secret=3VTGUX1QL0OTNW1EY5K5BFBIC1V4B3YRUMOTBULA1UEZZPFY&ll=43.6572,-79.3789&v=20200615&query=Indian&radius=800&limit=30'"
      ]
     },
     "execution_count": 302,
     "metadata": {},
     "output_type": "execute_result"
    }
   ],
   "source": [
    "url = 'https://api.foursquare.com/v2/venues/search?client_id={}&client_secret={}&ll={},{}&v={}&query={}&radius={}&limit={}'.format(CLIENT_ID, CLIENT_SECRET, Lat_home, Long_home, VERSION, search_query, radius, LIMIT)\n",
    "url"
   ]
  },
  {
   "cell_type": "code",
   "execution_count": 303,
   "metadata": {},
   "outputs": [
    {
     "data": {
      "text/plain": [
       "{'meta': {'code': 200, 'requestId': '5ee8241e885df53364a5190c'},\n",
       " 'response': {'venues': [{'id': '4b2a634af964a52020a824e3',\n",
       "    'name': 'Indian Flavour',\n",
       "    'location': {'address': '123 Dundas St W',\n",
       "     'crossStreet': 'btw Elizabeth & Bay',\n",
       "     'lat': 43.65564910619165,\n",
       "     'lng': -79.38411937886697,\n",
       "     'labeledLatLngs': [{'label': 'display',\n",
       "       'lat': 43.65564910619165,\n",
       "       'lng': -79.38411937886697}],\n",
       "     'distance': 454,\n",
       "     'cc': 'CA',\n",
       "     'city': 'Toronto',\n",
       "     'state': 'ON',\n",
       "     'country': 'Canada',\n",
       "     'formattedAddress': ['123 Dundas St W (btw Elizabeth & Bay)',\n",
       "      'Toronto ON',\n",
       "      'Canada']},\n",
       "    'categories': [{'id': '4bf58dd8d48988d10f941735',\n",
       "      'name': 'Indian Restaurant',\n",
       "      'pluralName': 'Indian Restaurants',\n",
       "      'shortName': 'Indian',\n",
       "      'icon': {'prefix': 'https://ss3.4sqi.net/img/categories_v2/food/indian_',\n",
       "       'suffix': '.png'},\n",
       "      'primary': True}],\n",
       "    'referralId': 'v-1592272272',\n",
       "    'hasPerk': False},\n",
       "   {'id': '5165c333e4b07a7ad88d8a69',\n",
       "    'name': \"Joe's Indian Restaurant\",\n",
       "    'location': {'lat': 43.65814977325445,\n",
       "     'lng': -79.38156263736568,\n",
       "     'labeledLatLngs': [{'label': 'display',\n",
       "       'lat': 43.65814977325445,\n",
       "       'lng': -79.38156263736568}],\n",
       "     'distance': 239,\n",
       "     'cc': 'CA',\n",
       "     'country': 'Canada',\n",
       "     'formattedAddress': ['Canada']},\n",
       "    'categories': [{'id': '4bf58dd8d48988d10f941735',\n",
       "      'name': 'Indian Restaurant',\n",
       "      'pluralName': 'Indian Restaurants',\n",
       "      'shortName': 'Indian',\n",
       "      'icon': {'prefix': 'https://ss3.4sqi.net/img/categories_v2/food/indian_',\n",
       "       'suffix': '.png'},\n",
       "      'primary': True}],\n",
       "    'referralId': 'v-1592272272',\n",
       "    'hasPerk': False},\n",
       "   {'id': '4afd920ff964a520ad2822e3',\n",
       "    'name': 'Indian Biriyani House',\n",
       "    'location': {'address': '181 Dundas St W',\n",
       "     'crossStreet': 'W of Chestnut St',\n",
       "     'lat': 43.65511996683289,\n",
       "     'lng': -79.3866447102921,\n",
       "     'labeledLatLngs': [{'label': 'display',\n",
       "       'lat': 43.65511996683289,\n",
       "       'lng': -79.3866447102921}],\n",
       "     'distance': 665,\n",
       "     'postalCode': 'M5G 1C7',\n",
       "     'cc': 'CA',\n",
       "     'city': 'Toronto',\n",
       "     'state': 'ON',\n",
       "     'country': 'Canada',\n",
       "     'formattedAddress': ['181 Dundas St W (W of Chestnut St)',\n",
       "      'Toronto ON M5G 1C7',\n",
       "      'Canada']},\n",
       "    'categories': [{'id': '4bf58dd8d48988d10f941735',\n",
       "      'name': 'Indian Restaurant',\n",
       "      'pluralName': 'Indian Restaurants',\n",
       "      'shortName': 'Indian',\n",
       "      'icon': {'prefix': 'https://ss3.4sqi.net/img/categories_v2/food/indian_',\n",
       "       'suffix': '.png'},\n",
       "      'primary': True}],\n",
       "    'referralId': 'v-1592272272',\n",
       "    'hasPerk': False},\n",
       "   {'id': '547f94e9498e62f695829624',\n",
       "    'name': 'Indian Roti House',\n",
       "    'location': {'lat': 43.66438249736424,\n",
       "     'lng': -79.38046844039624,\n",
       "     'labeledLatLngs': [{'label': 'display',\n",
       "       'lat': 43.66438249736424,\n",
       "       'lng': -79.38046844039624}],\n",
       "     'distance': 809,\n",
       "     'cc': 'CA',\n",
       "     'city': 'Toronto',\n",
       "     'state': 'ON',\n",
       "     'country': 'Canada',\n",
       "     'formattedAddress': ['Toronto ON', 'Canada']},\n",
       "    'categories': [{'id': '4bf58dd8d48988d10f941735',\n",
       "      'name': 'Indian Restaurant',\n",
       "      'pluralName': 'Indian Restaurants',\n",
       "      'shortName': 'Indian',\n",
       "      'icon': {'prefix': 'https://ss3.4sqi.net/img/categories_v2/food/indian_',\n",
       "       'suffix': '.png'},\n",
       "      'primary': True}],\n",
       "    'referralId': 'v-1592272272',\n",
       "    'hasPerk': False},\n",
       "   {'id': '4fea497c121d2480d3579412',\n",
       "    'name': 'Indian Biriyani House',\n",
       "    'location': {'address': '120 Adelaide Street West',\n",
       "     'crossStreet': 'at Bay Street',\n",
       "     'lat': 43.650050280518336,\n",
       "     'lng': -79.38066244125366,\n",
       "     'labeledLatLngs': [{'label': 'display',\n",
       "       'lat': 43.650050280518336,\n",
       "       'lng': -79.38066244125366}],\n",
       "     'distance': 808,\n",
       "     'postalCode': 'M5H 3V1',\n",
       "     'cc': 'CA',\n",
       "     'city': 'Toronto',\n",
       "     'state': 'ON',\n",
       "     'country': 'Canada',\n",
       "     'formattedAddress': ['120 Adelaide Street West (at Bay Street)',\n",
       "      'Toronto ON M5H 3V1',\n",
       "      'Canada']},\n",
       "    'categories': [{'id': '4bf58dd8d48988d10f941735',\n",
       "      'name': 'Indian Restaurant',\n",
       "      'pluralName': 'Indian Restaurants',\n",
       "      'shortName': 'Indian',\n",
       "      'icon': {'prefix': 'https://ss3.4sqi.net/img/categories_v2/food/indian_',\n",
       "       'suffix': '.png'},\n",
       "      'primary': True}],\n",
       "    'referralId': 'v-1592272272',\n",
       "    'hasPerk': False},\n",
       "   {'id': '596f9dea1fa7632be2eacab9',\n",
       "    'name': \"Mami's Indian Cuisine\",\n",
       "    'location': {'lat': 43.65698561897954,\n",
       "     'lng': -79.38584032854251,\n",
       "     'labeledLatLngs': [{'label': 'display',\n",
       "       'lat': 43.65698561897954,\n",
       "       'lng': -79.38584032854251}],\n",
       "     'distance': 559,\n",
       "     'postalCode': 'M5G 2N2',\n",
       "     'cc': 'CA',\n",
       "     'city': 'Toronto',\n",
       "     'state': 'ON',\n",
       "     'country': 'Canada',\n",
       "     'formattedAddress': ['Toronto ON M5G 2N2', 'Canada']},\n",
       "    'categories': [{'id': '4bf58dd8d48988d1cb941735',\n",
       "      'name': 'Food Truck',\n",
       "      'pluralName': 'Food Trucks',\n",
       "      'shortName': 'Food Truck',\n",
       "      'icon': {'prefix': 'https://ss3.4sqi.net/img/categories_v2/food/streetfood_',\n",
       "       'suffix': '.png'},\n",
       "      'primary': True}],\n",
       "    'referralId': 'v-1592272272',\n",
       "    'hasPerk': False},\n",
       "   {'id': '5a56bfcd829b0c136ad18986',\n",
       "    'name': 'Spice Indian Bistro',\n",
       "    'location': {'address': '320 Richmond St East',\n",
       "     'crossStreet': 'Sherbourne St',\n",
       "     'lat': 43.653948,\n",
       "     'lng': -79.369143,\n",
       "     'labeledLatLngs': [{'label': 'display',\n",
       "       'lat': 43.653948,\n",
       "       'lng': -79.369143}],\n",
       "     'distance': 865,\n",
       "     'postalCode': 'M5A 2R3',\n",
       "     'cc': 'CA',\n",
       "     'city': 'Toronto',\n",
       "     'state': 'ON',\n",
       "     'country': 'Canada',\n",
       "     'formattedAddress': ['320 Richmond St East (Sherbourne St)',\n",
       "      'Toronto ON M5A 2R3',\n",
       "      'Canada']},\n",
       "    'categories': [{'id': '4bf58dd8d48988d10f941735',\n",
       "      'name': 'Indian Restaurant',\n",
       "      'pluralName': 'Indian Restaurants',\n",
       "      'shortName': 'Indian',\n",
       "      'icon': {'prefix': 'https://ss3.4sqi.net/img/categories_v2/food/indian_',\n",
       "       'suffix': '.png'},\n",
       "      'primary': True}],\n",
       "    'referralId': 'v-1592272272',\n",
       "    'hasPerk': False},\n",
       "   {'id': '5c7969857dc9e1002c4e3819',\n",
       "    'name': 'Chadani Indian Cuisine',\n",
       "    'location': {'address': '51 Colborne Street',\n",
       "     'lat': 43.649153,\n",
       "     'lng': -79.374814,\n",
       "     'labeledLatLngs': [{'label': 'display',\n",
       "       'lat': 43.649153,\n",
       "       'lng': -79.374814}],\n",
       "     'distance': 954,\n",
       "     'postalCode': 'M5E 0B7',\n",
       "     'cc': 'CA',\n",
       "     'city': 'Toronto',\n",
       "     'state': 'ON',\n",
       "     'country': 'Canada',\n",
       "     'formattedAddress': ['51 Colborne Street',\n",
       "      'Toronto ON M5E 0B7',\n",
       "      'Canada']},\n",
       "    'categories': [{'id': '4bf58dd8d48988d10f941735',\n",
       "      'name': 'Indian Restaurant',\n",
       "      'pluralName': 'Indian Restaurants',\n",
       "      'shortName': 'Indian',\n",
       "      'icon': {'prefix': 'https://ss3.4sqi.net/img/categories_v2/food/indian_',\n",
       "       'suffix': '.png'},\n",
       "      'primary': True}],\n",
       "    'referralId': 'v-1592272272',\n",
       "    'hasPerk': False},\n",
       "   {'id': '4d137f8c7a8ba1433cb3d169',\n",
       "    'name': 'Touch - Indian Cuisine',\n",
       "    'location': {'address': '1 Adelaide St. E',\n",
       "     'crossStreet': 'at Yonge St',\n",
       "     'lat': 43.64986899674456,\n",
       "     'lng': -79.37821832718096,\n",
       "     'labeledLatLngs': [{'label': 'display',\n",
       "       'lat': 43.64986899674456,\n",
       "       'lng': -79.37821832718096}],\n",
       "     'distance': 817,\n",
       "     'cc': 'CA',\n",
       "     'city': 'Toronto',\n",
       "     'state': 'ON',\n",
       "     'country': 'Canada',\n",
       "     'formattedAddress': ['1 Adelaide St. E (at Yonge St)',\n",
       "      'Toronto ON',\n",
       "      'Canada']},\n",
       "    'categories': [{'id': '4bf58dd8d48988d10f941735',\n",
       "      'name': 'Indian Restaurant',\n",
       "      'pluralName': 'Indian Restaurants',\n",
       "      'shortName': 'Indian',\n",
       "      'icon': {'prefix': 'https://ss3.4sqi.net/img/categories_v2/food/indian_',\n",
       "       'suffix': '.png'},\n",
       "      'primary': True}],\n",
       "    'referralId': 'v-1592272272',\n",
       "    'hasPerk': False}]}}"
      ]
     },
     "execution_count": 303,
     "metadata": {},
     "output_type": "execute_result"
    }
   ],
   "source": [
    "results = requests.get(url).json()\n",
    "results"
   ]
  },
  {
   "cell_type": "code",
   "execution_count": 304,
   "metadata": {},
   "outputs": [
    {
     "data": {
      "text/plain": [
       "9"
      ]
     },
     "execution_count": 304,
     "metadata": {},
     "output_type": "execute_result"
    }
   ],
   "source": [
    "# There are 9 Indian restaurants in 800m radius of my home\n",
    "R_search = results['response']['venues']\n",
    "df4= pd.json_normalize(R_search)\n",
    "df4.shape[0]"
   ]
  },
  {
   "cell_type": "markdown",
   "metadata": {},
   "source": [
    "Step 10 - Filtering areas with 7 or more Indian restaurants in 800m radius from them and highlighting with black markers on the map."
   ]
  },
  {
   "cell_type": "code",
   "execution_count": 305,
   "metadata": {
    "scrolled": true
   },
   "outputs": [
    {
     "name": "stdout",
     "output_type": "stream",
     "text": [
      "Qualified areas: \n",
      " M7A, Queen's Park, Ontario Provincial Government, Downtown Toronto\n",
      "Qualified areas: \n",
      " M5B, Garden District, Ryerson, Downtown Toronto\n",
      "Qualified areas: \n",
      " M5C, St. James Town, Downtown Toronto\n",
      "Qualified areas: \n",
      " M5E, Berczy Park, Downtown Toronto\n",
      "Qualified areas: \n",
      " M5G, Central Bay Street, Downtown Toronto\n",
      "Qualified areas: \n",
      " M5H, Richmond, Adelaide, King, Downtown Toronto\n",
      "Qualified areas: \n",
      " M5K, Toronto Dominion Centre, Design Exchange, Downtown Toronto\n",
      "Qualified areas: \n",
      " M5L, Commerce Court, Victoria Hotel, Downtown Toronto\n",
      "Qualified areas: \n",
      " M5W, Stn A PO Boxes, Downtown Toronto\n",
      "Qualified areas: \n",
      " M5X, First Canadian Place, Underground city, Downtown Toronto\n"
     ]
    }
   ],
   "source": [
    "# Checking no. of Indian restaurants around all 103 locations available in our list of areas/localities. Only those with more than 6 restaurants will be highlighted with black marker on map.\n",
    "list_residences=[]\n",
    "for i in df2.index:\n",
    "    Lat_new= df2['Latitude'][i]\n",
    "    Long_new=df2['Longitude'][i]\n",
    "    url_new='https://api.foursquare.com/v2/venues/search?client_id={}&client_secret={}&ll={},{}&v={}&query={}&radius={}&limit={}'.format(CLIENT_ID, CLIENT_SECRET, Lat_new, Long_new, VERSION, search_query, radius, LIMIT)\n",
    "    results_new = requests.get(url_new).json()\n",
    "    R_search_new = results_new['response']['venues']\n",
    "    df_new = pd.json_normalize(R_search_new)\n",
    "    if df_new.shape[0] > 6:\n",
    "        print ('Qualified areas: \\n',df2['Postal Code'][i]+ \", \"+ df2['Neighborhood'][i]+ \", \"+ df2['Borough'][i])\n",
    "        list_residences.append(df2['Postal Code'][i])\n",
    "        #folium.Marker(locationlist[i], popup=df2['Neighborhood'][i]+\", \"+df2['Borough'][i],icon=folium.Icon(color='black',icon_color='#FFFF00')).add_to(Tor_map2)"
   ]
  },
  {
   "cell_type": "code",
   "execution_count": 306,
   "metadata": {},
   "outputs": [
    {
     "data": {
      "text/html": [
       "<div style=\"width:100%;\"><div style=\"position:relative;width:100%;height:0;padding-bottom:60%;\"><span style=\"color:#565656\">Make this Notebook Trusted to load map: File -> Trust Notebook</span><iframe src=\"about:blank\" style=\"position:absolute;width:100%;height:100%;left:0;top:0;border:none !important;\" data-html=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 onload=\"this.contentDocument.open();this.contentDocument.write(atob(this.getAttribute('data-html')));this.contentDocument.close();\" allowfullscreen webkitallowfullscreen mozallowfullscreen></iframe></div></div>"
      ],
      "text/plain": [
       "<folium.folium.Map at 0x22b1bab2788>"
      ]
     },
     "execution_count": 306,
     "metadata": {},
     "output_type": "execute_result"
    }
   ],
   "source": [
    "# Marking the filtered areas on the map with black marker.\n",
    "latlat = float (df2.loc[df2['Postal Code'] == list_residences[0], ['Latitude']].values)\n",
    "longlong=float (df2.loc[df2['Postal Code'] == list_residences[0], ['Longitude']].values)\n",
    "Tor_map2 = folium.Map(location = [latlat,longlong], zoom_start=13)\n",
    "for i in df2.index:\n",
    "    for j in list_residences:\n",
    "        if df2['Postal Code'][i]==j:\n",
    "            folium.Marker(locationlist[i], icon=folium.Icon(color='black',icon_color='#FFFF00')).add_to(Tor_map2)\n",
    "            #folium.Marker(locationlist[i], popup=df2['Neighborhood'][i]+\", \"+df2['Borough'][i],icon=folium.Icon(color='black',icon_color='#FFFF00')).add_to(Tor_map2)\n",
    "        else:\n",
    "            continue\n",
    "Tor_map2"
   ]
  },
  {
   "cell_type": "code",
   "execution_count": null,
   "metadata": {},
   "outputs": [],
   "source": []
  }
 ],
 "metadata": {
  "kernelspec": {
   "display_name": "Python 3",
   "language": "python",
   "name": "python3"
  },
  "language_info": {
   "codemirror_mode": {
    "name": "ipython",
    "version": 3
   },
   "file_extension": ".py",
   "mimetype": "text/x-python",
   "name": "python",
   "nbconvert_exporter": "python",
   "pygments_lexer": "ipython3",
   "version": "3.7.6"
  }
 },
 "nbformat": 4,
 "nbformat_minor": 4
}
